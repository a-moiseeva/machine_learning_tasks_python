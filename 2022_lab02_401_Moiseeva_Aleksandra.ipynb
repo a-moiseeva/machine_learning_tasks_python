{
  "cells": [
    {
      "cell_type": "markdown",
      "metadata": {
        "id": "3HDaU1d_9Wfh"
      },
      "source": [
        "# Lab 02. Feature selection and GridSearch\n",
        "\n",
        "\n",
        "In this lab we will tackle two types of tasks: feature selection and hyperparameter tuning.\n",
        "\n",
        "Lectures and seminars you might find useful:\n",
        "- Lectures 1 - 4\n",
        "- Seminars 2 and 3\n",
        "\n",
        "\n",
        "#### Evaluation\n",
        "\n",
        "Each task has its value, **15 points** in total. If you use some open-source code please make sure to include the url.\n",
        "\n",
        "#### How to submit\n",
        "- Name your file according to this convention: `2022_lab02_GroupNumber_Surname_Name.ipynb`, for example \n",
        "    - `2022_lab02_404_Sheipak_Sviat.ipynb`\n",
        "    - `2022_lab02_NoGroup_Sheipak_Sviat.ipynb`\n",
        "- Attach your .ipynb to an email with topic `2022_lab02_GroupNumber_Surname_Name.ipynb`\n",
        "- Send it to `cosmic.research.ml@yandex.ru`\n",
        "- Deadline is ` 2022-10-20 23:00:00 +03:00`\n",
        "\n",
        "#### The Data:\n",
        "- All the datasets you need are here: https://disk.yandex.ru/d/vHEio0TmfAMmZg"
      ]
    },
    {
      "cell_type": "code",
      "execution_count": 3,
      "metadata": {
        "id": "qhfLJfqt9Wfj"
      },
      "outputs": [],
      "source": [
        "import numpy as np\n",
        "import pandas as pd\n",
        "import matplotlib.pyplot as plt\n",
        "%matplotlib inline"
      ]
    },
    {
      "cell_type": "markdown",
      "metadata": {
        "id": "uod8gjuu9Wfk"
      },
      "source": [
        "## Part 1. Feature Selection [4 points]\n",
        "\n",
        "In this part of the assignemt you will be offered a task to analyze a dataset and figure out which features are the most important. The first means to solve this problem is to use linear model and examine the weights, another option is to train a logic classifier and see which featires it uses to build the splits. And finally you may use PCA and analyze how new PCA-features are configured."
      ]
    },
    {
      "cell_type": "markdown",
      "metadata": {
        "scrolled": true,
        "id": "oEWac5Rv9Wfl"
      },
      "source": [
        "Firstly, load the data from `feature_selection_sample.txt` and save it into variable `db`."
      ]
    },
    {
      "cell_type": "code",
      "execution_count": 23,
      "metadata": {
        "id": "xFAE6E-H9Wfl",
        "colab": {
          "base_uri": "https://localhost:8080/"
        },
        "outputId": "d4488f11-a3a8-44fc-a12e-9f4654106cbb"
      },
      "outputs": [
        {
          "output_type": "stream",
          "name": "stdout",
          "text": [
            "           0          1         2         3          4         5         6   \\\n",
            "0    1.550508  19.483747 -0.002987  4.421460   5.541652  0.468138 -0.017365   \n",
            "1    9.683788  14.336396 -0.027154  5.100489   8.179487  0.573692 -0.024525   \n",
            "2    4.682631   8.112067 -0.012813  4.680838   1.514920  0.974407 -0.009002   \n",
            "3    7.768197   2.074808 -0.014950  7.977821  13.602144  0.599069 -0.018800   \n",
            "4    4.078857   8.307135 -0.004062  9.351602   6.661857  0.193607 -0.019705   \n",
            "..        ...        ...       ...       ...        ...       ...       ...   \n",
            "995  1.628431   8.719807 -0.005997  6.655049  13.718759  0.630336 -0.011546   \n",
            "996  9.071794  14.742854 -0.033237  7.995329   3.219032  0.800022 -0.015135   \n",
            "997  5.058303   3.274936 -0.005873  6.672859   8.600655  0.585563 -0.028025   \n",
            "998  2.963628  14.404009 -0.017381  7.552177   9.202069  0.940339 -0.009882   \n",
            "999  1.812830  19.322770 -0.020107  9.858035   4.280952  0.963976 -0.008499   \n",
            "\n",
            "           7         8         9   10  \n",
            "0    0.005496  0.931543 -0.033190  15  \n",
            "1    0.002686  0.880111 -0.040193  17  \n",
            "2    0.007909  0.050082 -0.053341  12  \n",
            "3    0.012021  0.632768 -0.035886  16  \n",
            "4    0.007799  0.868582 -0.028378  20  \n",
            "..        ...       ...       ...  ..  \n",
            "995  0.005294  0.328757 -0.069617  16  \n",
            "996  0.006431  0.462960 -0.019364  20  \n",
            "997  0.004060  0.854859 -0.042531  15  \n",
            "998  0.009923  0.018250 -0.033224  17  \n",
            "999  0.011434  0.139573 -0.036615  17  \n",
            "\n",
            "[1000 rows x 11 columns]\n"
          ]
        }
      ],
      "source": [
        "input_filename = 'feature_selection_sample.txt'\n",
        "db = pd.read_csv(input_filename, sep='\\t', header=None)\n",
        "#print(db)"
      ]
    },
    {
      "cell_type": "markdown",
      "metadata": {
        "id": "fS9Jtyiu9Wfl"
      },
      "source": [
        "Feature columns are `[0-9]` and the target is `[10]`. Split the table into object and target arrays:"
      ]
    },
    {
      "cell_type": "code",
      "execution_count": 22,
      "metadata": {
        "id": "eMiWULk-9Wfm",
        "colab": {
          "base_uri": "https://localhost:8080/"
        },
        "outputId": "39908337-3d6c-4b01-eb3d-265b376247b6"
      },
      "outputs": [
        {
          "output_type": "stream",
          "name": "stdout",
          "text": [
            "            0          1         2         3          4         5         6  \\\n",
            "0    1.550508  19.483747 -0.002987  4.421460   5.541652  0.468138 -0.017365   \n",
            "1    9.683788  14.336396 -0.027154  5.100489   8.179487  0.573692 -0.024525   \n",
            "2    4.682631   8.112067 -0.012813  4.680838   1.514920  0.974407 -0.009002   \n",
            "3    7.768197   2.074808 -0.014950  7.977821  13.602144  0.599069 -0.018800   \n",
            "4    4.078857   8.307135 -0.004062  9.351602   6.661857  0.193607 -0.019705   \n",
            "..        ...        ...       ...       ...        ...       ...       ...   \n",
            "995  1.628431   8.719807 -0.005997  6.655049  13.718759  0.630336 -0.011546   \n",
            "996  9.071794  14.742854 -0.033237  7.995329   3.219032  0.800022 -0.015135   \n",
            "997  5.058303   3.274936 -0.005873  6.672859   8.600655  0.585563 -0.028025   \n",
            "998  2.963628  14.404009 -0.017381  7.552177   9.202069  0.940339 -0.009882   \n",
            "999  1.812830  19.322770 -0.020107  9.858035   4.280952  0.963976 -0.008499   \n",
            "\n",
            "            7         8         9  \n",
            "0    0.005496  0.931543 -0.033190  \n",
            "1    0.002686  0.880111 -0.040193  \n",
            "2    0.007909  0.050082 -0.053341  \n",
            "3    0.012021  0.632768 -0.035886  \n",
            "4    0.007799  0.868582 -0.028378  \n",
            "..        ...       ...       ...  \n",
            "995  0.005294  0.328757 -0.069617  \n",
            "996  0.006431  0.462960 -0.019364  \n",
            "997  0.004060  0.854859 -0.042531  \n",
            "998  0.009923  0.018250 -0.033224  \n",
            "999  0.011434  0.139573 -0.036615  \n",
            "\n",
            "[1000 rows x 10 columns]      10\n",
            "0    15\n",
            "1    17\n",
            "2    12\n",
            "3    16\n",
            "4    20\n",
            "..   ..\n",
            "995  16\n",
            "996  20\n",
            "997  15\n",
            "998  17\n",
            "999  17\n",
            "\n",
            "[1000 rows x 1 columns]\n"
          ]
        }
      ],
      "source": [
        "X = db.drop([10], axis=1)\n",
        "Y = db.drop([0,1,2,3,4,5,6,7,8,9], axis=1)\n",
        "#print(X,Y)"
      ]
    },
    {
      "cell_type": "markdown",
      "metadata": {
        "id": "ddaIhDm39Wfm"
      },
      "source": [
        "Now split the data into train and test"
      ]
    },
    {
      "cell_type": "code",
      "execution_count": 6,
      "metadata": {
        "id": "UxGwT9E_9Wfm"
      },
      "outputs": [],
      "source": [
        "from sklearn.model_selection import train_test_split"
      ]
    },
    {
      "cell_type": "code",
      "execution_count": 7,
      "metadata": {
        "id": "TG8OWbPW9Wfn"
      },
      "outputs": [],
      "source": [
        "RANDOM_SEED = 42"
      ]
    },
    {
      "cell_type": "code",
      "execution_count": 8,
      "metadata": {
        "id": "g9Z1rWHu9Wfn"
      },
      "outputs": [],
      "source": [
        "X_train, X_test, Y_train, Y_test = train_test_split(X, Y, test_size=0.1, random_state=RANDOM_SEED)"
      ]
    },
    {
      "cell_type": "code",
      "source": [
        "#print(X_train,X_test, Y_train, Y_test)"
      ],
      "metadata": {
        "id": "FzKNtMmhCMi7"
      },
      "execution_count": null,
      "outputs": []
    },
    {
      "cell_type": "markdown",
      "metadata": {
        "id": "mmwciNPT9Wfn"
      },
      "source": [
        "**Task 1.1 [1 point] Linear models**\n",
        "\n",
        "Import `LinearRegression` and define a problem with default parameters."
      ]
    },
    {
      "cell_type": "code",
      "execution_count": 9,
      "metadata": {
        "id": "SaV-aUH-9Wfo"
      },
      "outputs": [],
      "source": [
        "from sklearn.linear_model import LinearRegression"
      ]
    },
    {
      "cell_type": "code",
      "execution_count": 10,
      "metadata": {
        "id": "n5n_bddh9Wfo"
      },
      "outputs": [],
      "source": [
        "model_lr = LinearRegression()"
      ]
    },
    {
      "cell_type": "markdown",
      "metadata": {
        "id": "lqNICtRk9Wfq"
      },
      "source": [
        "Train the model and check the quality both on train set and test set. Since we are solving a regression problem, we will use `mean_squared_error` as a quality metric."
      ]
    },
    {
      "cell_type": "code",
      "execution_count": 17,
      "metadata": {
        "id": "rqTrwyix9Wfq"
      },
      "outputs": [],
      "source": [
        "from sklearn.metrics import mean_squared_error"
      ]
    },
    {
      "cell_type": "code",
      "execution_count": 19,
      "metadata": {
        "id": "K95dMisj9Wfr",
        "colab": {
          "base_uri": "https://localhost:8080/"
        },
        "outputId": "1fefcce6-5cec-471c-97e5-4225d9f5c665"
      },
      "outputs": [
        {
          "output_type": "stream",
          "name": "stdout",
          "text": [
            "Linear Regression scores: train: 5.814, test: 6.916\n"
          ]
        }
      ],
      "source": [
        "model_lr.fit(X_train, Y_train)\n",
        "#print(model_lr.score(X_train, Y_train))\n",
        "#print(model_lr.intercept_)\n",
        "#print(model_lr.coef_)\n",
        "train_pred = model_lr.predict(X_train)\n",
        "test_pred = model_lr.predict(X_test)\n",
        "\n",
        "train_score = mean_squared_error(Y_train, train_pred)\n",
        "test_score = mean_squared_error(Y_test, test_pred)\n",
        "print(\"Linear Regression scores: train: {:.3f}, test: {:3.3f}\".format(train_score, test_score))\n",
        "original_test_score = test_score\n",
        "#print(9, test_pred)"
      ]
    },
    {
      "cell_type": "markdown",
      "metadata": {
        "id": "e4LaFgIB9Wfs"
      },
      "source": [
        "Extract feature-vector from the trained model (see [this page](https://scikit-learn.org/stable/modules/generated/sklearn.linear_model.LinearRegression.html#sklearn.linear_model.LinearRegression)) and bar-plot them."
      ]
    },
    {
      "cell_type": "code",
      "execution_count": 24,
      "metadata": {
        "id": "D8bX45g29Wfs",
        "colab": {
          "base_uri": "https://localhost:8080/",
          "height": 279
        },
        "outputId": "a300e3ca-7237-460d-c1db-f78ee7e0ff76"
      },
      "outputs": [
        {
          "output_type": "display_data",
          "data": {
            "text/plain": [
              "<Figure size 864x288 with 1 Axes>"
            ],
            "image/png": "[encoded data removed]"
          },
          "metadata": {
            "needs_background": "light"
          }
        }
      ],
      "source": [
        "model_coefs =  np.append(model_lr.intercept_,model_lr.coef_[0])\n",
        "#print(model_lr.intercept_)\n",
        "#print(model_lr.coef_)\n",
        "#print(model_lr.coef_[0])\n",
        "ncoef = model_coefs.shape[0]\n",
        "default_x = np.arange(ncoef)\n",
        "\n",
        "plt.figure(figsize=(12,4))\n",
        "plt.bar([0,1,2,3,4,5,6,7,8,9,10], model_coefs,label='lr model')\n",
        "plt.xticks(default_x)\n",
        "plt.xlabel('Coefficient Index')\n",
        "plt.ylabel('Coefficient Magnitude')\n",
        "plt.legend(loc='upper right')\n",
        "plt.grid()\n",
        "plt.show()"
      ]
    },
    {
      "cell_type": "markdown",
      "metadata": {
        "id": "tjfLGHAs9Wfs"
      },
      "source": [
        "According to this plot, what are the most important features?"
      ]
    },
    {
      "cell_type": "markdown",
      "metadata": {
        "id": "zxnHoSH59Wft"
      },
      "source": [
        "**Your answer here**: 3,7,8,10"
      ]
    },
    {
      "cell_type": "markdown",
      "metadata": {
        "id": "nr1XAgqs9Wft"
      },
      "source": [
        "Save 4 most important feature indexes to a list:"
      ]
    },
    {
      "cell_type": "code",
      "execution_count": 25,
      "metadata": {
        "id": "gcj5C4cP9Wfu"
      },
      "outputs": [],
      "source": [
        "important_feature_idx = [2,6,7,9]"
      ]
    },
    {
      "cell_type": "markdown",
      "metadata": {
        "id": "ZLBKkSor9Wfu"
      },
      "source": [
        "Use these feature indexes to construct new train and test sets with smaller amount of features:"
      ]
    },
    {
      "cell_type": "code",
      "execution_count": 26,
      "metadata": {
        "id": "IoSeG4ls9Wfu"
      },
      "outputs": [],
      "source": [
        "X_train_smaller = X_train[list(important_feature_idx)]\n",
        "X_test_smaller = X_test[list(important_feature_idx)]"
      ]
    },
    {
      "cell_type": "markdown",
      "metadata": {
        "id": "0BgB_Nx39Wfu"
      },
      "source": [
        "Define a new `LinearRegression` model, train and test it on new sets: "
      ]
    },
    {
      "cell_type": "code",
      "execution_count": 28,
      "metadata": {
        "id": "5UqovnaT9Wfu",
        "colab": {
          "base_uri": "https://localhost:8080/"
        },
        "outputId": "6ab23662-1d39-41a8-cbea-f5367b0545b0"
      },
      "outputs": [
        {
          "output_type": "stream",
          "name": "stdout",
          "text": [
            "Smaller LR train score: 22.244, test score: 26.171\n"
          ]
        }
      ],
      "source": [
        "smaller_model = LinearRegression()\n",
        "smaller_model.fit(X_train_smaller, Y_train)\n",
        "train_pred =  smaller_model.predict(X_train_smaller)\n",
        "test_pred = smaller_model.predict(X_test_smaller)\n",
        "train_score = mean_squared_error(Y_train, train_pred)\n",
        "test_score = mean_squared_error(Y_test, test_pred)\n",
        "print(\"{} train score: {:.3f}, test score: {:3.3f}\".format('Smaller LR', train_score, test_score))"
      ]
    },
    {
      "cell_type": "markdown",
      "metadata": {
        "id": "0z9VEWhT9Wfv"
      },
      "source": [
        "Compare scores of `model_lr` (variable `original_score`) and `smaller_model` (variable `smaller_test_score`). We reduced number of feature but why scores changes so drastically?"
      ]
    },
    {
      "cell_type": "markdown",
      "metadata": {
        "id": "cODTpwp19Wfv"
      },
      "source": [
        "**Your answer here**: коэффиценты в линейном уравнении обозначают не значимость признака, а корректируют его масштаб. Поэтому они не обозначают, какие признаки сильно влияют на Х, а какие почти не влияют. Мы убрали какие-то важные признаки, соответственно модель не сможет давать правильные предсказания за недостатком информации."
      ]
    },
    {
      "cell_type": "markdown",
      "metadata": {
        "id": "fXpCAhI69Wfv"
      },
      "source": [
        "**Task 1.2 [1 point] Linear models on scaled data**\n",
        "\n",
        "It is time to fix this failure and scale the data - we should have done it earlier, since we decided to use linear models. Import the scaler and apply it to all of the data (`X`)"
      ]
    },
    {
      "cell_type": "code",
      "execution_count": 29,
      "metadata": {
        "id": "cB_FcCet9Wfw"
      },
      "outputs": [],
      "source": [
        "from sklearn.preprocessing import StandardScaler"
      ]
    },
    {
      "cell_type": "code",
      "execution_count": 30,
      "metadata": {
        "id": "hruUfTcy9Wfw"
      },
      "outputs": [],
      "source": [
        "st_scaler = StandardScaler().fit(X)\n",
        "X_scaled = pd.DataFrame(st_scaler.transform(X))"
      ]
    },
    {
      "cell_type": "markdown",
      "metadata": {
        "id": "BrbDMewr9Wfw"
      },
      "source": [
        "Now we repeat all the steps:\n",
        "- split the data\n",
        "- train a model on all features\n",
        "- plot coefficients\n",
        "- choose 4 most-important features\n",
        "- train a model on a feature-subset\n",
        "- compare the scores\n",
        "- profit!"
      ]
    },
    {
      "cell_type": "code",
      "execution_count": 31,
      "metadata": {
        "id": "rW8fKPSQ9Wfx"
      },
      "outputs": [],
      "source": [
        "X_sc_train, X_sc_test, Y_sc_train, Y_sc_test = train_test_split(X_scaled, Y, test_size=0.1, random_state=RANDOM_SEED)"
      ]
    },
    {
      "cell_type": "code",
      "execution_count": 34,
      "metadata": {
        "id": "p_v4MIBc9Wfx",
        "colab": {
          "base_uri": "https://localhost:8080/"
        },
        "outputId": "0e7cb0d5-5ec4-45d6-f362-8af9602274f7"
      },
      "outputs": [
        {
          "output_type": "stream",
          "name": "stdout",
          "text": [
            "Linear Regression on Scaled Data scores: train: 5.814, test: 6.916\n"
          ]
        }
      ],
      "source": [
        "model_lr_sc = LinearRegression()\n",
        "model_lr_sc.fit(X_sc_train, Y_sc_train)\n",
        "train_pred = model_lr_sc.predict(X_sc_train)\n",
        "test_pred =  model_lr_sc.predict(X_sc_test)\n",
        "train_score = mean_squared_error(train_pred, Y_sc_train)\n",
        "test_score =  mean_squared_error(test_pred, Y_sc_test)\n",
        "print(\"Linear Regression on Scaled Data scores: train: {:.3f}, test: {:3.3f}\".format(train_score, test_score))"
      ]
    },
    {
      "cell_type": "code",
      "execution_count": 39,
      "metadata": {
        "id": "hNx9N0ow9Wfy",
        "colab": {
          "base_uri": "https://localhost:8080/",
          "height": 279
        },
        "outputId": "24246452-cdf8-49ca-ff37-7c964e25029d"
      },
      "outputs": [
        {
          "output_type": "display_data",
          "data": {
            "text/plain": [
              "<Figure size 864x288 with 1 Axes>"
            ],
            "image/png": "[encoded data removed]"
          },
          "metadata": {
            "needs_background": "light"
          }
        }
      ],
      "source": [
        "model_coefs =  model_lr_sc.coef_[0]\n",
        "#print(model_coefs)\n",
        "ncoef = model_coefs.shape[0]\n",
        "default_x = np.arange(ncoef)\n",
        "\n",
        "plt.figure(figsize=(12,4))\n",
        "plt.bar(default_x, model_coefs, label='scaled model lr', width=0.5, color = 'red')\n",
        "plt.xticks(default_x)\n",
        "plt.xlabel('Coefficient Index')\n",
        "plt.ylabel('Coefficient Magnitude')\n",
        "plt.legend(loc='upper right')\n",
        "plt.grid()\n",
        "plt.show()"
      ]
    },
    {
      "cell_type": "markdown",
      "metadata": {
        "id": "yzRgg5aU9Wfy"
      },
      "source": [
        "What are the most important features now? Let's do the sanity check and train on this subset:"
      ]
    },
    {
      "cell_type": "code",
      "execution_count": 37,
      "metadata": {
        "id": "X_12w86F9Wfz"
      },
      "outputs": [],
      "source": [
        "important_feature_idx = [0,1,3,4] \n"
      ]
    },
    {
      "cell_type": "code",
      "execution_count": 38,
      "metadata": {
        "id": "6DothHwL9Wfz"
      },
      "outputs": [],
      "source": [
        "X_sc_train_smaller = X_sc_train[list(important_feature_idx)]\n",
        "X_sc_test_smaller = X_sc_test[list(important_feature_idx)]\n",
        "#print(X_sc_train)\n",
        "#print(X_sc_test)\n",
        "#print(X_sc_train_smaller)\n",
        "#print(X_sc_train_smaller)"
      ]
    },
    {
      "cell_type": "code",
      "execution_count": 40,
      "metadata": {
        "id": "fqUbc6Yd9Wfz",
        "colab": {
          "base_uri": "https://localhost:8080/"
        },
        "outputId": "f5cfa06e-aa4d-40a5-bf1d-6d91b4a7072c"
      },
      "outputs": [
        {
          "output_type": "stream",
          "name": "stdout",
          "text": [
            "Linear Regression on Scaled Data scores: train: 5.841, test: 6.856\n"
          ]
        }
      ],
      "source": [
        "model_lr_sc_smaller = LinearRegression()\n",
        "model_lr_sc_smaller.fit(X_sc_train_smaller, Y_sc_train)\n",
        "train_pred =  model_lr_sc_smaller.predict(X_sc_train_smaller)\n",
        "test_pred = model_lr_sc_smaller.predict(X_sc_test_smaller)\n",
        "train_score = mean_squared_error(train_pred, Y_sc_train)\n",
        "test_score =  mean_squared_error(test_pred, Y_sc_test)\n",
        "print(\"Linear Regression on Scaled Data scores: train: {:.3f}, test: {:3.3f}\".format(train_score, test_score))"
      ]
    },
    {
      "cell_type": "markdown",
      "metadata": {
        "id": "3jxI9UXK9Wf0"
      },
      "source": [
        "Has **MSE** changed? To what extent?"
      ]
    },
    {
      "cell_type": "markdown",
      "metadata": {
        "id": "FAznehSW9Wf0"
      },
      "source": [
        "**Your answer here**: поменялся совсем немного, практически незаметно, ухудшился на 0.03 на обучающей выборке и улучшился на 0.06 на тестовой выборке. Это полпроцента."
      ]
    },
    {
      "cell_type": "markdown",
      "metadata": {
        "id": "L-xfGtxv9Wf0"
      },
      "source": [
        "**Task 2 [2 points] Decision Tree**\n",
        "\n",
        "As you probably now, there are models that are not influence by the fact that data is not normalized: for example, Decision Tree or Random Forest.\n",
        "\n",
        "Since you already have all the sets prepared: `X_train` and `X_sc_train`, train a RF model and prove that scaling does not affect feature importances.\n",
        "\n",
        "Then compare durations of training loops for a set with 10 features and 4 features."
      ]
    },
    {
      "cell_type": "code",
      "execution_count": 41,
      "metadata": {
        "id": "-fIzqZsj9Wf0"
      },
      "outputs": [],
      "source": [
        "from sklearn.ensemble import RandomForestRegressor"
      ]
    },
    {
      "cell_type": "code",
      "execution_count": 42,
      "metadata": {
        "id": "lNEEPyOe9Wf1"
      },
      "outputs": [],
      "source": [
        "rf = RandomForestRegressor()\n",
        "rf_scaled = RandomForestRegressor()"
      ]
    },
    {
      "cell_type": "code",
      "execution_count": 43,
      "metadata": {
        "id": "5VlkdFTb9Wf1",
        "colab": {
          "base_uri": "https://localhost:8080/"
        },
        "outputId": "80311cbd-5677-4885-8e56-ca414cc389c4"
      },
      "outputs": [
        {
          "output_type": "stream",
          "name": "stderr",
          "text": [
            "<ipython-input-43-02e85e1becb7>:1: DataConversionWarning: A column-vector y was passed when a 1d array was expected. Please change the shape of y to (n_samples,), for example using ravel().\n",
            "  rf.fit(X_train, Y_train)\n",
            "<ipython-input-43-02e85e1becb7>:2: DataConversionWarning: A column-vector y was passed when a 1d array was expected. Please change the shape of y to (n_samples,), for example using ravel().\n",
            "  rf_scaled.fit(X_sc_train, Y_sc_train)\n"
          ]
        },
        {
          "output_type": "stream",
          "name": "stdout",
          "text": [
            "RF test score 0.881\n",
            "RF scaled test score 0.885\n"
          ]
        }
      ],
      "source": [
        "rf.fit(X_train, Y_train)\n",
        "rf_scaled.fit(X_sc_train, Y_sc_train)\n",
        "rf_test_score = rf.score(X_test, Y_test)\n",
        "rf_scaled_test_score = rf_scaled.score(X_sc_test, Y_sc_test)\n",
        "print(\"RF test score {:.3f}\".format(rf_test_score))\n",
        "print(\"RF scaled test score {:.3f}\".format(rf_scaled_test_score))"
      ]
    },
    {
      "cell_type": "markdown",
      "metadata": {
        "id": "-0vQNivU9Wf1"
      },
      "source": [
        "Look up an attribute for feature importances [here](https://scikit-learn.org/stable/modules/generated/sklearn.ensemble.RandomForestRegressor.html?highlight=random%20forest#sklearn.ensemble.RandomForestRegressor)"
      ]
    },
    {
      "cell_type": "code",
      "execution_count": 44,
      "metadata": {
        "id": "IYdjnFFn9Wf1",
        "colab": {
          "base_uri": "https://localhost:8080/",
          "height": 279
        },
        "outputId": "ad14d94e-f2c4-4bdb-b00d-30f243406f75"
      },
      "outputs": [
        {
          "output_type": "display_data",
          "data": {
            "text/plain": [
              "<Figure size 864x288 with 1 Axes>"
            ],
            "image/png": "[encoded data removed]"
          },
          "metadata": {
            "needs_background": "light"
          }
        }
      ],
      "source": [
        "rf_model_coefs =rf.feature_importances_\n",
        "rf_scaled_model_coefs = rf_scaled.feature_importances_\n",
        "ncoef = rf_model_coefs.shape[0]\n",
        "default_x = np.arange(ncoef)\n",
        "\n",
        "plt.figure(figsize=(12,4))\n",
        "plt.bar(default_x - 0.1, rf_model_coefs, label=\"RF\", width=0.1, color = 'red')\n",
        "plt.bar(default_x + 0.1, rf_scaled_model_coefs, label=\"RF Scaled\", width=0.1, color = 'blue')\n",
        "plt.xticks(default_x)\n",
        "plt.xlabel('Coefficient Index')\n",
        "plt.ylabel('Coefficient Magnitude')\n",
        "plt.legend(loc='upper right')\n",
        "plt.grid()\n",
        "plt.show()"
      ]
    },
    {
      "cell_type": "markdown",
      "metadata": {
        "id": "mrdX8uON9Wf2"
      },
      "source": [
        "**Your Comment on the plot:** Решающие деревья определили важность признаков примерно так же, как и линейная модель (самыми важными оказались те же признаки). Есть небольшие отличия между отмасштабированными и изначальными данными, но они незначительны. "
      ]
    },
    {
      "cell_type": "markdown",
      "metadata": {
        "id": "hpDEUpG49Wf2"
      },
      "source": [
        "Now examine how reduction of number of features impacts durations of training loops. You may use `time` module."
      ]
    },
    {
      "cell_type": "markdown",
      "metadata": {
        "id": "Ml67gXTG9Wf2"
      },
      "source": [
        "Here is an example of `time` usage:"
      ]
    },
    {
      "cell_type": "code",
      "execution_count": 45,
      "metadata": {
        "id": "1aZ-1KrG9Wf3",
        "colab": {
          "base_uri": "https://localhost:8080/"
        },
        "outputId": "3b3d3bde-84b4-4475-ea13-54d7ae3aee4b"
      },
      "outputs": [
        {
          "output_type": "stream",
          "name": "stdout",
          "text": [
            "1000 x 1000 matrix determinant took 0.046 seconds\n"
          ]
        },
        {
          "output_type": "stream",
          "name": "stderr",
          "text": [
            "/usr/local/lib/python3.8/dist-packages/numpy/linalg/linalg.py:2158: RuntimeWarning: overflow encountered in det\n",
            "  r = _umath_linalg.det(a, signature=signature)\n"
          ]
        }
      ],
      "source": [
        "from time import time\n",
        "\n",
        "n = 1000\n",
        "a = np.diag(np.ones(n)) + np.random.rand(n, n)\n",
        "\n",
        "start = time()\n",
        "det = np.linalg.det(a)\n",
        "end = time()\n",
        "print(\"{} x {} matrix determinant took {:.3f} seconds\".format(n, n, end - start))"
      ]
    },
    {
      "cell_type": "code",
      "execution_count": 46,
      "metadata": {
        "id": "v3cPpFx_9Wf3"
      },
      "outputs": [],
      "source": [
        "rf1 = RandomForestRegressor()\n",
        "rf2 = RandomForestRegressor()"
      ]
    },
    {
      "cell_type": "code",
      "execution_count": 49,
      "metadata": {
        "id": "tehFD6nU9Wf3",
        "colab": {
          "base_uri": "https://localhost:8080/"
        },
        "outputId": "7a53fa5a-23a3-4bf3-da3c-a6b748eeca4f"
      },
      "outputs": [
        {
          "output_type": "stream",
          "name": "stderr",
          "text": [
            "<ipython-input-49-979fca566a94>:3: DataConversionWarning: A column-vector y was passed when a 1d array was expected. Please change the shape of y to (n_samples,), for example using ravel().\n",
            "  rf1.fit(X_sc_train, Y_sc_train)\n"
          ]
        },
        {
          "output_type": "stream",
          "name": "stdout",
          "text": [
            "it took 0.484 seconds for 10 features\n"
          ]
        },
        {
          "output_type": "stream",
          "name": "stderr",
          "text": [
            "<ipython-input-49-979fca566a94>:9: DataConversionWarning: A column-vector y was passed when a 1d array was expected. Please change the shape of y to (n_samples,), for example using ravel().\n",
            "  rf1.fit(X_sc_train_smaller, Y_sc_train)\n"
          ]
        },
        {
          "output_type": "stream",
          "name": "stdout",
          "text": [
            "it took 0.272 seconds for 4 features \n"
          ]
        }
      ],
      "source": [
        "start1=time()\n",
        "rf1 = RandomForestRegressor()\n",
        "rf1.fit(X_sc_train, Y_sc_train)\n",
        "end1=time()\n",
        "print(\"it took {:.3f} seconds for 10 features\".format (end1 - start1))\n",
        "\n",
        "start2=time()\n",
        "rf1 = RandomForestRegressor()\n",
        "rf1.fit(X_sc_train_smaller, Y_sc_train)\n",
        "end2=time()\n",
        "print(\"it took {:.3f} seconds for 4 features \".format (end2 - start2))\n",
        "\n",
        "#print(X_sc_train, X_sc_train_smaller)"
      ]
    },
    {
      "cell_type": "markdown",
      "metadata": {
        "id": "YB5sKrBF9Wf5"
      },
      "source": [
        "**Your Comment on time consuption**: с меньшим количеством фичей алгоритму стало полегче, время сократилось примерно в два раза"
      ]
    },
    {
      "cell_type": "markdown",
      "metadata": {
        "id": "xglrHv499Wf6"
      },
      "source": [
        "## Part 2. GridSearch: hyperparameter tuning  [11 points]"
      ]
    },
    {
      "cell_type": "markdown",
      "metadata": {
        "id": "dZXRIL419Wf6"
      },
      "source": [
        "In this part we will try to solve a multiclass classification task on Richter's dataset ([source](https://www.kaggle.com/mullerismail/richters-predictor-modeling-earthquake-damage)). The aim is to predict damage rate (label from 1 to 3).\n",
        "\n",
        "We will experiment with following models:\n",
        "- kNN\n",
        "- LinearRegression\n",
        "- DecisionTree\n",
        "- RandomForest"
      ]
    },
    {
      "cell_type": "code",
      "execution_count": 9,
      "metadata": {
        "id": "mh0pwy6V9Wf6"
      },
      "outputs": [],
      "source": [
        "import numpy as np\n",
        "import pandas as pd\n",
        "import matplotlib.pyplot as plt\n",
        "%matplotlib inline"
      ]
    },
    {
      "cell_type": "markdown",
      "metadata": {
        "id": "8hpZi-A59Wf6"
      },
      "source": [
        "Read the data, transform the table into arrays `X` and `y`, target column is called *damage_grade*. Note that objects are described with both numerical and categorical features. In the first part of this assignment we will use numerical features only (apply `_get_numeric_data()` to `pandas` dataframe).\n",
        "\n",
        "Split the data into `train`, `test` and `val` with ratio 4-to-2-to-1. Since we are going to use metric classifiers, don't forget to preprocess the data."
      ]
    },
    {
      "cell_type": "code",
      "execution_count": 10,
      "metadata": {
        "id": "iCwfSRu19Wf7"
      },
      "outputs": [],
      "source": [
        "RANDOM_SEED = 42"
      ]
    },
    {
      "cell_type": "code",
      "execution_count": 11,
      "metadata": {
        "id": "82i8N3S59Wf7"
      },
      "outputs": [],
      "source": [
        "from sklearn.model_selection import train_test_split\n",
        "\n",
        "from sklearn.preprocessing import StandardScaler\n",
        "from sklearn.preprocessing import MinMaxScaler"
      ]
    },
    {
      "cell_type": "code",
      "execution_count": 17,
      "metadata": {
        "id": "cREv1fMc9Wf7"
      },
      "outputs": [],
      "source": [
        "data = pd.read_csv(\"richters_sample.csv\")\n",
        "objects = data.drop(columns=\"damage_grade\")\n",
        "labels = data[\"damage_grade\"]\n",
        "\n",
        "#print(data)"
      ]
    },
    {
      "cell_type": "code",
      "execution_count": 18,
      "metadata": {
        "id": "vrM2-2jz9Wf7"
      },
      "outputs": [],
      "source": [
        "X = objects._get_numeric_data()\n",
        "y = labels\n",
        "assert X.shape == (35000, 31) and  y.shape == (35000,)"
      ]
    },
    {
      "cell_type": "code",
      "execution_count": 19,
      "metadata": {
        "id": "MO_zohy99Wf8"
      },
      "outputs": [],
      "source": [
        "scaler = StandardScaler()\n",
        "X = scaler.fit_transform(X)"
      ]
    },
    {
      "cell_type": "code",
      "execution_count": 20,
      "metadata": {
        "id": "85IaXmBS9Wf8"
      },
      "outputs": [],
      "source": [
        "X_train, X_not_train, y_train, y_not_train = train_test_split(X, y, test_size=15000, \n",
        "                                                    shuffle=True, stratify= None,\n",
        "                                                    random_state=RANDOM_SEED)\n",
        "\n",
        "X_test, X_val, y_test, y_val = train_test_split(X_not_train, y_not_train, test_size=5000, \n",
        "                                                    shuffle=True, stratify= None,\n",
        "                                                    random_state=RANDOM_SEED)\n",
        "\n",
        "assert X_train.shape[0] == 20000 and X_test.shape[0] == 10000 and X_val.shape[0] == 5000"
      ]
    },
    {
      "cell_type": "markdown",
      "metadata": {
        "id": "DYq_p7N49Wf9"
      },
      "source": [
        "Import the models:"
      ]
    },
    {
      "cell_type": "code",
      "execution_count": 5,
      "metadata": {
        "id": "jku2sStx9Wf9"
      },
      "outputs": [],
      "source": [
        "from sklearn.neighbors import KNeighborsClassifier\n",
        "from sklearn.linear_model import LogisticRegression\n",
        "from sklearn.tree import DecisionTreeClassifier\n",
        "from sklearn.ensemble import RandomForestClassifier"
      ]
    },
    {
      "cell_type": "markdown",
      "metadata": {
        "id": "0E2lkbZa9Wf9"
      },
      "source": [
        "Import classification quality metrics:"
      ]
    },
    {
      "cell_type": "code",
      "execution_count": 6,
      "metadata": {
        "id": "C97GuCvk9Wf-"
      },
      "outputs": [],
      "source": [
        "from sklearn.metrics import accuracy_score, precision_score, recall_score"
      ]
    },
    {
      "cell_type": "markdown",
      "metadata": {
        "id": "54kPpQri9Wf-"
      },
      "source": [
        "**Task 2.1 [2 points]. Default-parameter models**\n",
        "\n",
        "Let's take 4 classifiers (1 of a kind) with **default** parameters and check how well they can perform."
      ]
    },
    {
      "cell_type": "code",
      "execution_count": 7,
      "metadata": {
        "id": "It-zaW6W9Wf_"
      },
      "outputs": [],
      "source": [
        "clf1 = KNeighborsClassifier()\n",
        "clf2 = LogisticRegression()\n",
        "clf3 = DecisionTreeClassifier()\n",
        "clf4 = RandomForestClassifier()\n",
        "\n",
        "default_classifiers = [clf1, clf2, clf3, clf4]"
      ]
    },
    {
      "cell_type": "markdown",
      "metadata": {
        "id": "8Fgbip3q9Wf_"
      },
      "source": [
        "Fit each classifier on `X_train, y_train`, predict on `X_test`"
      ]
    },
    {
      "cell_type": "code",
      "execution_count": 59,
      "metadata": {
        "id": "vwhT8Buw9Wf_"
      },
      "outputs": [],
      "source": [
        "clf_predictions = []\n",
        "for clf in default_classifiers:\n",
        "    clf.fit(X_train,y_train)  \n",
        "    pred = clf.predict(X_test)\n",
        "    clf_predictions.append(pred)\n"
      ]
    },
    {
      "cell_type": "markdown",
      "metadata": {
        "id": "MwnagOiy9Wf_"
      },
      "source": [
        "Apply 5 metrics to each prediction:"
      ]
    },
    {
      "cell_type": "code",
      "execution_count": 213,
      "metadata": {
        "id": "tH02Dxe49WgA"
      },
      "outputs": [],
      "source": [
        "accuracies = [accuracy_score(y_test, pred) for pred in clf_predictions]\n",
        "micro_precisions = [precision_score(y_test, pred, average=\"micro\", zero_division=1) for pred in clf_predictions] \n",
        "micro_recalls =[recall_score(y_test, pred, average=\"micro\", zero_division=1) for pred in clf_predictions]\n",
        "macro_precisions =[precision_score(y_test, pred, average=\"macro\", zero_division=1) for pred in clf_predictions] \n",
        "macro_recalls = [recall_score(y_test, pred, average=\"micro\", zero_division=1) for pred in clf_predictions] \n",
        "\n",
        "scores = [accuracies, micro_precisions, micro_recalls, macro_precisions, macro_recalls]\n",
        "names = [\"Accuracies\", \"Micro-Precisions\", \"Micro-Recalls\",  \"Macro-Precisions\", \"Macro-Recalls\"]"
      ]
    },
    {
      "cell_type": "code",
      "execution_count": 214,
      "metadata": {
        "id": "eLKtsYbG9WgA",
        "colab": {
          "base_uri": "https://localhost:8080/",
          "height": 325
        },
        "outputId": "bc40e3d1-2712-4924-9e4a-2d094d020c4a"
      },
      "outputs": [
        {
          "output_type": "display_data",
          "data": {
            "text/plain": [
              "<Figure size 1440x360 with 5 Axes>"
            ],
            "image/png": "[encoded data removed]"
          },
          "metadata": {
            "needs_background": "light"
          }
        }
      ],
      "source": [
        "fig, axs = plt.subplots(nrows=1, ncols=5, figsize=(20, 5), sharey=True)\n",
        "plt.setp(axs, ylim=(0, 1))\n",
        "\n",
        "xlabels = [\"knn\", \"linear\", \"dt\", \"rf\"]\n",
        "colors = [\"yellow\", \"red\", \"blue\", \"green\"]\n",
        "xticks = 1 + np.arange(len(xlabels))\n",
        "\n",
        "for ax, score, name in zip(axs, scores, names):\n",
        "    ax.bar(xticks, score, color=colors)\n",
        "    for i, v in enumerate(score):\n",
        "        ax.text(xticks[i] - 0.25, v + 0.01, \"{:.2f}\".format(v))\n",
        "    ax.set_xticks(xticks)\n",
        "    ax.set_xticklabels(xlabels)\n",
        "    ax.set_title(name)\n",
        "    ax.grid()\n",
        "\n",
        "plt.show()"
      ]
    },
    {
      "cell_type": "markdown",
      "metadata": {
        "id": "n46VvPiB9WgA"
      },
      "source": [
        "Choose the model with the biggest gap between micro-precision and macro-precision and plot its confusion matrix.\n",
        "For confusion matrix do `from sklearn.metrics import confusion_matrix` (don't forget to put valid labels on plots)."
      ]
    },
    {
      "cell_type": "code",
      "execution_count": 215,
      "metadata": {
        "id": "0smRuDKD9WgA"
      },
      "outputs": [],
      "source": [
        "from sklearn.metrics import confusion_matrix\n",
        "import seaborn as sns"
      ]
    },
    {
      "cell_type": "code",
      "execution_count": 216,
      "metadata": {
        "id": "bWb9fMZw9WgB"
      },
      "outputs": [],
      "source": [
        "weakest_model_index = 2 #YOUR CODE HERE: 0,1,2 or 3?\n",
        "\n",
        "dt_preds = clf_predictions[weakest_model_index]\n",
        "conf_matrix = confusion_matrix(y_test, clf3.predict(X_test))"
      ]
    },
    {
      "cell_type": "code",
      "execution_count": 217,
      "metadata": {
        "id": "jvm1dr6r9WgB",
        "colab": {
          "base_uri": "https://localhost:8080/",
          "height": 296
        },
        "outputId": "b0cf1a52-9023-4c49-8880-e70bf16bdb40"
      },
      "outputs": [
        {
          "output_type": "stream",
          "name": "stdout",
          "text": [
            "[1, 2, 3]\n"
          ]
        },
        {
          "output_type": "display_data",
          "data": {
            "text/plain": [
              "<Figure size 432x288 with 2 Axes>"
            ],
            "image/png": "[encoded data removed]"
          },
          "metadata": {
            "needs_background": "light"
          }
        }
      ],
      "source": [
        "plot_labels = sorted(labels.unique())\n",
        "print(plot_labels)\n",
        "sns.heatmap( conf_matrix, \n",
        "            cmap=\"Blues\",\n",
        "            xticklabels=plot_labels,\n",
        "            yticklabels=plot_labels,\n",
        "            linewidths=0.01, linecolor=\"black\", \n",
        "            annot = True, fmt='2g')\n",
        "\n",
        "plt.ylabel(\"GT\")\n",
        "plt.xlabel(\"Predictions\")\n",
        "plt.show()"
      ]
    },
    {
      "cell_type": "markdown",
      "metadata": {
        "id": "akcY45HI9WgB"
      },
      "source": [
        "Going by confusion matrix, which class is the hardest to predict? How does it affect macro/micro-precision?\n",
        "\n",
        "**Your answer:** хуже всего модель определяет damage_grade = 1 (меньше половины правильных ответов). В микро-пресижине доля FP суммарно в знаменателе получается не очень большая в сравнении с числителем, но в макро-пресижине у первого члена суммы знаменатель получается гигантский, соответственно первый член получается очень маленький, отсюда вся сумма получается меньше. Итак, на макро-пресижн неудачная классификация damage_grade=1 заметно влияет, и он получается меньше микро-пресижна"
      ]
    },
    {
      "cell_type": "markdown",
      "metadata": {
        "id": "JKiMyDFj9WgB"
      },
      "source": [
        "**Task 2.2 [3 points]. 1-D Grid Search**\n",
        "\n",
        "No wonder that default models have scores far from perfect. Let's tweak those hyperparameters with GridSearch: we will iteratively look through all combinations of parameters in the grid and choose the best. At each iteraction use cross validation score with number of folds `k=5`.\n",
        "\n",
        "Firstly, build the grid for kNN. It will be a 1-D grid with the only parameter `n_neighbors`. Look through all values from 1 to 50.\n",
        "\n",
        "*Hint*: `np.arange`, `np.linspace` and `np.logspace` are very useful for grid constructions.\n",
        "\n",
        "**Attention** this part of assignment may need a lot of computational powers (as you probably remember, training of knn is quite expensive). \n",
        "\n",
        "To save some resources while doing grid search for knn you may use the trick from Part1: do feature-selection with DTree/RandomForest and select top-5 or top-10 features."
      ]
    },
    {
      "cell_type": "code",
      "execution_count": 25,
      "metadata": {
        "id": "SFzKrc4i9WgC"
      },
      "outputs": [],
      "source": [
        "from sklearn.model_selection import cross_val_score\n",
        "from sklearn.model_selection import GridSearchCV"
      ]
    },
    {
      "cell_type": "code",
      "execution_count": 49,
      "metadata": {
        "id": "Fmp3Q7U09WgC"
      },
      "outputs": [],
      "source": [
        "knn_clf = KNeighborsClassifier()\n",
        "knn_grid = {\n",
        "    \"n_neighbors\": np.arange(1,51)\n",
        "}\n",
        "#print(knn_grid)"
      ]
    },
    {
      "cell_type": "code",
      "execution_count": 220,
      "metadata": {
        "id": "Elmwq3uY9WgC",
        "colab": {
          "base_uri": "https://localhost:8080/"
        },
        "outputId": "5d0f1109-cb5b-4694-b6bb-b473c1006966"
      },
      "outputs": [
        {
          "output_type": "execute_result",
          "data": {
            "text/plain": [
              "GridSearchCV(cv=5, estimator=KNeighborsClassifier(),\n",
              "             param_grid={'n_neighbors': array([ 1,  2,  3,  4,  5,  6,  7,  8,  9, 10, 11, 12, 13, 14, 15, 16, 17,\n",
              "       18, 19, 20, 21, 22, 23, 24, 25, 26, 27, 28, 29, 30, 31, 32, 33, 34,\n",
              "       35, 36, 37, 38, 39, 40, 41, 42, 43, 44, 45, 46, 47, 48, 49, 50])},\n",
              "             return_train_score=True)"
            ]
          },
          "metadata": {},
          "execution_count": 220
        }
      ],
      "source": [
        "knn_grid_searcher = GridSearchCV(knn_clf,knn_grid, cv=5, return_train_score=True)\n",
        "knn_grid_searcher.fit(X_train, y_train)"
      ]
    },
    {
      "cell_type": "code",
      "source": [
        "#display(knn_grid_searcher.cv_results_)"
      ],
      "metadata": {
        "id": "4-J4X9hoXNnG"
      },
      "execution_count": 221,
      "outputs": []
    },
    {
      "cell_type": "markdown",
      "metadata": {
        "id": "jE1-sCXy9WgC"
      },
      "source": [
        "Plot mean cross-validation score for each hyperparameter:\n",
        "- X-axis is hyperparameter values\n",
        "- Y-axis is mean CV-score\n",
        "\n",
        "To show variance of obtained estimatets add *mean + 3 stds* and *mean - 3 stds* to the plot. You may use `plt.fill_between` to make it more descriptive (it will look like a coridor around the mean).\n",
        "\n",
        "To get values we need to plot search in `knn_grid_searcher` parameters and attributes."
      ]
    },
    {
      "cell_type": "code",
      "execution_count": 222,
      "metadata": {
        "id": "OSv17I5y9WgC",
        "colab": {
          "base_uri": "https://localhost:8080/"
        },
        "outputId": "9b839b66-7a54-4a43-dff9-c8be6fe2735f"
      },
      "outputs": [
        {
          "output_type": "stream",
          "name": "stdout",
          "text": [
            "[0.00245764 0.00542218 0.00452051 0.00678233 0.00744077 0.00430871\n",
            " 0.00559017 0.00619597 0.00493812 0.00834116 0.00643506 0.00554752\n",
            " 0.00514927 0.00801155 0.00539444 0.00546443 0.00454423 0.00565995\n",
            " 0.00379803 0.0062462  0.00359653 0.00524786 0.00428252 0.00408534\n",
            " 0.00315991 0.0044017  0.00537122 0.00678344 0.00459728 0.00453211\n",
            " 0.00440908 0.00481248 0.00442832 0.00502892 0.00420892 0.0045183\n",
            " 0.00651613 0.00771589 0.00794607 0.00596112 0.00644864 0.00708943\n",
            " 0.0066     0.0066888  0.00669253 0.00756736 0.00853874 0.00879773\n",
            " 0.00901887 0.00716484]\n"
          ]
        }
      ],
      "source": [
        "means = knn_grid_searcher.cv_results_['mean_test_score']\n",
        "stds = knn_grid_searcher.cv_results_['std_test_score']\n",
        "print(stds)"
      ]
    },
    {
      "cell_type": "code",
      "execution_count": 223,
      "metadata": {
        "id": "KCfy4DuO9WgD",
        "colab": {
          "base_uri": "https://localhost:8080/",
          "height": 404
        },
        "outputId": "15d9edb7-679b-48fc-f82a-b97706d728d7"
      },
      "outputs": [
        {
          "output_type": "display_data",
          "data": {
            "text/plain": [
              "<Figure size 720x432 with 1 Axes>"
            ],
            "image/png": "[encoded data removed]"
          },
          "metadata": {
            "needs_background": "light"
          }
        }
      ],
      "source": [
        "plt.figure(figsize=(10, 6))\n",
        "xs = knn_grid_searcher.param_grid[\"n_neighbors\"]\n",
        "plt.plot(xs, means,label='knn model score')\n",
        "plt.fill_between(xs, means-3*stds, means+3*stds, alpha=.5, linewidth=0)\n",
        "plt.legend()\n",
        "plt.title('kNN')\n",
        "plt.xlabel('number of neighbors')\n",
        "plt.ylabel('mean test score')\n",
        "plt.show()"
      ]
    },
    {
      "cell_type": "markdown",
      "metadata": {
        "id": "LrYLMTrZ9WgD"
      },
      "source": [
        "Print the best estimator and its score:"
      ]
    },
    {
      "cell_type": "code",
      "execution_count": 230,
      "metadata": {
        "id": "eTZgYrXi9WgE",
        "colab": {
          "base_uri": "https://localhost:8080/"
        },
        "outputId": "9d687c47-2b7f-4403-c788-9bd7614b9c74"
      },
      "outputs": [
        {
          "output_type": "stream",
          "name": "stdout",
          "text": [
            "best estimator:  {'n_neighbors': 28}\n",
            "its score:  0.60185\n"
          ]
        }
      ],
      "source": [
        "print('best estimator: ',knn_grid_searcher.best_params_)\n",
        "\n",
        "print('its score: ', knn_grid_searcher.best_score_)"
      ]
    },
    {
      "cell_type": "markdown",
      "metadata": {
        "id": "SrnxcgIr9WgE"
      },
      "source": [
        "Now do the same for 3 other models:\n",
        "- Decision Tree: grid search the `max_depth` parameter\n",
        "- LogisticRegression: `penalty`\n",
        "- RandomForest: `n_estimators`\n",
        "\n",
        "Some of the hyperparameters are not numeric, but categorical (like `penalty`) and you should choose some other way to plot cv-scores instead of `plt.plot`"
      ]
    },
    {
      "cell_type": "markdown",
      "source": [
        "**Decision Tree**"
      ],
      "metadata": {
        "id": "deNit9rFjVQm"
      }
    },
    {
      "cell_type": "code",
      "source": [
        "dt_clf = DecisionTreeClassifier()\n",
        "dt_grid = {\n",
        "    \"max_depth\":  np.arange(1,51)\n",
        "}\n",
        "#print(dt_grid)\n",
        "dt_grid_searcher = GridSearchCV(dt_clf, dt_grid , cv=5, return_train_score=True)\n",
        "dt_grid_searcher.fit(X_train, y_train)\n"
      ],
      "metadata": {
        "colab": {
          "base_uri": "https://localhost:8080/"
        },
        "id": "tfX3BQtTjQKJ",
        "outputId": "0a45e8fc-e5ae-4c28-a1a6-37fb8865845a"
      },
      "execution_count": 231,
      "outputs": [
        {
          "output_type": "execute_result",
          "data": {
            "text/plain": [
              "GridSearchCV(cv=5, estimator=DecisionTreeClassifier(),\n",
              "             param_grid={'max_depth': array([ 1,  2,  3,  4,  5,  6,  7,  8,  9, 10, 11, 12, 13, 14, 15, 16, 17,\n",
              "       18, 19, 20, 21, 22, 23, 24, 25, 26, 27, 28, 29, 30, 31, 32, 33, 34,\n",
              "       35, 36, 37, 38, 39, 40, 41, 42, 43, 44, 45, 46, 47, 48, 49, 50])},\n",
              "             return_train_score=True)"
            ]
          },
          "metadata": {},
          "execution_count": 231
        }
      ]
    },
    {
      "cell_type": "code",
      "source": [
        "means = dt_grid_searcher.cv_results_['mean_test_score']\n",
        "stds = dt_grid_searcher.cv_results_['std_test_score']\n",
        "plt.figure(figsize=(10, 6))\n",
        "xs = dt_grid_searcher.param_grid[\"max_depth\"]\n",
        "plt.plot(xs, means,label='decision tree model score')\n",
        "plt.fill_between(xs, means-3*stds, means+3*stds, alpha=.5, linewidth=0)\n",
        "plt.legend()\n",
        "plt.title('decision tree')\n",
        "plt.xlabel('depth')\n",
        "plt.ylabel('mean test score')\n",
        "plt.show()\n",
        "print('best estimator: ',dt_grid_searcher.best_params_)\n",
        "print('its score: ', dt_grid_searcher.best_score_)"
      ],
      "metadata": {
        "colab": {
          "base_uri": "https://localhost:8080/",
          "height": 439
        },
        "id": "9ncMyYNdlLN8",
        "outputId": "2626c66f-19e2-4efb-eee7-bd918bb69214"
      },
      "execution_count": 232,
      "outputs": [
        {
          "output_type": "display_data",
          "data": {
            "text/plain": [
              "<Figure size 720x432 with 1 Axes>"
            ],
            "image/png": "[encoded data removed]"
          },
          "metadata": {
            "needs_background": "light"
          }
        },
        {
          "output_type": "stream",
          "name": "stdout",
          "text": [
            "best estimator:  {'max_depth': 8}\n",
            "its score:  0.6548\n"
          ]
        }
      ]
    },
    {
      "cell_type": "markdown",
      "source": [
        "**LogisticRegression**"
      ],
      "metadata": {
        "id": "cYRyrr6rnhs4"
      }
    },
    {
      "cell_type": "code",
      "source": [
        "lr_clf = LogisticRegression(solver='saga', l1_ratio=0.5)\n",
        "lr_grid = {\n",
        "    \"penalty\": ('l1', 'l2', 'elasticnet', 'none')\n",
        "}\n",
        "lr_grid_searcher = GridSearchCV(lr_clf, lr_grid , cv=5, return_train_score=True)\n",
        "lr_grid_searcher.fit(X_train, y_train)"
      ],
      "metadata": {
        "colab": {
          "base_uri": "https://localhost:8080/"
        },
        "id": "2sibdRqWnmQ6",
        "outputId": "b05dc0fd-500d-4823-d6f6-a85c9099ddc9"
      },
      "execution_count": 233,
      "outputs": [
        {
          "output_type": "execute_result",
          "data": {
            "text/plain": [
              "GridSearchCV(cv=5, estimator=LogisticRegression(l1_ratio=0.5, solver='saga'),\n",
              "             param_grid={'penalty': ('l1', 'l2', 'elasticnet', 'none')},\n",
              "             return_train_score=True)"
            ]
          },
          "metadata": {},
          "execution_count": 233
        }
      ]
    },
    {
      "cell_type": "code",
      "source": [
        "means = lr_grid_searcher.cv_results_['mean_test_score']\n",
        "stds = lr_grid_searcher.cv_results_['std_test_score']\n",
        "plt.figure(figsize=(10, 6))\n",
        "xs = lr_grid_searcher.param_grid[\"penalty\"]\n",
        "plt.plot(xs, means,label='lr model score')\n",
        "plt.fill_between(xs, means-3*stds, means+3*stds, alpha=.5, linewidth=0)\n",
        "plt.legend()\n",
        "plt.title('logistic regression')\n",
        "plt.xlabel('penalty')\n",
        "plt.ylabel('mean test score')\n",
        "plt.axis([0,3,0.55,0.61])\n",
        "plt.scatter(xs, means, color='black', s=40, marker='o')\n",
        "plt.scatter(xs, means+3*stds, color='gray', s=40, marker='o')\n",
        "plt.scatter(xs, means-3*stds, color='gray', s=40, marker='o')\n",
        "\n",
        "plt.show()\n",
        "print('best estimator: ',lr_grid_searcher.best_params_)\n",
        "print(\"its score: {:.4f}\".format( lr_grid_searcher.best_score_))"
      ],
      "metadata": {
        "colab": {
          "base_uri": "https://localhost:8080/",
          "height": 439
        },
        "id": "UE9w22htrPQe",
        "outputId": "0a01d742-3710-45d6-9f59-eb384b42cacf"
      },
      "execution_count": 234,
      "outputs": [
        {
          "output_type": "display_data",
          "data": {
            "text/plain": [
              "<Figure size 720x432 with 1 Axes>"
            ],
            "image/png": "[encoded data removed]"
          },
          "metadata": {
            "needs_background": "light"
          }
        },
        {
          "output_type": "stream",
          "name": "stdout",
          "text": [
            "best estimator:  {'penalty': 'l2'}\n",
            "its score: 0.5792\n"
          ]
        }
      ]
    },
    {
      "cell_type": "markdown",
      "source": [
        "**Random Forest**"
      ],
      "metadata": {
        "id": "yw_4MZ9qw7gg"
      }
    },
    {
      "cell_type": "code",
      "source": [
        "rf_clf = RandomForestClassifier()\n",
        "n_estim = {\n",
        "    \"n_estimators\":  np.arange(1,201)\n",
        "}\n",
        "rf_grid_searcher = GridSearchCV(rf_clf, n_estim, cv=5, return_train_score=True)\n",
        "rf_grid_searcher.fit(X_train, y_train)\n"
      ],
      "metadata": {
        "colab": {
          "base_uri": "https://localhost:8080/"
        },
        "id": "a_o16Tnum2qU",
        "outputId": "57caf464-7512-4c67-c43c-fd7a68dc3507"
      },
      "execution_count": 60,
      "outputs": [
        {
          "output_type": "execute_result",
          "data": {
            "text/plain": [
              "GridSearchCV(cv=5, estimator=RandomForestClassifier(),\n",
              "             param_grid={'n_estimators': array([  1,   2,   3,   4,   5,   6,   7,   8,   9,  10,  11,  12,  13,\n",
              "        14,  15,  16,  17,  18,  19,  20,  21,  22,  23,  24,  25,  26,\n",
              "        27,  28,  29,  30,  31,  32,  33,  34,  35,  36,  37,  38,  39,\n",
              "        40,  41,  42,  43,  44,  45,  46,  47,  48,  49,  50,  51,  52,\n",
              "        53,  54,  55,  56,  57,  58,  59,  60,  61,  62,  63,  64,  65,\n",
              "        66,  67,  68,  69,  70,  71,  72,  73,  74,  75,  76,  77,  78,\n",
              "        79,  80,  81,  82,  83,  84,  85,  86,  87,  88,  89,  90,  91...\n",
              "       118, 119, 120, 121, 122, 123, 124, 125, 126, 127, 128, 129, 130,\n",
              "       131, 132, 133, 134, 135, 136, 137, 138, 139, 140, 141, 142, 143,\n",
              "       144, 145, 146, 147, 148, 149, 150, 151, 152, 153, 154, 155, 156,\n",
              "       157, 158, 159, 160, 161, 162, 163, 164, 165, 166, 167, 168, 169,\n",
              "       170, 171, 172, 173, 174, 175, 176, 177, 178, 179, 180, 181, 182,\n",
              "       183, 184, 185, 186, 187, 188, 189, 190, 191, 192, 193, 194, 195,\n",
              "       196, 197, 198, 199, 200])},\n",
              "             return_train_score=True)"
            ]
          },
          "metadata": {},
          "execution_count": 60
        }
      ]
    },
    {
      "cell_type": "code",
      "source": [
        "means = rf_grid_searcher.cv_results_['mean_test_score']\n",
        "stds = rf_grid_searcher.cv_results_['std_test_score']\n",
        "plt.figure(figsize=(10, 6))\n",
        "xs = rf_grid_searcher.param_grid[\"n_estimators\"]\n",
        "plt.plot(xs, means,label='random forest model score')\n",
        "plt.fill_between(xs, means-3*stds, means+3*stds, alpha=.5, linewidth=0)\n",
        "plt.legend()\n",
        "plt.title('random forest')\n",
        "plt.xlabel('number of trees in the foreset')\n",
        "plt.ylabel('mean test score')\n",
        "plt.show()\n",
        "print('best estimator: ',rf_grid_searcher.best_params_)\n",
        "print('its score: ', rf_grid_searcher.best_score_)"
      ],
      "metadata": {
        "colab": {
          "base_uri": "https://localhost:8080/",
          "height": 439
        },
        "id": "q3xwBaRopgZ2",
        "outputId": "b4b2a2e6-5888-4a9f-c64f-0ee7b8509fb6"
      },
      "execution_count": 62,
      "outputs": [
        {
          "output_type": "display_data",
          "data": {
            "text/plain": [
              "<Figure size 720x432 with 1 Axes>"
            ],
            "image/png": "[encoded data removed]"
          },
          "metadata": {
            "needs_background": "light"
          }
        },
        {
          "output_type": "stream",
          "name": "stdout",
          "text": [
            "best estimator:  {'n_estimators': 150}\n",
            "its score:  0.6802\n"
          ]
        }
      ]
    },
    {
      "cell_type": "markdown",
      "metadata": {
        "id": "Yy6xd1bf9WgF"
      },
      "source": [
        "**Task 2.3 [3 points] 2-D Grid Search**\n",
        "\n",
        "Now it's time to improve the models with a 2-D grid search. For each classifier we will look for an optimal **pair** of hyperparameters. However, going through the whole grid may be computationally expensive, so here are some ways to speed it up:\n",
        "\n",
        "1. Make sparse grids with fewer number of parameters\n",
        "2. Choose random subsample from grid points and look for the optimum there\n",
        "3. Reduce number of folds in cross-validation\n",
        "4. Make a greedy grid search (use two grid-searchers sequentially)\n",
        "\n",
        "You have 4 models, 4 methods how to make grid search faster, choose one method per model and try it out.\n",
        "Report whether you got boost in quality.\n",
        "\n",
        "Here are default 2-D grids:\n",
        "- kNN:\n",
        "    - n_neighbors from 1 to 50\n",
        "    - metric: `euclidean`, `manhattan` or `chebyshev`\n",
        "    \n",
        "- linear\n",
        "    - penalty `l1`, `l2`, `elasticnet`, `none`\n",
        "    - C from 0.001 to 1000\n",
        "    \n",
        "- dtree:\n",
        "    - max_depth from 1 to 50\n",
        "    - criterion `gini` or `entropy`\n",
        "\n",
        "- rf\n",
        "    - n_estimators from 1 to 200\n",
        "    - max_features from 1 to 30"
      ]
    },
    {
      "cell_type": "markdown",
      "source": [
        "**knn** - Reduce number of folds in cross-validation\n",
        "\n",
        "- n_neighbors from 1 to 50\n",
        "- metric: `euclidean`, `manhattan` or `chebyshev`"
      ],
      "metadata": {
        "id": "VuQw7M9EsjRe"
      }
    },
    {
      "cell_type": "code",
      "source": [
        "knn_clf = KNeighborsClassifier()\n",
        "knn_grid = {\n",
        "    \"n_neighbors\": np.arange(1,51), \"metric\": ['euclidean', 'manhattan', 'chebyshev']\n",
        "}\n",
        "knn_grid_searcher = GridSearchCV(knn_clf,knn_grid, cv=3, return_train_score=True)\n",
        "knn_grid_searcher.fit(X_train, y_train)\n",
        "print('best estimator: ',knn_grid_searcher.best_params_)\n",
        "print(\"its score: {:.4f}\".format( knn_grid_searcher.best_score_))"
      ],
      "metadata": {
        "colab": {
          "base_uri": "https://localhost:8080/"
        },
        "id": "I4o7lAWWsI6K",
        "outputId": "2878fabc-48b0-41af-c113-2fcd81aa67a3"
      },
      "execution_count": 12,
      "outputs": [
        {
          "output_type": "stream",
          "name": "stdout",
          "text": [
            "best estimator:  {'metric': 'manhattan', 'n_neighbors': 45}\n",
            "its score: 0.6197\n"
          ]
        }
      ]
    },
    {
      "cell_type": "markdown",
      "source": [
        "**lr** - Choose random subsample from grid points and look for the optimum there\n",
        "\n",
        "- penalty `l1`, `l2`, `elasticnet`, `none`\n",
        "- C from 0.001 to 1000"
      ],
      "metadata": {
        "id": "Hia_oCsjfPYA"
      }
    },
    {
      "cell_type": "code",
      "source": [
        "import random\n",
        "lr_clf = LogisticRegression(solver='saga', l1_ratio=0.5)\n",
        "list=('l1', 'l2', 'elasticnet', 'none')\n",
        "m=random.sample(range(0, 3), 2)\n",
        "C1=random.sample(range(1, 950),1)\n",
        "C2=random.sample(range(0, 50),1)\n",
        "lr_grid = {\n",
        "    \"penalty\": (list[m[0]], list[m[1]]),\n",
        "    \"C\": np.arange(C1[0], C1[0]+C2[0])\n",
        "}\n",
        "print(lr_grid)\n",
        "lr_grid_searcher = GridSearchCV(lr_clf, lr_grid , cv=5, return_train_score=True)\n",
        "lr_grid_searcher.fit(X_train, y_train)\n",
        "print('best estimator: ',lr_grid_searcher.best_params_)\n",
        "print(\"its score: {:.4f}\".format( lr_grid_searcher.best_score_))"
      ],
      "metadata": {
        "colab": {
          "base_uri": "https://localhost:8080/"
        },
        "id": "ARzOp7RAhlEU",
        "outputId": "6c2d6811-698e-425b-feb4-abdfc711be69"
      },
      "execution_count": 16,
      "outputs": [
        {
          "output_type": "stream",
          "name": "stdout",
          "text": [
            "{'penalty': ('elasticnet', 'l2'), 'C': array([755, 756, 757, 758, 759, 760, 761, 762, 763, 764, 765, 766, 767,\n",
            "       768, 769, 770, 771, 772, 773])}\n"
          ]
        },
        {
          "output_type": "stream",
          "name": "stderr",
          "text": [
            "/usr/local/lib/python3.8/dist-packages/sklearn/linear_model/_sag.py:352: ConvergenceWarning: The max_iter was reached which means the coef_ did not converge\n",
            "  warnings.warn(\n",
            "/usr/local/lib/python3.8/dist-packages/sklearn/linear_model/_sag.py:352: ConvergenceWarning: The max_iter was reached which means the coef_ did not converge\n",
            "  warnings.warn(\n",
            "/usr/local/lib/python3.8/dist-packages/sklearn/linear_model/_sag.py:352: ConvergenceWarning: The max_iter was reached which means the coef_ did not converge\n",
            "  warnings.warn(\n",
            "/usr/local/lib/python3.8/dist-packages/sklearn/linear_model/_sag.py:352: ConvergenceWarning: The max_iter was reached which means the coef_ did not converge\n",
            "  warnings.warn(\n",
            "/usr/local/lib/python3.8/dist-packages/sklearn/linear_model/_sag.py:352: ConvergenceWarning: The max_iter was reached which means the coef_ did not converge\n",
            "  warnings.warn(\n",
            "/usr/local/lib/python3.8/dist-packages/sklearn/linear_model/_logistic.py:1476: UserWarning: l1_ratio parameter is only used when penalty is 'elasticnet'. Got (penalty=l2)\n",
            "  warnings.warn(\n",
            "/usr/local/lib/python3.8/dist-packages/sklearn/linear_model/_sag.py:352: ConvergenceWarning: The max_iter was reached which means the coef_ did not converge\n",
            "  warnings.warn(\n",
            "/usr/local/lib/python3.8/dist-packages/sklearn/linear_model/_logistic.py:1476: UserWarning: l1_ratio parameter is only used when penalty is 'elasticnet'. Got (penalty=l2)\n",
            "  warnings.warn(\n",
            "/usr/local/lib/python3.8/dist-packages/sklearn/linear_model/_sag.py:352: ConvergenceWarning: The max_iter was reached which means the coef_ did not converge\n",
            "  warnings.warn(\n",
            "/usr/local/lib/python3.8/dist-packages/sklearn/linear_model/_logistic.py:1476: UserWarning: l1_ratio parameter is only used when penalty is 'elasticnet'. Got (penalty=l2)\n",
            "  warnings.warn(\n",
            "/usr/local/lib/python3.8/dist-packages/sklearn/linear_model/_sag.py:352: ConvergenceWarning: The max_iter was reached which means the coef_ did not converge\n",
            "  warnings.warn(\n",
            "/usr/local/lib/python3.8/dist-packages/sklearn/linear_model/_logistic.py:1476: UserWarning: l1_ratio parameter is only used when penalty is 'elasticnet'. Got (penalty=l2)\n",
            "  warnings.warn(\n",
            "/usr/local/lib/python3.8/dist-packages/sklearn/linear_model/_sag.py:352: ConvergenceWarning: The max_iter was reached which means the coef_ did not converge\n",
            "  warnings.warn(\n",
            "/usr/local/lib/python3.8/dist-packages/sklearn/linear_model/_logistic.py:1476: UserWarning: l1_ratio parameter is only used when penalty is 'elasticnet'. Got (penalty=l2)\n",
            "  warnings.warn(\n",
            "/usr/local/lib/python3.8/dist-packages/sklearn/linear_model/_sag.py:352: ConvergenceWarning: The max_iter was reached which means the coef_ did not converge\n",
            "  warnings.warn(\n",
            "/usr/local/lib/python3.8/dist-packages/sklearn/linear_model/_sag.py:352: ConvergenceWarning: The max_iter was reached which means the coef_ did not converge\n",
            "  warnings.warn(\n",
            "/usr/local/lib/python3.8/dist-packages/sklearn/linear_model/_sag.py:352: ConvergenceWarning: The max_iter was reached which means the coef_ did not converge\n",
            "  warnings.warn(\n",
            "/usr/local/lib/python3.8/dist-packages/sklearn/linear_model/_sag.py:352: ConvergenceWarning: The max_iter was reached which means the coef_ did not converge\n",
            "  warnings.warn(\n",
            "/usr/local/lib/python3.8/dist-packages/sklearn/linear_model/_sag.py:352: ConvergenceWarning: The max_iter was reached which means the coef_ did not converge\n",
            "  warnings.warn(\n",
            "/usr/local/lib/python3.8/dist-packages/sklearn/linear_model/_sag.py:352: ConvergenceWarning: The max_iter was reached which means the coef_ did not converge\n",
            "  warnings.warn(\n",
            "/usr/local/lib/python3.8/dist-packages/sklearn/linear_model/_logistic.py:1476: UserWarning: l1_ratio parameter is only used when penalty is 'elasticnet'. Got (penalty=l2)\n",
            "  warnings.warn(\n",
            "/usr/local/lib/python3.8/dist-packages/sklearn/linear_model/_sag.py:352: ConvergenceWarning: The max_iter was reached which means the coef_ did not converge\n",
            "  warnings.warn(\n",
            "/usr/local/lib/python3.8/dist-packages/sklearn/linear_model/_logistic.py:1476: UserWarning: l1_ratio parameter is only used when penalty is 'elasticnet'. Got (penalty=l2)\n",
            "  warnings.warn(\n",
            "/usr/local/lib/python3.8/dist-packages/sklearn/linear_model/_sag.py:352: ConvergenceWarning: The max_iter was reached which means the coef_ did not converge\n",
            "  warnings.warn(\n",
            "/usr/local/lib/python3.8/dist-packages/sklearn/linear_model/_logistic.py:1476: UserWarning: l1_ratio parameter is only used when penalty is 'elasticnet'. Got (penalty=l2)\n",
            "  warnings.warn(\n",
            "/usr/local/lib/python3.8/dist-packages/sklearn/linear_model/_sag.py:352: ConvergenceWarning: The max_iter was reached which means the coef_ did not converge\n",
            "  warnings.warn(\n",
            "/usr/local/lib/python3.8/dist-packages/sklearn/linear_model/_logistic.py:1476: UserWarning: l1_ratio parameter is only used when penalty is 'elasticnet'. Got (penalty=l2)\n",
            "  warnings.warn(\n",
            "/usr/local/lib/python3.8/dist-packages/sklearn/linear_model/_sag.py:352: ConvergenceWarning: The max_iter was reached which means the coef_ did not converge\n",
            "  warnings.warn(\n",
            "/usr/local/lib/python3.8/dist-packages/sklearn/linear_model/_logistic.py:1476: UserWarning: l1_ratio parameter is only used when penalty is 'elasticnet'. Got (penalty=l2)\n",
            "  warnings.warn(\n",
            "/usr/local/lib/python3.8/dist-packages/sklearn/linear_model/_sag.py:352: ConvergenceWarning: The max_iter was reached which means the coef_ did not converge\n",
            "  warnings.warn(\n",
            "/usr/local/lib/python3.8/dist-packages/sklearn/linear_model/_sag.py:352: ConvergenceWarning: The max_iter was reached which means the coef_ did not converge\n",
            "  warnings.warn(\n",
            "/usr/local/lib/python3.8/dist-packages/sklearn/linear_model/_sag.py:352: ConvergenceWarning: The max_iter was reached which means the coef_ did not converge\n",
            "  warnings.warn(\n",
            "/usr/local/lib/python3.8/dist-packages/sklearn/linear_model/_sag.py:352: ConvergenceWarning: The max_iter was reached which means the coef_ did not converge\n",
            "  warnings.warn(\n",
            "/usr/local/lib/python3.8/dist-packages/sklearn/linear_model/_sag.py:352: ConvergenceWarning: The max_iter was reached which means the coef_ did not converge\n",
            "  warnings.warn(\n",
            "/usr/local/lib/python3.8/dist-packages/sklearn/linear_model/_sag.py:352: ConvergenceWarning: The max_iter was reached which means the coef_ did not converge\n",
            "  warnings.warn(\n",
            "/usr/local/lib/python3.8/dist-packages/sklearn/linear_model/_logistic.py:1476: UserWarning: l1_ratio parameter is only used when penalty is 'elasticnet'. Got (penalty=l2)\n",
            "  warnings.warn(\n",
            "/usr/local/lib/python3.8/dist-packages/sklearn/linear_model/_sag.py:352: ConvergenceWarning: The max_iter was reached which means the coef_ did not converge\n",
            "  warnings.warn(\n",
            "/usr/local/lib/python3.8/dist-packages/sklearn/linear_model/_logistic.py:1476: UserWarning: l1_ratio parameter is only used when penalty is 'elasticnet'. Got (penalty=l2)\n",
            "  warnings.warn(\n",
            "/usr/local/lib/python3.8/dist-packages/sklearn/linear_model/_sag.py:352: ConvergenceWarning: The max_iter was reached which means the coef_ did not converge\n",
            "  warnings.warn(\n",
            "/usr/local/lib/python3.8/dist-packages/sklearn/linear_model/_logistic.py:1476: UserWarning: l1_ratio parameter is only used when penalty is 'elasticnet'. Got (penalty=l2)\n",
            "  warnings.warn(\n",
            "/usr/local/lib/python3.8/dist-packages/sklearn/linear_model/_sag.py:352: ConvergenceWarning: The max_iter was reached which means the coef_ did not converge\n",
            "  warnings.warn(\n",
            "/usr/local/lib/python3.8/dist-packages/sklearn/linear_model/_logistic.py:1476: UserWarning: l1_ratio parameter is only used when penalty is 'elasticnet'. Got (penalty=l2)\n",
            "  warnings.warn(\n",
            "/usr/local/lib/python3.8/dist-packages/sklearn/linear_model/_sag.py:352: ConvergenceWarning: The max_iter was reached which means the coef_ did not converge\n",
            "  warnings.warn(\n",
            "/usr/local/lib/python3.8/dist-packages/sklearn/linear_model/_logistic.py:1476: UserWarning: l1_ratio parameter is only used when penalty is 'elasticnet'. Got (penalty=l2)\n",
            "  warnings.warn(\n",
            "/usr/local/lib/python3.8/dist-packages/sklearn/linear_model/_sag.py:352: ConvergenceWarning: The max_iter was reached which means the coef_ did not converge\n",
            "  warnings.warn(\n",
            "/usr/local/lib/python3.8/dist-packages/sklearn/linear_model/_sag.py:352: ConvergenceWarning: The max_iter was reached which means the coef_ did not converge\n",
            "  warnings.warn(\n",
            "/usr/local/lib/python3.8/dist-packages/sklearn/linear_model/_sag.py:352: ConvergenceWarning: The max_iter was reached which means the coef_ did not converge\n",
            "  warnings.warn(\n",
            "/usr/local/lib/python3.8/dist-packages/sklearn/linear_model/_sag.py:352: ConvergenceWarning: The max_iter was reached which means the coef_ did not converge\n",
            "  warnings.warn(\n",
            "/usr/local/lib/python3.8/dist-packages/sklearn/linear_model/_sag.py:352: ConvergenceWarning: The max_iter was reached which means the coef_ did not converge\n",
            "  warnings.warn(\n",
            "/usr/local/lib/python3.8/dist-packages/sklearn/linear_model/_sag.py:352: ConvergenceWarning: The max_iter was reached which means the coef_ did not converge\n",
            "  warnings.warn(\n",
            "/usr/local/lib/python3.8/dist-packages/sklearn/linear_model/_logistic.py:1476: UserWarning: l1_ratio parameter is only used when penalty is 'elasticnet'. Got (penalty=l2)\n",
            "  warnings.warn(\n",
            "/usr/local/lib/python3.8/dist-packages/sklearn/linear_model/_sag.py:352: ConvergenceWarning: The max_iter was reached which means the coef_ did not converge\n",
            "  warnings.warn(\n",
            "/usr/local/lib/python3.8/dist-packages/sklearn/linear_model/_logistic.py:1476: UserWarning: l1_ratio parameter is only used when penalty is 'elasticnet'. Got (penalty=l2)\n",
            "  warnings.warn(\n",
            "/usr/local/lib/python3.8/dist-packages/sklearn/linear_model/_sag.py:352: ConvergenceWarning: The max_iter was reached which means the coef_ did not converge\n",
            "  warnings.warn(\n",
            "/usr/local/lib/python3.8/dist-packages/sklearn/linear_model/_logistic.py:1476: UserWarning: l1_ratio parameter is only used when penalty is 'elasticnet'. Got (penalty=l2)\n",
            "  warnings.warn(\n",
            "/usr/local/lib/python3.8/dist-packages/sklearn/linear_model/_sag.py:352: ConvergenceWarning: The max_iter was reached which means the coef_ did not converge\n",
            "  warnings.warn(\n",
            "/usr/local/lib/python3.8/dist-packages/sklearn/linear_model/_logistic.py:1476: UserWarning: l1_ratio parameter is only used when penalty is 'elasticnet'. Got (penalty=l2)\n",
            "  warnings.warn(\n",
            "/usr/local/lib/python3.8/dist-packages/sklearn/linear_model/_sag.py:352: ConvergenceWarning: The max_iter was reached which means the coef_ did not converge\n",
            "  warnings.warn(\n",
            "/usr/local/lib/python3.8/dist-packages/sklearn/linear_model/_logistic.py:1476: UserWarning: l1_ratio parameter is only used when penalty is 'elasticnet'. Got (penalty=l2)\n",
            "  warnings.warn(\n",
            "/usr/local/lib/python3.8/dist-packages/sklearn/linear_model/_sag.py:352: ConvergenceWarning: The max_iter was reached which means the coef_ did not converge\n",
            "  warnings.warn(\n",
            "/usr/local/lib/python3.8/dist-packages/sklearn/linear_model/_sag.py:352: ConvergenceWarning: The max_iter was reached which means the coef_ did not converge\n",
            "  warnings.warn(\n",
            "/usr/local/lib/python3.8/dist-packages/sklearn/linear_model/_sag.py:352: ConvergenceWarning: The max_iter was reached which means the coef_ did not converge\n",
            "  warnings.warn(\n",
            "/usr/local/lib/python3.8/dist-packages/sklearn/linear_model/_sag.py:352: ConvergenceWarning: The max_iter was reached which means the coef_ did not converge\n",
            "  warnings.warn(\n",
            "/usr/local/lib/python3.8/dist-packages/sklearn/linear_model/_sag.py:352: ConvergenceWarning: The max_iter was reached which means the coef_ did not converge\n",
            "  warnings.warn(\n",
            "/usr/local/lib/python3.8/dist-packages/sklearn/linear_model/_sag.py:352: ConvergenceWarning: The max_iter was reached which means the coef_ did not converge\n",
            "  warnings.warn(\n",
            "/usr/local/lib/python3.8/dist-packages/sklearn/linear_model/_logistic.py:1476: UserWarning: l1_ratio parameter is only used when penalty is 'elasticnet'. Got (penalty=l2)\n",
            "  warnings.warn(\n",
            "/usr/local/lib/python3.8/dist-packages/sklearn/linear_model/_sag.py:352: ConvergenceWarning: The max_iter was reached which means the coef_ did not converge\n",
            "  warnings.warn(\n",
            "/usr/local/lib/python3.8/dist-packages/sklearn/linear_model/_logistic.py:1476: UserWarning: l1_ratio parameter is only used when penalty is 'elasticnet'. Got (penalty=l2)\n",
            "  warnings.warn(\n",
            "/usr/local/lib/python3.8/dist-packages/sklearn/linear_model/_sag.py:352: ConvergenceWarning: The max_iter was reached which means the coef_ did not converge\n",
            "  warnings.warn(\n",
            "/usr/local/lib/python3.8/dist-packages/sklearn/linear_model/_logistic.py:1476: UserWarning: l1_ratio parameter is only used when penalty is 'elasticnet'. Got (penalty=l2)\n",
            "  warnings.warn(\n",
            "/usr/local/lib/python3.8/dist-packages/sklearn/linear_model/_sag.py:352: ConvergenceWarning: The max_iter was reached which means the coef_ did not converge\n",
            "  warnings.warn(\n",
            "/usr/local/lib/python3.8/dist-packages/sklearn/linear_model/_logistic.py:1476: UserWarning: l1_ratio parameter is only used when penalty is 'elasticnet'. Got (penalty=l2)\n",
            "  warnings.warn(\n",
            "/usr/local/lib/python3.8/dist-packages/sklearn/linear_model/_sag.py:352: ConvergenceWarning: The max_iter was reached which means the coef_ did not converge\n",
            "  warnings.warn(\n",
            "/usr/local/lib/python3.8/dist-packages/sklearn/linear_model/_logistic.py:1476: UserWarning: l1_ratio parameter is only used when penalty is 'elasticnet'. Got (penalty=l2)\n",
            "  warnings.warn(\n",
            "/usr/local/lib/python3.8/dist-packages/sklearn/linear_model/_sag.py:352: ConvergenceWarning: The max_iter was reached which means the coef_ did not converge\n",
            "  warnings.warn(\n",
            "/usr/local/lib/python3.8/dist-packages/sklearn/linear_model/_sag.py:352: ConvergenceWarning: The max_iter was reached which means the coef_ did not converge\n",
            "  warnings.warn(\n",
            "/usr/local/lib/python3.8/dist-packages/sklearn/linear_model/_sag.py:352: ConvergenceWarning: The max_iter was reached which means the coef_ did not converge\n",
            "  warnings.warn(\n",
            "/usr/local/lib/python3.8/dist-packages/sklearn/linear_model/_sag.py:352: ConvergenceWarning: The max_iter was reached which means the coef_ did not converge\n",
            "  warnings.warn(\n",
            "/usr/local/lib/python3.8/dist-packages/sklearn/linear_model/_sag.py:352: ConvergenceWarning: The max_iter was reached which means the coef_ did not converge\n",
            "  warnings.warn(\n",
            "/usr/local/lib/python3.8/dist-packages/sklearn/linear_model/_sag.py:352: ConvergenceWarning: The max_iter was reached which means the coef_ did not converge\n",
            "  warnings.warn(\n",
            "/usr/local/lib/python3.8/dist-packages/sklearn/linear_model/_logistic.py:1476: UserWarning: l1_ratio parameter is only used when penalty is 'elasticnet'. Got (penalty=l2)\n",
            "  warnings.warn(\n",
            "/usr/local/lib/python3.8/dist-packages/sklearn/linear_model/_sag.py:352: ConvergenceWarning: The max_iter was reached which means the coef_ did not converge\n",
            "  warnings.warn(\n",
            "/usr/local/lib/python3.8/dist-packages/sklearn/linear_model/_logistic.py:1476: UserWarning: l1_ratio parameter is only used when penalty is 'elasticnet'. Got (penalty=l2)\n",
            "  warnings.warn(\n",
            "/usr/local/lib/python3.8/dist-packages/sklearn/linear_model/_sag.py:352: ConvergenceWarning: The max_iter was reached which means the coef_ did not converge\n",
            "  warnings.warn(\n",
            "/usr/local/lib/python3.8/dist-packages/sklearn/linear_model/_logistic.py:1476: UserWarning: l1_ratio parameter is only used when penalty is 'elasticnet'. Got (penalty=l2)\n",
            "  warnings.warn(\n",
            "/usr/local/lib/python3.8/dist-packages/sklearn/linear_model/_sag.py:352: ConvergenceWarning: The max_iter was reached which means the coef_ did not converge\n",
            "  warnings.warn(\n",
            "/usr/local/lib/python3.8/dist-packages/sklearn/linear_model/_logistic.py:1476: UserWarning: l1_ratio parameter is only used when penalty is 'elasticnet'. Got (penalty=l2)\n",
            "  warnings.warn(\n",
            "/usr/local/lib/python3.8/dist-packages/sklearn/linear_model/_sag.py:352: ConvergenceWarning: The max_iter was reached which means the coef_ did not converge\n",
            "  warnings.warn(\n",
            "/usr/local/lib/python3.8/dist-packages/sklearn/linear_model/_logistic.py:1476: UserWarning: l1_ratio parameter is only used when penalty is 'elasticnet'. Got (penalty=l2)\n",
            "  warnings.warn(\n",
            "/usr/local/lib/python3.8/dist-packages/sklearn/linear_model/_sag.py:352: ConvergenceWarning: The max_iter was reached which means the coef_ did not converge\n",
            "  warnings.warn(\n",
            "/usr/local/lib/python3.8/dist-packages/sklearn/linear_model/_sag.py:352: ConvergenceWarning: The max_iter was reached which means the coef_ did not converge\n",
            "  warnings.warn(\n",
            "/usr/local/lib/python3.8/dist-packages/sklearn/linear_model/_sag.py:352: ConvergenceWarning: The max_iter was reached which means the coef_ did not converge\n",
            "  warnings.warn(\n",
            "/usr/local/lib/python3.8/dist-packages/sklearn/linear_model/_sag.py:352: ConvergenceWarning: The max_iter was reached which means the coef_ did not converge\n",
            "  warnings.warn(\n",
            "/usr/local/lib/python3.8/dist-packages/sklearn/linear_model/_sag.py:352: ConvergenceWarning: The max_iter was reached which means the coef_ did not converge\n",
            "  warnings.warn(\n",
            "/usr/local/lib/python3.8/dist-packages/sklearn/linear_model/_sag.py:352: ConvergenceWarning: The max_iter was reached which means the coef_ did not converge\n",
            "  warnings.warn(\n",
            "/usr/local/lib/python3.8/dist-packages/sklearn/linear_model/_logistic.py:1476: UserWarning: l1_ratio parameter is only used when penalty is 'elasticnet'. Got (penalty=l2)\n",
            "  warnings.warn(\n",
            "/usr/local/lib/python3.8/dist-packages/sklearn/linear_model/_sag.py:352: ConvergenceWarning: The max_iter was reached which means the coef_ did not converge\n",
            "  warnings.warn(\n",
            "/usr/local/lib/python3.8/dist-packages/sklearn/linear_model/_logistic.py:1476: UserWarning: l1_ratio parameter is only used when penalty is 'elasticnet'. Got (penalty=l2)\n",
            "  warnings.warn(\n",
            "/usr/local/lib/python3.8/dist-packages/sklearn/linear_model/_sag.py:352: ConvergenceWarning: The max_iter was reached which means the coef_ did not converge\n",
            "  warnings.warn(\n",
            "/usr/local/lib/python3.8/dist-packages/sklearn/linear_model/_logistic.py:1476: UserWarning: l1_ratio parameter is only used when penalty is 'elasticnet'. Got (penalty=l2)\n",
            "  warnings.warn(\n",
            "/usr/local/lib/python3.8/dist-packages/sklearn/linear_model/_sag.py:352: ConvergenceWarning: The max_iter was reached which means the coef_ did not converge\n",
            "  warnings.warn(\n",
            "/usr/local/lib/python3.8/dist-packages/sklearn/linear_model/_logistic.py:1476: UserWarning: l1_ratio parameter is only used when penalty is 'elasticnet'. Got (penalty=l2)\n",
            "  warnings.warn(\n",
            "/usr/local/lib/python3.8/dist-packages/sklearn/linear_model/_sag.py:352: ConvergenceWarning: The max_iter was reached which means the coef_ did not converge\n",
            "  warnings.warn(\n",
            "/usr/local/lib/python3.8/dist-packages/sklearn/linear_model/_logistic.py:1476: UserWarning: l1_ratio parameter is only used when penalty is 'elasticnet'. Got (penalty=l2)\n",
            "  warnings.warn(\n",
            "/usr/local/lib/python3.8/dist-packages/sklearn/linear_model/_sag.py:352: ConvergenceWarning: The max_iter was reached which means the coef_ did not converge\n",
            "  warnings.warn(\n",
            "/usr/local/lib/python3.8/dist-packages/sklearn/linear_model/_sag.py:352: ConvergenceWarning: The max_iter was reached which means the coef_ did not converge\n",
            "  warnings.warn(\n",
            "/usr/local/lib/python3.8/dist-packages/sklearn/linear_model/_sag.py:352: ConvergenceWarning: The max_iter was reached which means the coef_ did not converge\n",
            "  warnings.warn(\n",
            "/usr/local/lib/python3.8/dist-packages/sklearn/linear_model/_sag.py:352: ConvergenceWarning: The max_iter was reached which means the coef_ did not converge\n",
            "  warnings.warn(\n",
            "/usr/local/lib/python3.8/dist-packages/sklearn/linear_model/_sag.py:352: ConvergenceWarning: The max_iter was reached which means the coef_ did not converge\n",
            "  warnings.warn(\n",
            "/usr/local/lib/python3.8/dist-packages/sklearn/linear_model/_sag.py:352: ConvergenceWarning: The max_iter was reached which means the coef_ did not converge\n",
            "  warnings.warn(\n",
            "/usr/local/lib/python3.8/dist-packages/sklearn/linear_model/_logistic.py:1476: UserWarning: l1_ratio parameter is only used when penalty is 'elasticnet'. Got (penalty=l2)\n",
            "  warnings.warn(\n",
            "/usr/local/lib/python3.8/dist-packages/sklearn/linear_model/_sag.py:352: ConvergenceWarning: The max_iter was reached which means the coef_ did not converge\n",
            "  warnings.warn(\n",
            "/usr/local/lib/python3.8/dist-packages/sklearn/linear_model/_logistic.py:1476: UserWarning: l1_ratio parameter is only used when penalty is 'elasticnet'. Got (penalty=l2)\n",
            "  warnings.warn(\n",
            "/usr/local/lib/python3.8/dist-packages/sklearn/linear_model/_sag.py:352: ConvergenceWarning: The max_iter was reached which means the coef_ did not converge\n",
            "  warnings.warn(\n",
            "/usr/local/lib/python3.8/dist-packages/sklearn/linear_model/_logistic.py:1476: UserWarning: l1_ratio parameter is only used when penalty is 'elasticnet'. Got (penalty=l2)\n",
            "  warnings.warn(\n",
            "/usr/local/lib/python3.8/dist-packages/sklearn/linear_model/_sag.py:352: ConvergenceWarning: The max_iter was reached which means the coef_ did not converge\n",
            "  warnings.warn(\n",
            "/usr/local/lib/python3.8/dist-packages/sklearn/linear_model/_logistic.py:1476: UserWarning: l1_ratio parameter is only used when penalty is 'elasticnet'. Got (penalty=l2)\n",
            "  warnings.warn(\n",
            "/usr/local/lib/python3.8/dist-packages/sklearn/linear_model/_sag.py:352: ConvergenceWarning: The max_iter was reached which means the coef_ did not converge\n",
            "  warnings.warn(\n",
            "/usr/local/lib/python3.8/dist-packages/sklearn/linear_model/_logistic.py:1476: UserWarning: l1_ratio parameter is only used when penalty is 'elasticnet'. Got (penalty=l2)\n",
            "  warnings.warn(\n",
            "/usr/local/lib/python3.8/dist-packages/sklearn/linear_model/_sag.py:352: ConvergenceWarning: The max_iter was reached which means the coef_ did not converge\n",
            "  warnings.warn(\n",
            "/usr/local/lib/python3.8/dist-packages/sklearn/linear_model/_sag.py:352: ConvergenceWarning: The max_iter was reached which means the coef_ did not converge\n",
            "  warnings.warn(\n",
            "/usr/local/lib/python3.8/dist-packages/sklearn/linear_model/_sag.py:352: ConvergenceWarning: The max_iter was reached which means the coef_ did not converge\n",
            "  warnings.warn(\n",
            "/usr/local/lib/python3.8/dist-packages/sklearn/linear_model/_sag.py:352: ConvergenceWarning: The max_iter was reached which means the coef_ did not converge\n",
            "  warnings.warn(\n",
            "/usr/local/lib/python3.8/dist-packages/sklearn/linear_model/_sag.py:352: ConvergenceWarning: The max_iter was reached which means the coef_ did not converge\n",
            "  warnings.warn(\n",
            "/usr/local/lib/python3.8/dist-packages/sklearn/linear_model/_sag.py:352: ConvergenceWarning: The max_iter was reached which means the coef_ did not converge\n",
            "  warnings.warn(\n",
            "/usr/local/lib/python3.8/dist-packages/sklearn/linear_model/_logistic.py:1476: UserWarning: l1_ratio parameter is only used when penalty is 'elasticnet'. Got (penalty=l2)\n",
            "  warnings.warn(\n",
            "/usr/local/lib/python3.8/dist-packages/sklearn/linear_model/_sag.py:352: ConvergenceWarning: The max_iter was reached which means the coef_ did not converge\n",
            "  warnings.warn(\n",
            "/usr/local/lib/python3.8/dist-packages/sklearn/linear_model/_logistic.py:1476: UserWarning: l1_ratio parameter is only used when penalty is 'elasticnet'. Got (penalty=l2)\n",
            "  warnings.warn(\n",
            "/usr/local/lib/python3.8/dist-packages/sklearn/linear_model/_sag.py:352: ConvergenceWarning: The max_iter was reached which means the coef_ did not converge\n",
            "  warnings.warn(\n",
            "/usr/local/lib/python3.8/dist-packages/sklearn/linear_model/_logistic.py:1476: UserWarning: l1_ratio parameter is only used when penalty is 'elasticnet'. Got (penalty=l2)\n",
            "  warnings.warn(\n",
            "/usr/local/lib/python3.8/dist-packages/sklearn/linear_model/_sag.py:352: ConvergenceWarning: The max_iter was reached which means the coef_ did not converge\n",
            "  warnings.warn(\n",
            "/usr/local/lib/python3.8/dist-packages/sklearn/linear_model/_logistic.py:1476: UserWarning: l1_ratio parameter is only used when penalty is 'elasticnet'. Got (penalty=l2)\n",
            "  warnings.warn(\n",
            "/usr/local/lib/python3.8/dist-packages/sklearn/linear_model/_sag.py:352: ConvergenceWarning: The max_iter was reached which means the coef_ did not converge\n",
            "  warnings.warn(\n",
            "/usr/local/lib/python3.8/dist-packages/sklearn/linear_model/_logistic.py:1476: UserWarning: l1_ratio parameter is only used when penalty is 'elasticnet'. Got (penalty=l2)\n",
            "  warnings.warn(\n",
            "/usr/local/lib/python3.8/dist-packages/sklearn/linear_model/_sag.py:352: ConvergenceWarning: The max_iter was reached which means the coef_ did not converge\n",
            "  warnings.warn(\n",
            "/usr/local/lib/python3.8/dist-packages/sklearn/linear_model/_sag.py:352: ConvergenceWarning: The max_iter was reached which means the coef_ did not converge\n",
            "  warnings.warn(\n",
            "/usr/local/lib/python3.8/dist-packages/sklearn/linear_model/_sag.py:352: ConvergenceWarning: The max_iter was reached which means the coef_ did not converge\n",
            "  warnings.warn(\n",
            "/usr/local/lib/python3.8/dist-packages/sklearn/linear_model/_sag.py:352: ConvergenceWarning: The max_iter was reached which means the coef_ did not converge\n",
            "  warnings.warn(\n",
            "/usr/local/lib/python3.8/dist-packages/sklearn/linear_model/_sag.py:352: ConvergenceWarning: The max_iter was reached which means the coef_ did not converge\n",
            "  warnings.warn(\n",
            "/usr/local/lib/python3.8/dist-packages/sklearn/linear_model/_sag.py:352: ConvergenceWarning: The max_iter was reached which means the coef_ did not converge\n",
            "  warnings.warn(\n",
            "/usr/local/lib/python3.8/dist-packages/sklearn/linear_model/_logistic.py:1476: UserWarning: l1_ratio parameter is only used when penalty is 'elasticnet'. Got (penalty=l2)\n",
            "  warnings.warn(\n",
            "/usr/local/lib/python3.8/dist-packages/sklearn/linear_model/_sag.py:352: ConvergenceWarning: The max_iter was reached which means the coef_ did not converge\n",
            "  warnings.warn(\n",
            "/usr/local/lib/python3.8/dist-packages/sklearn/linear_model/_logistic.py:1476: UserWarning: l1_ratio parameter is only used when penalty is 'elasticnet'. Got (penalty=l2)\n",
            "  warnings.warn(\n",
            "/usr/local/lib/python3.8/dist-packages/sklearn/linear_model/_sag.py:352: ConvergenceWarning: The max_iter was reached which means the coef_ did not converge\n",
            "  warnings.warn(\n",
            "/usr/local/lib/python3.8/dist-packages/sklearn/linear_model/_logistic.py:1476: UserWarning: l1_ratio parameter is only used when penalty is 'elasticnet'. Got (penalty=l2)\n",
            "  warnings.warn(\n",
            "/usr/local/lib/python3.8/dist-packages/sklearn/linear_model/_sag.py:352: ConvergenceWarning: The max_iter was reached which means the coef_ did not converge\n",
            "  warnings.warn(\n",
            "/usr/local/lib/python3.8/dist-packages/sklearn/linear_model/_logistic.py:1476: UserWarning: l1_ratio parameter is only used when penalty is 'elasticnet'. Got (penalty=l2)\n",
            "  warnings.warn(\n",
            "/usr/local/lib/python3.8/dist-packages/sklearn/linear_model/_sag.py:352: ConvergenceWarning: The max_iter was reached which means the coef_ did not converge\n",
            "  warnings.warn(\n",
            "/usr/local/lib/python3.8/dist-packages/sklearn/linear_model/_logistic.py:1476: UserWarning: l1_ratio parameter is only used when penalty is 'elasticnet'. Got (penalty=l2)\n",
            "  warnings.warn(\n",
            "/usr/local/lib/python3.8/dist-packages/sklearn/linear_model/_sag.py:352: ConvergenceWarning: The max_iter was reached which means the coef_ did not converge\n",
            "  warnings.warn(\n",
            "/usr/local/lib/python3.8/dist-packages/sklearn/linear_model/_sag.py:352: ConvergenceWarning: The max_iter was reached which means the coef_ did not converge\n",
            "  warnings.warn(\n",
            "/usr/local/lib/python3.8/dist-packages/sklearn/linear_model/_sag.py:352: ConvergenceWarning: The max_iter was reached which means the coef_ did not converge\n",
            "  warnings.warn(\n",
            "/usr/local/lib/python3.8/dist-packages/sklearn/linear_model/_sag.py:352: ConvergenceWarning: The max_iter was reached which means the coef_ did not converge\n",
            "  warnings.warn(\n",
            "/usr/local/lib/python3.8/dist-packages/sklearn/linear_model/_sag.py:352: ConvergenceWarning: The max_iter was reached which means the coef_ did not converge\n",
            "  warnings.warn(\n",
            "/usr/local/lib/python3.8/dist-packages/sklearn/linear_model/_sag.py:352: ConvergenceWarning: The max_iter was reached which means the coef_ did not converge\n",
            "  warnings.warn(\n",
            "/usr/local/lib/python3.8/dist-packages/sklearn/linear_model/_logistic.py:1476: UserWarning: l1_ratio parameter is only used when penalty is 'elasticnet'. Got (penalty=l2)\n",
            "  warnings.warn(\n",
            "/usr/local/lib/python3.8/dist-packages/sklearn/linear_model/_sag.py:352: ConvergenceWarning: The max_iter was reached which means the coef_ did not converge\n",
            "  warnings.warn(\n",
            "/usr/local/lib/python3.8/dist-packages/sklearn/linear_model/_logistic.py:1476: UserWarning: l1_ratio parameter is only used when penalty is 'elasticnet'. Got (penalty=l2)\n",
            "  warnings.warn(\n",
            "/usr/local/lib/python3.8/dist-packages/sklearn/linear_model/_sag.py:352: ConvergenceWarning: The max_iter was reached which means the coef_ did not converge\n",
            "  warnings.warn(\n",
            "/usr/local/lib/python3.8/dist-packages/sklearn/linear_model/_logistic.py:1476: UserWarning: l1_ratio parameter is only used when penalty is 'elasticnet'. Got (penalty=l2)\n",
            "  warnings.warn(\n",
            "/usr/local/lib/python3.8/dist-packages/sklearn/linear_model/_sag.py:352: ConvergenceWarning: The max_iter was reached which means the coef_ did not converge\n",
            "  warnings.warn(\n",
            "/usr/local/lib/python3.8/dist-packages/sklearn/linear_model/_logistic.py:1476: UserWarning: l1_ratio parameter is only used when penalty is 'elasticnet'. Got (penalty=l2)\n",
            "  warnings.warn(\n",
            "/usr/local/lib/python3.8/dist-packages/sklearn/linear_model/_sag.py:352: ConvergenceWarning: The max_iter was reached which means the coef_ did not converge\n",
            "  warnings.warn(\n",
            "/usr/local/lib/python3.8/dist-packages/sklearn/linear_model/_logistic.py:1476: UserWarning: l1_ratio parameter is only used when penalty is 'elasticnet'. Got (penalty=l2)\n",
            "  warnings.warn(\n",
            "/usr/local/lib/python3.8/dist-packages/sklearn/linear_model/_sag.py:352: ConvergenceWarning: The max_iter was reached which means the coef_ did not converge\n",
            "  warnings.warn(\n",
            "/usr/local/lib/python3.8/dist-packages/sklearn/linear_model/_sag.py:352: ConvergenceWarning: The max_iter was reached which means the coef_ did not converge\n",
            "  warnings.warn(\n",
            "/usr/local/lib/python3.8/dist-packages/sklearn/linear_model/_sag.py:352: ConvergenceWarning: The max_iter was reached which means the coef_ did not converge\n",
            "  warnings.warn(\n",
            "/usr/local/lib/python3.8/dist-packages/sklearn/linear_model/_sag.py:352: ConvergenceWarning: The max_iter was reached which means the coef_ did not converge\n",
            "  warnings.warn(\n",
            "/usr/local/lib/python3.8/dist-packages/sklearn/linear_model/_sag.py:352: ConvergenceWarning: The max_iter was reached which means the coef_ did not converge\n",
            "  warnings.warn(\n",
            "/usr/local/lib/python3.8/dist-packages/sklearn/linear_model/_sag.py:352: ConvergenceWarning: The max_iter was reached which means the coef_ did not converge\n",
            "  warnings.warn(\n",
            "/usr/local/lib/python3.8/dist-packages/sklearn/linear_model/_logistic.py:1476: UserWarning: l1_ratio parameter is only used when penalty is 'elasticnet'. Got (penalty=l2)\n",
            "  warnings.warn(\n",
            "/usr/local/lib/python3.8/dist-packages/sklearn/linear_model/_sag.py:352: ConvergenceWarning: The max_iter was reached which means the coef_ did not converge\n",
            "  warnings.warn(\n",
            "/usr/local/lib/python3.8/dist-packages/sklearn/linear_model/_logistic.py:1476: UserWarning: l1_ratio parameter is only used when penalty is 'elasticnet'. Got (penalty=l2)\n",
            "  warnings.warn(\n",
            "/usr/local/lib/python3.8/dist-packages/sklearn/linear_model/_sag.py:352: ConvergenceWarning: The max_iter was reached which means the coef_ did not converge\n",
            "  warnings.warn(\n",
            "/usr/local/lib/python3.8/dist-packages/sklearn/linear_model/_logistic.py:1476: UserWarning: l1_ratio parameter is only used when penalty is 'elasticnet'. Got (penalty=l2)\n",
            "  warnings.warn(\n",
            "/usr/local/lib/python3.8/dist-packages/sklearn/linear_model/_sag.py:352: ConvergenceWarning: The max_iter was reached which means the coef_ did not converge\n",
            "  warnings.warn(\n",
            "/usr/local/lib/python3.8/dist-packages/sklearn/linear_model/_logistic.py:1476: UserWarning: l1_ratio parameter is only used when penalty is 'elasticnet'. Got (penalty=l2)\n",
            "  warnings.warn(\n",
            "/usr/local/lib/python3.8/dist-packages/sklearn/linear_model/_sag.py:352: ConvergenceWarning: The max_iter was reached which means the coef_ did not converge\n",
            "  warnings.warn(\n",
            "/usr/local/lib/python3.8/dist-packages/sklearn/linear_model/_logistic.py:1476: UserWarning: l1_ratio parameter is only used when penalty is 'elasticnet'. Got (penalty=l2)\n",
            "  warnings.warn(\n",
            "/usr/local/lib/python3.8/dist-packages/sklearn/linear_model/_sag.py:352: ConvergenceWarning: The max_iter was reached which means the coef_ did not converge\n",
            "  warnings.warn(\n",
            "/usr/local/lib/python3.8/dist-packages/sklearn/linear_model/_sag.py:352: ConvergenceWarning: The max_iter was reached which means the coef_ did not converge\n",
            "  warnings.warn(\n",
            "/usr/local/lib/python3.8/dist-packages/sklearn/linear_model/_sag.py:352: ConvergenceWarning: The max_iter was reached which means the coef_ did not converge\n",
            "  warnings.warn(\n",
            "/usr/local/lib/python3.8/dist-packages/sklearn/linear_model/_sag.py:352: ConvergenceWarning: The max_iter was reached which means the coef_ did not converge\n",
            "  warnings.warn(\n",
            "/usr/local/lib/python3.8/dist-packages/sklearn/linear_model/_sag.py:352: ConvergenceWarning: The max_iter was reached which means the coef_ did not converge\n",
            "  warnings.warn(\n",
            "/usr/local/lib/python3.8/dist-packages/sklearn/linear_model/_sag.py:352: ConvergenceWarning: The max_iter was reached which means the coef_ did not converge\n",
            "  warnings.warn(\n",
            "/usr/local/lib/python3.8/dist-packages/sklearn/linear_model/_logistic.py:1476: UserWarning: l1_ratio parameter is only used when penalty is 'elasticnet'. Got (penalty=l2)\n",
            "  warnings.warn(\n",
            "/usr/local/lib/python3.8/dist-packages/sklearn/linear_model/_sag.py:352: ConvergenceWarning: The max_iter was reached which means the coef_ did not converge\n",
            "  warnings.warn(\n",
            "/usr/local/lib/python3.8/dist-packages/sklearn/linear_model/_logistic.py:1476: UserWarning: l1_ratio parameter is only used when penalty is 'elasticnet'. Got (penalty=l2)\n",
            "  warnings.warn(\n",
            "/usr/local/lib/python3.8/dist-packages/sklearn/linear_model/_sag.py:352: ConvergenceWarning: The max_iter was reached which means the coef_ did not converge\n",
            "  warnings.warn(\n",
            "/usr/local/lib/python3.8/dist-packages/sklearn/linear_model/_logistic.py:1476: UserWarning: l1_ratio parameter is only used when penalty is 'elasticnet'. Got (penalty=l2)\n",
            "  warnings.warn(\n",
            "/usr/local/lib/python3.8/dist-packages/sklearn/linear_model/_sag.py:352: ConvergenceWarning: The max_iter was reached which means the coef_ did not converge\n",
            "  warnings.warn(\n",
            "/usr/local/lib/python3.8/dist-packages/sklearn/linear_model/_logistic.py:1476: UserWarning: l1_ratio parameter is only used when penalty is 'elasticnet'. Got (penalty=l2)\n",
            "  warnings.warn(\n",
            "/usr/local/lib/python3.8/dist-packages/sklearn/linear_model/_sag.py:352: ConvergenceWarning: The max_iter was reached which means the coef_ did not converge\n",
            "  warnings.warn(\n",
            "/usr/local/lib/python3.8/dist-packages/sklearn/linear_model/_logistic.py:1476: UserWarning: l1_ratio parameter is only used when penalty is 'elasticnet'. Got (penalty=l2)\n",
            "  warnings.warn(\n",
            "/usr/local/lib/python3.8/dist-packages/sklearn/linear_model/_sag.py:352: ConvergenceWarning: The max_iter was reached which means the coef_ did not converge\n",
            "  warnings.warn(\n",
            "/usr/local/lib/python3.8/dist-packages/sklearn/linear_model/_sag.py:352: ConvergenceWarning: The max_iter was reached which means the coef_ did not converge\n",
            "  warnings.warn(\n",
            "/usr/local/lib/python3.8/dist-packages/sklearn/linear_model/_sag.py:352: ConvergenceWarning: The max_iter was reached which means the coef_ did not converge\n",
            "  warnings.warn(\n",
            "/usr/local/lib/python3.8/dist-packages/sklearn/linear_model/_sag.py:352: ConvergenceWarning: The max_iter was reached which means the coef_ did not converge\n",
            "  warnings.warn(\n",
            "/usr/local/lib/python3.8/dist-packages/sklearn/linear_model/_sag.py:352: ConvergenceWarning: The max_iter was reached which means the coef_ did not converge\n",
            "  warnings.warn(\n",
            "/usr/local/lib/python3.8/dist-packages/sklearn/linear_model/_sag.py:352: ConvergenceWarning: The max_iter was reached which means the coef_ did not converge\n",
            "  warnings.warn(\n",
            "/usr/local/lib/python3.8/dist-packages/sklearn/linear_model/_logistic.py:1476: UserWarning: l1_ratio parameter is only used when penalty is 'elasticnet'. Got (penalty=l2)\n",
            "  warnings.warn(\n",
            "/usr/local/lib/python3.8/dist-packages/sklearn/linear_model/_sag.py:352: ConvergenceWarning: The max_iter was reached which means the coef_ did not converge\n",
            "  warnings.warn(\n",
            "/usr/local/lib/python3.8/dist-packages/sklearn/linear_model/_logistic.py:1476: UserWarning: l1_ratio parameter is only used when penalty is 'elasticnet'. Got (penalty=l2)\n",
            "  warnings.warn(\n",
            "/usr/local/lib/python3.8/dist-packages/sklearn/linear_model/_sag.py:352: ConvergenceWarning: The max_iter was reached which means the coef_ did not converge\n",
            "  warnings.warn(\n",
            "/usr/local/lib/python3.8/dist-packages/sklearn/linear_model/_logistic.py:1476: UserWarning: l1_ratio parameter is only used when penalty is 'elasticnet'. Got (penalty=l2)\n",
            "  warnings.warn(\n",
            "/usr/local/lib/python3.8/dist-packages/sklearn/linear_model/_sag.py:352: ConvergenceWarning: The max_iter was reached which means the coef_ did not converge\n",
            "  warnings.warn(\n",
            "/usr/local/lib/python3.8/dist-packages/sklearn/linear_model/_logistic.py:1476: UserWarning: l1_ratio parameter is only used when penalty is 'elasticnet'. Got (penalty=l2)\n",
            "  warnings.warn(\n",
            "/usr/local/lib/python3.8/dist-packages/sklearn/linear_model/_sag.py:352: ConvergenceWarning: The max_iter was reached which means the coef_ did not converge\n",
            "  warnings.warn(\n",
            "/usr/local/lib/python3.8/dist-packages/sklearn/linear_model/_logistic.py:1476: UserWarning: l1_ratio parameter is only used when penalty is 'elasticnet'. Got (penalty=l2)\n",
            "  warnings.warn(\n",
            "/usr/local/lib/python3.8/dist-packages/sklearn/linear_model/_sag.py:352: ConvergenceWarning: The max_iter was reached which means the coef_ did not converge\n",
            "  warnings.warn(\n",
            "/usr/local/lib/python3.8/dist-packages/sklearn/linear_model/_sag.py:352: ConvergenceWarning: The max_iter was reached which means the coef_ did not converge\n",
            "  warnings.warn(\n",
            "/usr/local/lib/python3.8/dist-packages/sklearn/linear_model/_sag.py:352: ConvergenceWarning: The max_iter was reached which means the coef_ did not converge\n",
            "  warnings.warn(\n",
            "/usr/local/lib/python3.8/dist-packages/sklearn/linear_model/_sag.py:352: ConvergenceWarning: The max_iter was reached which means the coef_ did not converge\n",
            "  warnings.warn(\n",
            "/usr/local/lib/python3.8/dist-packages/sklearn/linear_model/_sag.py:352: ConvergenceWarning: The max_iter was reached which means the coef_ did not converge\n",
            "  warnings.warn(\n",
            "/usr/local/lib/python3.8/dist-packages/sklearn/linear_model/_sag.py:352: ConvergenceWarning: The max_iter was reached which means the coef_ did not converge\n",
            "  warnings.warn(\n",
            "/usr/local/lib/python3.8/dist-packages/sklearn/linear_model/_logistic.py:1476: UserWarning: l1_ratio parameter is only used when penalty is 'elasticnet'. Got (penalty=l2)\n",
            "  warnings.warn(\n",
            "/usr/local/lib/python3.8/dist-packages/sklearn/linear_model/_sag.py:352: ConvergenceWarning: The max_iter was reached which means the coef_ did not converge\n",
            "  warnings.warn(\n",
            "/usr/local/lib/python3.8/dist-packages/sklearn/linear_model/_logistic.py:1476: UserWarning: l1_ratio parameter is only used when penalty is 'elasticnet'. Got (penalty=l2)\n",
            "  warnings.warn(\n",
            "/usr/local/lib/python3.8/dist-packages/sklearn/linear_model/_sag.py:352: ConvergenceWarning: The max_iter was reached which means the coef_ did not converge\n",
            "  warnings.warn(\n",
            "/usr/local/lib/python3.8/dist-packages/sklearn/linear_model/_logistic.py:1476: UserWarning: l1_ratio parameter is only used when penalty is 'elasticnet'. Got (penalty=l2)\n",
            "  warnings.warn(\n",
            "/usr/local/lib/python3.8/dist-packages/sklearn/linear_model/_sag.py:352: ConvergenceWarning: The max_iter was reached which means the coef_ did not converge\n",
            "  warnings.warn(\n",
            "/usr/local/lib/python3.8/dist-packages/sklearn/linear_model/_logistic.py:1476: UserWarning: l1_ratio parameter is only used when penalty is 'elasticnet'. Got (penalty=l2)\n",
            "  warnings.warn(\n",
            "/usr/local/lib/python3.8/dist-packages/sklearn/linear_model/_sag.py:352: ConvergenceWarning: The max_iter was reached which means the coef_ did not converge\n",
            "  warnings.warn(\n",
            "/usr/local/lib/python3.8/dist-packages/sklearn/linear_model/_logistic.py:1476: UserWarning: l1_ratio parameter is only used when penalty is 'elasticnet'. Got (penalty=l2)\n",
            "  warnings.warn(\n",
            "/usr/local/lib/python3.8/dist-packages/sklearn/linear_model/_sag.py:352: ConvergenceWarning: The max_iter was reached which means the coef_ did not converge\n",
            "  warnings.warn(\n",
            "/usr/local/lib/python3.8/dist-packages/sklearn/linear_model/_sag.py:352: ConvergenceWarning: The max_iter was reached which means the coef_ did not converge\n",
            "  warnings.warn(\n",
            "/usr/local/lib/python3.8/dist-packages/sklearn/linear_model/_sag.py:352: ConvergenceWarning: The max_iter was reached which means the coef_ did not converge\n",
            "  warnings.warn(\n",
            "/usr/local/lib/python3.8/dist-packages/sklearn/linear_model/_sag.py:352: ConvergenceWarning: The max_iter was reached which means the coef_ did not converge\n",
            "  warnings.warn(\n",
            "/usr/local/lib/python3.8/dist-packages/sklearn/linear_model/_sag.py:352: ConvergenceWarning: The max_iter was reached which means the coef_ did not converge\n",
            "  warnings.warn(\n",
            "/usr/local/lib/python3.8/dist-packages/sklearn/linear_model/_sag.py:352: ConvergenceWarning: The max_iter was reached which means the coef_ did not converge\n",
            "  warnings.warn(\n",
            "/usr/local/lib/python3.8/dist-packages/sklearn/linear_model/_logistic.py:1476: UserWarning: l1_ratio parameter is only used when penalty is 'elasticnet'. Got (penalty=l2)\n",
            "  warnings.warn(\n",
            "/usr/local/lib/python3.8/dist-packages/sklearn/linear_model/_sag.py:352: ConvergenceWarning: The max_iter was reached which means the coef_ did not converge\n",
            "  warnings.warn(\n",
            "/usr/local/lib/python3.8/dist-packages/sklearn/linear_model/_logistic.py:1476: UserWarning: l1_ratio parameter is only used when penalty is 'elasticnet'. Got (penalty=l2)\n",
            "  warnings.warn(\n",
            "/usr/local/lib/python3.8/dist-packages/sklearn/linear_model/_sag.py:352: ConvergenceWarning: The max_iter was reached which means the coef_ did not converge\n",
            "  warnings.warn(\n",
            "/usr/local/lib/python3.8/dist-packages/sklearn/linear_model/_logistic.py:1476: UserWarning: l1_ratio parameter is only used when penalty is 'elasticnet'. Got (penalty=l2)\n",
            "  warnings.warn(\n",
            "/usr/local/lib/python3.8/dist-packages/sklearn/linear_model/_sag.py:352: ConvergenceWarning: The max_iter was reached which means the coef_ did not converge\n",
            "  warnings.warn(\n",
            "/usr/local/lib/python3.8/dist-packages/sklearn/linear_model/_logistic.py:1476: UserWarning: l1_ratio parameter is only used when penalty is 'elasticnet'. Got (penalty=l2)\n",
            "  warnings.warn(\n",
            "/usr/local/lib/python3.8/dist-packages/sklearn/linear_model/_sag.py:352: ConvergenceWarning: The max_iter was reached which means the coef_ did not converge\n",
            "  warnings.warn(\n",
            "/usr/local/lib/python3.8/dist-packages/sklearn/linear_model/_logistic.py:1476: UserWarning: l1_ratio parameter is only used when penalty is 'elasticnet'. Got (penalty=l2)\n",
            "  warnings.warn(\n",
            "/usr/local/lib/python3.8/dist-packages/sklearn/linear_model/_sag.py:352: ConvergenceWarning: The max_iter was reached which means the coef_ did not converge\n",
            "  warnings.warn(\n",
            "/usr/local/lib/python3.8/dist-packages/sklearn/linear_model/_sag.py:352: ConvergenceWarning: The max_iter was reached which means the coef_ did not converge\n",
            "  warnings.warn(\n",
            "/usr/local/lib/python3.8/dist-packages/sklearn/linear_model/_sag.py:352: ConvergenceWarning: The max_iter was reached which means the coef_ did not converge\n",
            "  warnings.warn(\n",
            "/usr/local/lib/python3.8/dist-packages/sklearn/linear_model/_sag.py:352: ConvergenceWarning: The max_iter was reached which means the coef_ did not converge\n",
            "  warnings.warn(\n",
            "/usr/local/lib/python3.8/dist-packages/sklearn/linear_model/_sag.py:352: ConvergenceWarning: The max_iter was reached which means the coef_ did not converge\n",
            "  warnings.warn(\n",
            "/usr/local/lib/python3.8/dist-packages/sklearn/linear_model/_sag.py:352: ConvergenceWarning: The max_iter was reached which means the coef_ did not converge\n",
            "  warnings.warn(\n",
            "/usr/local/lib/python3.8/dist-packages/sklearn/linear_model/_logistic.py:1476: UserWarning: l1_ratio parameter is only used when penalty is 'elasticnet'. Got (penalty=l2)\n",
            "  warnings.warn(\n",
            "/usr/local/lib/python3.8/dist-packages/sklearn/linear_model/_sag.py:352: ConvergenceWarning: The max_iter was reached which means the coef_ did not converge\n",
            "  warnings.warn(\n",
            "/usr/local/lib/python3.8/dist-packages/sklearn/linear_model/_logistic.py:1476: UserWarning: l1_ratio parameter is only used when penalty is 'elasticnet'. Got (penalty=l2)\n",
            "  warnings.warn(\n",
            "/usr/local/lib/python3.8/dist-packages/sklearn/linear_model/_sag.py:352: ConvergenceWarning: The max_iter was reached which means the coef_ did not converge\n",
            "  warnings.warn(\n",
            "/usr/local/lib/python3.8/dist-packages/sklearn/linear_model/_logistic.py:1476: UserWarning: l1_ratio parameter is only used when penalty is 'elasticnet'. Got (penalty=l2)\n",
            "  warnings.warn(\n",
            "/usr/local/lib/python3.8/dist-packages/sklearn/linear_model/_sag.py:352: ConvergenceWarning: The max_iter was reached which means the coef_ did not converge\n",
            "  warnings.warn(\n",
            "/usr/local/lib/python3.8/dist-packages/sklearn/linear_model/_logistic.py:1476: UserWarning: l1_ratio parameter is only used when penalty is 'elasticnet'. Got (penalty=l2)\n",
            "  warnings.warn(\n",
            "/usr/local/lib/python3.8/dist-packages/sklearn/linear_model/_sag.py:352: ConvergenceWarning: The max_iter was reached which means the coef_ did not converge\n",
            "  warnings.warn(\n",
            "/usr/local/lib/python3.8/dist-packages/sklearn/linear_model/_logistic.py:1476: UserWarning: l1_ratio parameter is only used when penalty is 'elasticnet'. Got (penalty=l2)\n",
            "  warnings.warn(\n",
            "/usr/local/lib/python3.8/dist-packages/sklearn/linear_model/_sag.py:352: ConvergenceWarning: The max_iter was reached which means the coef_ did not converge\n",
            "  warnings.warn(\n",
            "/usr/local/lib/python3.8/dist-packages/sklearn/linear_model/_sag.py:352: ConvergenceWarning: The max_iter was reached which means the coef_ did not converge\n",
            "  warnings.warn(\n",
            "/usr/local/lib/python3.8/dist-packages/sklearn/linear_model/_sag.py:352: ConvergenceWarning: The max_iter was reached which means the coef_ did not converge\n",
            "  warnings.warn(\n",
            "/usr/local/lib/python3.8/dist-packages/sklearn/linear_model/_sag.py:352: ConvergenceWarning: The max_iter was reached which means the coef_ did not converge\n",
            "  warnings.warn(\n",
            "/usr/local/lib/python3.8/dist-packages/sklearn/linear_model/_sag.py:352: ConvergenceWarning: The max_iter was reached which means the coef_ did not converge\n",
            "  warnings.warn(\n",
            "/usr/local/lib/python3.8/dist-packages/sklearn/linear_model/_sag.py:352: ConvergenceWarning: The max_iter was reached which means the coef_ did not converge\n",
            "  warnings.warn(\n",
            "/usr/local/lib/python3.8/dist-packages/sklearn/linear_model/_logistic.py:1476: UserWarning: l1_ratio parameter is only used when penalty is 'elasticnet'. Got (penalty=l2)\n",
            "  warnings.warn(\n",
            "/usr/local/lib/python3.8/dist-packages/sklearn/linear_model/_sag.py:352: ConvergenceWarning: The max_iter was reached which means the coef_ did not converge\n",
            "  warnings.warn(\n",
            "/usr/local/lib/python3.8/dist-packages/sklearn/linear_model/_logistic.py:1476: UserWarning: l1_ratio parameter is only used when penalty is 'elasticnet'. Got (penalty=l2)\n",
            "  warnings.warn(\n",
            "/usr/local/lib/python3.8/dist-packages/sklearn/linear_model/_sag.py:352: ConvergenceWarning: The max_iter was reached which means the coef_ did not converge\n",
            "  warnings.warn(\n",
            "/usr/local/lib/python3.8/dist-packages/sklearn/linear_model/_logistic.py:1476: UserWarning: l1_ratio parameter is only used when penalty is 'elasticnet'. Got (penalty=l2)\n",
            "  warnings.warn(\n",
            "/usr/local/lib/python3.8/dist-packages/sklearn/linear_model/_sag.py:352: ConvergenceWarning: The max_iter was reached which means the coef_ did not converge\n",
            "  warnings.warn(\n",
            "/usr/local/lib/python3.8/dist-packages/sklearn/linear_model/_logistic.py:1476: UserWarning: l1_ratio parameter is only used when penalty is 'elasticnet'. Got (penalty=l2)\n",
            "  warnings.warn(\n",
            "/usr/local/lib/python3.8/dist-packages/sklearn/linear_model/_sag.py:352: ConvergenceWarning: The max_iter was reached which means the coef_ did not converge\n",
            "  warnings.warn(\n",
            "/usr/local/lib/python3.8/dist-packages/sklearn/linear_model/_logistic.py:1476: UserWarning: l1_ratio parameter is only used when penalty is 'elasticnet'. Got (penalty=l2)\n",
            "  warnings.warn(\n",
            "/usr/local/lib/python3.8/dist-packages/sklearn/linear_model/_sag.py:352: ConvergenceWarning: The max_iter was reached which means the coef_ did not converge\n",
            "  warnings.warn(\n",
            "/usr/local/lib/python3.8/dist-packages/sklearn/linear_model/_sag.py:352: ConvergenceWarning: The max_iter was reached which means the coef_ did not converge\n",
            "  warnings.warn(\n",
            "/usr/local/lib/python3.8/dist-packages/sklearn/linear_model/_sag.py:352: ConvergenceWarning: The max_iter was reached which means the coef_ did not converge\n",
            "  warnings.warn(\n",
            "/usr/local/lib/python3.8/dist-packages/sklearn/linear_model/_sag.py:352: ConvergenceWarning: The max_iter was reached which means the coef_ did not converge\n",
            "  warnings.warn(\n",
            "/usr/local/lib/python3.8/dist-packages/sklearn/linear_model/_sag.py:352: ConvergenceWarning: The max_iter was reached which means the coef_ did not converge\n",
            "  warnings.warn(\n",
            "/usr/local/lib/python3.8/dist-packages/sklearn/linear_model/_sag.py:352: ConvergenceWarning: The max_iter was reached which means the coef_ did not converge\n",
            "  warnings.warn(\n",
            "/usr/local/lib/python3.8/dist-packages/sklearn/linear_model/_logistic.py:1476: UserWarning: l1_ratio parameter is only used when penalty is 'elasticnet'. Got (penalty=l2)\n",
            "  warnings.warn(\n",
            "/usr/local/lib/python3.8/dist-packages/sklearn/linear_model/_sag.py:352: ConvergenceWarning: The max_iter was reached which means the coef_ did not converge\n",
            "  warnings.warn(\n",
            "/usr/local/lib/python3.8/dist-packages/sklearn/linear_model/_logistic.py:1476: UserWarning: l1_ratio parameter is only used when penalty is 'elasticnet'. Got (penalty=l2)\n",
            "  warnings.warn(\n",
            "/usr/local/lib/python3.8/dist-packages/sklearn/linear_model/_sag.py:352: ConvergenceWarning: The max_iter was reached which means the coef_ did not converge\n",
            "  warnings.warn(\n",
            "/usr/local/lib/python3.8/dist-packages/sklearn/linear_model/_logistic.py:1476: UserWarning: l1_ratio parameter is only used when penalty is 'elasticnet'. Got (penalty=l2)\n",
            "  warnings.warn(\n",
            "/usr/local/lib/python3.8/dist-packages/sklearn/linear_model/_sag.py:352: ConvergenceWarning: The max_iter was reached which means the coef_ did not converge\n",
            "  warnings.warn(\n",
            "/usr/local/lib/python3.8/dist-packages/sklearn/linear_model/_logistic.py:1476: UserWarning: l1_ratio parameter is only used when penalty is 'elasticnet'. Got (penalty=l2)\n",
            "  warnings.warn(\n",
            "/usr/local/lib/python3.8/dist-packages/sklearn/linear_model/_sag.py:352: ConvergenceWarning: The max_iter was reached which means the coef_ did not converge\n",
            "  warnings.warn(\n",
            "/usr/local/lib/python3.8/dist-packages/sklearn/linear_model/_logistic.py:1476: UserWarning: l1_ratio parameter is only used when penalty is 'elasticnet'. Got (penalty=l2)\n",
            "  warnings.warn(\n",
            "/usr/local/lib/python3.8/dist-packages/sklearn/linear_model/_sag.py:352: ConvergenceWarning: The max_iter was reached which means the coef_ did not converge\n",
            "  warnings.warn(\n"
          ]
        },
        {
          "output_type": "stream",
          "name": "stdout",
          "text": [
            "best estimator:  {'C': 758, 'penalty': 'elasticnet'}\n",
            "its score: 0.5792\n"
          ]
        },
        {
          "output_type": "stream",
          "name": "stderr",
          "text": [
            "/usr/local/lib/python3.8/dist-packages/sklearn/linear_model/_sag.py:352: ConvergenceWarning: The max_iter was reached which means the coef_ did not converge\n",
            "  warnings.warn(\n"
          ]
        }
      ]
    },
    {
      "cell_type": "code",
      "source": [
        "print('best estimator: ',lr_grid_searcher.best_params_)\n",
        "print(\"its score: {:.4f}\".format( lr_grid_searcher.best_score_))"
      ],
      "metadata": {
        "colab": {
          "base_uri": "https://localhost:8080/"
        },
        "id": "b33sKLmErNNe",
        "outputId": "ff51cfb0-926b-4a94-b363-76f9746a105a"
      },
      "execution_count": 30,
      "outputs": [
        {
          "output_type": "stream",
          "name": "stdout",
          "text": [
            "best estimator:  {'C': 758, 'penalty': 'elasticnet'}\n",
            "its score: 0.5792\n"
          ]
        }
      ]
    },
    {
      "cell_type": "markdown",
      "source": [
        "**dtree** - Make a greedy grid search (use two grid-searchers sequentially)\n",
        "- max_depth from 1 to 50\n",
        "- criterion `gini` or `entropy`"
      ],
      "metadata": {
        "id": "yW-gyXV_fW6Q"
      }
    },
    {
      "cell_type": "code",
      "source": [
        "dt_clf = DecisionTreeClassifier()\n",
        "dt_grid = {\n",
        "    \"max_depth\":  np.arange(1,51)\n",
        "}\n",
        "#print(dt_grid)\n",
        "dt_grid_searcher = GridSearchCV(dt_clf, dt_grid , cv=5, return_train_score=True)\n",
        "dt_grid_searcher.fit(X_train, y_train)\n",
        "\n",
        "depth=dt_grid_searcher.best_params_\n",
        "dep=(depth[\"max_depth\"] )\n",
        "print(dep)\n",
        "dt_grid = {\n",
        "    \"criterion\":  ('gini','entropy'),\n",
        "    \"max_depth\": [dep]\n",
        "}\n",
        "dt_clf = DecisionTreeClassifier()\n",
        "dt_grid_searcher = GridSearchCV(dt_clf, dt_grid , cv=5, return_train_score=True)\n",
        "dt_grid_searcher.fit(X_train, y_train)\n",
        "\n",
        "print('best estimator: ',dt_grid_searcher.best_params_)\n",
        "print('its score: ', dt_grid_searcher.best_score_)\n"
      ],
      "metadata": {
        "colab": {
          "base_uri": "https://localhost:8080/"
        },
        "id": "dzQSqsZbpTky",
        "outputId": "66c3659b-9dfb-4495-8799-7120fb15409b"
      },
      "execution_count": 17,
      "outputs": [
        {
          "output_type": "stream",
          "name": "stdout",
          "text": [
            "8\n",
            "best estimator:  {'criterion': 'gini', 'max_depth': 8}\n",
            "its score:  0.6547499999999999\n"
          ]
        }
      ]
    },
    {
      "cell_type": "markdown",
      "source": [
        "**rf** - Make sparse grids with fewer number of parameters\n",
        "- n_estimators from 1 to 200\n",
        "- max_features from 1 to 30"
      ],
      "metadata": {
        "id": "k0oWlfKkfjIc"
      }
    },
    {
      "cell_type": "code",
      "source": [
        "rf_clf = RandomForestClassifier()\n",
        "n_estim = {\n",
        "    \"n_estimators\":  np.arange(1,201,20),\n",
        "    \"max_features\": np.linspace(1,30, num=5)\n",
        "}\n",
        "rf_grid_searcher = GridSearchCV(rf_clf, n_estim, cv=5, return_train_score=True)\n",
        "rf_grid_searcher.fit(X_train, y_train)"
      ],
      "metadata": {
        "colab": {
          "base_uri": "https://localhost:8080/"
        },
        "id": "fqeXIMulq3uL",
        "outputId": "997e9c9d-9ba4-4660-fd6b-8229735a10c7"
      },
      "execution_count": 64,
      "outputs": [
        {
          "output_type": "stream",
          "name": "stderr",
          "text": [
            "/usr/local/lib/python3.8/dist-packages/sklearn/model_selection/_validation.py:372: FitFailedWarning: \n",
            "200 fits failed out of a total of 250.\n",
            "The score on these train-test partitions for these parameters will be set to nan.\n",
            "If these failures are not expected, you can try to debug them by setting error_score='raise'.\n",
            "\n",
            "Below are more details about the failures:\n",
            "--------------------------------------------------------------------------------\n",
            "200 fits failed with the following error:\n",
            "Traceback (most recent call last):\n",
            "  File \"/usr/local/lib/python3.8/dist-packages/sklearn/model_selection/_validation.py\", line 680, in _fit_and_score\n",
            "    estimator.fit(X_train, y_train, **fit_params)\n",
            "  File \"/usr/local/lib/python3.8/dist-packages/sklearn/ensemble/_forest.py\", line 450, in fit\n",
            "    trees = Parallel(\n",
            "  File \"/usr/local/lib/python3.8/dist-packages/joblib/parallel.py\", line 1085, in __call__\n",
            "    if self.dispatch_one_batch(iterator):\n",
            "  File \"/usr/local/lib/python3.8/dist-packages/joblib/parallel.py\", line 901, in dispatch_one_batch\n",
            "    self._dispatch(tasks)\n",
            "  File \"/usr/local/lib/python3.8/dist-packages/joblib/parallel.py\", line 819, in _dispatch\n",
            "    job = self._backend.apply_async(batch, callback=cb)\n",
            "  File \"/usr/local/lib/python3.8/dist-packages/joblib/_parallel_backends.py\", line 208, in apply_async\n",
            "    result = ImmediateResult(func)\n",
            "  File \"/usr/local/lib/python3.8/dist-packages/joblib/_parallel_backends.py\", line 597, in __init__\n",
            "    self.results = batch()\n",
            "  File \"/usr/local/lib/python3.8/dist-packages/joblib/parallel.py\", line 288, in __call__\n",
            "    return [func(*args, **kwargs)\n",
            "  File \"/usr/local/lib/python3.8/dist-packages/joblib/parallel.py\", line 288, in <listcomp>\n",
            "    return [func(*args, **kwargs)\n",
            "  File \"/usr/local/lib/python3.8/dist-packages/sklearn/utils/fixes.py\", line 216, in __call__\n",
            "    return self.function(*args, **kwargs)\n",
            "  File \"/usr/local/lib/python3.8/dist-packages/sklearn/ensemble/_forest.py\", line 185, in _parallel_build_trees\n",
            "    tree.fit(X, y, sample_weight=curr_sample_weight, check_input=False)\n",
            "  File \"/usr/local/lib/python3.8/dist-packages/sklearn/tree/_classes.py\", line 937, in fit\n",
            "    super().fit(\n",
            "  File \"/usr/local/lib/python3.8/dist-packages/sklearn/tree/_classes.py\", line 308, in fit\n",
            "    raise ValueError(\"max_features must be in (0, n_features]\")\n",
            "ValueError: max_features must be in (0, n_features]\n",
            "\n",
            "  warnings.warn(some_fits_failed_message, FitFailedWarning)\n",
            "/usr/local/lib/python3.8/dist-packages/sklearn/model_selection/_search.py:969: UserWarning: One or more of the test scores are non-finite: [0.5782  0.67155 0.6794  0.68155 0.68295 0.68475 0.68275 0.6845  0.68505\n",
            " 0.6849      nan     nan     nan     nan     nan     nan     nan     nan\n",
            "     nan     nan     nan     nan     nan     nan     nan     nan     nan\n",
            "     nan     nan     nan     nan     nan     nan     nan     nan     nan\n",
            "     nan     nan     nan     nan     nan     nan     nan     nan     nan\n",
            "     nan     nan     nan     nan     nan]\n",
            "  warnings.warn(\n",
            "/usr/local/lib/python3.8/dist-packages/sklearn/model_selection/_search.py:969: UserWarning: One or more of the train scores are non-finite: [0.8472625 0.9962    0.9995125 0.9998875 0.9999875 1.        1.\n",
            " 1.        1.        1.              nan       nan       nan       nan\n",
            "       nan       nan       nan       nan       nan       nan       nan\n",
            "       nan       nan       nan       nan       nan       nan       nan\n",
            "       nan       nan       nan       nan       nan       nan       nan\n",
            "       nan       nan       nan       nan       nan       nan       nan\n",
            "       nan       nan       nan       nan       nan       nan       nan\n",
            "       nan]\n",
            "  warnings.warn(\n"
          ]
        },
        {
          "output_type": "execute_result",
          "data": {
            "text/plain": [
              "GridSearchCV(cv=5, estimator=RandomForestClassifier(),\n",
              "             param_grid={'max_features': array([ 1.  ,  8.25, 15.5 , 22.75, 30.  ]),\n",
              "                         'n_estimators': array([  1,  21,  41,  61,  81, 101, 121, 141, 161, 181])},\n",
              "             return_train_score=True)"
            ]
          },
          "metadata": {},
          "execution_count": 64
        }
      ]
    },
    {
      "cell_type": "code",
      "source": [
        "print('best estimator: ',rf_grid_searcher.best_params_)\n",
        "print('its score: ', rf_grid_searcher.best_score_)"
      ],
      "metadata": {
        "colab": {
          "base_uri": "https://localhost:8080/"
        },
        "id": "dHyRy0LiHaNm",
        "outputId": "31ca6fb3-fd2b-41ee-b632-64bcdc415714"
      },
      "execution_count": 66,
      "outputs": [
        {
          "output_type": "stream",
          "name": "stdout",
          "text": [
            "best estimator:  {'max_features': 1.0, 'n_estimators': 161}\n",
            "its score:  0.68505\n"
          ]
        }
      ]
    },
    {
      "cell_type": "code",
      "source": [
        "\n",
        "print('best estimator: ',rf_grid_searcher.best_params_)\n",
        "print('its score: ', rf_grid_searcher.best_score_)"
      ],
      "metadata": {
        "id": "YbRVEjNQHVv5"
      },
      "execution_count": null,
      "outputs": []
    },
    {
      "cell_type": "markdown",
      "source": [
        "Улучшились: knn на 0.018 и rf на 0.005"
      ],
      "metadata": {
        "id": "Evq1apGKsVzT"
      }
    },
    {
      "cell_type": "markdown",
      "metadata": {
        "id": "pAdnJtBr9WgF"
      },
      "source": [
        "**Task 2.4 [1 point] Categorical features**\n",
        "\n",
        "Add categorical features and examine how the influence performance of each model. Preprocess the data before applying a model: we need to encode categorical features with one-hot encoding (`get_dummies` from `pandas` or `OneHotEncoder` from `sklearn`).\n",
        "\n",
        "Don't forget to repeat the train-test-val splits."
      ]
    },
    {
      "cell_type": "code",
      "execution_count": 34,
      "metadata": {
        "id": "zY3xP1fi9WgF"
      },
      "outputs": [],
      "source": [
        "objects_with_dummies = pd.get_dummies(objects)\n",
        "\n",
        "X = objects_with_dummies\n",
        "y = labels #y=y\n",
        "\n",
        "assert X.shape == (35000, 69) and  y.shape == (35000,)"
      ]
    },
    {
      "cell_type": "markdown",
      "metadata": {
        "id": "YtTCkNnd9WgG"
      },
      "source": [
        "What was your best model before adding categorical features?\n",
        "\n",
        "Use GridSearch + 5-fold CV on **train set** to define your new best model."
      ]
    },
    {
      "cell_type": "code",
      "execution_count": 35,
      "metadata": {
        "id": "RnRl1CuE9WgG"
      },
      "outputs": [],
      "source": [
        "X_train, X_not_train, y_train, y_not_train = train_test_split(X, y, test_size=15000, \n",
        "                                                    shuffle=True, stratify= None,\n",
        "                                                    random_state=RANDOM_SEED)\n",
        "\n",
        "X_test, X_val, y_test, y_val = train_test_split(X_not_train, y_not_train, test_size=5000, \n",
        "                                                    shuffle=True, stratify= None,\n",
        "                                                    random_state=RANDOM_SEED)\n",
        "\n",
        "assert X_train.shape[0] == 20000 and X_test.shape[0] == 10000 and X_val.shape[0] == 5000"
      ]
    },
    {
      "cell_type": "markdown",
      "source": [
        "knn"
      ],
      "metadata": {
        "id": "RvDjFf1Jz0nV"
      }
    },
    {
      "cell_type": "code",
      "source": [
        "knn_clf = KNeighborsClassifier()\n",
        "knn_grid = {\n",
        "\"n_neighbors\": np.arange(1,51)\n",
        "}\n",
        "knn_grid_searcher = GridSearchCV(knn_clf,knn_grid, cv=5, return_train_score=True)\n",
        "knn_grid_searcher.fit(X_train, y_train)"
      ],
      "metadata": {
        "colab": {
          "base_uri": "https://localhost:8080/"
        },
        "id": "Zz2sealvxnzK",
        "outputId": "4f0aea2e-9ed4-4798-f04f-e3c028acae5a"
      },
      "execution_count": 31,
      "outputs": [
        {
          "output_type": "execute_result",
          "data": {
            "text/plain": [
              "GridSearchCV(cv=5, estimator=KNeighborsClassifier(),\n",
              "             param_grid={'n_neighbors': array([ 1,  2,  3,  4,  5,  6,  7,  8,  9, 10, 11, 12, 13, 14, 15, 16, 17,\n",
              "       18, 19, 20, 21, 22, 23, 24, 25, 26, 27, 28, 29, 30, 31, 32, 33, 34,\n",
              "       35, 36, 37, 38, 39, 40, 41, 42, 43, 44, 45, 46, 47, 48, 49, 50])},\n",
              "             return_train_score=True)"
            ]
          },
          "metadata": {},
          "execution_count": 31
        }
      ]
    },
    {
      "cell_type": "code",
      "source": [
        "print('best estimator: ',knn_grid_searcher.best_params_)\n",
        "print('its score: ', knn_grid_searcher.best_score_)"
      ],
      "metadata": {
        "colab": {
          "base_uri": "https://localhost:8080/"
        },
        "id": "NnOHNrnv71X7",
        "outputId": "654cfc22-1427-4b9b-d329-4404955ee31f"
      },
      "execution_count": 35,
      "outputs": [
        {
          "output_type": "stream",
          "name": "stdout",
          "text": [
            "best estimator:  {'n_neighbors': 50}\n",
            "its score:  0.55655\n"
          ]
        }
      ]
    },
    {
      "cell_type": "markdown",
      "source": [
        "dt"
      ],
      "metadata": {
        "id": "EavkPAY_0CBD"
      }
    },
    {
      "cell_type": "code",
      "source": [
        "dt_clf = DecisionTreeClassifier()\n",
        "dt_grid = {\n",
        "\"max_depth\": np.arange(1,51)\n",
        "}\n",
        "#print(dt_grid)\n",
        "dt_grid_searcher = GridSearchCV(dt_clf, dt_grid , cv=5, return_train_score=True)\n",
        "dt_grid_searcher.fit(X_train, y_train)\n",
        "\n",
        "print('best estimator: ',dt_grid_searcher.best_params_)\n",
        "print('its score: ', dt_grid_searcher.best_score_)"
      ],
      "metadata": {
        "colab": {
          "base_uri": "https://localhost:8080/"
        },
        "id": "6cun1pDGz2DX",
        "outputId": "f83f54f1-6ce0-4746-8ac4-e145af9a9229"
      },
      "execution_count": 36,
      "outputs": [
        {
          "output_type": "stream",
          "name": "stdout",
          "text": [
            "best estimator:  {'max_depth': 10}\n",
            "its score:  0.6529\n"
          ]
        }
      ]
    },
    {
      "cell_type": "markdown",
      "source": [
        "lr"
      ],
      "metadata": {
        "id": "9_eTl9T00Drh"
      }
    },
    {
      "cell_type": "code",
      "source": [
        "lr_clf = LogisticRegression(solver='saga', l1_ratio=0.5)\n",
        "lr_grid = {\n",
        "\"penalty\": ('l1', 'l2', 'elasticnet', 'none')\n",
        "}\n",
        "lr_grid_searcher = GridSearchCV(lr_clf, lr_grid , cv=5, return_train_score=True)\n",
        "lr_grid_searcher.fit(X_train, y_train)"
      ],
      "metadata": {
        "colab": {
          "base_uri": "https://localhost:8080/"
        },
        "id": "-xcXsi1h0Pnb",
        "outputId": "a0d734ba-8586-4820-ed42-a0efc0a225e9"
      },
      "execution_count": 61,
      "outputs": [
        {
          "output_type": "stream",
          "name": "stderr",
          "text": [
            "/usr/local/lib/python3.8/dist-packages/sklearn/linear_model/_logistic.py:1476: UserWarning: l1_ratio parameter is only used when penalty is 'elasticnet'. Got (penalty=l1)\n",
            "  warnings.warn(\n",
            "/usr/local/lib/python3.8/dist-packages/sklearn/linear_model/_sag.py:352: ConvergenceWarning: The max_iter was reached which means the coef_ did not converge\n",
            "  warnings.warn(\n",
            "/usr/local/lib/python3.8/dist-packages/sklearn/linear_model/_logistic.py:1476: UserWarning: l1_ratio parameter is only used when penalty is 'elasticnet'. Got (penalty=l1)\n",
            "  warnings.warn(\n",
            "/usr/local/lib/python3.8/dist-packages/sklearn/linear_model/_sag.py:352: ConvergenceWarning: The max_iter was reached which means the coef_ did not converge\n",
            "  warnings.warn(\n",
            "/usr/local/lib/python3.8/dist-packages/sklearn/linear_model/_logistic.py:1476: UserWarning: l1_ratio parameter is only used when penalty is 'elasticnet'. Got (penalty=l1)\n",
            "  warnings.warn(\n",
            "/usr/local/lib/python3.8/dist-packages/sklearn/linear_model/_sag.py:352: ConvergenceWarning: The max_iter was reached which means the coef_ did not converge\n",
            "  warnings.warn(\n",
            "/usr/local/lib/python3.8/dist-packages/sklearn/linear_model/_logistic.py:1476: UserWarning: l1_ratio parameter is only used when penalty is 'elasticnet'. Got (penalty=l1)\n",
            "  warnings.warn(\n",
            "/usr/local/lib/python3.8/dist-packages/sklearn/linear_model/_sag.py:352: ConvergenceWarning: The max_iter was reached which means the coef_ did not converge\n",
            "  warnings.warn(\n",
            "/usr/local/lib/python3.8/dist-packages/sklearn/linear_model/_logistic.py:1476: UserWarning: l1_ratio parameter is only used when penalty is 'elasticnet'. Got (penalty=l1)\n",
            "  warnings.warn(\n",
            "/usr/local/lib/python3.8/dist-packages/sklearn/linear_model/_sag.py:352: ConvergenceWarning: The max_iter was reached which means the coef_ did not converge\n",
            "  warnings.warn(\n",
            "/usr/local/lib/python3.8/dist-packages/sklearn/linear_model/_logistic.py:1476: UserWarning: l1_ratio parameter is only used when penalty is 'elasticnet'. Got (penalty=l2)\n",
            "  warnings.warn(\n",
            "/usr/local/lib/python3.8/dist-packages/sklearn/linear_model/_sag.py:352: ConvergenceWarning: The max_iter was reached which means the coef_ did not converge\n",
            "  warnings.warn(\n",
            "/usr/local/lib/python3.8/dist-packages/sklearn/linear_model/_logistic.py:1476: UserWarning: l1_ratio parameter is only used when penalty is 'elasticnet'. Got (penalty=l2)\n",
            "  warnings.warn(\n",
            "/usr/local/lib/python3.8/dist-packages/sklearn/linear_model/_sag.py:352: ConvergenceWarning: The max_iter was reached which means the coef_ did not converge\n",
            "  warnings.warn(\n",
            "/usr/local/lib/python3.8/dist-packages/sklearn/linear_model/_logistic.py:1476: UserWarning: l1_ratio parameter is only used when penalty is 'elasticnet'. Got (penalty=l2)\n",
            "  warnings.warn(\n",
            "/usr/local/lib/python3.8/dist-packages/sklearn/linear_model/_sag.py:352: ConvergenceWarning: The max_iter was reached which means the coef_ did not converge\n",
            "  warnings.warn(\n",
            "/usr/local/lib/python3.8/dist-packages/sklearn/linear_model/_logistic.py:1476: UserWarning: l1_ratio parameter is only used when penalty is 'elasticnet'. Got (penalty=l2)\n",
            "  warnings.warn(\n",
            "/usr/local/lib/python3.8/dist-packages/sklearn/linear_model/_sag.py:352: ConvergenceWarning: The max_iter was reached which means the coef_ did not converge\n",
            "  warnings.warn(\n",
            "/usr/local/lib/python3.8/dist-packages/sklearn/linear_model/_logistic.py:1476: UserWarning: l1_ratio parameter is only used when penalty is 'elasticnet'. Got (penalty=l2)\n",
            "  warnings.warn(\n",
            "/usr/local/lib/python3.8/dist-packages/sklearn/linear_model/_sag.py:352: ConvergenceWarning: The max_iter was reached which means the coef_ did not converge\n",
            "  warnings.warn(\n",
            "/usr/local/lib/python3.8/dist-packages/sklearn/linear_model/_sag.py:352: ConvergenceWarning: The max_iter was reached which means the coef_ did not converge\n",
            "  warnings.warn(\n",
            "/usr/local/lib/python3.8/dist-packages/sklearn/linear_model/_sag.py:352: ConvergenceWarning: The max_iter was reached which means the coef_ did not converge\n",
            "  warnings.warn(\n",
            "/usr/local/lib/python3.8/dist-packages/sklearn/linear_model/_sag.py:352: ConvergenceWarning: The max_iter was reached which means the coef_ did not converge\n",
            "  warnings.warn(\n",
            "/usr/local/lib/python3.8/dist-packages/sklearn/linear_model/_sag.py:352: ConvergenceWarning: The max_iter was reached which means the coef_ did not converge\n",
            "  warnings.warn(\n",
            "/usr/local/lib/python3.8/dist-packages/sklearn/linear_model/_sag.py:352: ConvergenceWarning: The max_iter was reached which means the coef_ did not converge\n",
            "  warnings.warn(\n",
            "/usr/local/lib/python3.8/dist-packages/sklearn/linear_model/_logistic.py:1476: UserWarning: l1_ratio parameter is only used when penalty is 'elasticnet'. Got (penalty=none)\n",
            "  warnings.warn(\n",
            "/usr/local/lib/python3.8/dist-packages/sklearn/linear_model/_sag.py:352: ConvergenceWarning: The max_iter was reached which means the coef_ did not converge\n",
            "  warnings.warn(\n",
            "/usr/local/lib/python3.8/dist-packages/sklearn/linear_model/_logistic.py:1476: UserWarning: l1_ratio parameter is only used when penalty is 'elasticnet'. Got (penalty=none)\n",
            "  warnings.warn(\n",
            "/usr/local/lib/python3.8/dist-packages/sklearn/linear_model/_sag.py:352: ConvergenceWarning: The max_iter was reached which means the coef_ did not converge\n",
            "  warnings.warn(\n",
            "/usr/local/lib/python3.8/dist-packages/sklearn/linear_model/_logistic.py:1476: UserWarning: l1_ratio parameter is only used when penalty is 'elasticnet'. Got (penalty=none)\n",
            "  warnings.warn(\n",
            "/usr/local/lib/python3.8/dist-packages/sklearn/linear_model/_sag.py:352: ConvergenceWarning: The max_iter was reached which means the coef_ did not converge\n",
            "  warnings.warn(\n",
            "/usr/local/lib/python3.8/dist-packages/sklearn/linear_model/_logistic.py:1476: UserWarning: l1_ratio parameter is only used when penalty is 'elasticnet'. Got (penalty=none)\n",
            "  warnings.warn(\n",
            "/usr/local/lib/python3.8/dist-packages/sklearn/linear_model/_sag.py:352: ConvergenceWarning: The max_iter was reached which means the coef_ did not converge\n",
            "  warnings.warn(\n",
            "/usr/local/lib/python3.8/dist-packages/sklearn/linear_model/_logistic.py:1476: UserWarning: l1_ratio parameter is only used when penalty is 'elasticnet'. Got (penalty=none)\n",
            "  warnings.warn(\n",
            "/usr/local/lib/python3.8/dist-packages/sklearn/linear_model/_sag.py:352: ConvergenceWarning: The max_iter was reached which means the coef_ did not converge\n",
            "  warnings.warn(\n",
            "/usr/local/lib/python3.8/dist-packages/sklearn/linear_model/_logistic.py:1476: UserWarning: l1_ratio parameter is only used when penalty is 'elasticnet'. Got (penalty=l1)\n",
            "  warnings.warn(\n",
            "/usr/local/lib/python3.8/dist-packages/sklearn/linear_model/_sag.py:352: ConvergenceWarning: The max_iter was reached which means the coef_ did not converge\n",
            "  warnings.warn(\n"
          ]
        },
        {
          "output_type": "execute_result",
          "data": {
            "text/plain": [
              "GridSearchCV(cv=5, estimator=LogisticRegression(l1_ratio=0.5, solver='saga'),\n",
              "             param_grid={'penalty': ('l1', 'l2', 'elasticnet', 'none')},\n",
              "             return_train_score=True)"
            ]
          },
          "metadata": {},
          "execution_count": 61
        }
      ]
    },
    {
      "cell_type": "code",
      "source": [
        "print('best estimator: ',lr_grid_searcher.best_params_)\n",
        "print(\"its score: {:.4f}\".format( lr_grid_searcher.best_score_))"
      ],
      "metadata": {
        "colab": {
          "base_uri": "https://localhost:8080/"
        },
        "id": "vJYMav4d4v0l",
        "outputId": "60627c58-ff97-43bc-952e-38722d899d4e"
      },
      "execution_count": 64,
      "outputs": [
        {
          "output_type": "stream",
          "name": "stdout",
          "text": [
            "best estimator:  {'penalty': 'l1'}\n",
            "its score: 0.5654\n"
          ]
        }
      ]
    },
    {
      "cell_type": "markdown",
      "source": [
        "rf"
      ],
      "metadata": {
        "id": "EVwy56OD0QXx"
      }
    },
    {
      "cell_type": "code",
      "source": [
        "rf_clf = RandomForestClassifier()\n",
        "n_estim = {\n",
        "\"n_estimators\": np.arange(1,201)\n",
        "}\n",
        "rf_grid_searcher = GridSearchCV(rf_clf, n_estim, cv=5, return_train_score=True)\n",
        "rf_grid_searcher.fit(X_train, y_train)\n",
        "print('best estimator: ',rf_grid_searcher.best_params_)\n",
        "print('its score: ', rf_grid_searcher.best_score_)"
      ],
      "metadata": {
        "colab": {
          "base_uri": "https://localhost:8080/"
        },
        "id": "NqtkKU6D0SMk",
        "outputId": "9d8eed25-d23e-46c5-af92-7d6029fe7961"
      },
      "execution_count": 26,
      "outputs": [
        {
          "output_type": "stream",
          "name": "stdout",
          "text": [
            "best estimator:  {'n_estimators': 121}\n",
            "its score:  0.6776\n"
          ]
        }
      ]
    },
    {
      "cell_type": "markdown",
      "metadata": {
        "id": "h8iS5jqY9WgH"
      },
      "source": [
        "Performance of which model increased the most? Why?\n",
        "\n",
        "**Your answer here**: ни одна модель не улучшилась, все немного ухудшились. Возможно, из-за большого количества фичей им стало сложнее считать и точность ухудшилась"
      ]
    },
    {
      "cell_type": "markdown",
      "metadata": {
        "id": "74tWa_EK9WgH"
      },
      "source": [
        "**Task 2.5 [2 point] Blending**\n",
        "\n",
        "Since you have already trained and tuned a lot of models, it might be useful to **blend** two best classifiers to get one even better.\n",
        "\n",
        "Pick two best models, say, `clf_a` and `clf_b`, train them on the `train_set`.\n",
        "\n",
        "Then use `Voting classifier` to build \n",
        "$$\n",
        "clf_c(\\alpha) = \\alpha \\cdot clf_a + (1 - \\alpha) \\cdot clf_b\n",
        "$$\n",
        "You will have to tune $\\alpha$ using grid search on `test_set` and then make final quality assessment on `val_set`."
      ]
    },
    {
      "cell_type": "code",
      "execution_count": 70,
      "metadata": {
        "id": "_yH7uW4c9WgI",
        "colab": {
          "base_uri": "https://localhost:8080/"
        },
        "outputId": "fb960708-86b5-474d-cbde-5161bb6a81c8"
      },
      "outputs": [
        {
          "output_type": "stream",
          "name": "stdout",
          "text": [
            "[[0.0, 1.0], [0.1111111111111111, 0.8888888888888888], [0.2222222222222222, 0.7777777777777778], [0.3333333333333333, 0.6666666666666667], [0.4444444444444444, 0.5555555555555556], [0.5555555555555556, 0.4444444444444444], [0.6666666666666666, 0.33333333333333337], [0.7777777777777777, 0.22222222222222232], [0.8888888888888888, 0.11111111111111116], [1.0, 0.0]]\n"
          ]
        },
        {
          "output_type": "execute_result",
          "data": {
            "text/plain": [
              "GridSearchCV(cv=5,\n",
              "             estimator=VotingClassifier(estimators=[('rf',\n",
              "                                                     RandomForestClassifier(n_estimators=121)),\n",
              "                                                    ('dt',\n",
              "                                                     DecisionTreeClassifier(max_depth=10))]),\n",
              "             param_grid={'weights': [[0.0, 1.0],\n",
              "                                     [0.1111111111111111, 0.8888888888888888],\n",
              "                                     [0.2222222222222222, 0.7777777777777778],\n",
              "                                     [0.3333333333333333, 0.6666666666666667],\n",
              "                                     [0.4444444444444444, 0.5555555555555556],\n",
              "                                     [0.5555555555555556, 0.4444444444444444],\n",
              "                                     [0.6666666666666666, 0.33333333333333337],\n",
              "                                     [0.7777777777777777, 0.22222222222222232],\n",
              "                                     [0.8888888888888888, 0.11111111111111116],\n",
              "                                     [1.0, 0.0]]})"
            ]
          },
          "metadata": {},
          "execution_count": 70
        }
      ],
      "source": [
        "from sklearn.ensemble import VotingClassifier\n",
        "clf_a=RandomForestClassifier(n_estimators=121)\n",
        "clf_b=DecisionTreeClassifier(max_depth=10)\n",
        "\n",
        "clf_a.fit(X_train, y_train)\n",
        "clf_b.fit(X_train, y_train)\n",
        "\n",
        "eclf = VotingClassifier(estimators=[('rf', clf_a), ('dt', clf_b)])\n",
        "a=np.linspace(0,1, num=10)\n",
        "#print(a)\n",
        "b=1-a\n",
        "koef=[]\n",
        "for i in range(0, 10):\n",
        "  koef.append([a[i],b[i]])\n",
        "print(koef)\n",
        "voting_grid={ 'weights':koef }\n",
        "voting_grid_searcher = GridSearchCV(eclf, voting_grid, cv=5)\n",
        "voting_grid_searcher.fit(X_test, y_test)\n"
      ]
    },
    {
      "cell_type": "code",
      "source": [
        "print('best estimator: ',voting_grid_searcher.best_params_)\n",
        "#voting_pred =  voting_grid_searcher.predict(X_val)\n",
        "#train_score = mean_squared_error(X_val, Y_val)\n",
        "print('val_set score: ', voting_grid_searcher.score(X_val, y_val))"
      ],
      "metadata": {
        "colab": {
          "base_uri": "https://localhost:8080/"
        },
        "id": "3BohxSVQgQiP",
        "outputId": "f6412f9f-3aa1-4297-8652-3342c410655c"
      },
      "execution_count": 75,
      "outputs": [
        {
          "output_type": "stream",
          "name": "stdout",
          "text": [
            "best estimator:  {'weights': [0.6666666666666666, 0.33333333333333337]}\n",
            "val_set score:  0.6666\n"
          ]
        }
      ]
    },
    {
      "cell_type": "markdown",
      "metadata": {
        "id": "C_3BYgMr9WgI"
      },
      "source": [
        "What was the best pair of models to blend? Did blending help to increase quality of each classifier?\n",
        "\n",
        "**Your answer here**: DT и RF, у них были самые лучшие результаты, 0.6529 и 0.6776 соответственно. Блэндинг дал скор 0.6666, что хуже, чем y RF (но лучше, чем у DT)"
      ]
    }
  ],
  "metadata": {
    "kernelspec": {
      "display_name": "Python 3",
      "language": "python",
      "name": "python3"
    },
    "language_info": {
      "codemirror_mode": {
        "name": "ipython",
        "version": 3
      },
      "file_extension": ".py",
      "mimetype": "text/x-python",
      "name": "python",
      "nbconvert_exporter": "python",
      "pygments_lexer": "ipython3",
      "version": "3.9.6"
    },
    "colab": {
      "provenance": []
    }
  },
  "nbformat": 4,
  "nbformat_minor": 0
}
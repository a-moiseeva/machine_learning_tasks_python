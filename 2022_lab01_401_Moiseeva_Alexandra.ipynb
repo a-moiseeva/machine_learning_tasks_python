{
  "cells": [
    {
      "cell_type": "markdown",
      "metadata": {
        "id": "mh70kWZKYCKi"
      },
      "source": [
        "# Lab #1. Numpy, Pandas and Matplotlib\n",
        "\n",
        "### Important: do not delete any blocks\n",
        "#### But you may add as many as you need.\n",
        "\n",
        "This aim of this lab is to get you aquainted to very important python modules (libraries):\n",
        "- numpy\n",
        "- pandas\n",
        "- matplotlib\n",
        "\n",
        "Make sure to install these modules before you start.\n",
        "\n",
        "#### About tasks\n",
        "\n",
        "This notebook consists of numerous tasks but please make it look like a whole story: a report with your own code, thoughts and conclusions. In some of these tasks you will have to implement some custom functions, in some of them you will be asked to present some plots and describe them. Please try to make your code as short as possible and your answers as clear as possible.\n",
        "\n",
        "\n",
        "\n",
        "#### Evaluation\n",
        "\n",
        "- Each task has its value, **15 points** in total. If you use some open-source code please make sure to include the url. \n",
        "- There are **Questions** in the tasks, don't skip them. If you skip a question, value of the task becomes 0. \n",
        "- When your answer includes some numbers, make sure to provide some code or calculations that prove your results.\n",
        "- Pay a lot attention to your plots:\n",
        "    - Are they comprehensible? Shapes, colours, sizes?\n",
        "    - Are they titled?\n",
        "    - Are axes labelled?\n",
        "    - Is legend included?\n",
        "\n",
        "#### How to submit\n",
        "- Name your file according to this convention: `2022_lab01_GroupNumber_Surname_Name.ipynb`, for example \n",
        "    - `2022_lab01_404_Sheipak_Sviat.ipynb`\n",
        "    - `2022_lab01_NoGroup_Sheipak_Sviat.ipynb`\n",
        "- Attach your .ipynb to an email with topic `2022_lab01_GroupNumber_Surname_Name.ipynb`\n",
        "- Send it to `cosmic.research.ml@yandex.ru`\n",
        "- Deadline is `2022-09-29 23:00:00 +03:00`\n",
        "\n",
        "#### The Data:\n",
        "- All the datasets you need are here: https://disk.yandex.ru/d/FnMXcdDjbWTxTw"
      ]
    },
    {
      "cell_type": "markdown",
      "metadata": {
        "id": "oKBVC1jsYCKk"
      },
      "source": [
        "## Part 1. Numpy and plots [2.5 points]\n",
        "\n",
        "`numpy` is a module that helps you to deal with vectors (matrices and tensors too) and it has a lot of cool features."
      ]
    },
    {
      "cell_type": "markdown",
      "metadata": {
        "id": "1x2EvqBCYCKk"
      },
      "source": [
        "Firstly, let's import it:"
      ]
    },
    {
      "cell_type": "code",
      "execution_count": 1,
      "metadata": {
        "id": "rz_AA4QZYCKl"
      },
      "outputs": [],
      "source": [
        "import numpy as np"
      ]
    },
    {
      "cell_type": "markdown",
      "metadata": {
        "id": "Q4yEWh4YYCKm"
      },
      "source": [
        "Vectors in numpy are called **arrays**. Create an array from a list:"
      ]
    },
    {
      "cell_type": "code",
      "execution_count": 2,
      "metadata": {
        "id": "BSlmHpmhYCKn",
        "colab": {
          "base_uri": "https://localhost:8080/"
        },
        "outputId": "02b40372-e0ee-4ec7-ed74-d2afb4151917"
      },
      "outputs": [
        {
          "output_type": "stream",
          "name": "stdout",
          "text": [
            "[1, 2, 3, 4, 5, 6]\n",
            "[1 2 3 4 5 6]\n"
          ]
        }
      ],
      "source": [
        "my_list = [1, 2, 3, 4, 5, 6]\n",
        "my_vector = np.array(my_list)\n",
        "print(my_list)\n",
        "print(my_vector)"
      ]
    },
    {
      "cell_type": "markdown",
      "metadata": {
        "id": "EFiH-upfYCKn"
      },
      "source": [
        "You can reshape them:"
      ]
    },
    {
      "cell_type": "code",
      "execution_count": 3,
      "metadata": {
        "id": "6IaTPDLrYCKo",
        "colab": {
          "base_uri": "https://localhost:8080/"
        },
        "outputId": "a0244546-b32f-4977-b477-da0d429d8fdb"
      },
      "outputs": [
        {
          "output_type": "stream",
          "name": "stdout",
          "text": [
            "(2, 3)\n",
            "[[1 2 3]\n",
            " [4 5 6]]\n",
            "(6, 1)\n",
            "[[1]\n",
            " [2]\n",
            " [3]\n",
            " [4]\n",
            " [5]\n",
            " [6]]\n"
          ]
        }
      ],
      "source": [
        "my_vector = my_vector.reshape((2, 3))\n",
        "print(my_vector.shape)\n",
        "print(my_vector)\n",
        "\n",
        "my_vector = my_vector.reshape((6, 1))\n",
        "print(my_vector.shape)\n",
        "print(my_vector)"
      ]
    },
    {
      "cell_type": "markdown",
      "metadata": {
        "id": "_EdZnleeYCKp"
      },
      "source": [
        "You don't even have to state all of dimensions explicitly, since they can be derived (use -1):"
      ]
    },
    {
      "cell_type": "code",
      "execution_count": 4,
      "metadata": {
        "id": "iYdn-oaIYCKp",
        "colab": {
          "base_uri": "https://localhost:8080/"
        },
        "outputId": "96833b62-5a98-4d69-a8cb-90fd127a5c0d"
      },
      "outputs": [
        {
          "output_type": "stream",
          "name": "stdout",
          "text": [
            "(3, 2)\n",
            "[[1 2]\n",
            " [3 4]\n",
            " [5 6]]\n"
          ]
        }
      ],
      "source": [
        "my_vector = my_vector.reshape((3, -1))\n",
        "print(my_vector.shape)\n",
        "print(my_vector)"
      ]
    },
    {
      "cell_type": "markdown",
      "metadata": {
        "id": "0LvPRjbmYCKp"
      },
      "source": [
        "Slices!"
      ]
    },
    {
      "cell_type": "code",
      "execution_count": 5,
      "metadata": {
        "id": "vHX-gVR_YCKq",
        "colab": {
          "base_uri": "https://localhost:8080/"
        },
        "outputId": "34247ce7-502f-4dac-f336-bd09519aeb0a"
      },
      "outputs": [
        {
          "output_type": "stream",
          "name": "stdout",
          "text": [
            "2\n",
            "[2 4 6]\n",
            "[[1 2]\n",
            " [3 4]]\n",
            "[[2 1]\n",
            " [4 3]]\n"
          ]
        }
      ],
      "source": [
        "print(my_vector[0, 1])\n",
        "print(my_vector[:, 1])\n",
        "print(my_vector[:2])\n",
        "print(my_vector[:2,::-1])"
      ]
    },
    {
      "cell_type": "markdown",
      "metadata": {
        "id": "G2FolLzWYCKq"
      },
      "source": [
        "Arithmetic operations:"
      ]
    },
    {
      "cell_type": "code",
      "execution_count": 6,
      "metadata": {
        "id": "m_P1XxtOYCKq",
        "colab": {
          "base_uri": "https://localhost:8080/"
        },
        "outputId": "8aed9dea-be47-4762-8fc5-e4f161772706"
      },
      "outputs": [
        {
          "output_type": "stream",
          "name": "stdout",
          "text": [
            "[0 1 2 3 4 5 6 7 8 9]\n",
            "[-10  -9  -8  -7  -6  -5  -4  -3  -2  -1]\n",
            "[  0 100 200 300 400 500 600 700 800 900]\n",
            "[ 6 10]\n",
            "[ 5 24]\n"
          ]
        }
      ],
      "source": [
        "vector_a = np.arange(10)\n",
        "print(vector_a)\n",
        "print(vector_a - 10)\n",
        "print(vector_a * 100)\n",
        "print(np.array([5, 4]) + np.array([1, 6]))\n",
        "print(np.array([5, 4]) * np.array([1, 6]))"
      ]
    },
    {
      "cell_type": "markdown",
      "metadata": {
        "id": "q9HMnEszYCKr"
      },
      "source": [
        "**Task 1. Basic arrays [0.5 point]** \n",
        "\n",
        "Create a 2-dimensional numpy array `x` of 100 by 2 shape filled with random numbers from $U[0, 1]$"
      ]
    },
    {
      "cell_type": "code",
      "execution_count": 7,
      "metadata": {
        "id": "a5cF0SjRYCKr",
        "colab": {
          "base_uri": "https://localhost:8080/"
        },
        "outputId": "e92365de-d3a0-46a4-c149-d1afac10c062"
      },
      "outputs": [
        {
          "output_type": "execute_result",
          "data": {
            "text/plain": [
              "0.48967853211374185"
            ]
          },
          "metadata": {},
          "execution_count": 7
        }
      ],
      "source": [
        "x =  np.random.uniform(2, size=(100,2))-1\n",
        "\n",
        "assert x.shape == (100, 2), \"Wrong shape\"\n",
        "assert x.min() >= 0 and x.max() <= 1, \"Wrong range\"\n",
        "assert np.abs(x.mean() - 0.5) < 8e-2, \"Wrong distribution or bad luck\"\n",
        "x.mean()"
      ]
    },
    {
      "cell_type": "markdown",
      "metadata": {
        "id": "eCT2w90aYCKs"
      },
      "source": [
        "Calculate averages: row-wise, column-wise and total. Use `np.mean` and `axis` parameter. Then `print` the `mean_total` rounded to 3 digits after comma (using `format` method)."
      ]
    },
    {
      "cell_type": "code",
      "execution_count": 8,
      "metadata": {
        "id": "IlGDhwV_YCKs",
        "colab": {
          "base_uri": "https://localhost:8080/"
        },
        "outputId": "ce732b85-df70-43d1-e71c-7e9468fcded7"
      },
      "outputs": [
        {
          "output_type": "stream",
          "name": "stdout",
          "text": [
            "The total mean is 0.490 \n"
          ]
        }
      ],
      "source": [
        "mean_by_row = np.mean(x,axis=1)\n",
        "mean_by_col = np.mean(x,axis=0)\n",
        "mean_total = np.mean(x)\n",
        "assert mean_by_row.shape == (100, )\n",
        "assert mean_by_col.shape == (2, )\n",
        "assert mean_total.shape == ()\n",
        "\n",
        "\n",
        "print(\"The total mean is {:.3f} \".format(mean_total))"
      ]
    },
    {
      "cell_type": "markdown",
      "metadata": {
        "id": "9-4iMXQsYCKs"
      },
      "source": [
        "**Task 2. Sort 2-dim array [0.5 point]** \n",
        "\n",
        "Create a 1-dimensional numpy array `y` of 100 random **integers** from $U\\{0, 1, 2, 3\\}$"
      ]
    },
    {
      "cell_type": "code",
      "execution_count": 9,
      "metadata": {
        "id": "fFVn6YGoYCKt",
        "colab": {
          "base_uri": "https://localhost:8080/"
        },
        "outputId": "269a9b8d-37af-4db3-a21e-76667e24ac08"
      },
      "outputs": [
        {
          "output_type": "stream",
          "name": "stdout",
          "text": [
            "[1 0 0 3 3 1 2 1 0 0 1 2 1 2 3 0 1 2 3 0 0 0 0 3 1 1 1 2 3 1 2 1 1 1 1 0 0\n",
            " 0 1 1 2 3 2 2 1 2 0 3 2 0 1 0 0 3 0 3 1 1 3 3 1 3 2 0 1 3 3 3 3 3 0 3 3 0\n",
            " 1 1 0 1 3 0 3 1 1 0 1 0 0 3 2 2 3 0 3 3 0 2 1 1 3 0]\n"
          ]
        }
      ],
      "source": [
        "y = np.random.randint(4,size=(100))\n",
        "print(y)\n",
        "\n",
        "assert y.shape == (100,)"
      ]
    },
    {
      "cell_type": "markdown",
      "metadata": {
        "id": "EgJpz0qEYCKt"
      },
      "source": [
        "Import class `Counter` from `collections` module."
      ]
    },
    {
      "cell_type": "code",
      "execution_count": 10,
      "metadata": {
        "id": "WmC9uIXFYCKu"
      },
      "outputs": [],
      "source": [
        "from collections import Counter"
      ]
    },
    {
      "cell_type": "code",
      "execution_count": 11,
      "metadata": {
        "id": "bfN1GVneYCKv"
      },
      "outputs": [],
      "source": [
        "basic_counter = Counter(y)\n",
        "container_A = dict(basic_counter)\n",
        "container_B = list(basic_counter.items())\n",
        "container_C = np.array(container_B)"
      ]
    },
    {
      "cell_type": "code",
      "source": [
        "print(container_A, container_B, container_C)\n",
        "print(container_C[0])\n",
        "print(type(container_A), type(container_B),type(container_C),type(container_C[0]))"
      ],
      "metadata": {
        "colab": {
          "base_uri": "https://localhost:8080/"
        },
        "id": "uAFl3n_1kY10",
        "outputId": "2e1e6ebb-b0a3-42e8-9b66-9fdd1f8e6edb"
      },
      "execution_count": 12,
      "outputs": [
        {
          "output_type": "stream",
          "name": "stdout",
          "text": [
            "{1: 30, 0: 28, 3: 27, 2: 15} [(1, 30), (0, 28), (3, 27), (2, 15)] [[ 1 30]\n",
            " [ 0 28]\n",
            " [ 3 27]\n",
            " [ 2 15]]\n",
            "[ 1 30]\n",
            "<class 'dict'> <class 'list'> <class 'numpy.ndarray'> <class 'numpy.ndarray'>\n"
          ]
        }
      ]
    },
    {
      "cell_type": "markdown",
      "metadata": {
        "id": "HsFMGHdfYCKw"
      },
      "source": [
        "Here are three data structures.\n",
        "\n",
        "**Question:** What is the type of `container_A`? What is the type of `container_B`? What is the type of the elements of `container_C`?"
      ]
    },
    {
      "cell_type": "markdown",
      "metadata": {
        "id": "9kYVf9XVYCKx"
      },
      "source": [
        "**Your answer:** Dictionary (словарь), list (список), Array (вектор)"
      ]
    },
    {
      "cell_type": "markdown",
      "metadata": {
        "id": "IdEMlPoeYCKx"
      },
      "source": [
        "Use `np.sort` to order elements of `container_C` acsending by their first coordinate (pay attention to `axis` parameter)."
      ]
    },
    {
      "cell_type": "code",
      "execution_count": 13,
      "metadata": {
        "id": "q5a4cO9oYCKx",
        "colab": {
          "base_uri": "https://localhost:8080/"
        },
        "outputId": "6a0f36c1-d647-4e4a-a577-9b814c6c8b91"
      },
      "outputs": [
        {
          "output_type": "stream",
          "name": "stdout",
          "text": [
            "Great!\n"
          ]
        },
        {
          "output_type": "stream",
          "name": "stderr",
          "text": [
            "/usr/local/lib/python3.7/dist-packages/ipykernel_launcher.py:1: DeprecationWarning: `np.int` is a deprecated alias for the builtin `int`. To silence this warning, use `int` by itself. Doing this will not modify any behavior and is safe. When replacing `np.int`, you may wish to use e.g. `np.int64` or `np.int32` to specify the precision. If you wish to review your current use, check the release note link for additional information.\n",
            "Deprecated in NumPy 1.20; for more details and guidance: https://numpy.org/devdocs/release/1.20.0-notes.html#deprecations\n",
            "  \"\"\"Entry point for launching an IPython kernel.\n"
          ]
        }
      ],
      "source": [
        "counter_values =np.sort(container_C.view('i8,i8'), order=['f0'], axis=0).view(np.int)\n",
        "\n",
        "assert list(counter_values[:, 0]) == [0, 1, 2, 3], \"Error: Wrong order\"\n",
        "assert min([container_A[x[0]] == x[1] for x in counter_values]), \"Error: Count values shuffled\"\n",
        "print(\"Great!\")"
      ]
    },
    {
      "cell_type": "markdown",
      "metadata": {
        "id": "e79Ykr97YCKx"
      },
      "source": [
        "**Task 3. Basic barplot [0.5 points]** \n",
        "\n",
        "Plot a barplot representing how many times each value `0, 1, 2, 3` is encounterd in `y`. Do not forget to:\n",
        "- Add title to the plot\n",
        "- Label the axes\n",
        "- Specify x-ticks \n",
        "\n",
        "You may use `counter_values` you have obtained in a Task 2."
      ]
    },
    {
      "cell_type": "code",
      "execution_count": 14,
      "metadata": {
        "id": "hPJl_MVhYCKy"
      },
      "outputs": [],
      "source": [
        "import matplotlib.pyplot as plt"
      ]
    },
    {
      "cell_type": "code",
      "execution_count": 15,
      "metadata": {
        "id": "s5sNpDxDYCKy",
        "colab": {
          "base_uri": "https://localhost:8080/",
          "height": 297
        },
        "outputId": "131bc681-616c-4ddf-9784-208dc87e0b72"
      },
      "outputs": [
        {
          "output_type": "display_data",
          "data": {
            "text/plain": [
              "<Figure size 432x288 with 1 Axes>"
            ],
            "image/png": "[encoded data removed]"
          },
          "metadata": {
            "needs_background": "light"
          }
        }
      ],
      "source": [
        "plt.title(\"Value counts in $y$\")\n",
        "plt.bar(counter_values[:,0], counter_values[:,1])\n",
        "plt.xticks(counter_values[:, 0])\n",
        "plt.xlabel(\"Value\")\n",
        "plt.ylabel(\"Count\")\n",
        "plt.grid(10)\n",
        "plt.show()"
      ]
    },
    {
      "cell_type": "markdown",
      "metadata": {
        "id": "F52RcoHRYCKz"
      },
      "source": [
        "**Task 4. Concat two numpy arrays [0.5 point]**\n",
        "\n",
        "You have:\n",
        "- `x`: 100 $\\times$ 2\n",
        "- `y`: 100\n",
        "\n",
        "Concatenate them horizontally to get `z`: 100 $\\times$ 3"
      ]
    },
    {
      "cell_type": "code",
      "execution_count": 16,
      "metadata": {
        "id": "-IjHhaTWYCKz"
      },
      "outputs": [],
      "source": [
        "z = np.array (np.concatenate((x,y.reshape(100,1)),axis=1))\n",
        "assert z.shape == (100, 3) and np.equal(z[:, :2], x).all() and np.equal(z[:, -1], y).all()"
      ]
    },
    {
      "cell_type": "markdown",
      "metadata": {
        "id": "gfccjww6YCK0"
      },
      "source": [
        "**Task 5. Basic Scatter Plot [0.5 point]**\n",
        "\n",
        "You have:\n",
        "- `z`: 100 $\\times$ 3\n",
        "\n",
        "Each row of `z` consists of 3 numbers. Build a scatter plot where each row is represented by a dot: first and second number are coordinates and third number corresponds to dot colour. Don't forget to add a legend."
      ]
    },
    {
      "cell_type": "code",
      "execution_count": 17,
      "metadata": {
        "colab": {
          "base_uri": "https://localhost:8080/",
          "height": 390
        },
        "id": "st8yKjuuYCK0",
        "outputId": "16d94482-47eb-469c-fbf6-2b26403e5a87"
      },
      "outputs": [
        {
          "output_type": "display_data",
          "data": {
            "text/plain": [
              "<Figure size 576x432 with 1 Axes>"
            ],
            "image/png": "[encoded data removed]"
          },
          "metadata": {
            "needs_background": "light"
          }
        }
      ],
      "source": [
        "plt.figure(figsize=(8, 6))\n",
        "plt.title(\"Basic Scatter Plot\")\n",
        "#print(z)\n",
        "z0 = z[z[:,2]==0]\n",
        "z1 = z[z[:,2]==1]\n",
        "z2 = z[z[:,2]==2]\n",
        "z3 = z[z[:,2]==3]\n",
        "#print(z0,z1,z2,z3)\n",
        "#plt.legend(*plt.scatter(z[:,0],z[:,1], c=z[:,2]).legend_elements(num=3), title=\"colours\",loc=\"upper right\")\n",
        "plt.scatter(z0[:,0],z0[:,1], c=\"grey\",label='0')\n",
        "plt.scatter(z1[:,0],z1[:,1], c=\"r\",label='1')\n",
        "plt.scatter(z2[:,0],z2[:,1], c=\"g\",label='2')\n",
        "plt.scatter(z3[:,0],z3[:,1], c=\"b\",label='3')\n",
        "#print(z)\n",
        "even = z[z%2==0]\n",
        "#print(even)\n",
        "plt.legend(loc=\"upper right\")\n",
        "plt.show()"
      ]
    },
    {
      "cell_type": "markdown",
      "metadata": {
        "id": "MyAOJWPoYCK1"
      },
      "source": [
        "# Part 2. Moscow houses [4.5 points]\n",
        "\n",
        "In this part we start to work with datasets and `pandas` module.\n",
        "You will need to download `moscow_coords.csv` file. It provides a coordinate and an address for some houses in Moscow. The original source of the data: https://data.mos.ru/opendata/60562/data/table?versionNumber=3&releaseNumber=445"
      ]
    },
    {
      "cell_type": "code",
      "execution_count": 18,
      "metadata": {
        "id": "-FkCJ7nmYCK1"
      },
      "outputs": [],
      "source": [
        "import pandas as pd"
      ]
    },
    {
      "cell_type": "code",
      "execution_count": 19,
      "metadata": {
        "id": "b-YCgDhaYCK2"
      },
      "outputs": [],
      "source": [
        "coords_db = pd.read_csv(\"data/moscow_coords.csv\")"
      ]
    },
    {
      "cell_type": "code",
      "execution_count": 20,
      "metadata": {
        "scrolled": true,
        "id": "k5mXIfYLYCK2",
        "colab": {
          "base_uri": "https://localhost:8080/",
          "height": 363
        },
        "outputId": "1b6c1e5d-bcfe-4e48-e3c2-337b03559a0f"
      },
      "outputs": [
        {
          "output_type": "execute_result",
          "data": {
            "text/plain": [
              "                                             ADDRESS     coor_x     coor_y\n",
              "0  город Москва, Варшавское шоссе, дом 150, строе...  37.601252  55.599249\n",
              "1             город Москва, Косинская улица, дом 26А  37.828115  55.717493\n",
              "2         город Москва, Гороховский переулок, дом 21  37.668093  55.766224\n",
              "3  город Москва, Тагильская улица, дом 4, строени...  37.752887  55.818257\n",
              "4  город Москва, Ленинградский проспект, дом 73А,...  37.513546  55.803510\n",
              "5             город Москва, улица Вострухина, дом 5А  37.797659  55.720022\n",
              "6  город Москва, улица Космонавта Волкова, дом 10...  37.514713  55.815373\n",
              "7  город Москва, Балтийская улица, дом 8, строени...  37.517288  55.809580\n",
              "8    город Москва, улица Головачёва, дом 3, корпус 2  37.805437  55.675219\n",
              "9  город Москва, Климентовский переулок, дом 1, с...  37.631972  55.740967"
            ],
            "text/html": [
              "\n",
              "  <div id=\"df-b0d9d3ef-ddf4-493b-8a5f-ba9c6f1abb5e\">\n",
              "    <div class=\"colab-df-container\">\n",
              "      <div>\n",
              "<style scoped>\n",
              "    .dataframe tbody tr th:only-of-type {\n",
              "        vertical-align: middle;\n",
              "    }\n",
              "\n",
              "    .dataframe tbody tr th {\n",
              "        vertical-align: top;\n",
              "    }\n",
              "\n",
              "    .dataframe thead th {\n",
              "        text-align: right;\n",
              "    }\n",
              "</style>\n",
              "<table border=\"1\" class=\"dataframe\">\n",
              "  <thead>\n",
              "    <tr style=\"text-align: right;\">\n",
              "      <th></th>\n",
              "      <th>ADDRESS</th>\n",
              "      <th>coor_x</th>\n",
              "      <th>coor_y</th>\n",
              "    </tr>\n",
              "  </thead>\n",
              "  <tbody>\n",
              "    <tr>\n",
              "      <th>0</th>\n",
              "      <td>город Москва, Варшавское шоссе, дом 150, строе...</td>\n",
              "      <td>37.601252</td>\n",
              "      <td>55.599249</td>\n",
              "    </tr>\n",
              "    <tr>\n",
              "      <th>1</th>\n",
              "      <td>город Москва, Косинская улица, дом 26А</td>\n",
              "      <td>37.828115</td>\n",
              "      <td>55.717493</td>\n",
              "    </tr>\n",
              "    <tr>\n",
              "      <th>2</th>\n",
              "      <td>город Москва, Гороховский переулок, дом 21</td>\n",
              "      <td>37.668093</td>\n",
              "      <td>55.766224</td>\n",
              "    </tr>\n",
              "    <tr>\n",
              "      <th>3</th>\n",
              "      <td>город Москва, Тагильская улица, дом 4, строени...</td>\n",
              "      <td>37.752887</td>\n",
              "      <td>55.818257</td>\n",
              "    </tr>\n",
              "    <tr>\n",
              "      <th>4</th>\n",
              "      <td>город Москва, Ленинградский проспект, дом 73А,...</td>\n",
              "      <td>37.513546</td>\n",
              "      <td>55.803510</td>\n",
              "    </tr>\n",
              "    <tr>\n",
              "      <th>5</th>\n",
              "      <td>город Москва, улица Вострухина, дом 5А</td>\n",
              "      <td>37.797659</td>\n",
              "      <td>55.720022</td>\n",
              "    </tr>\n",
              "    <tr>\n",
              "      <th>6</th>\n",
              "      <td>город Москва, улица Космонавта Волкова, дом 10...</td>\n",
              "      <td>37.514713</td>\n",
              "      <td>55.815373</td>\n",
              "    </tr>\n",
              "    <tr>\n",
              "      <th>7</th>\n",
              "      <td>город Москва, Балтийская улица, дом 8, строени...</td>\n",
              "      <td>37.517288</td>\n",
              "      <td>55.809580</td>\n",
              "    </tr>\n",
              "    <tr>\n",
              "      <th>8</th>\n",
              "      <td>город Москва, улица Головачёва, дом 3, корпус 2</td>\n",
              "      <td>37.805437</td>\n",
              "      <td>55.675219</td>\n",
              "    </tr>\n",
              "    <tr>\n",
              "      <th>9</th>\n",
              "      <td>город Москва, Климентовский переулок, дом 1, с...</td>\n",
              "      <td>37.631972</td>\n",
              "      <td>55.740967</td>\n",
              "    </tr>\n",
              "  </tbody>\n",
              "</table>\n",
              "</div>\n",
              "      <button class=\"colab-df-convert\" onclick=\"convertToInteractive('df-b0d9d3ef-ddf4-493b-8a5f-ba9c6f1abb5e')\"\n",
              "              title=\"Convert this dataframe to an interactive table.\"\n",
              "              style=\"display:none;\">\n",
              "        \n",
              "  <svg xmlns=\"http://www.w3.org/2000/svg\" height=\"24px\"viewBox=\"0 0 24 24\"\n",
              "       width=\"24px\">\n",
              "    <path d=\"M0 0h24v24H0V0z\" fill=\"none\"/>\n",
              "    <path d=\"M18.56 5.44l.94 2.06.94-2.06 2.06-.94-2.06-.94-.94-2.06-.94 2.06-2.06.94zm-11 1L8.5 8.5l.94-2.06 2.06-.94-2.06-.94L8.5 2.5l-.94 2.06-2.06.94zm10 10l.94 2.06.94-2.06 2.06-.94-2.06-.94-.94-2.06-.94 2.06-2.06.94z\"/><path d=\"M17.41 7.96l-1.37-1.37c-.4-.4-.92-.59-1.43-.59-.52 0-1.04.2-1.43.59L10.3 9.45l-7.72 7.72c-.78.78-.78 2.05 0 2.83L4 21.41c.39.39.9.59 1.41.59.51 0 1.02-.2 1.41-.59l7.78-7.78 2.81-2.81c.8-.78.8-2.07 0-2.86zM5.41 20L4 18.59l7.72-7.72 1.47 1.35L5.41 20z\"/>\n",
              "  </svg>\n",
              "      </button>\n",
              "      \n",
              "  <style>\n",
              "    .colab-df-container {\n",
              "      display:flex;\n",
              "      flex-wrap:wrap;\n",
              "      gap: 12px;\n",
              "    }\n",
              "\n",
              "    .colab-df-convert {\n",
              "      background-color: #E8F0FE;\n",
              "      border: none;\n",
              "      border-radius: 50%;\n",
              "      cursor: pointer;\n",
              "      display: none;\n",
              "      fill: #1967D2;\n",
              "      height: 32px;\n",
              "      padding: 0 0 0 0;\n",
              "      width: 32px;\n",
              "    }\n",
              "\n",
              "    .colab-df-convert:hover {\n",
              "      background-color: #E2EBFA;\n",
              "      box-shadow: 0px 1px 2px rgba(60, 64, 67, 0.3), 0px 1px 3px 1px rgba(60, 64, 67, 0.15);\n",
              "      fill: #174EA6;\n",
              "    }\n",
              "\n",
              "    [theme=dark] .colab-df-convert {\n",
              "      background-color: #3B4455;\n",
              "      fill: #D2E3FC;\n",
              "    }\n",
              "\n",
              "    [theme=dark] .colab-df-convert:hover {\n",
              "      background-color: #434B5C;\n",
              "      box-shadow: 0px 1px 3px 1px rgba(0, 0, 0, 0.15);\n",
              "      filter: drop-shadow(0px 1px 2px rgba(0, 0, 0, 0.3));\n",
              "      fill: #FFFFFF;\n",
              "    }\n",
              "  </style>\n",
              "\n",
              "      <script>\n",
              "        const buttonEl =\n",
              "          document.querySelector('#df-b0d9d3ef-ddf4-493b-8a5f-ba9c6f1abb5e button.colab-df-convert');\n",
              "        buttonEl.style.display =\n",
              "          google.colab.kernel.accessAllowed ? 'block' : 'none';\n",
              "\n",
              "        async function convertToInteractive(key) {\n",
              "          const element = document.querySelector('#df-b0d9d3ef-ddf4-493b-8a5f-ba9c6f1abb5e');\n",
              "          const dataTable =\n",
              "            await google.colab.kernel.invokeFunction('convertToInteractive',\n",
              "                                                     [key], {});\n",
              "          if (!dataTable) return;\n",
              "\n",
              "          const docLinkHtml = 'Like what you see? Visit the ' +\n",
              "            '<a target=\"_blank\" href=https://colab.research.google.com/notebooks/data_table.ipynb>data table notebook</a>'\n",
              "            + ' to learn more about interactive tables.';\n",
              "          element.innerHTML = '';\n",
              "          dataTable['output_type'] = 'display_data';\n",
              "          await google.colab.output.renderOutput(dataTable, element);\n",
              "          const docLink = document.createElement('div');\n",
              "          docLink.innerHTML = docLinkHtml;\n",
              "          element.appendChild(docLink);\n",
              "        }\n",
              "      </script>\n",
              "    </div>\n",
              "  </div>\n",
              "  "
            ]
          },
          "metadata": {},
          "execution_count": 20
        }
      ],
      "source": [
        "coords_db.head(10)"
      ]
    },
    {
      "cell_type": "code",
      "execution_count": 21,
      "metadata": {
        "scrolled": true,
        "id": "tRcRvX2mYCK2",
        "colab": {
          "base_uri": "https://localhost:8080/"
        },
        "outputId": "0a2684f9-a354-42a2-9712-95a3f92023df"
      },
      "outputs": [
        {
          "output_type": "stream",
          "name": "stdout",
          "text": [
            "<class 'pandas.core.frame.DataFrame'>\n",
            "(24781, 3)\n",
            "Index(['ADDRESS', 'coor_x', 'coor_y'], dtype='object')\n",
            "<class 'pandas.core.series.Series'>\n"
          ]
        }
      ],
      "source": [
        "print(type(coords_db))\n",
        "print(coords_db.shape)\n",
        "print(coords_db.columns)\n",
        "print(type(coords_db[\"ADDRESS\"]))"
      ]
    },
    {
      "cell_type": "markdown",
      "metadata": {
        "id": "v1TcE45sYCK4"
      },
      "source": [
        "**Task 1. Address analysis [0.5 point]**\n",
        "\n",
        "As we can see, the dataset has 3 columns: `ADDRESS`, `coor_x` and `coor_y`.\n",
        "Let's focus on `ADDRESS` - the datatype of this column is `str`.\n",
        "\n",
        "Your task is to find and describe addresses that inlcude word `город`* at least two times.\n",
        "\n",
        "**город* - *city* in russian"
      ]
    },
    {
      "cell_type": "markdown",
      "metadata": {
        "id": "2XlLJ-oQYCK4"
      },
      "source": [
        "Let's do it step by step:\n",
        "1. Implement a function `tokenize_address`, that takes a string\n",
        "\n",
        "* casts string to lowercase;\n",
        "    \n",
        "* removes all `,` and `.` symbols;\n",
        "    \n",
        "* splits string into a `list` of strings; separation symbol is a whitespace ` `.\n",
        "    \n",
        "2. Implement a function `count_a_token`, that takes a list of strings and counts number of entries of a particular token."
      ]
    },
    {
      "cell_type": "code",
      "execution_count": 22,
      "metadata": {
        "id": "NGXWVkxRYCK5"
      },
      "outputs": [],
      "source": [
        "def tokenize_address(input_string):\n",
        "    \"\"\"\n",
        "    input:\n",
        "    - input_string: str\n",
        "    output:\n",
        "    - list<str> - string split into tokens\n",
        "    \"\"\"\n",
        "    input_string=input_string.lower()\n",
        "    input_string=input_string.replace(',', '')\n",
        "    input_string=input_string.replace('.', '')\n",
        "    input_string=input_string.split()\n",
        "    \n",
        "    return input_string\n",
        "\n",
        "assert tokenize_address(\"A, b. C, and d?\") == [\"a\", \"b\", \"c\", \"and\", \"d?\"], \"Something is wrong\""
      ]
    },
    {
      "cell_type": "code",
      "execution_count": 23,
      "metadata": {
        "id": "nJuVYd7uYCK5"
      },
      "outputs": [],
      "source": [
        "from re import I\n",
        "def count_a_token(token_list, lookup_token):\n",
        "    \"\"\"\n",
        "    input:\n",
        "    - token_list: list<str>\n",
        "    - lookup_token: str\n",
        "    output:\n",
        "    - int - how many times lookup_token is encountered in token_list\n",
        "    \"\"\"\n",
        "    a=0\n",
        "    for i in token_list:\n",
        "      if lookup_token==i:\n",
        "        a=a+1\n",
        "    return a"
      ]
    },
    {
      "cell_type": "code",
      "execution_count": 24,
      "metadata": {
        "id": "u1qmk1pEYCK5",
        "colab": {
          "base_uri": "https://localhost:8080/"
        },
        "outputId": "5703394a-ed61-4430-d16d-a2343bf47822"
      },
      "outputs": [
        {
          "output_type": "stream",
          "name": "stdout",
          "text": [
            "['город', 'москва', 'улица', 'космонавта', 'волкова', 'дом', '10']\n",
            "1\n",
            "Seems fine!\n"
          ]
        }
      ],
      "source": [
        "test_address = \"город Москва, улица Космонавта Волкова, дом 10.\"\n",
        "tokens = tokenize_address(test_address)\n",
        "print(tokens)\n",
        "print(count_a_token(tokens, \"город\"))\n",
        "\n",
        "assert tokens == [\"город\", \"москва\", \"улица\", \"космонавта\", \"волкова\", \"дом\", \"10\"]\n",
        "assert count_a_token(tokens, \"город\") == 1\n",
        "print(\"Seems fine!\")"
      ]
    },
    {
      "cell_type": "markdown",
      "metadata": {
        "id": "TWhx1MNLYCK6"
      },
      "source": [
        "Now it is time add new column `city_token_cnt` to the dataset. Values in this column should be a result of applying two functions above to a `coords_db[\"ADDRESS\"]`. Note that `coords_db[\"ADDRESS\"]` is a `pandas.Series` object and it has method `apply`."
      ]
    },
    {
      "cell_type": "code",
      "execution_count": 25,
      "metadata": {
        "id": "PeyR6UWyYCK6"
      },
      "outputs": [],
      "source": [
        "coords_db.loc[:, \"city_token_cnt\"] = coords_db[\"ADDRESS\"].apply(lambda x: count_a_token(tokenize_address(x), \"город\"))"
      ]
    },
    {
      "cell_type": "code",
      "execution_count": 26,
      "metadata": {
        "id": "BYJfb1byYCK7",
        "colab": {
          "base_uri": "https://localhost:8080/",
          "height": 250
        },
        "outputId": "5a7bb52f-5d4a-4964-9e81-77f875b222b3"
      },
      "outputs": [
        {
          "output_type": "execute_result",
          "data": {
            "text/plain": [
              "                                             ADDRESS     coor_x     coor_y  \\\n",
              "0  город Москва, Варшавское шоссе, дом 150, строе...  37.601252  55.599249   \n",
              "1             город Москва, Косинская улица, дом 26А  37.828115  55.717493   \n",
              "2         город Москва, Гороховский переулок, дом 21  37.668093  55.766224   \n",
              "3  город Москва, Тагильская улица, дом 4, строени...  37.752887  55.818257   \n",
              "4  город Москва, Ленинградский проспект, дом 73А,...  37.513546  55.803510   \n",
              "\n",
              "   city_token_cnt  \n",
              "0               1  \n",
              "1               1  \n",
              "2               1  \n",
              "3               1  \n",
              "4               1  "
            ],
            "text/html": [
              "\n",
              "  <div id=\"df-546873a0-3075-4a9e-9657-a1db35c3b666\">\n",
              "    <div class=\"colab-df-container\">\n",
              "      <div>\n",
              "<style scoped>\n",
              "    .dataframe tbody tr th:only-of-type {\n",
              "        vertical-align: middle;\n",
              "    }\n",
              "\n",
              "    .dataframe tbody tr th {\n",
              "        vertical-align: top;\n",
              "    }\n",
              "\n",
              "    .dataframe thead th {\n",
              "        text-align: right;\n",
              "    }\n",
              "</style>\n",
              "<table border=\"1\" class=\"dataframe\">\n",
              "  <thead>\n",
              "    <tr style=\"text-align: right;\">\n",
              "      <th></th>\n",
              "      <th>ADDRESS</th>\n",
              "      <th>coor_x</th>\n",
              "      <th>coor_y</th>\n",
              "      <th>city_token_cnt</th>\n",
              "    </tr>\n",
              "  </thead>\n",
              "  <tbody>\n",
              "    <tr>\n",
              "      <th>0</th>\n",
              "      <td>город Москва, Варшавское шоссе, дом 150, строе...</td>\n",
              "      <td>37.601252</td>\n",
              "      <td>55.599249</td>\n",
              "      <td>1</td>\n",
              "    </tr>\n",
              "    <tr>\n",
              "      <th>1</th>\n",
              "      <td>город Москва, Косинская улица, дом 26А</td>\n",
              "      <td>37.828115</td>\n",
              "      <td>55.717493</td>\n",
              "      <td>1</td>\n",
              "    </tr>\n",
              "    <tr>\n",
              "      <th>2</th>\n",
              "      <td>город Москва, Гороховский переулок, дом 21</td>\n",
              "      <td>37.668093</td>\n",
              "      <td>55.766224</td>\n",
              "      <td>1</td>\n",
              "    </tr>\n",
              "    <tr>\n",
              "      <th>3</th>\n",
              "      <td>город Москва, Тагильская улица, дом 4, строени...</td>\n",
              "      <td>37.752887</td>\n",
              "      <td>55.818257</td>\n",
              "      <td>1</td>\n",
              "    </tr>\n",
              "    <tr>\n",
              "      <th>4</th>\n",
              "      <td>город Москва, Ленинградский проспект, дом 73А,...</td>\n",
              "      <td>37.513546</td>\n",
              "      <td>55.803510</td>\n",
              "      <td>1</td>\n",
              "    </tr>\n",
              "  </tbody>\n",
              "</table>\n",
              "</div>\n",
              "      <button class=\"colab-df-convert\" onclick=\"convertToInteractive('df-546873a0-3075-4a9e-9657-a1db35c3b666')\"\n",
              "              title=\"Convert this dataframe to an interactive table.\"\n",
              "              style=\"display:none;\">\n",
              "        \n",
              "  <svg xmlns=\"http://www.w3.org/2000/svg\" height=\"24px\"viewBox=\"0 0 24 24\"\n",
              "       width=\"24px\">\n",
              "    <path d=\"M0 0h24v24H0V0z\" fill=\"none\"/>\n",
              "    <path d=\"M18.56 5.44l.94 2.06.94-2.06 2.06-.94-2.06-.94-.94-2.06-.94 2.06-2.06.94zm-11 1L8.5 8.5l.94-2.06 2.06-.94-2.06-.94L8.5 2.5l-.94 2.06-2.06.94zm10 10l.94 2.06.94-2.06 2.06-.94-2.06-.94-.94-2.06-.94 2.06-2.06.94z\"/><path d=\"M17.41 7.96l-1.37-1.37c-.4-.4-.92-.59-1.43-.59-.52 0-1.04.2-1.43.59L10.3 9.45l-7.72 7.72c-.78.78-.78 2.05 0 2.83L4 21.41c.39.39.9.59 1.41.59.51 0 1.02-.2 1.41-.59l7.78-7.78 2.81-2.81c.8-.78.8-2.07 0-2.86zM5.41 20L4 18.59l7.72-7.72 1.47 1.35L5.41 20z\"/>\n",
              "  </svg>\n",
              "      </button>\n",
              "      \n",
              "  <style>\n",
              "    .colab-df-container {\n",
              "      display:flex;\n",
              "      flex-wrap:wrap;\n",
              "      gap: 12px;\n",
              "    }\n",
              "\n",
              "    .colab-df-convert {\n",
              "      background-color: #E8F0FE;\n",
              "      border: none;\n",
              "      border-radius: 50%;\n",
              "      cursor: pointer;\n",
              "      display: none;\n",
              "      fill: #1967D2;\n",
              "      height: 32px;\n",
              "      padding: 0 0 0 0;\n",
              "      width: 32px;\n",
              "    }\n",
              "\n",
              "    .colab-df-convert:hover {\n",
              "      background-color: #E2EBFA;\n",
              "      box-shadow: 0px 1px 2px rgba(60, 64, 67, 0.3), 0px 1px 3px 1px rgba(60, 64, 67, 0.15);\n",
              "      fill: #174EA6;\n",
              "    }\n",
              "\n",
              "    [theme=dark] .colab-df-convert {\n",
              "      background-color: #3B4455;\n",
              "      fill: #D2E3FC;\n",
              "    }\n",
              "\n",
              "    [theme=dark] .colab-df-convert:hover {\n",
              "      background-color: #434B5C;\n",
              "      box-shadow: 0px 1px 3px 1px rgba(0, 0, 0, 0.15);\n",
              "      filter: drop-shadow(0px 1px 2px rgba(0, 0, 0, 0.3));\n",
              "      fill: #FFFFFF;\n",
              "    }\n",
              "  </style>\n",
              "\n",
              "      <script>\n",
              "        const buttonEl =\n",
              "          document.querySelector('#df-546873a0-3075-4a9e-9657-a1db35c3b666 button.colab-df-convert');\n",
              "        buttonEl.style.display =\n",
              "          google.colab.kernel.accessAllowed ? 'block' : 'none';\n",
              "\n",
              "        async function convertToInteractive(key) {\n",
              "          const element = document.querySelector('#df-546873a0-3075-4a9e-9657-a1db35c3b666');\n",
              "          const dataTable =\n",
              "            await google.colab.kernel.invokeFunction('convertToInteractive',\n",
              "                                                     [key], {});\n",
              "          if (!dataTable) return;\n",
              "\n",
              "          const docLinkHtml = 'Like what you see? Visit the ' +\n",
              "            '<a target=\"_blank\" href=https://colab.research.google.com/notebooks/data_table.ipynb>data table notebook</a>'\n",
              "            + ' to learn more about interactive tables.';\n",
              "          element.innerHTML = '';\n",
              "          dataTable['output_type'] = 'display_data';\n",
              "          await google.colab.output.renderOutput(dataTable, element);\n",
              "          const docLink = document.createElement('div');\n",
              "          docLink.innerHTML = docLinkHtml;\n",
              "          element.appendChild(docLink);\n",
              "        }\n",
              "      </script>\n",
              "    </div>\n",
              "  </div>\n",
              "  "
            ]
          },
          "metadata": {},
          "execution_count": 26
        }
      ],
      "source": [
        "coords_db.head()"
      ]
    },
    {
      "cell_type": "markdown",
      "metadata": {
        "id": "RxGfeo-sYCK7"
      },
      "source": [
        "And the final step: let's do a `groupby` by column `city_token_cnt` to find out how many addresses have token `город` two times or more."
      ]
    },
    {
      "cell_type": "code",
      "execution_count": 27,
      "metadata": {
        "id": "ij9RzwoCYCK7"
      },
      "outputs": [],
      "source": [
        "stats = coords_db.groupby(['city_token_cnt']).count()"
      ]
    },
    {
      "cell_type": "code",
      "execution_count": 28,
      "metadata": {
        "id": "_KXkwjvRYCK8",
        "colab": {
          "base_uri": "https://localhost:8080/",
          "height": 143
        },
        "outputId": "5302314d-7756-45e6-9764-8096d06299ea"
      },
      "outputs": [
        {
          "output_type": "execute_result",
          "data": {
            "text/plain": [
              "                ADDRESS  coor_x  coor_y\n",
              "city_token_cnt                         \n",
              "1                 24354   24354   24353\n",
              "2                   427     427     427"
            ],
            "text/html": [
              "\n",
              "  <div id=\"df-fd0fa0c5-ff67-4fdf-b6fe-c10939b697e4\">\n",
              "    <div class=\"colab-df-container\">\n",
              "      <div>\n",
              "<style scoped>\n",
              "    .dataframe tbody tr th:only-of-type {\n",
              "        vertical-align: middle;\n",
              "    }\n",
              "\n",
              "    .dataframe tbody tr th {\n",
              "        vertical-align: top;\n",
              "    }\n",
              "\n",
              "    .dataframe thead th {\n",
              "        text-align: right;\n",
              "    }\n",
              "</style>\n",
              "<table border=\"1\" class=\"dataframe\">\n",
              "  <thead>\n",
              "    <tr style=\"text-align: right;\">\n",
              "      <th></th>\n",
              "      <th>ADDRESS</th>\n",
              "      <th>coor_x</th>\n",
              "      <th>coor_y</th>\n",
              "    </tr>\n",
              "    <tr>\n",
              "      <th>city_token_cnt</th>\n",
              "      <th></th>\n",
              "      <th></th>\n",
              "      <th></th>\n",
              "    </tr>\n",
              "  </thead>\n",
              "  <tbody>\n",
              "    <tr>\n",
              "      <th>1</th>\n",
              "      <td>24354</td>\n",
              "      <td>24354</td>\n",
              "      <td>24353</td>\n",
              "    </tr>\n",
              "    <tr>\n",
              "      <th>2</th>\n",
              "      <td>427</td>\n",
              "      <td>427</td>\n",
              "      <td>427</td>\n",
              "    </tr>\n",
              "  </tbody>\n",
              "</table>\n",
              "</div>\n",
              "      <button class=\"colab-df-convert\" onclick=\"convertToInteractive('df-fd0fa0c5-ff67-4fdf-b6fe-c10939b697e4')\"\n",
              "              title=\"Convert this dataframe to an interactive table.\"\n",
              "              style=\"display:none;\">\n",
              "        \n",
              "  <svg xmlns=\"http://www.w3.org/2000/svg\" height=\"24px\"viewBox=\"0 0 24 24\"\n",
              "       width=\"24px\">\n",
              "    <path d=\"M0 0h24v24H0V0z\" fill=\"none\"/>\n",
              "    <path d=\"M18.56 5.44l.94 2.06.94-2.06 2.06-.94-2.06-.94-.94-2.06-.94 2.06-2.06.94zm-11 1L8.5 8.5l.94-2.06 2.06-.94-2.06-.94L8.5 2.5l-.94 2.06-2.06.94zm10 10l.94 2.06.94-2.06 2.06-.94-2.06-.94-.94-2.06-.94 2.06-2.06.94z\"/><path d=\"M17.41 7.96l-1.37-1.37c-.4-.4-.92-.59-1.43-.59-.52 0-1.04.2-1.43.59L10.3 9.45l-7.72 7.72c-.78.78-.78 2.05 0 2.83L4 21.41c.39.39.9.59 1.41.59.51 0 1.02-.2 1.41-.59l7.78-7.78 2.81-2.81c.8-.78.8-2.07 0-2.86zM5.41 20L4 18.59l7.72-7.72 1.47 1.35L5.41 20z\"/>\n",
              "  </svg>\n",
              "      </button>\n",
              "      \n",
              "  <style>\n",
              "    .colab-df-container {\n",
              "      display:flex;\n",
              "      flex-wrap:wrap;\n",
              "      gap: 12px;\n",
              "    }\n",
              "\n",
              "    .colab-df-convert {\n",
              "      background-color: #E8F0FE;\n",
              "      border: none;\n",
              "      border-radius: 50%;\n",
              "      cursor: pointer;\n",
              "      display: none;\n",
              "      fill: #1967D2;\n",
              "      height: 32px;\n",
              "      padding: 0 0 0 0;\n",
              "      width: 32px;\n",
              "    }\n",
              "\n",
              "    .colab-df-convert:hover {\n",
              "      background-color: #E2EBFA;\n",
              "      box-shadow: 0px 1px 2px rgba(60, 64, 67, 0.3), 0px 1px 3px 1px rgba(60, 64, 67, 0.15);\n",
              "      fill: #174EA6;\n",
              "    }\n",
              "\n",
              "    [theme=dark] .colab-df-convert {\n",
              "      background-color: #3B4455;\n",
              "      fill: #D2E3FC;\n",
              "    }\n",
              "\n",
              "    [theme=dark] .colab-df-convert:hover {\n",
              "      background-color: #434B5C;\n",
              "      box-shadow: 0px 1px 3px 1px rgba(0, 0, 0, 0.15);\n",
              "      filter: drop-shadow(0px 1px 2px rgba(0, 0, 0, 0.3));\n",
              "      fill: #FFFFFF;\n",
              "    }\n",
              "  </style>\n",
              "\n",
              "      <script>\n",
              "        const buttonEl =\n",
              "          document.querySelector('#df-fd0fa0c5-ff67-4fdf-b6fe-c10939b697e4 button.colab-df-convert');\n",
              "        buttonEl.style.display =\n",
              "          google.colab.kernel.accessAllowed ? 'block' : 'none';\n",
              "\n",
              "        async function convertToInteractive(key) {\n",
              "          const element = document.querySelector('#df-fd0fa0c5-ff67-4fdf-b6fe-c10939b697e4');\n",
              "          const dataTable =\n",
              "            await google.colab.kernel.invokeFunction('convertToInteractive',\n",
              "                                                     [key], {});\n",
              "          if (!dataTable) return;\n",
              "\n",
              "          const docLinkHtml = 'Like what you see? Visit the ' +\n",
              "            '<a target=\"_blank\" href=https://colab.research.google.com/notebooks/data_table.ipynb>data table notebook</a>'\n",
              "            + ' to learn more about interactive tables.';\n",
              "          element.innerHTML = '';\n",
              "          dataTable['output_type'] = 'display_data';\n",
              "          await google.colab.output.renderOutput(dataTable, element);\n",
              "          const docLink = document.createElement('div');\n",
              "          docLink.innerHTML = docLinkHtml;\n",
              "          element.appendChild(docLink);\n",
              "        }\n",
              "      </script>\n",
              "    </div>\n",
              "  </div>\n",
              "  "
            ]
          },
          "metadata": {},
          "execution_count": 28
        }
      ],
      "source": [
        "stats"
      ]
    },
    {
      "cell_type": "markdown",
      "metadata": {
        "id": "3aq06QG3YCK8"
      },
      "source": [
        "**Question**: how many addresses have token `город` two times or more?"
      ]
    },
    {
      "cell_type": "markdown",
      "metadata": {
        "id": "eem-SXHLYCK8"
      },
      "source": [
        "**Your answer**: 427 "
      ]
    },
    {
      "cell_type": "markdown",
      "metadata": {
        "id": "y2_85IrcYCK9"
      },
      "source": [
        "**Task 2. Count 2-grams [1 point]**\n",
        "\n",
        "For a sequence of tokens `[\"a_1\", \"a_2\", ..., \"a_N\"]` **n-gram** is a subsequence of **n** consecutive tokens.\n",
        "\n",
        "For example: given a sequence of tokens `[\"a\", \"b\", \"c\", \"d\"]` it has:\n",
        "- Four unigrams: `[\"a\"], [\"b\"], [\"c\"], [\"d\"]`\n",
        "- Three 2-grams: `[\"a\", \"b\"], [\"b\", \"c\"], [\"c\", \"d\"]`\n",
        "- Two 3-grams: `[\"a\", \"b\", \"c\"], [\"b\", \"c\", \"d\"]`\n",
        "- One 4-gram: `[\"a\", \"b\", \"c\", \"d\"]`\n",
        "\n",
        "Your task is two find all 2-grams that start with `город` token and count their occurences in all addresses."
      ]
    },
    {
      "cell_type": "markdown",
      "metadata": {
        "id": "jk5X0yyJYCK9"
      },
      "source": [
        "Firstly, impement a function `get_n_grams`:"
      ]
    },
    {
      "cell_type": "code",
      "execution_count": 29,
      "metadata": {
        "id": "rqZIj07sYCK9"
      },
      "outputs": [],
      "source": [
        "def get_n_grams(input_tokens, n):\n",
        "    \"\"\"\n",
        "    input:\n",
        "    - input_tokens: list<str>\n",
        "    - n: int, size of n-grams\n",
        "    output:\n",
        "    - list<list<str>> - list of n-grams\n",
        "    \"\"\"\n",
        "    a=input_tokens\n",
        "    m=len(a)\n",
        "    b=[]\n",
        "    i=0\n",
        "    while (i<m-n+1) :\n",
        "      b.append(a[i:i+n])\n",
        "      i=i+1\n",
        "    return b"
      ]
    },
    {
      "cell_type": "code",
      "execution_count": 30,
      "metadata": {
        "id": "Rwj2kq_FYCK9",
        "colab": {
          "base_uri": "https://localhost:8080/"
        },
        "outputId": "dd8bd535-b419-4c8d-b31a-859aa9cb825f"
      },
      "outputs": [
        {
          "output_type": "stream",
          "name": "stdout",
          "text": [
            "OK, seems fine!\n"
          ]
        }
      ],
      "source": [
        "assert get_n_grams([\"a\", \"b\", \"c\", \"d\"], 1) ==  [['a'], ['b'], ['c'], ['d']]\n",
        "assert get_n_grams([\"a\", \"b\", \"c\", \"d\"], 2) ==  [['a', 'b'], ['b', 'c'], ['c', 'd']]\n",
        "assert get_n_grams([\"a\", \"b\", \"c\", \"d\"], 3) ==  [['a', 'b', 'c'], ['b', 'c', 'd']]\n",
        "assert get_n_grams([\"a\", \"b\", \"c\", \"d\"], 4) ==  [['a', 'b', 'c', 'd']]\n",
        "\n",
        "print(\"OK, seems fine!\")"
      ]
    },
    {
      "cell_type": "markdown",
      "metadata": {
        "id": "NgRQkEc_YCK9"
      },
      "source": [
        "Secondly, define a function that will filter list of n-grams by the first element of an n-gram:"
      ]
    },
    {
      "cell_type": "code",
      "execution_count": 31,
      "metadata": {
        "id": "UZ2Kp78KYCK-"
      },
      "outputs": [],
      "source": [
        "def filter_n_grams(n_grams, lookup_token):\n",
        "    \"\"\"\n",
        "    input:\n",
        "    - n_grams: list<list<str>>\n",
        "    - lookup_token: str\n",
        "    output:\n",
        "    - list<list<str>> - sublist of n-grams first token of which is equal to lookup_token\n",
        "    \"\"\"\n",
        "    a=n_grams\n",
        "    b=[]\n",
        "    for z in a:\n",
        "      if z[0]==lookup_token:\n",
        "        b.append(z)\n",
        "    return(b)\n",
        "    # YOUR CODE HERE"
      ]
    },
    {
      "cell_type": "code",
      "execution_count": 32,
      "metadata": {
        "id": "vZoT_a2MYCK-",
        "colab": {
          "base_uri": "https://localhost:8080/"
        },
        "outputId": "abab7814-a4be-4b1c-9dd8-39073f2fd7b6"
      },
      "outputs": [
        {
          "output_type": "stream",
          "name": "stdout",
          "text": [
            "Seems fine!\n"
          ]
        }
      ],
      "source": [
        "assert filter_n_grams([\n",
        "    [\"a\", \"b\"], \n",
        "    [\"a\", \"c\"],\n",
        "    [\"b\", \"d\"],\n",
        "    [\"d\", \"a\"]\n",
        "    ], \n",
        "    \"a\") == [[\"a\", \"b\"], [\"a\", \"c\"]] \n",
        "\n",
        "print(\"Seems fine!\")"
      ]
    },
    {
      "cell_type": "markdown",
      "metadata": {
        "id": "SRxfks6EYCK-"
      },
      "source": [
        "Back to our dataset. Leave rows with `city_token_cnt >= 2`"
      ]
    },
    {
      "cell_type": "code",
      "execution_count": 33,
      "metadata": {
        "id": "D-2Xs6jvYCK_",
        "colab": {
          "base_uri": "https://localhost:8080/",
          "height": 267
        },
        "outputId": "1ef73743-99b4-4ba0-bacc-d0a2a8c264a2"
      },
      "outputs": [
        {
          "output_type": "stream",
          "name": "stdout",
          "text": [
            "(427, 4)\n"
          ]
        },
        {
          "output_type": "execute_result",
          "data": {
            "text/plain": [
              "                                         ADDRESS     coor_x     coor_y  \\\n",
              "40   город Москва, город Зеленоград, корпус 1212  37.193861  55.992106   \n",
              "193  город Москва, город Зеленоград, корпус 1459  37.162394  55.984514   \n",
              "220  город Москва, город Зеленоград, корпус 1215  37.190049  55.994432   \n",
              "282  город Москва, город Зеленоград, корпус 1110  37.188728  55.999289   \n",
              "363   город Москва, город Зеленоград, корпус 115  37.204655  56.008116   \n",
              "\n",
              "     city_token_cnt  \n",
              "40                2  \n",
              "193               2  \n",
              "220               2  \n",
              "282               2  \n",
              "363               2  "
            ],
            "text/html": [
              "\n",
              "  <div id=\"df-a1f203b7-ade9-4133-a049-bd41849d2b49\">\n",
              "    <div class=\"colab-df-container\">\n",
              "      <div>\n",
              "<style scoped>\n",
              "    .dataframe tbody tr th:only-of-type {\n",
              "        vertical-align: middle;\n",
              "    }\n",
              "\n",
              "    .dataframe tbody tr th {\n",
              "        vertical-align: top;\n",
              "    }\n",
              "\n",
              "    .dataframe thead th {\n",
              "        text-align: right;\n",
              "    }\n",
              "</style>\n",
              "<table border=\"1\" class=\"dataframe\">\n",
              "  <thead>\n",
              "    <tr style=\"text-align: right;\">\n",
              "      <th></th>\n",
              "      <th>ADDRESS</th>\n",
              "      <th>coor_x</th>\n",
              "      <th>coor_y</th>\n",
              "      <th>city_token_cnt</th>\n",
              "    </tr>\n",
              "  </thead>\n",
              "  <tbody>\n",
              "    <tr>\n",
              "      <th>40</th>\n",
              "      <td>город Москва, город Зеленоград, корпус 1212</td>\n",
              "      <td>37.193861</td>\n",
              "      <td>55.992106</td>\n",
              "      <td>2</td>\n",
              "    </tr>\n",
              "    <tr>\n",
              "      <th>193</th>\n",
              "      <td>город Москва, город Зеленоград, корпус 1459</td>\n",
              "      <td>37.162394</td>\n",
              "      <td>55.984514</td>\n",
              "      <td>2</td>\n",
              "    </tr>\n",
              "    <tr>\n",
              "      <th>220</th>\n",
              "      <td>город Москва, город Зеленоград, корпус 1215</td>\n",
              "      <td>37.190049</td>\n",
              "      <td>55.994432</td>\n",
              "      <td>2</td>\n",
              "    </tr>\n",
              "    <tr>\n",
              "      <th>282</th>\n",
              "      <td>город Москва, город Зеленоград, корпус 1110</td>\n",
              "      <td>37.188728</td>\n",
              "      <td>55.999289</td>\n",
              "      <td>2</td>\n",
              "    </tr>\n",
              "    <tr>\n",
              "      <th>363</th>\n",
              "      <td>город Москва, город Зеленоград, корпус 115</td>\n",
              "      <td>37.204655</td>\n",
              "      <td>56.008116</td>\n",
              "      <td>2</td>\n",
              "    </tr>\n",
              "  </tbody>\n",
              "</table>\n",
              "</div>\n",
              "      <button class=\"colab-df-convert\" onclick=\"convertToInteractive('df-a1f203b7-ade9-4133-a049-bd41849d2b49')\"\n",
              "              title=\"Convert this dataframe to an interactive table.\"\n",
              "              style=\"display:none;\">\n",
              "        \n",
              "  <svg xmlns=\"http://www.w3.org/2000/svg\" height=\"24px\"viewBox=\"0 0 24 24\"\n",
              "       width=\"24px\">\n",
              "    <path d=\"M0 0h24v24H0V0z\" fill=\"none\"/>\n",
              "    <path d=\"M18.56 5.44l.94 2.06.94-2.06 2.06-.94-2.06-.94-.94-2.06-.94 2.06-2.06.94zm-11 1L8.5 8.5l.94-2.06 2.06-.94-2.06-.94L8.5 2.5l-.94 2.06-2.06.94zm10 10l.94 2.06.94-2.06 2.06-.94-2.06-.94-.94-2.06-.94 2.06-2.06.94z\"/><path d=\"M17.41 7.96l-1.37-1.37c-.4-.4-.92-.59-1.43-.59-.52 0-1.04.2-1.43.59L10.3 9.45l-7.72 7.72c-.78.78-.78 2.05 0 2.83L4 21.41c.39.39.9.59 1.41.59.51 0 1.02-.2 1.41-.59l7.78-7.78 2.81-2.81c.8-.78.8-2.07 0-2.86zM5.41 20L4 18.59l7.72-7.72 1.47 1.35L5.41 20z\"/>\n",
              "  </svg>\n",
              "      </button>\n",
              "      \n",
              "  <style>\n",
              "    .colab-df-container {\n",
              "      display:flex;\n",
              "      flex-wrap:wrap;\n",
              "      gap: 12px;\n",
              "    }\n",
              "\n",
              "    .colab-df-convert {\n",
              "      background-color: #E8F0FE;\n",
              "      border: none;\n",
              "      border-radius: 50%;\n",
              "      cursor: pointer;\n",
              "      display: none;\n",
              "      fill: #1967D2;\n",
              "      height: 32px;\n",
              "      padding: 0 0 0 0;\n",
              "      width: 32px;\n",
              "    }\n",
              "\n",
              "    .colab-df-convert:hover {\n",
              "      background-color: #E2EBFA;\n",
              "      box-shadow: 0px 1px 2px rgba(60, 64, 67, 0.3), 0px 1px 3px 1px rgba(60, 64, 67, 0.15);\n",
              "      fill: #174EA6;\n",
              "    }\n",
              "\n",
              "    [theme=dark] .colab-df-convert {\n",
              "      background-color: #3B4455;\n",
              "      fill: #D2E3FC;\n",
              "    }\n",
              "\n",
              "    [theme=dark] .colab-df-convert:hover {\n",
              "      background-color: #434B5C;\n",
              "      box-shadow: 0px 1px 3px 1px rgba(0, 0, 0, 0.15);\n",
              "      filter: drop-shadow(0px 1px 2px rgba(0, 0, 0, 0.3));\n",
              "      fill: #FFFFFF;\n",
              "    }\n",
              "  </style>\n",
              "\n",
              "      <script>\n",
              "        const buttonEl =\n",
              "          document.querySelector('#df-a1f203b7-ade9-4133-a049-bd41849d2b49 button.colab-df-convert');\n",
              "        buttonEl.style.display =\n",
              "          google.colab.kernel.accessAllowed ? 'block' : 'none';\n",
              "\n",
              "        async function convertToInteractive(key) {\n",
              "          const element = document.querySelector('#df-a1f203b7-ade9-4133-a049-bd41849d2b49');\n",
              "          const dataTable =\n",
              "            await google.colab.kernel.invokeFunction('convertToInteractive',\n",
              "                                                     [key], {});\n",
              "          if (!dataTable) return;\n",
              "\n",
              "          const docLinkHtml = 'Like what you see? Visit the ' +\n",
              "            '<a target=\"_blank\" href=https://colab.research.google.com/notebooks/data_table.ipynb>data table notebook</a>'\n",
              "            + ' to learn more about interactive tables.';\n",
              "          element.innerHTML = '';\n",
              "          dataTable['output_type'] = 'display_data';\n",
              "          await google.colab.output.renderOutput(dataTable, element);\n",
              "          const docLink = document.createElement('div');\n",
              "          docLink.innerHTML = docLinkHtml;\n",
              "          element.appendChild(docLink);\n",
              "        }\n",
              "      </script>\n",
              "    </div>\n",
              "  </div>\n",
              "  "
            ]
          },
          "metadata": {},
          "execution_count": 33
        }
      ],
      "source": [
        "sub_db = coords_db[coords_db['city_token_cnt']>=2]\n",
        "print(sub_db.shape)\n",
        "sub_db.head(5)"
      ]
    },
    {
      "cell_type": "markdown",
      "metadata": {
        "id": "YoYLHI3BYCK_"
      },
      "source": [
        "Let's build a dict that contains counts of 2-grams: \n",
        "```\n",
        "{\n",
        "    \"город x\": cnt_x,\n",
        "    \"город y\": cnt_y,\n",
        "     ...\n",
        "    \"город N\": cnt_N\n",
        "      \n",
        "}\n",
        "```\n",
        "Note that key is a string `\"город x\"`, not a list `[\"город\", \"x\"]` - list cannot be a key in a dict."
      ]
    },
    {
      "cell_type": "code",
      "execution_count": 34,
      "metadata": {
        "id": "Zshi3TJiYCK_"
      },
      "outputs": [],
      "source": [
        "counter_dict = {}\n",
        "for address in sub_db[\"ADDRESS\"]:\n",
        "    tokens = tokenize_address(address)\n",
        "    n_grams =get_n_grams(tokens, 2)\n",
        "    filtered_n_grams = filter_n_grams(n_grams, \"город\")\n",
        " #   print(filtered_n_grams)\n",
        "    for x in filtered_n_grams:\n",
        "      key = x[0]+' '+x[1]\n",
        "      counter_dict[key] = 1 if key not in counter_dict else counter_dict[key] + 1"
      ]
    },
    {
      "cell_type": "code",
      "execution_count": 35,
      "metadata": {
        "scrolled": true,
        "id": "7EwVOe27YCK_",
        "colab": {
          "base_uri": "https://localhost:8080/"
        },
        "outputId": "d5e95051-7a48-46e1-e38a-47f726d0f0b5"
      },
      "outputs": [
        {
          "output_type": "execute_result",
          "data": {
            "text/plain": [
              "{'город москва': 427,\n",
              " 'город зеленоград': 396,\n",
              " 'город московский': 7,\n",
              " 'город троицк': 19,\n",
              " 'город щербинка': 5}"
            ]
          },
          "metadata": {},
          "execution_count": 35
        }
      ],
      "source": [
        "counter_dict"
      ]
    },
    {
      "cell_type": "markdown",
      "metadata": {
        "id": "i3o3LVJEYCK_"
      },
      "source": [
        "**Task 3. Garden Ring houses scatterplot [1 points]**\n",
        "\n",
        "We need to find houses that are located near the Garden Ring. There can be a lot of definitions of *near* - but in our case *near* means inside a polygon. Inner and outer polygon points can be found in files: `inner_poly.csv` and `outer_poly.csv` respectively."
      ]
    },
    {
      "cell_type": "code",
      "execution_count": 36,
      "metadata": {
        "id": "hfLr108DYCLA",
        "colab": {
          "base_uri": "https://localhost:8080/"
        },
        "outputId": "3fda8bf7-9ef6-4ea0-8067-cad718e4df67"
      },
      "outputs": [
        {
          "output_type": "stream",
          "name": "stdout",
          "text": [
            "[[37.60125247 55.59924935]\n",
            " [37.82811483 55.7174932 ]\n",
            " [37.66809323 55.76622383]\n",
            " ...\n",
            " [37.29881747 55.48862934]\n",
            " [37.48510324 55.64497875]\n",
            " [37.4566             nan]]\n"
          ]
        }
      ],
      "source": [
        "inner_poly = pd.read_csv(\"data/inner_poly.csv\", header=None).values\n",
        "outer_poly = pd.read_csv(\"data/outer_poly.csv\", header=None).values\n",
        "house_points = coords_db[[\"coor_x\", \"coor_y\"]].values\n",
        "print(house_points)"
      ]
    },
    {
      "cell_type": "markdown",
      "metadata": {
        "id": "4BmDaZXtYCLA"
      },
      "source": [
        "Let's scatter plot the points:"
      ]
    },
    {
      "cell_type": "code",
      "execution_count": 37,
      "metadata": {
        "id": "wlHm4K9uYCLA",
        "colab": {
          "base_uri": "https://localhost:8080/",
          "height": 499
        },
        "outputId": "c03162eb-be67-405e-d161-e168f9a85107"
      },
      "outputs": [
        {
          "output_type": "display_data",
          "data": {
            "text/plain": [
              "<Figure size 576x576 with 1 Axes>"
            ],
            "image/png": "[encoded data removed]"
          },
          "metadata": {
            "needs_background": "light"
          }
        }
      ],
      "source": [
        "plt.figure(figsize=(8, 8))\n",
        "plt.title(\"Moscow Houses\")\n",
        "plt.scatter(house_points[:, 0], house_points[:, 1], linewidths=0.001, c=\"grey\")\n",
        "plt.scatter(inner_poly[:, 0], inner_poly[:, 1], linewidths=0.005, c=\"b\")\n",
        "plt.scatter(outer_poly[:, 0], outer_poly[:, 1], linewidths=0.005, c=\"r\")\n",
        "plt.show()"
      ]
    },
    {
      "cell_type": "markdown",
      "metadata": {
        "id": "GL7XIBlDYCLB"
      },
      "source": [
        "Ooooops seems a bit wrong. \n",
        "\n",
        "**Question**: why does the plot look so strange? How to fix it?"
      ]
    },
    {
      "cell_type": "markdown",
      "metadata": {
        "id": "2uU_WdQ5YCLB"
      },
      "source": [
        "**Your answer:** данные у-координаты последнего домика отсутствуют в исходном наборе данных, там стоит nan. Поэтому масштаб картинки с учётом этой координаты получается огромный. Надо удостовериться, что в наших данных не будет подобных выбросов, и убрать лишнюю информацию"
      ]
    },
    {
      "cell_type": "markdown",
      "metadata": {
        "id": "KYuFg_QmYCLB"
      },
      "source": [
        "Now fix the `house_points` array, remove a set of points in the bottom left corner:"
      ]
    },
    {
      "cell_type": "code",
      "execution_count": 38,
      "metadata": {
        "id": "zq_BKiVnYCLC"
      },
      "outputs": [],
      "source": [
        "house_points = house_points[house_points[:,1]>0 ]"
      ]
    },
    {
      "cell_type": "markdown",
      "metadata": {
        "id": "ArNJWUs1YCLC"
      },
      "source": [
        "And scatter it again:"
      ]
    },
    {
      "cell_type": "code",
      "execution_count": 39,
      "metadata": {
        "id": "OUGNq9JoYCLC",
        "colab": {
          "base_uri": "https://localhost:8080/",
          "height": 499
        },
        "outputId": "dd02c5a8-6c4f-44cd-b57e-def4fa0a8f3c"
      },
      "outputs": [
        {
          "output_type": "display_data",
          "data": {
            "text/plain": [
              "<Figure size 576x576 with 1 Axes>"
            ],
            "image/png": "[encoded data removed]"
          },
          "metadata": {
            "needs_background": "light"
          }
        }
      ],
      "source": [
        "plt.figure(figsize=(8, 8))\n",
        "plt.title(\"Moscow Houses\")\n",
        "plt.scatter(house_points[:, 0], house_points[:, 1], linewidths=0.001, c=\"grey\")\n",
        "plt.scatter(inner_poly[:, 0], inner_poly[:, 1], linewidths=0.005, c=\"b\")\n",
        "plt.scatter(outer_poly[:, 0], outer_poly[:, 1], linewidths=0.005, c=\"r\")\n",
        "plt.show()"
      ]
    },
    {
      "cell_type": "markdown",
      "metadata": {
        "id": "0r80EXSfYCLD"
      },
      "source": [
        "Let's do a little zoom-in: filter `house_points` and leave points in some **small square** near the garden ring. The choice of the size of the square is up to you, but the outer poly should be inside this square.\n",
        "\n",
        "I have already defined a small square, but you can change its sizes."
      ]
    },
    {
      "cell_type": "code",
      "execution_count": 40,
      "metadata": {
        "id": "FgqnyWZdYCLD"
      },
      "outputs": [],
      "source": [
        "lower_x = 37.56\n",
        "upper_x = 37.68\n",
        "lower_y = 55.70\n",
        "upper_y = 55.80\n",
        "\n",
        "def filter_points_by_square(input_array, lower_x, upper_x, lower_y, upper_y):\n",
        "    input_array=input_array[input_array[:,0]<upper_x]\n",
        "    input_array=input_array[input_array[:,0]>lower_x]\n",
        "    input_array=input_array[input_array[:,1]<upper_y]\n",
        "    input_array=input_array[input_array[:,1]>lower_y]\n",
        "    return input_array"
      ]
    },
    {
      "cell_type": "code",
      "execution_count": 41,
      "metadata": {
        "id": "cUgRdbEIYCLD"
      },
      "outputs": [],
      "source": [
        "small_square_points = filter_points_by_square(house_points, lower_x, upper_x, lower_y, upper_y)"
      ]
    },
    {
      "cell_type": "code",
      "execution_count": 42,
      "metadata": {
        "id": "0bEoMI_gYCLE",
        "colab": {
          "base_uri": "https://localhost:8080/",
          "height": 499
        },
        "outputId": "c03c7f09-5a92-478a-ff16-1e0125e4c8ec"
      },
      "outputs": [
        {
          "output_type": "display_data",
          "data": {
            "text/plain": [
              "<Figure size 576x576 with 1 Axes>"
            ],
            "image/png": "[encoded data removed]"
          },
          "metadata": {
            "needs_background": "light"
          }
        }
      ],
      "source": [
        "plt.figure(figsize=(8, 8))\n",
        "plt.title(\"Houses in city center\")\n",
        "plt.scatter(small_square_points[:, 0], small_square_points[:, 1], linewidths=0.001, c=\"grey\")\n",
        "plt.scatter(inner_poly[:, 0], inner_poly[:, 1], linewidths=0.005, c=\"b\")\n",
        "plt.scatter(outer_poly[:, 0], outer_poly[:, 1], linewidths=0.005, c=\"r\")\n",
        "plt.show()"
      ]
    },
    {
      "cell_type": "markdown",
      "metadata": {
        "id": "OyrFNzBMYCLE"
      },
      "source": [
        "**Task 4. Houses in a polygon [2 points]**\n",
        "\n",
        "Implement a function, that by two coordinates of a point and list of coordinates of the polygon tells whether this point is inside a polygon or not.\n",
        "\n",
        "You may define as many others functions as you want.\n",
        "\n",
        "*Hint: the polygons may be regarded as convex.*"
      ]
    },
    {
      "cell_type": "markdown",
      "metadata": {
        "id": "Ki_a0gEEYCLF"
      },
      "source": [
        "**Question:** what algorithm to decide whether the point is inside will you implement? Why is it supposed to work?"
      ]
    },
    {
      "cell_type": "markdown",
      "metadata": {
        "id": "WK_TEn3_YCLF"
      },
      "source": [
        "**Your answer:** проведём луч из точки в любую сторону. если он пересечёт границу многоугольника 0 раз или 2 раза - точка лежит вне многоугольника, если 1 раз - внутри. Так будет для любой точки на изображении, но надо проследить, чтобы луч не пересёк вершину многоугольника. Других вариантов нет. "
      ]
    },
    {
      "cell_type": "code",
      "execution_count": 43,
      "metadata": {
        "id": "fL7eKNHgYCLF"
      },
      "outputs": [],
      "source": [
        "# построим минимальную выпуклую оболочку алгоритмом Грэмхэма (https://www.cyberforum.ru/python-science/thread1902097.html)\n",
        "def rotate(A,B,C):\n",
        "  return (B[0]-A[0])*(C[1]-B[1])-(B[1]-A[1])*(C[0]-B[0])\n",
        "def grahamscan(A):\n",
        "    n = len(A) # число точек\n",
        "   # print(n)\n",
        "    P = list(range(n)) # список номеров точек\n",
        "    for i in range(1,n):\n",
        "        if A[P[i]][0] < A[P[0]][0]: # если P[i]-ая точка лежит левее P[0]-ой точки\n",
        "            P[i], P[0] = P[0], P[i] # меняем местами номера этих точек\n",
        "    for i in range(2,n): # сортировка вставкой\n",
        "        j = i\n",
        "        while j > 1 and (rotate(A[P[0]],A[P[j-1]],A[P[j]]) < 0):\n",
        "            P[j], P[j-1] = P[j-1], P[j]\n",
        "            j -= 1\n",
        "    S = [P[0],P[1]] # создаем стек\n",
        "    for i in range(2,n):\n",
        "        while rotate(A[S[-2]],A[S[-1]],A[P[i]]) < 0:\n",
        "            del S[-1] # pop(S)\n",
        "        S.append(P[i]) # push(S,P[i])#\n",
        "    polygon=[]\n",
        "    for i in S:\n",
        "      polygon.append([A[i][0],A[i][1]])\n",
        "    return np.array(polygon)\n"
      ]
    },
    {
      "cell_type": "code",
      "execution_count": 44,
      "metadata": {
        "id": "uSu5qo9xYCLG",
        "colab": {
          "base_uri": "https://localhost:8080/"
        },
        "outputId": "c1261d96-e797-47a6-d38b-896631dab346"
      },
      "outputs": [
        {
          "output_type": "stream",
          "name": "stdout",
          "text": [
            "True\n"
          ]
        }
      ],
      "source": [
        "#https://stackoverflow.com/questions/36399381/whats-the-fastest-way-of-checking-if-a-point-is-inside-a-polygon-in-python\n",
        "\n",
        "def point_is_inside(point,poly):\n",
        "    x=point[0]\n",
        "    y=point[1]\n",
        "    n = len(poly)\n",
        "    inside = False\n",
        "    p1x,p1y = poly[0]\n",
        "    for i in range(n+1):\n",
        "        p2x,p2y = poly[i % n]\n",
        "        if y > min(p1y,p2y):\n",
        "            if y <= max(p1y,p2y):\n",
        "                if x <= max(p1x,p2x):\n",
        "                    if p1y != p2y:\n",
        "                        xints = (y-p1y)*(p2x-p1x)/(p2y-p1y)+p1x\n",
        "                    if p1x == p2x or x <= xints:\n",
        "                        inside = not inside\n",
        "        p1x,p1y = p2x,p2y\n",
        "\n",
        "    return inside\n",
        "    \"\"\"\n",
        "    input:\n",
        "    - point np.array of (1, 2) shape\n",
        "    - polygon_points np.array of (N, 2) shape\n",
        "    output:\n",
        "    - bool True if point is inside, false if point is outside\n",
        "    \"\"\"\n",
        "print( point_is_inside([37.63, 55.75], grahamscan( inner_poly )))\n",
        "# YOUR CODE HERE"
      ]
    },
    {
      "cell_type": "markdown",
      "metadata": {
        "id": "istw8MVWYCLG"
      },
      "source": [
        "And the final part! \n",
        "\n",
        "Scatter plot `small_square_points` again, but with 3 different colours:\n",
        "- colour 1: points inside inner poly\n",
        "- colour 2: points outside outer poly\n",
        "- colour 3: points between inner and outer polys"
      ]
    },
    {
      "cell_type": "code",
      "execution_count": 45,
      "metadata": {
        "id": "klcXTdzwYCLH",
        "colab": {
          "base_uri": "https://localhost:8080/",
          "height": 516
        },
        "outputId": "a3f598e8-d889-49f9-d7f5-ade137df84ee"
      },
      "outputs": [
        {
          "output_type": "stream",
          "name": "stdout",
          "text": [
            "1597 924 2809\n"
          ]
        },
        {
          "output_type": "display_data",
          "data": {
            "text/plain": [
              "<Figure size 576x576 with 1 Axes>"
            ],
            "image/png": "[encoded data removed]"
          },
          "metadata": {
            "needs_background": "light"
          }
        }
      ],
      "source": [
        "red=[]\n",
        "blue=[]\n",
        "green=[]\n",
        "inner=grahamscan(inner_poly)\n",
        "outer=grahamscan(outer_poly)\n",
        "summin=0\n",
        "summout=0\n",
        "for x in small_square_points:\n",
        "  xin=point_is_inside(x, inner)\n",
        "  xout=point_is_inside(x, outer)\n",
        "  if((xin==True)  & (xout==True)):\n",
        "    red.append(x)\n",
        "  if((xin==False)&(xout==True)):\n",
        "    blue.append(x)\n",
        "    blue.append(x)\n",
        "  if((xin==False)&(xout==False)):\n",
        "    green.append(x)\n",
        "red=np.array(red)\n",
        "blue=np.array(blue)\n",
        "green=np.array(green)\n",
        "plt.figure(figsize=(8, 8))\n",
        "plt.title(\"Houses in city center\")\n",
        "plt.scatter(red[:, 0], red[:, 1], linewidths=0.001, c=\"red\")\n",
        "plt.scatter(blue[:, 0],blue[:, 1], linewidths=0.001, c=\"blue\")\n",
        "plt.scatter(green[:, 0], green[:, 1], linewidths=0.001, c=\"green\")\n",
        "plt.show\n",
        "\n",
        "print(len(red),len(blue),len(green))"
      ]
    },
    {
      "cell_type": "markdown",
      "metadata": {
        "id": "OZ5k5hRgYCLH"
      },
      "source": [
        "**Question:** How many points are there between inner and outer polys?"
      ]
    },
    {
      "cell_type": "markdown",
      "metadata": {
        "id": "MPoy6M83YCLH"
      },
      "source": [
        "**Your answer:** 924"
      ]
    },
    {
      "cell_type": "markdown",
      "metadata": {
        "id": "av7h8ThBYCLI"
      },
      "source": [
        "# Part 3. Titanic Dataset - Stats and Plots [8 points]\n",
        "\n",
        "\n",
        "In this part we are going to analyze the \"Titanic dataset\".\n",
        "The main goal of this task is to describe the data.\n",
        "\n",
        "Here are some tips:\n",
        "- use plots\n",
        "- notice pecualrities in the data\n",
        "- present verbal explanations, don't be too shy\n",
        "\n",
        "**Important** Please pay attention to your plots: titles, axis-labels and legends are necessary.\n",
        "\n",
        "These  tasks involve `numpy`, `pandas` and `matplotlib` - very common python modules. In one task you may use `scipy`."
      ]
    },
    {
      "cell_type": "markdown",
      "metadata": {
        "id": "HVwr-zrOYCLI"
      },
      "source": [
        "#### Input data\n",
        "This task uses 2 files:\n",
        "- `passengers_record.csv` contains some general information on passengers (name, class, age, etc.)\n",
        "- `survival_info.csv` contains binary labels whether passenger survived or not"
      ]
    },
    {
      "cell_type": "code",
      "execution_count": 145,
      "metadata": {
        "id": "EElAUcRhYCLI"
      },
      "outputs": [],
      "source": [
        "import pandas as pd\n",
        "import matplotlib.pyplot as plt\n",
        "%matplotlib inline"
      ]
    },
    {
      "cell_type": "markdown",
      "metadata": {
        "id": "PUpQ5VsNYCLJ"
      },
      "source": [
        "**Task 1. [1 point]**\n",
        "\n",
        "Read these files and join them into single dataset (use `passenger_id` as join key). Then provide some description of the dataset: \n",
        "- What are age/gender/class distributions and their averages? How many people belong to each group?\n",
        "- Find the oldest/youngest passangers in every class\n",
        "- Compare survival rates between classes/age groups/genders (configuration of age groups is up to you)"
      ]
    },
    {
      "cell_type": "code",
      "execution_count": 146,
      "metadata": {
        "id": "F794FvlnYCLJ"
      },
      "outputs": [],
      "source": [
        "passengers_record = pd.read_csv(\"data/passengers_record.csv\")\n",
        "survival_info = pd.read_csv(\"data/survival_info.csv\")\n",
        "\n",
        "assert passengers_record.shape == (891, 11) and survival_info.shape == (891, 2), \"Wrong db shapes\""
      ]
    },
    {
      "cell_type": "code",
      "execution_count": 147,
      "metadata": {
        "id": "Nus4LHyHYCLK",
        "colab": {
          "base_uri": "https://localhost:8080/"
        },
        "outputId": "37992b2a-d314-4551-ad64-eedd36f77723"
      },
      "outputs": [
        {
          "output_type": "stream",
          "name": "stdout",
          "text": [
            "     PassengerId  Pclass                                               Name  \\\n",
            "0              1       3                            Braund, Mr. Owen Harris   \n",
            "1              2       1  Cumings, Mrs. John Bradley (Florence Briggs Th...   \n",
            "2              3       3                             Heikkinen, Miss. Laina   \n",
            "3              4       1       Futrelle, Mrs. Jacques Heath (Lily May Peel)   \n",
            "4              5       3                           Allen, Mr. William Henry   \n",
            "..           ...     ...                                                ...   \n",
            "886          887       2                              Montvila, Rev. Juozas   \n",
            "887          888       1                       Graham, Miss. Margaret Edith   \n",
            "888          889       3           Johnston, Miss. Catherine Helen \"Carrie\"   \n",
            "889          890       1                              Behr, Mr. Karl Howell   \n",
            "890          891       3                                Dooley, Mr. Patrick   \n",
            "\n",
            "        Sex   Age  SibSp  Parch            Ticket     Fare Cabin Embarked  \\\n",
            "0      male  22.0      1      0         A/5 21171   7.2500   NaN        S   \n",
            "1    female  38.0      1      0          PC 17599  71.2833   C85        C   \n",
            "2    female  26.0      0      0  STON/O2. 3101282   7.9250   NaN        S   \n",
            "3    female  35.0      1      0            113803  53.1000  C123        S   \n",
            "4      male  35.0      0      0            373450   8.0500   NaN        S   \n",
            "..      ...   ...    ...    ...               ...      ...   ...      ...   \n",
            "886    male  27.0      0      0            211536  13.0000   NaN        S   \n",
            "887  female  19.0      0      0            112053  30.0000   B42        S   \n",
            "888  female   NaN      1      2        W./C. 6607  23.4500   NaN        S   \n",
            "889    male  26.0      0      0            111369  30.0000  C148        C   \n",
            "890    male  32.0      0      0            370376   7.7500   NaN        Q   \n",
            "\n",
            "     Survived  \n",
            "0           0  \n",
            "1           1  \n",
            "2           1  \n",
            "3           1  \n",
            "4           0  \n",
            "..        ...  \n",
            "886         0  \n",
            "887         1  \n",
            "888         0  \n",
            "889         1  \n",
            "890         0  \n",
            "\n",
            "[891 rows x 12 columns]\n"
          ]
        }
      ],
      "source": [
        "table=pd.merge(passengers_record, survival_info, on='PassengerId')\n",
        "print(table)\n",
        "import pandas as pd\n",
        "import numpy as np\n",
        "mytable=table.get([\"Age\",\"Sex\",\"Pclass\"])\n",
        "listofones = [1] * 891\n",
        "ones = pd.DataFrame({\"howmany\": listofones})\n",
        "mytable= mytable.join(ones)\n",
        "\n"
      ]
    },
    {
      "cell_type": "code",
      "source": [
        "mymtable = mytable[mytable['Age']>=0]\n",
        "stats = mymtable.groupby([\"Age\"]).count()\n",
        "display(stats)\n",
        "\n",
        "a=stats['howmany'].axes[0]\n",
        "b=stats['howmany']\n",
        "sum=stats['howmany'].sum()\n",
        "print('sum',sum)\n",
        "x=list(a)\n",
        "print('x',x)\n",
        "y=list(b)\n",
        "print('y',y)\n",
        "#plt.figure(figsize=(100, 18))\n",
        "plt.title(\"Value counts in $y$\")\n",
        "plt.bar(x, y)\n",
        "#plt.xticks(x)\n",
        "plt.xlabel(\"Age\")\n",
        "plt.ylabel(\"Count\")\n",
        "plt.show()\n",
        "\n",
        "print('mean=',table.mean()['Age'])\n",
        "print((np.array(x)*np.array(y)).sum()/(np.array(y)).sum())"
      ],
      "metadata": {
        "colab": {
          "base_uri": "https://localhost:8080/",
          "height": 859
        },
        "id": "WkuLpOR1UKCH",
        "outputId": "7e56e345-001c-4d0f-8dea-470fc478a9f6"
      },
      "execution_count": 148,
      "outputs": [
        {
          "output_type": "display_data",
          "data": {
            "text/plain": [
              "       Sex  Pclass  howmany\n",
              "Age                        \n",
              "0.42     1       1        1\n",
              "0.67     1       1        1\n",
              "0.75     2       2        2\n",
              "0.83     2       2        2\n",
              "0.92     1       1        1\n",
              "...    ...     ...      ...\n",
              "70.00    2       2        2\n",
              "70.50    1       1        1\n",
              "71.00    2       2        2\n",
              "74.00    1       1        1\n",
              "80.00    1       1        1\n",
              "\n",
              "[88 rows x 3 columns]"
            ],
            "text/html": [
              "\n",
              "  <div id=\"df-89be4f0b-95fa-407c-a2fc-cbd7abd0d516\">\n",
              "    <div class=\"colab-df-container\">\n",
              "      <div>\n",
              "<style scoped>\n",
              "    .dataframe tbody tr th:only-of-type {\n",
              "        vertical-align: middle;\n",
              "    }\n",
              "\n",
              "    .dataframe tbody tr th {\n",
              "        vertical-align: top;\n",
              "    }\n",
              "\n",
              "    .dataframe thead th {\n",
              "        text-align: right;\n",
              "    }\n",
              "</style>\n",
              "<table border=\"1\" class=\"dataframe\">\n",
              "  <thead>\n",
              "    <tr style=\"text-align: right;\">\n",
              "      <th></th>\n",
              "      <th>Sex</th>\n",
              "      <th>Pclass</th>\n",
              "      <th>howmany</th>\n",
              "    </tr>\n",
              "    <tr>\n",
              "      <th>Age</th>\n",
              "      <th></th>\n",
              "      <th></th>\n",
              "      <th></th>\n",
              "    </tr>\n",
              "  </thead>\n",
              "  <tbody>\n",
              "    <tr>\n",
              "      <th>0.42</th>\n",
              "      <td>1</td>\n",
              "      <td>1</td>\n",
              "      <td>1</td>\n",
              "    </tr>\n",
              "    <tr>\n",
              "      <th>0.67</th>\n",
              "      <td>1</td>\n",
              "      <td>1</td>\n",
              "      <td>1</td>\n",
              "    </tr>\n",
              "    <tr>\n",
              "      <th>0.75</th>\n",
              "      <td>2</td>\n",
              "      <td>2</td>\n",
              "      <td>2</td>\n",
              "    </tr>\n",
              "    <tr>\n",
              "      <th>0.83</th>\n",
              "      <td>2</td>\n",
              "      <td>2</td>\n",
              "      <td>2</td>\n",
              "    </tr>\n",
              "    <tr>\n",
              "      <th>0.92</th>\n",
              "      <td>1</td>\n",
              "      <td>1</td>\n",
              "      <td>1</td>\n",
              "    </tr>\n",
              "    <tr>\n",
              "      <th>...</th>\n",
              "      <td>...</td>\n",
              "      <td>...</td>\n",
              "      <td>...</td>\n",
              "    </tr>\n",
              "    <tr>\n",
              "      <th>70.00</th>\n",
              "      <td>2</td>\n",
              "      <td>2</td>\n",
              "      <td>2</td>\n",
              "    </tr>\n",
              "    <tr>\n",
              "      <th>70.50</th>\n",
              "      <td>1</td>\n",
              "      <td>1</td>\n",
              "      <td>1</td>\n",
              "    </tr>\n",
              "    <tr>\n",
              "      <th>71.00</th>\n",
              "      <td>2</td>\n",
              "      <td>2</td>\n",
              "      <td>2</td>\n",
              "    </tr>\n",
              "    <tr>\n",
              "      <th>74.00</th>\n",
              "      <td>1</td>\n",
              "      <td>1</td>\n",
              "      <td>1</td>\n",
              "    </tr>\n",
              "    <tr>\n",
              "      <th>80.00</th>\n",
              "      <td>1</td>\n",
              "      <td>1</td>\n",
              "      <td>1</td>\n",
              "    </tr>\n",
              "  </tbody>\n",
              "</table>\n",
              "<p>88 rows × 3 columns</p>\n",
              "</div>\n",
              "      <button class=\"colab-df-convert\" onclick=\"convertToInteractive('df-89be4f0b-95fa-407c-a2fc-cbd7abd0d516')\"\n",
              "              title=\"Convert this dataframe to an interactive table.\"\n",
              "              style=\"display:none;\">\n",
              "        \n",
              "  <svg xmlns=\"http://www.w3.org/2000/svg\" height=\"24px\"viewBox=\"0 0 24 24\"\n",
              "       width=\"24px\">\n",
              "    <path d=\"M0 0h24v24H0V0z\" fill=\"none\"/>\n",
              "    <path d=\"M18.56 5.44l.94 2.06.94-2.06 2.06-.94-2.06-.94-.94-2.06-.94 2.06-2.06.94zm-11 1L8.5 8.5l.94-2.06 2.06-.94-2.06-.94L8.5 2.5l-.94 2.06-2.06.94zm10 10l.94 2.06.94-2.06 2.06-.94-2.06-.94-.94-2.06-.94 2.06-2.06.94z\"/><path d=\"M17.41 7.96l-1.37-1.37c-.4-.4-.92-.59-1.43-.59-.52 0-1.04.2-1.43.59L10.3 9.45l-7.72 7.72c-.78.78-.78 2.05 0 2.83L4 21.41c.39.39.9.59 1.41.59.51 0 1.02-.2 1.41-.59l7.78-7.78 2.81-2.81c.8-.78.8-2.07 0-2.86zM5.41 20L4 18.59l7.72-7.72 1.47 1.35L5.41 20z\"/>\n",
              "  </svg>\n",
              "      </button>\n",
              "      \n",
              "  <style>\n",
              "    .colab-df-container {\n",
              "      display:flex;\n",
              "      flex-wrap:wrap;\n",
              "      gap: 12px;\n",
              "    }\n",
              "\n",
              "    .colab-df-convert {\n",
              "      background-color: #E8F0FE;\n",
              "      border: none;\n",
              "      border-radius: 50%;\n",
              "      cursor: pointer;\n",
              "      display: none;\n",
              "      fill: #1967D2;\n",
              "      height: 32px;\n",
              "      padding: 0 0 0 0;\n",
              "      width: 32px;\n",
              "    }\n",
              "\n",
              "    .colab-df-convert:hover {\n",
              "      background-color: #E2EBFA;\n",
              "      box-shadow: 0px 1px 2px rgba(60, 64, 67, 0.3), 0px 1px 3px 1px rgba(60, 64, 67, 0.15);\n",
              "      fill: #174EA6;\n",
              "    }\n",
              "\n",
              "    [theme=dark] .colab-df-convert {\n",
              "      background-color: #3B4455;\n",
              "      fill: #D2E3FC;\n",
              "    }\n",
              "\n",
              "    [theme=dark] .colab-df-convert:hover {\n",
              "      background-color: #434B5C;\n",
              "      box-shadow: 0px 1px 3px 1px rgba(0, 0, 0, 0.15);\n",
              "      filter: drop-shadow(0px 1px 2px rgba(0, 0, 0, 0.3));\n",
              "      fill: #FFFFFF;\n",
              "    }\n",
              "  </style>\n",
              "\n",
              "      <script>\n",
              "        const buttonEl =\n",
              "          document.querySelector('#df-89be4f0b-95fa-407c-a2fc-cbd7abd0d516 button.colab-df-convert');\n",
              "        buttonEl.style.display =\n",
              "          google.colab.kernel.accessAllowed ? 'block' : 'none';\n",
              "\n",
              "        async function convertToInteractive(key) {\n",
              "          const element = document.querySelector('#df-89be4f0b-95fa-407c-a2fc-cbd7abd0d516');\n",
              "          const dataTable =\n",
              "            await google.colab.kernel.invokeFunction('convertToInteractive',\n",
              "                                                     [key], {});\n",
              "          if (!dataTable) return;\n",
              "\n",
              "          const docLinkHtml = 'Like what you see? Visit the ' +\n",
              "            '<a target=\"_blank\" href=https://colab.research.google.com/notebooks/data_table.ipynb>data table notebook</a>'\n",
              "            + ' to learn more about interactive tables.';\n",
              "          element.innerHTML = '';\n",
              "          dataTable['output_type'] = 'display_data';\n",
              "          await google.colab.output.renderOutput(dataTable, element);\n",
              "          const docLink = document.createElement('div');\n",
              "          docLink.innerHTML = docLinkHtml;\n",
              "          element.appendChild(docLink);\n",
              "        }\n",
              "      </script>\n",
              "    </div>\n",
              "  </div>\n",
              "  "
            ]
          },
          "metadata": {}
        },
        {
          "output_type": "stream",
          "name": "stdout",
          "text": [
            "sum 714\n",
            "x [0.42, 0.67, 0.75, 0.83, 0.92, 1.0, 2.0, 3.0, 4.0, 5.0, 6.0, 7.0, 8.0, 9.0, 10.0, 11.0, 12.0, 13.0, 14.0, 14.5, 15.0, 16.0, 17.0, 18.0, 19.0, 20.0, 20.5, 21.0, 22.0, 23.0, 23.5, 24.0, 24.5, 25.0, 26.0, 27.0, 28.0, 28.5, 29.0, 30.0, 30.5, 31.0, 32.0, 32.5, 33.0, 34.0, 34.5, 35.0, 36.0, 36.5, 37.0, 38.0, 39.0, 40.0, 40.5, 41.0, 42.0, 43.0, 44.0, 45.0, 45.5, 46.0, 47.0, 48.0, 49.0, 50.0, 51.0, 52.0, 53.0, 54.0, 55.0, 55.5, 56.0, 57.0, 58.0, 59.0, 60.0, 61.0, 62.0, 63.0, 64.0, 65.0, 66.0, 70.0, 70.5, 71.0, 74.0, 80.0]\n",
            "y [1, 1, 2, 2, 1, 7, 10, 6, 10, 4, 3, 3, 4, 8, 2, 4, 1, 2, 6, 1, 5, 17, 13, 26, 25, 15, 1, 24, 27, 15, 1, 30, 1, 23, 18, 18, 25, 2, 20, 25, 2, 17, 18, 2, 15, 15, 1, 18, 22, 1, 6, 11, 14, 13, 2, 6, 13, 5, 9, 12, 2, 3, 9, 9, 6, 10, 7, 6, 1, 8, 2, 1, 4, 2, 5, 2, 4, 3, 4, 2, 2, 3, 1, 2, 1, 2, 1, 1]\n"
          ]
        },
        {
          "output_type": "display_data",
          "data": {
            "text/plain": [
              "<Figure size 432x288 with 1 Axes>"
            ],
            "image/png": "[encoded data removed]"
          },
          "metadata": {
            "needs_background": "light"
          }
        },
        {
          "output_type": "stream",
          "name": "stdout",
          "text": [
            "mean= 29.69911764705882\n",
            "29.69911764705882\n"
          ]
        },
        {
          "output_type": "stream",
          "name": "stderr",
          "text": [
            "/usr/local/lib/python3.7/dist-packages/ipykernel_launcher.py:21: FutureWarning: Dropping of nuisance columns in DataFrame reductions (with 'numeric_only=None') is deprecated; in a future version this will raise TypeError.  Select only valid columns before calling the reduction.\n"
          ]
        }
      ]
    },
    {
      "cell_type": "markdown",
      "source": [
        "cредний возраст - 29.7 лет (для известных нам 714 значений)"
      ],
      "metadata": {
        "id": "uJJf1dmjugh9"
      }
    },
    {
      "cell_type": "code",
      "source": [
        "stats = mytable.groupby([\"Sex\"]).count()\n",
        "print(stats)\n",
        "a=stats['howmany'].axes[0]\n",
        "b=stats['howmany']\n",
        "x=list(a)\n",
        "print('x',x)\n",
        "y=list(b)\n",
        "print('y',y)\n",
        "plt.title(\"Value counts in $y$\")\n",
        "plt.bar(x, y)\n",
        "plt.xticks(x)\n",
        "plt.xlabel(\"Sex\")\n",
        "plt.ylabel(\"Count\")\n",
        "plt.grid(10)\n",
        "plt.show()\n",
        "print('mean=',y[1]/np.array(y).sum())"
      ],
      "metadata": {
        "colab": {
          "base_uri": "https://localhost:8080/",
          "height": 418
        },
        "id": "6qVH0C2_xIrg",
        "outputId": "ce393e2e-dd4d-416d-e7b5-d15747fad172"
      },
      "execution_count": 149,
      "outputs": [
        {
          "output_type": "stream",
          "name": "stdout",
          "text": [
            "        Age  Pclass  howmany\n",
            "Sex                         \n",
            "female  261     314      314\n",
            "male    453     577      577\n",
            "x ['female', 'male']\n",
            "y [314, 577]\n"
          ]
        },
        {
          "output_type": "display_data",
          "data": {
            "text/plain": [
              "<Figure size 432x288 with 1 Axes>"
            ],
            "image/png": "[encoded data removed]"
          },
          "metadata": {
            "needs_background": "light"
          }
        },
        {
          "output_type": "stream",
          "name": "stdout",
          "text": [
            "mean= 0.6475869809203143\n"
          ]
        }
      ]
    },
    {
      "cell_type": "markdown",
      "source": [
        "314 женщины и 577 мужчин. "
      ],
      "metadata": {
        "id": "iu5hYN_SyuCf"
      }
    },
    {
      "cell_type": "code",
      "source": [
        "stats = mytable.groupby([\"Pclass\"]).count()\n",
        "print(stats)\n",
        "a=stats['howmany'].axes[0]\n",
        "b=stats['howmany']\n",
        "x=list(a)\n",
        "print('x',x)\n",
        "y=list(b)\n",
        "print('y',y)\n",
        "plt.title(\"Value counts in $y$\")\n",
        "plt.bar(x, y)\n",
        "plt.xticks(x)\n",
        "plt.xlabel(\"Class\")\n",
        "plt.ylabel(\"Count\")\n",
        "plt.grid(10)\n",
        "plt.show()\n",
        "\n",
        "print('mean=',table.mean()['Pclass'])"
      ],
      "metadata": {
        "colab": {
          "base_uri": "https://localhost:8080/",
          "height": 473
        },
        "id": "rTdbDrrSqKOZ",
        "outputId": "5689ef1f-5bff-4700-846d-fae733401a48"
      },
      "execution_count": 150,
      "outputs": [
        {
          "output_type": "stream",
          "name": "stdout",
          "text": [
            "        Age  Sex  howmany\n",
            "Pclass                   \n",
            "1       186  216      216\n",
            "2       173  184      184\n",
            "3       355  491      491\n",
            "x [1, 2, 3]\n",
            "y [216, 184, 491]\n"
          ]
        },
        {
          "output_type": "display_data",
          "data": {
            "text/plain": [
              "<Figure size 432x288 with 1 Axes>"
            ],
            "image/png": "[encoded data removed]"
          },
          "metadata": {
            "needs_background": "light"
          }
        },
        {
          "output_type": "stream",
          "name": "stdout",
          "text": [
            "mean= 2.308641975308642\n"
          ]
        },
        {
          "output_type": "stream",
          "name": "stderr",
          "text": [
            "/usr/local/lib/python3.7/dist-packages/ipykernel_launcher.py:17: FutureWarning: Dropping of nuisance columns in DataFrame reductions (with 'numeric_only=None') is deprecated; in a future version this will raise TypeError.  Select only valid columns before calling the reduction.\n"
          ]
        }
      ]
    },
    {
      "cell_type": "markdown",
      "source": [
        "1 класс - 216 человек, 2 класс - 184 человека, 3 класс - 491 человек\n",
        "\n",
        "Среднее значение класса = 2.3"
      ],
      "metadata": {
        "id": "IMgNW2d5orgx"
      }
    },
    {
      "cell_type": "code",
      "source": [
        "newtable=mytable[mytable['Age']>0]\n",
        "newtable=newtable.drop(columns=['Sex','howmany'])\n",
        "table1=newtable[newtable['Pclass']==1]\n",
        "table2=newtable[newtable['Pclass']==2]\n",
        "table3=newtable[newtable['Pclass']==3]\n",
        "t1=np.array(table1['Age'])\n",
        "t2=np.array(table2['Age'])\n",
        "t3=np.array(table3['Age'])\n",
        "\n",
        "min1=t1.min()\n",
        "min2=t2.min()\n",
        "min3=t3.min()\n",
        "max1=t1.max()\n",
        "max2=t2.max()\n",
        "max3=t3.max()\n",
        "print(min1,max1,min2,max2,min3,max3)"
      ],
      "metadata": {
        "colab": {
          "base_uri": "https://localhost:8080/"
        },
        "id": "ASGiERp5IAce",
        "outputId": "9ba5ef3c-de6c-4f39-8401-e56cf79eaa5d"
      },
      "execution_count": 151,
      "outputs": [
        {
          "output_type": "stream",
          "name": "stdout",
          "text": [
            "0.92 80.0 0.67 70.0 0.42 74.0\n"
          ]
        }
      ]
    },
    {
      "cell_type": "markdown",
      "source": [
        "В первом классе минимум и максимум возрастов: 0.92 и 80 лет; во втором классе: 0.67 и 70 лет; в третьем классе 0.42 и 74 года"
      ],
      "metadata": {
        "id": "ZN9KYAwslLU8"
      }
    },
    {
      "cell_type": "code",
      "source": [
        "atable=table.get([\"Age\",\"Sex\",\"Pclass\",\"Survived\"])\n",
        "#print(atable)\n",
        "table1=atable[atable['Pclass']==1]\n",
        "table2=atable[atable['Pclass']==2]\n",
        "table3=atable[atable['Pclass']==3]\n",
        "print('class1:',table1.mean()['Survived'])\n",
        "print('class2:',table2.mean()['Survived'])\n",
        "print('class3:',table3.mean()['Survived'])\n",
        "\n",
        "plt.title(\"Survival rate in $y$\")\n",
        "plt.bar([1,2,3], [table1.mean()['Survived'],table2.mean()['Survived'],table3.mean()['Survived']])\n",
        "plt.xticks([1,2,3])\n",
        "plt.xlabel(\"Class\")\n",
        "plt.ylabel(\"Survival rate\")\n",
        "plt.grid(10)\n",
        "plt.show()\n",
        "\n",
        "table1=atable[atable['Age']>0]\n",
        "table1=table1[table1['Age']<5]\n",
        "table2=atable[atable['Age']>=5]\n",
        "table2=table2[table2['Age']<18]\n",
        "table3=atable[atable['Age']>=18]\n",
        "table3=table3[table3['Age']<35]\n",
        "table4=atable[atable['Age']>=35]\n",
        "print('age 0-4:',table1.mean()['Survived'])\n",
        "print('age 5-17:',table2.mean()['Survived'])\n",
        "print('age 18-34:',table3.mean()['Survived'])\n",
        "print('age > 35:',table4.mean()['Survived'])\n",
        "plt.title(\"Survival rate in $y$\")\n",
        "plt.bar(['age 0-4', 'age 5-17','age 18-34','age > 35' ], [table1.mean()['Survived'],table2.mean()['Survived'],table3.mean()['Survived'],table4.mean()['Survived']])\n",
        "plt.xticks(['age 0-4', 'age 5-17','age 18-34','age > 35' ])\n",
        "plt.xlabel(\"Age\")\n",
        "plt.ylabel(\"Survival rate\")\n",
        "plt.grid(10)\n",
        "plt.show()\n",
        "\n",
        "\n",
        "#print(atable)\n",
        "table1=atable[atable['Sex']=='female']\n",
        "table2=atable[atable['Sex']=='male']\n",
        "print('female:',table1.mean()['Survived'])\n",
        "print('male:',table2.mean()['Survived'])\n",
        "#print('survived:',atable.sum()['Survived'])\n",
        "\n",
        "\n",
        "plt.title(\"Survival rate in $y$\")\n",
        "plt.bar(['female', 'male'], [table1.mean()['Survived'],table2.mean()['Survived']])\n",
        "plt.xticks(['female','male'])\n",
        "plt.xlabel(\"Sex\")\n",
        "plt.ylabel(\"Survival rate\")\n",
        "plt.grid(10)\n",
        "plt.show()"
      ],
      "metadata": {
        "colab": {
          "base_uri": "https://localhost:8080/",
          "height": 1000
        },
        "id": "OfwqYxuKl0dx",
        "outputId": "25a20551-a1ee-4bcb-de88-8fd86232e97b"
      },
      "execution_count": 152,
      "outputs": [
        {
          "output_type": "stream",
          "name": "stdout",
          "text": [
            "class1: 0.6296296296296297\n"
          ]
        },
        {
          "output_type": "stream",
          "name": "stderr",
          "text": [
            "/usr/local/lib/python3.7/dist-packages/ipykernel_launcher.py:6: FutureWarning: Dropping of nuisance columns in DataFrame reductions (with 'numeric_only=None') is deprecated; in a future version this will raise TypeError.  Select only valid columns before calling the reduction.\n",
            "  \n",
            "/usr/local/lib/python3.7/dist-packages/ipykernel_launcher.py:7: FutureWarning: Dropping of nuisance columns in DataFrame reductions (with 'numeric_only=None') is deprecated; in a future version this will raise TypeError.  Select only valid columns before calling the reduction.\n",
            "  import sys\n",
            "/usr/local/lib/python3.7/dist-packages/ipykernel_launcher.py:8: FutureWarning: Dropping of nuisance columns in DataFrame reductions (with 'numeric_only=None') is deprecated; in a future version this will raise TypeError.  Select only valid columns before calling the reduction.\n",
            "  \n",
            "/usr/local/lib/python3.7/dist-packages/ipykernel_launcher.py:11: FutureWarning: Dropping of nuisance columns in DataFrame reductions (with 'numeric_only=None') is deprecated; in a future version this will raise TypeError.  Select only valid columns before calling the reduction.\n",
            "  # This is added back by InteractiveShellApp.init_path()\n"
          ]
        },
        {
          "output_type": "stream",
          "name": "stdout",
          "text": [
            "class2: 0.47282608695652173\n",
            "class3: 0.24236252545824846\n"
          ]
        },
        {
          "output_type": "display_data",
          "data": {
            "text/plain": [
              "<Figure size 432x288 with 1 Axes>"
            ],
            "image/png": "[encoded data removed]"
          },
          "metadata": {
            "needs_background": "light"
          }
        },
        {
          "output_type": "stream",
          "name": "stdout",
          "text": [
            "age 0-4: 0.675\n",
            "age 5-17: 0.4657534246575342\n",
            "age 18-34: 0.36885245901639346\n",
            "age > 35: 0.4\n"
          ]
        },
        {
          "output_type": "stream",
          "name": "stderr",
          "text": [
            "/usr/local/lib/python3.7/dist-packages/ipykernel_launcher.py:25: FutureWarning: Dropping of nuisance columns in DataFrame reductions (with 'numeric_only=None') is deprecated; in a future version this will raise TypeError.  Select only valid columns before calling the reduction.\n",
            "/usr/local/lib/python3.7/dist-packages/ipykernel_launcher.py:26: FutureWarning: Dropping of nuisance columns in DataFrame reductions (with 'numeric_only=None') is deprecated; in a future version this will raise TypeError.  Select only valid columns before calling the reduction.\n",
            "/usr/local/lib/python3.7/dist-packages/ipykernel_launcher.py:27: FutureWarning: Dropping of nuisance columns in DataFrame reductions (with 'numeric_only=None') is deprecated; in a future version this will raise TypeError.  Select only valid columns before calling the reduction.\n",
            "/usr/local/lib/python3.7/dist-packages/ipykernel_launcher.py:28: FutureWarning: Dropping of nuisance columns in DataFrame reductions (with 'numeric_only=None') is deprecated; in a future version this will raise TypeError.  Select only valid columns before calling the reduction.\n",
            "/usr/local/lib/python3.7/dist-packages/ipykernel_launcher.py:30: FutureWarning: Dropping of nuisance columns in DataFrame reductions (with 'numeric_only=None') is deprecated; in a future version this will raise TypeError.  Select only valid columns before calling the reduction.\n"
          ]
        },
        {
          "output_type": "display_data",
          "data": {
            "text/plain": [
              "<Figure size 432x288 with 1 Axes>"
            ],
            "image/png": "[encoded data removed]"
          },
          "metadata": {
            "needs_background": "light"
          }
        },
        {
          "output_type": "stream",
          "name": "stderr",
          "text": [
            "/usr/local/lib/python3.7/dist-packages/ipykernel_launcher.py:41: FutureWarning: Dropping of nuisance columns in DataFrame reductions (with 'numeric_only=None') is deprecated; in a future version this will raise TypeError.  Select only valid columns before calling the reduction.\n",
            "/usr/local/lib/python3.7/dist-packages/ipykernel_launcher.py:42: FutureWarning: Dropping of nuisance columns in DataFrame reductions (with 'numeric_only=None') is deprecated; in a future version this will raise TypeError.  Select only valid columns before calling the reduction.\n",
            "/usr/local/lib/python3.7/dist-packages/ipykernel_launcher.py:47: FutureWarning: Dropping of nuisance columns in DataFrame reductions (with 'numeric_only=None') is deprecated; in a future version this will raise TypeError.  Select only valid columns before calling the reduction.\n"
          ]
        },
        {
          "output_type": "stream",
          "name": "stdout",
          "text": [
            "female: 0.7420382165605095\n",
            "male: 0.18890814558058924\n"
          ]
        },
        {
          "output_type": "display_data",
          "data": {
            "text/plain": [
              "<Figure size 432x288 with 1 Axes>"
            ],
            "image/png": "[encoded data removed]"
          },
          "metadata": {
            "needs_background": "light"
          }
        }
      ]
    },
    {
      "cell_type": "markdown",
      "source": [
        "Из первого класса выжило 63%, из второго 47%, из третьего 24%.\n",
        "\n",
        "Детей до 5 лет выжило 67,5%, от 5 до 18 - 46%, взрослых до 35 лет выжило 37%, старше - 40%.\n",
        "\n",
        "Женщин выжило 74%, в то время как мужчин - всего 19%."
      ],
      "metadata": {
        "id": "G-gGt8O9qYBp"
      }
    },
    {
      "cell_type": "markdown",
      "metadata": {
        "id": "iVga-vmqYCLK"
      },
      "source": [
        "**Task 2. [2 points]**\n",
        "\n",
        "Compare average age per class: can we consider these values to be equal? Use visualisation to prove your point. \n",
        "\n",
        "Can we answer this question using the T-test? Why? Here you may use `scipy.stats`."
      ]
    },
    {
      "cell_type": "code",
      "source": [
        "#print(atable)\n",
        "mytable=atable[atable['Age']>0]\n",
        "table1=mytable[mytable['Pclass']==1]\n",
        "table2=mytable[mytable['Pclass']==2]\n",
        "table3=mytable[mytable['Pclass']==3]\n",
        "#print(table3)\n",
        "age1=table1.mean()['Age']\n",
        "age2=table2.mean()['Age']\n",
        "age3=table3.mean()['Age']\n",
        "print('class1:',age1)\n",
        "print('class2:',age2)\n",
        "print('class3:',age3)\n",
        "x=[1,2,3]\n",
        "y=[age1,age2,age3]\n",
        "plt.title(\"Average age for classes\")\n",
        "plt.bar( x,y)\n",
        "plt.xticks(x)\n",
        "plt.xlabel(\"Class\")\n",
        "plt.ylabel(\"Age\")\n",
        "plt.grid(10)\n",
        "plt.show()\n",
        "import scipy.stats \n",
        "a1=np.array(table1['Age'])\n",
        "a2=np.array(table2['Age'])\n",
        "a3=np.array(table3['Age'])\n",
        "print(scipy.stats.ttest_ind(a1, a2) )#критерий Стьюдента\n",
        "print(scipy.stats.ttest_ind(a1, a3))\n",
        "print(scipy.stats.ttest_ind(a3, a2) )\n",
        "#"
      ],
      "metadata": {
        "colab": {
          "base_uri": "https://localhost:8080/",
          "height": 523
        },
        "id": "pNYRos9KrWg0",
        "outputId": "1d7926dd-c8f1-43d3-a521-48863fdfac5d"
      },
      "execution_count": 153,
      "outputs": [
        {
          "output_type": "stream",
          "name": "stderr",
          "text": [
            "/usr/local/lib/python3.7/dist-packages/ipykernel_launcher.py:7: FutureWarning: Dropping of nuisance columns in DataFrame reductions (with 'numeric_only=None') is deprecated; in a future version this will raise TypeError.  Select only valid columns before calling the reduction.\n",
            "  import sys\n",
            "/usr/local/lib/python3.7/dist-packages/ipykernel_launcher.py:8: FutureWarning: Dropping of nuisance columns in DataFrame reductions (with 'numeric_only=None') is deprecated; in a future version this will raise TypeError.  Select only valid columns before calling the reduction.\n",
            "  \n",
            "/usr/local/lib/python3.7/dist-packages/ipykernel_launcher.py:9: FutureWarning: Dropping of nuisance columns in DataFrame reductions (with 'numeric_only=None') is deprecated; in a future version this will raise TypeError.  Select only valid columns before calling the reduction.\n",
            "  if __name__ == '__main__':\n"
          ]
        },
        {
          "output_type": "stream",
          "name": "stdout",
          "text": [
            "class1: 38.233440860215055\n",
            "class2: 29.87763005780347\n",
            "class3: 25.14061971830986\n"
          ]
        },
        {
          "output_type": "display_data",
          "data": {
            "text/plain": [
              "<Figure size 432x288 with 1 Axes>"
            ],
            "image/png": "[encoded data removed]"
          },
          "metadata": {
            "needs_background": "light"
          }
        },
        {
          "output_type": "stream",
          "name": "stdout",
          "text": [
            "Ttest_indResult(statistic=5.485187676773201, pvalue=7.835568991415144e-08)\n",
            "Ttest_indResult(statistic=10.849122601201033, pvalue=6.134470007830625e-25)\n",
            "Ttest_indResult(statistic=-3.927800191020872, pvalue=9.715078600777852e-05)\n"
          ]
        }
      ]
    },
    {
      "cell_type": "markdown",
      "source": [
        "По графику видно, что средний возраст первого класса почти на 10 лет выше среднего возраста второго класса, и на 13 лет выше, чем у третьего классса. Значения значительно отличаются\n",
        "\n",
        "Для ответа на вопрос можно использовать критерий Стьюдента. Вполне можно предполагать, что возраст подчинен нормальному распределению. \n",
        "\n",
        "Можно сказать, что распределено неоднородно, т.к. pvalue очень маленький, меньше 5 процентов. Итак, выборки неоднородны, принадлежат разным распределениям. Класс влияет на значения возрастов."
      ],
      "metadata": {
        "id": "tNNDoTgu2cn3"
      }
    },
    {
      "cell_type": "markdown",
      "metadata": {
        "id": "RXC-5kjeYCLK"
      },
      "source": [
        "**Task 3. [2 points]**\n",
        "\n",
        "Use `plt.subplots` to create side-by-side histograms of distributions:\n",
        "- columns: 3 classes\n",
        "- rows: age, fare, sex, survival rate\n",
        "\n",
        "The output is 4 by 3 table of plots."
      ]
    },
    {
      "cell_type": "code",
      "source": [
        "thetable=table.get([\"Pclass\",\"Age\",\"Fare\",\"Sex\", \"Survived\"])\n",
        "listofones = [1] * 891\n",
        "ones = pd.DataFrame({\"howmany\": listofones})\n",
        "thetable= thetable.join(ones)\n",
        "fig = plt.figure(figsize=(12, 18))\n",
        "tab1=thetable[thetable['Pclass']==1]\n",
        "tab2=thetable[thetable['Pclass']==2]\n",
        "tab3=thetable[thetable['Pclass']==3]#\n",
        "def givesxy(pclass,string):\n",
        "  if (pclass==1) :\n",
        "    mytab = tab1[tab1[string]>=0]\n",
        "  if (pclass==2):\n",
        "    mytab = tab2[tab2[string]>=0]\n",
        "  if (pclass==3):\n",
        "    mytab = tab3[tab3[string]>=0]\n",
        "  stats = mytab.groupby([string]).count()\n",
        "  a=stats['howmany'].axes[0]\n",
        "  b=stats['howmany']\n",
        "  x=list(a)\n",
        "  y=list(b)\n",
        "  return (x,y)\n",
        "\n",
        "#Age\n",
        "\n",
        "x,y=givesxy(1,'Age')\n",
        "plt.subplot(4, 3, 1)\n",
        "plt.title(\"Class 1. Value counts in $y$\")\n",
        "plt.bar(x, y)\n",
        "plt.xlabel(\"Age\")\n",
        "plt.ylabel(\"Count\")\n",
        "\n",
        "x,y=givesxy(2,'Age')\n",
        "plt.subplot(4, 3, 2)\n",
        "plt.title(\"Class 2. Value counts in $y$\")\n",
        "plt.bar(x, y)\n",
        "plt.xlabel(\"Age\")\n",
        "plt.ylabel(\"Count\")\n",
        "\n",
        "\n",
        "x,y=givesxy(3,'Age')\n",
        "plt.subplot(4, 3, 3)\n",
        "plt.title(\"Class 3. Value counts in $y$\")\n",
        "plt.bar(x, y)\n",
        "plt.xlabel(\"Age\")\n",
        "plt.ylabel(\"Count\")\n",
        "\n",
        "#Fare\n",
        "\n",
        "x,y=givesxy(1,'Fare')\n",
        "plt.subplot(4, 3, 4)\n",
        "plt.title(\"Class 1. Value counts in $y$\")\n",
        "plt.bar(x, y)\n",
        "plt.xlabel(\"Fare\")\n",
        "plt.ylabel(\"Count\")\n",
        "\n",
        "\n",
        "x,y=givesxy(2,'Fare')\n",
        "plt.subplot(4, 3, 5)\n",
        "plt.title(\"Class 2. Value counts in $y$\")\n",
        "plt.bar(x, y)\n",
        "plt.xlabel(\"Fare\")\n",
        "plt.ylabel(\"Count\")\n",
        "\n",
        "\n",
        "x,y=givesxy(3,'Fare')\n",
        "plt.subplot(4, 3, 6)\n",
        "plt.title(\"Class 3. Value counts in $y$\")\n",
        "plt.bar(x, y)\n",
        "plt.xlabel(\"Fare\")\n",
        "plt.ylabel(\"Count\")\n",
        "\n",
        "\n",
        "#Sex\n",
        "\n",
        "stats = tab1.groupby([\"Sex\"]).count()\n",
        "a=stats['howmany'].axes[0]\n",
        "b=stats['howmany']\n",
        "x=list(a)\n",
        "y=list(b)\n",
        "plt.subplot(4, 3, 7)\n",
        "plt.title(\"Class 1. Value counts in $y$\")\n",
        "plt.bar(x, y)\n",
        "plt.xlabel(\"Sex\")\n",
        "plt.ylabel(\"Count\")\n",
        "\n",
        "stats = tab2.groupby([\"Sex\"]).count()\n",
        "a=stats['howmany'].axes[0]\n",
        "b=stats['howmany']\n",
        "x=list(a)\n",
        "y=list(b)\n",
        "plt.subplot(4, 3, 8)\n",
        "plt.title(\"Class 2. Value counts in $y$\")\n",
        "plt.bar(x, y)\n",
        "plt.xlabel(\"Sex\")\n",
        "plt.ylabel(\"Count\")\n",
        "\n",
        "stats = tab3.groupby([\"Sex\"]).count()\n",
        "a=stats['howmany'].axes[0]\n",
        "b=stats['howmany']\n",
        "x=list(a)\n",
        "y=list(b)\n",
        "plt.subplot(4, 3, 9)\n",
        "plt.title(\"Class 3. Value counts in $y$\")\n",
        "plt.bar(x, y)\n",
        "plt.xlabel(\"Sex\")\n",
        "plt.ylabel(\"Count\")\n",
        "\n",
        "#Survival\n",
        "\n",
        "stats = tab1.groupby([\"Survived\"]).count()\n",
        "a=stats['howmany'].axes[0]\n",
        "b=stats['howmany']\n",
        "x=list(a)\n",
        "y=list(b)\n",
        "plt.subplot(4, 3, 10)\n",
        "plt.title(\"Class 1. Value counts in $y$\")\n",
        "plt.bar(x, y)\n",
        "plt.xlabel(\"Survival\")\n",
        "plt.ylabel(\"Count\")\n",
        "\n",
        "stats = tab2.groupby([\"Survived\"]).count()\n",
        "a=stats['howmany'].axes[0]\n",
        "b=stats['howmany']\n",
        "x=list(a)\n",
        "y=list(b)\n",
        "plt.subplot(4, 3, 11)\n",
        "plt.title(\"Class 2. Value counts in $y$\")\n",
        "plt.bar(x, y)\n",
        "plt.xlabel(\"Survival\")\n",
        "plt.ylabel(\"Count\")\n",
        "\n",
        "stats = tab3.groupby([\"Survived\"]).count()\n",
        "a=stats['howmany'].axes[0]\n",
        "b=stats['howmany']\n",
        "x=list(a)\n",
        "y=list(b)\n",
        "plt.subplot(4, 3, 12)\n",
        "plt.title(\"Class 3. Value counts in $y$\")\n",
        "plt.bar(x, y)\n",
        "plt.xlabel(\"Survival\")\n",
        "plt.ylabel(\"Count\")\n",
        "\n",
        "\n",
        "plt.show()"
      ],
      "metadata": {
        "colab": {
          "base_uri": "https://localhost:8080/",
          "height": 979
        },
        "id": "sD5Gg2pB5b-K",
        "outputId": "176403b5-5579-4fce-d80a-65523a44ab11"
      },
      "execution_count": 154,
      "outputs": [
        {
          "output_type": "display_data",
          "data": {
            "text/plain": [
              "<Figure size 864x1296 with 12 Axes>"
            ],
            "image/png": "[encoded data removed]"
          },
          "metadata": {
            "needs_background": "light"
          }
        }
      ]
    },
    {
      "cell_type": "markdown",
      "metadata": {
        "id": "ZTiJE5H0YCLL"
      },
      "source": [
        "**Task 4. [1 point]**\n",
        "\n",
        "Find 5 most common **surnames** in passenger list. Try to use `pandas.Series.apply` and lambda-function to extract surnames."
      ]
    },
    {
      "cell_type": "code",
      "source": [
        "def tokenize_new(input_string):\n",
        "    \"\"\"\n",
        "    input:\n",
        "    - input_string: str\n",
        "    output:\n",
        "    - list<str> - string split into tokens\n",
        "    \"\"\"\n",
        "    input_string=input_string.lower()\n",
        "    input_string=input_string.split(',')\n",
        "    \n",
        "    return input_string\n",
        "\n",
        "names=table['Name']\n",
        "print(names)\n",
        "sur=names.apply(lambda x: tokenize_new(x)[0])\n",
        "sur=np.array(sur)\n",
        "d = {'col1': sur, 'col2': [1] * 891}\n",
        "df = pd.DataFrame(data=d)\n",
        "\n",
        "df=df.groupby('col1').sum()\n",
        "print(df[df['col2']>5])"
      ],
      "metadata": {
        "colab": {
          "base_uri": "https://localhost:8080/"
        },
        "id": "iCzj8p65Ecf8",
        "outputId": "de86cae0-5383-439f-9dfb-fefe1cb935ea"
      },
      "execution_count": 155,
      "outputs": [
        {
          "output_type": "stream",
          "name": "stdout",
          "text": [
            "0                                Braund, Mr. Owen Harris\n",
            "1      Cumings, Mrs. John Bradley (Florence Briggs Th...\n",
            "2                                 Heikkinen, Miss. Laina\n",
            "3           Futrelle, Mrs. Jacques Heath (Lily May Peel)\n",
            "4                               Allen, Mr. William Henry\n",
            "                             ...                        \n",
            "886                                Montvila, Rev. Juozas\n",
            "887                         Graham, Miss. Margaret Edith\n",
            "888             Johnston, Miss. Catherine Helen \"Carrie\"\n",
            "889                                Behr, Mr. Karl Howell\n",
            "890                                  Dooley, Mr. Patrick\n",
            "Name: Name, Length: 891, dtype: object\n",
            "           col2\n",
            "col1           \n",
            "andersson     9\n",
            "carter        6\n",
            "goodwin       6\n",
            "johnson       6\n",
            "panula        6\n",
            "sage          7\n",
            "skoog         6\n"
          ]
        }
      ]
    },
    {
      "cell_type": "markdown",
      "source": [
        "Самая популярная фамилия - Andersson.\n",
        "Вторая по популярности - Sage. Третье место делят Carter, Goodwin, Johnson, Panula, Skoog   "
      ],
      "metadata": {
        "id": "SsvQvmnfLBr6"
      }
    },
    {
      "cell_type": "markdown",
      "metadata": {
        "id": "P9tH81XSYCLL"
      },
      "source": [
        "**Task 5. [2 points]**\n",
        "\n",
        "Probably you already have noticed that there are missing values in the dataset. We will try to fix that.\n",
        "1. Omit all the rows, that contain missing values. Is the result plausible? How does this method effect amount of data and values from Task 1 (age histograms, survival rates, etc.?)\n",
        "2. Suggest some better options to handle missing values in the data and check if it distorts the statistics."
      ]
    },
    {
      "cell_type": "code",
      "source": [
        "table=pd.merge(passengers_record, survival_info, on='PassengerId')\n",
        "#print(table)\n",
        "k=[]\n",
        "for x in range(891):\n",
        "  if( pd.isna(np.array(table['PassengerId'])[x]) or\n",
        "   pd.isna(np.array(table['Pclass'])[x]) or \n",
        "   pd.isna(np.array(table['Name'])[x])or \n",
        "   pd.isna(np.array(table['Sex'])[x]) or \n",
        "   pd.isna(np.array(table['Age'])[x])or \n",
        "   pd.isna(np.array(table['Pclass'])[x]) or\n",
        "   pd.isna(np.array(table['SibSp'])[x])or \n",
        "   pd.isna(np.array(table['Parch'])[x])or \n",
        "   pd.isna(np.array(table['Ticket'])[x])or  \n",
        "   pd.isna(np.array(table['Fare'])[x])or  \n",
        "   pd.isna(np.array(table['Cabin'])[x])or  \n",
        "   pd.isna(np.array(table['Embarked'])[x])or  \n",
        "   pd.isna(np.array(table['Survived'])[x] )  ):\n",
        "    k.append(x)\n",
        "print(k)\n",
        "anothertable=table.drop(k)\n",
        "\n",
        "display(anothertable)\n"
      ],
      "metadata": {
        "colab": {
          "base_uri": "https://localhost:8080/",
          "height": 1000
        },
        "id": "JZTo_yyGM0SK",
        "outputId": "ecfae800-4b95-42e6-e50d-fe42b30e6041"
      },
      "execution_count": 156,
      "outputs": [
        {
          "output_type": "stream",
          "name": "stdout",
          "text": [
            "[0, 2, 4, 5, 7, 8, 9, 12, 13, 14, 15, 16, 17, 18, 19, 20, 22, 24, 25, 26, 28, 29, 30, 31, 32, 33, 34, 35, 36, 37, 38, 39, 40, 41, 42, 43, 44, 45, 46, 47, 48, 49, 50, 51, 53, 55, 56, 57, 58, 59, 60, 61, 63, 64, 65, 67, 68, 69, 70, 71, 72, 73, 74, 76, 77, 78, 79, 80, 81, 82, 83, 84, 85, 86, 87, 89, 90, 91, 93, 94, 95, 98, 99, 100, 101, 103, 104, 105, 106, 107, 108, 109, 111, 112, 113, 114, 115, 116, 117, 119, 120, 121, 122, 125, 126, 127, 128, 129, 130, 131, 132, 133, 134, 135, 138, 140, 141, 142, 143, 144, 145, 146, 147, 149, 150, 152, 153, 154, 155, 156, 157, 158, 159, 160, 161, 162, 163, 164, 165, 166, 167, 168, 169, 171, 172, 173, 175, 176, 178, 179, 180, 181, 182, 184, 185, 186, 187, 188, 189, 190, 191, 192, 196, 197, 198, 199, 200, 201, 202, 203, 204, 206, 207, 208, 210, 211, 212, 213, 214, 216, 217, 219, 220, 221, 222, 223, 225, 226, 227, 228, 229, 231, 232, 233, 234, 235, 236, 237, 238, 239, 240, 241, 242, 243, 244, 246, 247, 249, 250, 253, 254, 255, 256, 258, 259, 260, 261, 264, 265, 266, 267, 270, 271, 272, 274, 276, 277, 278, 279, 280, 281, 282, 283, 284, 285, 286, 287, 288, 289, 290, 293, 294, 295, 296, 298, 300, 301, 302, 303, 304, 306, 308, 312, 313, 314, 315, 316, 317, 320, 321, 322, 323, 324, 326, 328, 330, 333, 334, 335, 338, 342, 343, 344, 346, 347, 348, 349, 350, 351, 352, 353, 354, 355, 357, 358, 359, 360, 361, 362, 363, 364, 365, 367, 368, 371, 372, 373, 374, 375, 376, 378, 379, 380, 381, 382, 383, 384, 385, 386, 387, 388, 389, 391, 392, 395, 396, 397, 398, 399, 400, 401, 402, 403, 404, 405, 406, 407, 408, 409, 410, 411, 413, 414, 415, 416, 417, 418, 419, 420, 421, 422, 423, 424, 425, 426, 427, 428, 431, 432, 433, 436, 437, 439, 440, 441, 442, 443, 444, 446, 447, 448, 450, 451, 454, 455, 457, 458, 459, 461, 463, 464, 465, 466, 467, 468, 469, 470, 471, 472, 474, 475, 476, 477, 478, 479, 480, 481, 482, 483, 485, 488, 489, 490, 491, 493, 494, 495, 497, 499, 500, 501, 502, 503, 506, 507, 508, 509, 510, 511, 513, 514, 517, 518, 519, 521, 522, 524, 525, 526, 527, 528, 529, 530, 531, 532, 533, 534, 535, 537, 538, 541, 542, 543, 545, 546, 547, 548, 549, 551, 552, 553, 554, 555, 557, 559, 560, 561, 562, 563, 564, 565, 566, 567, 568, 569, 570, 573, 574, 575, 576, 578, 579, 580, 582, 584, 586, 588, 589, 590, 592, 593, 594, 595, 596, 597, 598, 600, 601, 602, 603, 604, 605, 606, 607, 608, 610, 611, 612, 613, 614, 615, 616, 617, 619, 620, 622, 623, 624, 626, 628, 629, 631, 633, 634, 635, 636, 637, 638, 639, 640, 642, 643, 644, 646, 648, 649, 650, 651, 652, 653, 654, 655, 656, 657, 658, 660, 661, 663, 664, 665, 666, 667, 668, 669, 670, 672, 673, 674, 675, 676, 677, 678, 680, 682, 683, 684, 685, 686, 687, 688, 691, 692, 693, 694, 695, 696, 697, 702, 703, 704, 705, 706, 708, 709, 711, 713, 714, 718, 719, 720, 721, 722, 723, 725, 726, 727, 728, 729, 731, 732, 733, 734, 735, 736, 738, 739, 740, 743, 744, 746, 747, 749, 750, 752, 753, 754, 755, 756, 757, 758, 760, 761, 762, 764, 766, 767, 768, 769, 770, 771, 773, 774, 775, 776, 777, 778, 780, 783, 784, 785, 786, 787, 788, 790, 791, 792, 793, 794, 795, 797, 798, 799, 800, 801, 803, 804, 805, 807, 808, 810, 811, 812, 813, 814, 815, 816, 817, 818, 819, 821, 822, 824, 825, 826, 827, 828, 829, 830, 831, 832, 833, 834, 836, 837, 838, 839, 840, 841, 842, 843, 844, 845, 846, 847, 848, 849, 850, 851, 852, 854, 855, 856, 858, 859, 860, 861, 863, 864, 865, 866, 868, 869, 870, 873, 874, 875, 876, 877, 878, 880, 881, 882, 883, 884, 885, 886, 888, 890]\n"
          ]
        },
        {
          "output_type": "display_data",
          "data": {
            "text/plain": [
              "     PassengerId  Pclass                                               Name  \\\n",
              "1              2       1  Cumings, Mrs. John Bradley (Florence Briggs Th...   \n",
              "3              4       1       Futrelle, Mrs. Jacques Heath (Lily May Peel)   \n",
              "6              7       1                            McCarthy, Mr. Timothy J   \n",
              "10            11       3                    Sandstrom, Miss. Marguerite Rut   \n",
              "11            12       1                           Bonnell, Miss. Elizabeth   \n",
              "..           ...     ...                                                ...   \n",
              "871          872       1   Beckwith, Mrs. Richard Leonard (Sallie Monypeny)   \n",
              "872          873       1                           Carlsson, Mr. Frans Olof   \n",
              "879          880       1      Potter, Mrs. Thomas Jr (Lily Alexenia Wilson)   \n",
              "887          888       1                       Graham, Miss. Margaret Edith   \n",
              "889          890       1                              Behr, Mr. Karl Howell   \n",
              "\n",
              "        Sex   Age  SibSp  Parch    Ticket     Fare        Cabin Embarked  \\\n",
              "1    female  38.0      1      0  PC 17599  71.2833          C85        C   \n",
              "3    female  35.0      1      0    113803  53.1000         C123        S   \n",
              "6      male  54.0      0      0     17463  51.8625          E46        S   \n",
              "10   female   4.0      1      1   PP 9549  16.7000           G6        S   \n",
              "11   female  58.0      0      0    113783  26.5500         C103        S   \n",
              "..      ...   ...    ...    ...       ...      ...          ...      ...   \n",
              "871  female  47.0      1      1     11751  52.5542          D35        S   \n",
              "872    male  33.0      0      0       695   5.0000  B51 B53 B55        S   \n",
              "879  female  56.0      0      1     11767  83.1583          C50        C   \n",
              "887  female  19.0      0      0    112053  30.0000          B42        S   \n",
              "889    male  26.0      0      0    111369  30.0000         C148        C   \n",
              "\n",
              "     Survived  \n",
              "1           1  \n",
              "3           1  \n",
              "6           0  \n",
              "10          1  \n",
              "11          1  \n",
              "..        ...  \n",
              "871         1  \n",
              "872         0  \n",
              "879         1  \n",
              "887         1  \n",
              "889         1  \n",
              "\n",
              "[183 rows x 12 columns]"
            ],
            "text/html": [
              "\n",
              "  <div id=\"df-2a80a95f-dfbb-4387-b867-12e348dba0ba\">\n",
              "    <div class=\"colab-df-container\">\n",
              "      <div>\n",
              "<style scoped>\n",
              "    .dataframe tbody tr th:only-of-type {\n",
              "        vertical-align: middle;\n",
              "    }\n",
              "\n",
              "    .dataframe tbody tr th {\n",
              "        vertical-align: top;\n",
              "    }\n",
              "\n",
              "    .dataframe thead th {\n",
              "        text-align: right;\n",
              "    }\n",
              "</style>\n",
              "<table border=\"1\" class=\"dataframe\">\n",
              "  <thead>\n",
              "    <tr style=\"text-align: right;\">\n",
              "      <th></th>\n",
              "      <th>PassengerId</th>\n",
              "      <th>Pclass</th>\n",
              "      <th>Name</th>\n",
              "      <th>Sex</th>\n",
              "      <th>Age</th>\n",
              "      <th>SibSp</th>\n",
              "      <th>Parch</th>\n",
              "      <th>Ticket</th>\n",
              "      <th>Fare</th>\n",
              "      <th>Cabin</th>\n",
              "      <th>Embarked</th>\n",
              "      <th>Survived</th>\n",
              "    </tr>\n",
              "  </thead>\n",
              "  <tbody>\n",
              "    <tr>\n",
              "      <th>1</th>\n",
              "      <td>2</td>\n",
              "      <td>1</td>\n",
              "      <td>Cumings, Mrs. John Bradley (Florence Briggs Th...</td>\n",
              "      <td>female</td>\n",
              "      <td>38.0</td>\n",
              "      <td>1</td>\n",
              "      <td>0</td>\n",
              "      <td>PC 17599</td>\n",
              "      <td>71.2833</td>\n",
              "      <td>C85</td>\n",
              "      <td>C</td>\n",
              "      <td>1</td>\n",
              "    </tr>\n",
              "    <tr>\n",
              "      <th>3</th>\n",
              "      <td>4</td>\n",
              "      <td>1</td>\n",
              "      <td>Futrelle, Mrs. Jacques Heath (Lily May Peel)</td>\n",
              "      <td>female</td>\n",
              "      <td>35.0</td>\n",
              "      <td>1</td>\n",
              "      <td>0</td>\n",
              "      <td>113803</td>\n",
              "      <td>53.1000</td>\n",
              "      <td>C123</td>\n",
              "      <td>S</td>\n",
              "      <td>1</td>\n",
              "    </tr>\n",
              "    <tr>\n",
              "      <th>6</th>\n",
              "      <td>7</td>\n",
              "      <td>1</td>\n",
              "      <td>McCarthy, Mr. Timothy J</td>\n",
              "      <td>male</td>\n",
              "      <td>54.0</td>\n",
              "      <td>0</td>\n",
              "      <td>0</td>\n",
              "      <td>17463</td>\n",
              "      <td>51.8625</td>\n",
              "      <td>E46</td>\n",
              "      <td>S</td>\n",
              "      <td>0</td>\n",
              "    </tr>\n",
              "    <tr>\n",
              "      <th>10</th>\n",
              "      <td>11</td>\n",
              "      <td>3</td>\n",
              "      <td>Sandstrom, Miss. Marguerite Rut</td>\n",
              "      <td>female</td>\n",
              "      <td>4.0</td>\n",
              "      <td>1</td>\n",
              "      <td>1</td>\n",
              "      <td>PP 9549</td>\n",
              "      <td>16.7000</td>\n",
              "      <td>G6</td>\n",
              "      <td>S</td>\n",
              "      <td>1</td>\n",
              "    </tr>\n",
              "    <tr>\n",
              "      <th>11</th>\n",
              "      <td>12</td>\n",
              "      <td>1</td>\n",
              "      <td>Bonnell, Miss. Elizabeth</td>\n",
              "      <td>female</td>\n",
              "      <td>58.0</td>\n",
              "      <td>0</td>\n",
              "      <td>0</td>\n",
              "      <td>113783</td>\n",
              "      <td>26.5500</td>\n",
              "      <td>C103</td>\n",
              "      <td>S</td>\n",
              "      <td>1</td>\n",
              "    </tr>\n",
              "    <tr>\n",
              "      <th>...</th>\n",
              "      <td>...</td>\n",
              "      <td>...</td>\n",
              "      <td>...</td>\n",
              "      <td>...</td>\n",
              "      <td>...</td>\n",
              "      <td>...</td>\n",
              "      <td>...</td>\n",
              "      <td>...</td>\n",
              "      <td>...</td>\n",
              "      <td>...</td>\n",
              "      <td>...</td>\n",
              "      <td>...</td>\n",
              "    </tr>\n",
              "    <tr>\n",
              "      <th>871</th>\n",
              "      <td>872</td>\n",
              "      <td>1</td>\n",
              "      <td>Beckwith, Mrs. Richard Leonard (Sallie Monypeny)</td>\n",
              "      <td>female</td>\n",
              "      <td>47.0</td>\n",
              "      <td>1</td>\n",
              "      <td>1</td>\n",
              "      <td>11751</td>\n",
              "      <td>52.5542</td>\n",
              "      <td>D35</td>\n",
              "      <td>S</td>\n",
              "      <td>1</td>\n",
              "    </tr>\n",
              "    <tr>\n",
              "      <th>872</th>\n",
              "      <td>873</td>\n",
              "      <td>1</td>\n",
              "      <td>Carlsson, Mr. Frans Olof</td>\n",
              "      <td>male</td>\n",
              "      <td>33.0</td>\n",
              "      <td>0</td>\n",
              "      <td>0</td>\n",
              "      <td>695</td>\n",
              "      <td>5.0000</td>\n",
              "      <td>B51 B53 B55</td>\n",
              "      <td>S</td>\n",
              "      <td>0</td>\n",
              "    </tr>\n",
              "    <tr>\n",
              "      <th>879</th>\n",
              "      <td>880</td>\n",
              "      <td>1</td>\n",
              "      <td>Potter, Mrs. Thomas Jr (Lily Alexenia Wilson)</td>\n",
              "      <td>female</td>\n",
              "      <td>56.0</td>\n",
              "      <td>0</td>\n",
              "      <td>1</td>\n",
              "      <td>11767</td>\n",
              "      <td>83.1583</td>\n",
              "      <td>C50</td>\n",
              "      <td>C</td>\n",
              "      <td>1</td>\n",
              "    </tr>\n",
              "    <tr>\n",
              "      <th>887</th>\n",
              "      <td>888</td>\n",
              "      <td>1</td>\n",
              "      <td>Graham, Miss. Margaret Edith</td>\n",
              "      <td>female</td>\n",
              "      <td>19.0</td>\n",
              "      <td>0</td>\n",
              "      <td>0</td>\n",
              "      <td>112053</td>\n",
              "      <td>30.0000</td>\n",
              "      <td>B42</td>\n",
              "      <td>S</td>\n",
              "      <td>1</td>\n",
              "    </tr>\n",
              "    <tr>\n",
              "      <th>889</th>\n",
              "      <td>890</td>\n",
              "      <td>1</td>\n",
              "      <td>Behr, Mr. Karl Howell</td>\n",
              "      <td>male</td>\n",
              "      <td>26.0</td>\n",
              "      <td>0</td>\n",
              "      <td>0</td>\n",
              "      <td>111369</td>\n",
              "      <td>30.0000</td>\n",
              "      <td>C148</td>\n",
              "      <td>C</td>\n",
              "      <td>1</td>\n",
              "    </tr>\n",
              "  </tbody>\n",
              "</table>\n",
              "<p>183 rows × 12 columns</p>\n",
              "</div>\n",
              "      <button class=\"colab-df-convert\" onclick=\"convertToInteractive('df-2a80a95f-dfbb-4387-b867-12e348dba0ba')\"\n",
              "              title=\"Convert this dataframe to an interactive table.\"\n",
              "              style=\"display:none;\">\n",
              "        \n",
              "  <svg xmlns=\"http://www.w3.org/2000/svg\" height=\"24px\"viewBox=\"0 0 24 24\"\n",
              "       width=\"24px\">\n",
              "    <path d=\"M0 0h24v24H0V0z\" fill=\"none\"/>\n",
              "    <path d=\"M18.56 5.44l.94 2.06.94-2.06 2.06-.94-2.06-.94-.94-2.06-.94 2.06-2.06.94zm-11 1L8.5 8.5l.94-2.06 2.06-.94-2.06-.94L8.5 2.5l-.94 2.06-2.06.94zm10 10l.94 2.06.94-2.06 2.06-.94-2.06-.94-.94-2.06-.94 2.06-2.06.94z\"/><path d=\"M17.41 7.96l-1.37-1.37c-.4-.4-.92-.59-1.43-.59-.52 0-1.04.2-1.43.59L10.3 9.45l-7.72 7.72c-.78.78-.78 2.05 0 2.83L4 21.41c.39.39.9.59 1.41.59.51 0 1.02-.2 1.41-.59l7.78-7.78 2.81-2.81c.8-.78.8-2.07 0-2.86zM5.41 20L4 18.59l7.72-7.72 1.47 1.35L5.41 20z\"/>\n",
              "  </svg>\n",
              "      </button>\n",
              "      \n",
              "  <style>\n",
              "    .colab-df-container {\n",
              "      display:flex;\n",
              "      flex-wrap:wrap;\n",
              "      gap: 12px;\n",
              "    }\n",
              "\n",
              "    .colab-df-convert {\n",
              "      background-color: #E8F0FE;\n",
              "      border: none;\n",
              "      border-radius: 50%;\n",
              "      cursor: pointer;\n",
              "      display: none;\n",
              "      fill: #1967D2;\n",
              "      height: 32px;\n",
              "      padding: 0 0 0 0;\n",
              "      width: 32px;\n",
              "    }\n",
              "\n",
              "    .colab-df-convert:hover {\n",
              "      background-color: #E2EBFA;\n",
              "      box-shadow: 0px 1px 2px rgba(60, 64, 67, 0.3), 0px 1px 3px 1px rgba(60, 64, 67, 0.15);\n",
              "      fill: #174EA6;\n",
              "    }\n",
              "\n",
              "    [theme=dark] .colab-df-convert {\n",
              "      background-color: #3B4455;\n",
              "      fill: #D2E3FC;\n",
              "    }\n",
              "\n",
              "    [theme=dark] .colab-df-convert:hover {\n",
              "      background-color: #434B5C;\n",
              "      box-shadow: 0px 1px 3px 1px rgba(0, 0, 0, 0.15);\n",
              "      filter: drop-shadow(0px 1px 2px rgba(0, 0, 0, 0.3));\n",
              "      fill: #FFFFFF;\n",
              "    }\n",
              "  </style>\n",
              "\n",
              "      <script>\n",
              "        const buttonEl =\n",
              "          document.querySelector('#df-2a80a95f-dfbb-4387-b867-12e348dba0ba button.colab-df-convert');\n",
              "        buttonEl.style.display =\n",
              "          google.colab.kernel.accessAllowed ? 'block' : 'none';\n",
              "\n",
              "        async function convertToInteractive(key) {\n",
              "          const element = document.querySelector('#df-2a80a95f-dfbb-4387-b867-12e348dba0ba');\n",
              "          const dataTable =\n",
              "            await google.colab.kernel.invokeFunction('convertToInteractive',\n",
              "                                                     [key], {});\n",
              "          if (!dataTable) return;\n",
              "\n",
              "          const docLinkHtml = 'Like what you see? Visit the ' +\n",
              "            '<a target=\"_blank\" href=https://colab.research.google.com/notebooks/data_table.ipynb>data table notebook</a>'\n",
              "            + ' to learn more about interactive tables.';\n",
              "          element.innerHTML = '';\n",
              "          dataTable['output_type'] = 'display_data';\n",
              "          await google.colab.output.renderOutput(dataTable, element);\n",
              "          const docLink = document.createElement('div');\n",
              "          docLink.innerHTML = docLinkHtml;\n",
              "          element.appendChild(docLink);\n",
              "        }\n",
              "      </script>\n",
              "    </div>\n",
              "  </div>\n",
              "  "
            ]
          },
          "metadata": {}
        }
      ]
    },
    {
      "cell_type": "markdown",
      "source": [
        "Как видно, осталось всего 183 строки, содержащих все данные, из изначальных 891. Это всего 20% данных. Пропущенные данные находятся в столбцах Age, Cabin, Embarked (исключим NaN только в них, получим такое же количество строк)"
      ],
      "metadata": {
        "id": "VxzgryD8dCt6"
      }
    },
    {
      "cell_type": "code",
      "source": [
        "#display(table)\n",
        "k=[]\n",
        "for x in range(891):\n",
        "  if( \n",
        "   pd.isna(np.array(table['Age'])[x])or   \n",
        "   pd.isna(np.array(table['Cabin'])[x])or  \n",
        "   pd.isna(np.array(table['Embarked'])[x])  ):\n",
        "    k.append(x)\n",
        "print(k)\n",
        "anothertable=table.drop(k)\n",
        "\n",
        "display(anothertable)\n"
      ],
      "metadata": {
        "colab": {
          "base_uri": "https://localhost:8080/",
          "height": 1000
        },
        "id": "Fc42rADFp4Iy",
        "outputId": "485456c6-5509-4fb9-ec4f-93e9ea414bad"
      },
      "execution_count": 157,
      "outputs": [
        {
          "output_type": "stream",
          "name": "stdout",
          "text": [
            "[0, 2, 4, 5, 7, 8, 9, 12, 13, 14, 15, 16, 17, 18, 19, 20, 22, 24, 25, 26, 28, 29, 30, 31, 32, 33, 34, 35, 36, 37, 38, 39, 40, 41, 42, 43, 44, 45, 46, 47, 48, 49, 50, 51, 53, 55, 56, 57, 58, 59, 60, 61, 63, 64, 65, 67, 68, 69, 70, 71, 72, 73, 74, 76, 77, 78, 79, 80, 81, 82, 83, 84, 85, 86, 87, 89, 90, 91, 93, 94, 95, 98, 99, 100, 101, 103, 104, 105, 106, 107, 108, 109, 111, 112, 113, 114, 115, 116, 117, 119, 120, 121, 122, 125, 126, 127, 128, 129, 130, 131, 132, 133, 134, 135, 138, 140, 141, 142, 143, 144, 145, 146, 147, 149, 150, 152, 153, 154, 155, 156, 157, 158, 159, 160, 161, 162, 163, 164, 165, 166, 167, 168, 169, 171, 172, 173, 175, 176, 178, 179, 180, 181, 182, 184, 185, 186, 187, 188, 189, 190, 191, 192, 196, 197, 198, 199, 200, 201, 202, 203, 204, 206, 207, 208, 210, 211, 212, 213, 214, 216, 217, 219, 220, 221, 222, 223, 225, 226, 227, 228, 229, 231, 232, 233, 234, 235, 236, 237, 238, 239, 240, 241, 242, 243, 244, 246, 247, 249, 250, 253, 254, 255, 256, 258, 259, 260, 261, 264, 265, 266, 267, 270, 271, 272, 274, 276, 277, 278, 279, 280, 281, 282, 283, 284, 285, 286, 287, 288, 289, 290, 293, 294, 295, 296, 298, 300, 301, 302, 303, 304, 306, 308, 312, 313, 314, 315, 316, 317, 320, 321, 322, 323, 324, 326, 328, 330, 333, 334, 335, 338, 342, 343, 344, 346, 347, 348, 349, 350, 351, 352, 353, 354, 355, 357, 358, 359, 360, 361, 362, 363, 364, 365, 367, 368, 371, 372, 373, 374, 375, 376, 378, 379, 380, 381, 382, 383, 384, 385, 386, 387, 388, 389, 391, 392, 395, 396, 397, 398, 399, 400, 401, 402, 403, 404, 405, 406, 407, 408, 409, 410, 411, 413, 414, 415, 416, 417, 418, 419, 420, 421, 422, 423, 424, 425, 426, 427, 428, 431, 432, 433, 436, 437, 439, 440, 441, 442, 443, 444, 446, 447, 448, 450, 451, 454, 455, 457, 458, 459, 461, 463, 464, 465, 466, 467, 468, 469, 470, 471, 472, 474, 475, 476, 477, 478, 479, 480, 481, 482, 483, 485, 488, 489, 490, 491, 493, 494, 495, 497, 499, 500, 501, 502, 503, 506, 507, 508, 509, 510, 511, 513, 514, 517, 518, 519, 521, 522, 524, 525, 526, 527, 528, 529, 530, 531, 532, 533, 534, 535, 537, 538, 541, 542, 543, 545, 546, 547, 548, 549, 551, 552, 553, 554, 555, 557, 559, 560, 561, 562, 563, 564, 565, 566, 567, 568, 569, 570, 573, 574, 575, 576, 578, 579, 580, 582, 584, 586, 588, 589, 590, 592, 593, 594, 595, 596, 597, 598, 600, 601, 602, 603, 604, 605, 606, 607, 608, 610, 611, 612, 613, 614, 615, 616, 617, 619, 620, 622, 623, 624, 626, 628, 629, 631, 633, 634, 635, 636, 637, 638, 639, 640, 642, 643, 644, 646, 648, 649, 650, 651, 652, 653, 654, 655, 656, 657, 658, 660, 661, 663, 664, 665, 666, 667, 668, 669, 670, 672, 673, 674, 675, 676, 677, 678, 680, 682, 683, 684, 685, 686, 687, 688, 691, 692, 693, 694, 695, 696, 697, 702, 703, 704, 705, 706, 708, 709, 711, 713, 714, 718, 719, 720, 721, 722, 723, 725, 726, 727, 728, 729, 731, 732, 733, 734, 735, 736, 738, 739, 740, 743, 744, 746, 747, 749, 750, 752, 753, 754, 755, 756, 757, 758, 760, 761, 762, 764, 766, 767, 768, 769, 770, 771, 773, 774, 775, 776, 777, 778, 780, 783, 784, 785, 786, 787, 788, 790, 791, 792, 793, 794, 795, 797, 798, 799, 800, 801, 803, 804, 805, 807, 808, 810, 811, 812, 813, 814, 815, 816, 817, 818, 819, 821, 822, 824, 825, 826, 827, 828, 829, 830, 831, 832, 833, 834, 836, 837, 838, 839, 840, 841, 842, 843, 844, 845, 846, 847, 848, 849, 850, 851, 852, 854, 855, 856, 858, 859, 860, 861, 863, 864, 865, 866, 868, 869, 870, 873, 874, 875, 876, 877, 878, 880, 881, 882, 883, 884, 885, 886, 888, 890]\n"
          ]
        },
        {
          "output_type": "display_data",
          "data": {
            "text/plain": [
              "     PassengerId  Pclass                                               Name  \\\n",
              "1              2       1  Cumings, Mrs. John Bradley (Florence Briggs Th...   \n",
              "3              4       1       Futrelle, Mrs. Jacques Heath (Lily May Peel)   \n",
              "6              7       1                            McCarthy, Mr. Timothy J   \n",
              "10            11       3                    Sandstrom, Miss. Marguerite Rut   \n",
              "11            12       1                           Bonnell, Miss. Elizabeth   \n",
              "..           ...     ...                                                ...   \n",
              "871          872       1   Beckwith, Mrs. Richard Leonard (Sallie Monypeny)   \n",
              "872          873       1                           Carlsson, Mr. Frans Olof   \n",
              "879          880       1      Potter, Mrs. Thomas Jr (Lily Alexenia Wilson)   \n",
              "887          888       1                       Graham, Miss. Margaret Edith   \n",
              "889          890       1                              Behr, Mr. Karl Howell   \n",
              "\n",
              "        Sex   Age  SibSp  Parch    Ticket     Fare        Cabin Embarked  \\\n",
              "1    female  38.0      1      0  PC 17599  71.2833          C85        C   \n",
              "3    female  35.0      1      0    113803  53.1000         C123        S   \n",
              "6      male  54.0      0      0     17463  51.8625          E46        S   \n",
              "10   female   4.0      1      1   PP 9549  16.7000           G6        S   \n",
              "11   female  58.0      0      0    113783  26.5500         C103        S   \n",
              "..      ...   ...    ...    ...       ...      ...          ...      ...   \n",
              "871  female  47.0      1      1     11751  52.5542          D35        S   \n",
              "872    male  33.0      0      0       695   5.0000  B51 B53 B55        S   \n",
              "879  female  56.0      0      1     11767  83.1583          C50        C   \n",
              "887  female  19.0      0      0    112053  30.0000          B42        S   \n",
              "889    male  26.0      0      0    111369  30.0000         C148        C   \n",
              "\n",
              "     Survived  \n",
              "1           1  \n",
              "3           1  \n",
              "6           0  \n",
              "10          1  \n",
              "11          1  \n",
              "..        ...  \n",
              "871         1  \n",
              "872         0  \n",
              "879         1  \n",
              "887         1  \n",
              "889         1  \n",
              "\n",
              "[183 rows x 12 columns]"
            ],
            "text/html": [
              "\n",
              "  <div id=\"df-12105da8-3883-40c7-9958-d018eeb5e42e\">\n",
              "    <div class=\"colab-df-container\">\n",
              "      <div>\n",
              "<style scoped>\n",
              "    .dataframe tbody tr th:only-of-type {\n",
              "        vertical-align: middle;\n",
              "    }\n",
              "\n",
              "    .dataframe tbody tr th {\n",
              "        vertical-align: top;\n",
              "    }\n",
              "\n",
              "    .dataframe thead th {\n",
              "        text-align: right;\n",
              "    }\n",
              "</style>\n",
              "<table border=\"1\" class=\"dataframe\">\n",
              "  <thead>\n",
              "    <tr style=\"text-align: right;\">\n",
              "      <th></th>\n",
              "      <th>PassengerId</th>\n",
              "      <th>Pclass</th>\n",
              "      <th>Name</th>\n",
              "      <th>Sex</th>\n",
              "      <th>Age</th>\n",
              "      <th>SibSp</th>\n",
              "      <th>Parch</th>\n",
              "      <th>Ticket</th>\n",
              "      <th>Fare</th>\n",
              "      <th>Cabin</th>\n",
              "      <th>Embarked</th>\n",
              "      <th>Survived</th>\n",
              "    </tr>\n",
              "  </thead>\n",
              "  <tbody>\n",
              "    <tr>\n",
              "      <th>1</th>\n",
              "      <td>2</td>\n",
              "      <td>1</td>\n",
              "      <td>Cumings, Mrs. John Bradley (Florence Briggs Th...</td>\n",
              "      <td>female</td>\n",
              "      <td>38.0</td>\n",
              "      <td>1</td>\n",
              "      <td>0</td>\n",
              "      <td>PC 17599</td>\n",
              "      <td>71.2833</td>\n",
              "      <td>C85</td>\n",
              "      <td>C</td>\n",
              "      <td>1</td>\n",
              "    </tr>\n",
              "    <tr>\n",
              "      <th>3</th>\n",
              "      <td>4</td>\n",
              "      <td>1</td>\n",
              "      <td>Futrelle, Mrs. Jacques Heath (Lily May Peel)</td>\n",
              "      <td>female</td>\n",
              "      <td>35.0</td>\n",
              "      <td>1</td>\n",
              "      <td>0</td>\n",
              "      <td>113803</td>\n",
              "      <td>53.1000</td>\n",
              "      <td>C123</td>\n",
              "      <td>S</td>\n",
              "      <td>1</td>\n",
              "    </tr>\n",
              "    <tr>\n",
              "      <th>6</th>\n",
              "      <td>7</td>\n",
              "      <td>1</td>\n",
              "      <td>McCarthy, Mr. Timothy J</td>\n",
              "      <td>male</td>\n",
              "      <td>54.0</td>\n",
              "      <td>0</td>\n",
              "      <td>0</td>\n",
              "      <td>17463</td>\n",
              "      <td>51.8625</td>\n",
              "      <td>E46</td>\n",
              "      <td>S</td>\n",
              "      <td>0</td>\n",
              "    </tr>\n",
              "    <tr>\n",
              "      <th>10</th>\n",
              "      <td>11</td>\n",
              "      <td>3</td>\n",
              "      <td>Sandstrom, Miss. Marguerite Rut</td>\n",
              "      <td>female</td>\n",
              "      <td>4.0</td>\n",
              "      <td>1</td>\n",
              "      <td>1</td>\n",
              "      <td>PP 9549</td>\n",
              "      <td>16.7000</td>\n",
              "      <td>G6</td>\n",
              "      <td>S</td>\n",
              "      <td>1</td>\n",
              "    </tr>\n",
              "    <tr>\n",
              "      <th>11</th>\n",
              "      <td>12</td>\n",
              "      <td>1</td>\n",
              "      <td>Bonnell, Miss. Elizabeth</td>\n",
              "      <td>female</td>\n",
              "      <td>58.0</td>\n",
              "      <td>0</td>\n",
              "      <td>0</td>\n",
              "      <td>113783</td>\n",
              "      <td>26.5500</td>\n",
              "      <td>C103</td>\n",
              "      <td>S</td>\n",
              "      <td>1</td>\n",
              "    </tr>\n",
              "    <tr>\n",
              "      <th>...</th>\n",
              "      <td>...</td>\n",
              "      <td>...</td>\n",
              "      <td>...</td>\n",
              "      <td>...</td>\n",
              "      <td>...</td>\n",
              "      <td>...</td>\n",
              "      <td>...</td>\n",
              "      <td>...</td>\n",
              "      <td>...</td>\n",
              "      <td>...</td>\n",
              "      <td>...</td>\n",
              "      <td>...</td>\n",
              "    </tr>\n",
              "    <tr>\n",
              "      <th>871</th>\n",
              "      <td>872</td>\n",
              "      <td>1</td>\n",
              "      <td>Beckwith, Mrs. Richard Leonard (Sallie Monypeny)</td>\n",
              "      <td>female</td>\n",
              "      <td>47.0</td>\n",
              "      <td>1</td>\n",
              "      <td>1</td>\n",
              "      <td>11751</td>\n",
              "      <td>52.5542</td>\n",
              "      <td>D35</td>\n",
              "      <td>S</td>\n",
              "      <td>1</td>\n",
              "    </tr>\n",
              "    <tr>\n",
              "      <th>872</th>\n",
              "      <td>873</td>\n",
              "      <td>1</td>\n",
              "      <td>Carlsson, Mr. Frans Olof</td>\n",
              "      <td>male</td>\n",
              "      <td>33.0</td>\n",
              "      <td>0</td>\n",
              "      <td>0</td>\n",
              "      <td>695</td>\n",
              "      <td>5.0000</td>\n",
              "      <td>B51 B53 B55</td>\n",
              "      <td>S</td>\n",
              "      <td>0</td>\n",
              "    </tr>\n",
              "    <tr>\n",
              "      <th>879</th>\n",
              "      <td>880</td>\n",
              "      <td>1</td>\n",
              "      <td>Potter, Mrs. Thomas Jr (Lily Alexenia Wilson)</td>\n",
              "      <td>female</td>\n",
              "      <td>56.0</td>\n",
              "      <td>0</td>\n",
              "      <td>1</td>\n",
              "      <td>11767</td>\n",
              "      <td>83.1583</td>\n",
              "      <td>C50</td>\n",
              "      <td>C</td>\n",
              "      <td>1</td>\n",
              "    </tr>\n",
              "    <tr>\n",
              "      <th>887</th>\n",
              "      <td>888</td>\n",
              "      <td>1</td>\n",
              "      <td>Graham, Miss. Margaret Edith</td>\n",
              "      <td>female</td>\n",
              "      <td>19.0</td>\n",
              "      <td>0</td>\n",
              "      <td>0</td>\n",
              "      <td>112053</td>\n",
              "      <td>30.0000</td>\n",
              "      <td>B42</td>\n",
              "      <td>S</td>\n",
              "      <td>1</td>\n",
              "    </tr>\n",
              "    <tr>\n",
              "      <th>889</th>\n",
              "      <td>890</td>\n",
              "      <td>1</td>\n",
              "      <td>Behr, Mr. Karl Howell</td>\n",
              "      <td>male</td>\n",
              "      <td>26.0</td>\n",
              "      <td>0</td>\n",
              "      <td>0</td>\n",
              "      <td>111369</td>\n",
              "      <td>30.0000</td>\n",
              "      <td>C148</td>\n",
              "      <td>C</td>\n",
              "      <td>1</td>\n",
              "    </tr>\n",
              "  </tbody>\n",
              "</table>\n",
              "<p>183 rows × 12 columns</p>\n",
              "</div>\n",
              "      <button class=\"colab-df-convert\" onclick=\"convertToInteractive('df-12105da8-3883-40c7-9958-d018eeb5e42e')\"\n",
              "              title=\"Convert this dataframe to an interactive table.\"\n",
              "              style=\"display:none;\">\n",
              "        \n",
              "  <svg xmlns=\"http://www.w3.org/2000/svg\" height=\"24px\"viewBox=\"0 0 24 24\"\n",
              "       width=\"24px\">\n",
              "    <path d=\"M0 0h24v24H0V0z\" fill=\"none\"/>\n",
              "    <path d=\"M18.56 5.44l.94 2.06.94-2.06 2.06-.94-2.06-.94-.94-2.06-.94 2.06-2.06.94zm-11 1L8.5 8.5l.94-2.06 2.06-.94-2.06-.94L8.5 2.5l-.94 2.06-2.06.94zm10 10l.94 2.06.94-2.06 2.06-.94-2.06-.94-.94-2.06-.94 2.06-2.06.94z\"/><path d=\"M17.41 7.96l-1.37-1.37c-.4-.4-.92-.59-1.43-.59-.52 0-1.04.2-1.43.59L10.3 9.45l-7.72 7.72c-.78.78-.78 2.05 0 2.83L4 21.41c.39.39.9.59 1.41.59.51 0 1.02-.2 1.41-.59l7.78-7.78 2.81-2.81c.8-.78.8-2.07 0-2.86zM5.41 20L4 18.59l7.72-7.72 1.47 1.35L5.41 20z\"/>\n",
              "  </svg>\n",
              "      </button>\n",
              "      \n",
              "  <style>\n",
              "    .colab-df-container {\n",
              "      display:flex;\n",
              "      flex-wrap:wrap;\n",
              "      gap: 12px;\n",
              "    }\n",
              "\n",
              "    .colab-df-convert {\n",
              "      background-color: #E8F0FE;\n",
              "      border: none;\n",
              "      border-radius: 50%;\n",
              "      cursor: pointer;\n",
              "      display: none;\n",
              "      fill: #1967D2;\n",
              "      height: 32px;\n",
              "      padding: 0 0 0 0;\n",
              "      width: 32px;\n",
              "    }\n",
              "\n",
              "    .colab-df-convert:hover {\n",
              "      background-color: #E2EBFA;\n",
              "      box-shadow: 0px 1px 2px rgba(60, 64, 67, 0.3), 0px 1px 3px 1px rgba(60, 64, 67, 0.15);\n",
              "      fill: #174EA6;\n",
              "    }\n",
              "\n",
              "    [theme=dark] .colab-df-convert {\n",
              "      background-color: #3B4455;\n",
              "      fill: #D2E3FC;\n",
              "    }\n",
              "\n",
              "    [theme=dark] .colab-df-convert:hover {\n",
              "      background-color: #434B5C;\n",
              "      box-shadow: 0px 1px 3px 1px rgba(0, 0, 0, 0.15);\n",
              "      filter: drop-shadow(0px 1px 2px rgba(0, 0, 0, 0.3));\n",
              "      fill: #FFFFFF;\n",
              "    }\n",
              "  </style>\n",
              "\n",
              "      <script>\n",
              "        const buttonEl =\n",
              "          document.querySelector('#df-12105da8-3883-40c7-9958-d018eeb5e42e button.colab-df-convert');\n",
              "        buttonEl.style.display =\n",
              "          google.colab.kernel.accessAllowed ? 'block' : 'none';\n",
              "\n",
              "        async function convertToInteractive(key) {\n",
              "          const element = document.querySelector('#df-12105da8-3883-40c7-9958-d018eeb5e42e');\n",
              "          const dataTable =\n",
              "            await google.colab.kernel.invokeFunction('convertToInteractive',\n",
              "                                                     [key], {});\n",
              "          if (!dataTable) return;\n",
              "\n",
              "          const docLinkHtml = 'Like what you see? Visit the ' +\n",
              "            '<a target=\"_blank\" href=https://colab.research.google.com/notebooks/data_table.ipynb>data table notebook</a>'\n",
              "            + ' to learn more about interactive tables.';\n",
              "          element.innerHTML = '';\n",
              "          dataTable['output_type'] = 'display_data';\n",
              "          await google.colab.output.renderOutput(dataTable, element);\n",
              "          const docLink = document.createElement('div');\n",
              "          docLink.innerHTML = docLinkHtml;\n",
              "          element.appendChild(docLink);\n",
              "        }\n",
              "      </script>\n",
              "    </div>\n",
              "  </div>\n",
              "  "
            ]
          },
          "metadata": {}
        }
      ]
    },
    {
      "cell_type": "code",
      "source": [
        "mytable=table.get([\"Age\",\"Sex\",\"Pclass\"])\n",
        "listofones = [1] * 891\n",
        "ones = pd.DataFrame({\"howmany\": listofones})\n",
        "mytable= mytable.join(ones)\n",
        "mymtable = mytable[mytable['Age']>=0]\n",
        "stats = mymtable.groupby([\"Age\"]).count()\n",
        "\n",
        "\n",
        "plt.subplot(2, 1, 1)\n",
        "a=stats['howmany'].axes[0]\n",
        "b=stats['howmany']\n",
        "sum=stats['howmany'].sum()\n",
        "x=list(a)\n",
        "y=list(b)\n",
        "plt.title(\"Value counts in $y$ for data\")\n",
        "plt.bar(x, y)\n",
        "plt.xlabel(\"Age\")\n",
        "plt.ylabel(\"Count\")\n",
        "plt.show()\n",
        "\n",
        "####\n",
        "\n",
        "mytable=anothertable.get([\"Age\",\"Sex\",\"Pclass\"])\n",
        "listofones = [1] * 183\n",
        "ones = pd.DataFrame({\"howmany\": listofones})\n",
        "mytable= mytable.join(ones)\n",
        "mymtable = mytable[mytable['Age']>=0]\n",
        "stats = mymtable.groupby([\"Age\"]).count()\n",
        "\n",
        "\n",
        "plt.subplot(2, 1, 2)\n",
        "a=stats['howmany'].axes[0]\n",
        "b=stats['howmany']\n",
        "sum=stats['howmany'].sum()\n",
        "x=list(a)\n",
        "y=list(b)\n",
        "plt.title(\"Value counts in $y$ for cut data\")\n",
        "plt.bar(x, y)\n",
        "plt.xlabel(\"Age\")\n",
        "plt.ylabel(\"Count\")\n",
        "plt.show()\n",
        "print('mean=',table.mean()['Age'])\n",
        "\n",
        "\n",
        "\n",
        "print('mean=',anothertable.mean()['Age'])"
      ],
      "metadata": {
        "colab": {
          "base_uri": "https://localhost:8080/",
          "height": 430
        },
        "id": "BcGOmGNyeVEF",
        "outputId": "6e86df5f-f3c0-4c4f-8040-d850022b7ec5"
      },
      "execution_count": 158,
      "outputs": [
        {
          "output_type": "display_data",
          "data": {
            "text/plain": [
              "<Figure size 432x288 with 1 Axes>"
            ],
            "image/png": "[encoded data removed]"
          },
          "metadata": {
            "needs_background": "light"
          }
        },
        {
          "output_type": "display_data",
          "data": {
            "text/plain": [
              "<Figure size 432x288 with 1 Axes>"
            ],
            "image/png": "[encoded data removed]"
          },
          "metadata": {
            "needs_background": "light"
          }
        },
        {
          "output_type": "stream",
          "name": "stdout",
          "text": [
            "mean= 29.69911764705882\n",
            "mean= 35.6744262295082\n"
          ]
        },
        {
          "output_type": "stream",
          "name": "stderr",
          "text": [
            "/usr/local/lib/python3.7/dist-packages/ipykernel_launcher.py:42: FutureWarning: Dropping of nuisance columns in DataFrame reductions (with 'numeric_only=None') is deprecated; in a future version this will raise TypeError.  Select only valid columns before calling the reduction.\n",
            "/usr/local/lib/python3.7/dist-packages/ipykernel_launcher.py:46: FutureWarning: Dropping of nuisance columns in DataFrame reductions (with 'numeric_only=None') is deprecated; in a future version this will raise TypeError.  Select only valid columns before calling the reduction.\n"
          ]
        }
      ]
    },
    {
      "cell_type": "markdown",
      "source": [
        "Видно, что с возрастом всё стало совсем плохо (2 график - урезанные данные). График не похож ни на какое приличное распределение, да и среднее значение поднялось на 6 лет."
      ],
      "metadata": {
        "id": "iC8ZLtUefepi"
      }
    },
    {
      "cell_type": "code",
      "source": [
        "atable=table.get([\"Age\",\"Sex\",\"Pclass\",\"Survived\"])\n",
        "#print(atable)\n",
        "table1=atable[atable['Pclass']==1]\n",
        "table2=atable[atable['Pclass']==2]\n",
        "table3=atable[atable['Pclass']==3]\n",
        "\n",
        "plt.subplot(1, 2, 1)\n",
        "plt.title(\"Survival rate in $y$ (891 rows)\")\n",
        "plt.bar([1,2,3], [table1.mean()['Survived'],table2.mean()['Survived'],table3.mean()['Survived']])\n",
        "plt.xticks([1,2,3])\n",
        "plt.xlabel(\"Class\")\n",
        "plt.ylabel(\"Survival rate\")\n",
        "plt.grid(10)\n",
        "plt.show()\n",
        "atable=anothertable.get([\"Age\",\"Sex\",\"Pclass\",\"Survived\"])\n",
        "#print(atable)\n",
        "table1=atable[atable['Pclass']==1]\n",
        "table2=atable[atable['Pclass']==2]\n",
        "table3=atable[atable['Pclass']==3]\n",
        "\n",
        "plt.subplot(1, 2, 2)\n",
        "plt.title(\"Survival rate in $y$ (183 rows)\")\n",
        "plt.bar([1,2,3], [table1.mean()['Survived'],table2.mean()['Survived'],table3.mean()['Survived']])\n",
        "plt.xticks([1,2,3])\n",
        "plt.xlabel(\"Class\")\n",
        "plt.ylabel(\"Survival rate\")\n",
        "plt.grid(10)\n",
        "plt.show()\n",
        "\n",
        "\n",
        "atable=table.get([\"Age\",\"Sex\",\"Pclass\",\"Survived\"])\n",
        "table1=atable[atable['Sex']=='female']\n",
        "table2=atable[atable['Sex']=='male']\n",
        "\n",
        "\n",
        "plt.subplot(1, 2, 1)\n",
        "plt.title(\"Survival rate in $y$ (891 rows)\")\n",
        "plt.bar(['female', 'male'], [table1.mean()['Survived'],table2.mean()['Survived']])\n",
        "plt.xticks(['female','male'])\n",
        "plt.xlabel(\"Sex\")\n",
        "plt.ylabel(\"Survival rate\")\n",
        "plt.grid(10)\n",
        "plt.show()\n",
        "\n",
        "\n",
        "atable=anothertable.get([\"Age\",\"Sex\",\"Pclass\",\"Survived\"])\n",
        "table1=atable[atable['Sex']=='female']\n",
        "table2=atable[atable['Sex']=='male']\n",
        "\n",
        "plt.subplot(1, 2, 1)\n",
        "plt.title(\"Survival rate in $y$ (183 rows)\")\n",
        "plt.bar(['female', 'male'], [table1.mean()['Survived'],table2.mean()['Survived']])\n",
        "plt.xticks(['female','male'])\n",
        "plt.xlabel(\"Sex\")\n",
        "plt.ylabel(\"Survival rate\")\n",
        "plt.grid(10)\n",
        "plt.show()"
      ],
      "metadata": {
        "colab": {
          "base_uri": "https://localhost:8080/",
          "height": 1000
        },
        "id": "mCQ1PI57h1Cb",
        "outputId": "d45eee24-6e80-400b-b6bd-dea70cb0c222"
      },
      "execution_count": 159,
      "outputs": [
        {
          "output_type": "stream",
          "name": "stderr",
          "text": [
            "/usr/local/lib/python3.7/dist-packages/ipykernel_launcher.py:9: FutureWarning: Dropping of nuisance columns in DataFrame reductions (with 'numeric_only=None') is deprecated; in a future version this will raise TypeError.  Select only valid columns before calling the reduction.\n",
            "  if __name__ == '__main__':\n"
          ]
        },
        {
          "output_type": "display_data",
          "data": {
            "text/plain": [
              "<Figure size 432x288 with 1 Axes>"
            ],
            "image/png": "[encoded data removed]"
          },
          "metadata": {
            "needs_background": "light"
          }
        },
        {
          "output_type": "stream",
          "name": "stderr",
          "text": [
            "/usr/local/lib/python3.7/dist-packages/ipykernel_launcher.py:23: FutureWarning: Dropping of nuisance columns in DataFrame reductions (with 'numeric_only=None') is deprecated; in a future version this will raise TypeError.  Select only valid columns before calling the reduction.\n"
          ]
        },
        {
          "output_type": "display_data",
          "data": {
            "text/plain": [
              "<Figure size 432x288 with 1 Axes>"
            ],
            "image/png": "[encoded data removed]"
          },
          "metadata": {
            "needs_background": "light"
          }
        },
        {
          "output_type": "stream",
          "name": "stderr",
          "text": [
            "/usr/local/lib/python3.7/dist-packages/ipykernel_launcher.py:38: FutureWarning: Dropping of nuisance columns in DataFrame reductions (with 'numeric_only=None') is deprecated; in a future version this will raise TypeError.  Select only valid columns before calling the reduction.\n"
          ]
        },
        {
          "output_type": "display_data",
          "data": {
            "text/plain": [
              "<Figure size 432x288 with 1 Axes>"
            ],
            "image/png": "[encoded data removed]"
          },
          "metadata": {
            "needs_background": "light"
          }
        },
        {
          "output_type": "stream",
          "name": "stderr",
          "text": [
            "/usr/local/lib/python3.7/dist-packages/ipykernel_launcher.py:52: FutureWarning: Dropping of nuisance columns in DataFrame reductions (with 'numeric_only=None') is deprecated; in a future version this will raise TypeError.  Select only valid columns before calling the reduction.\n"
          ]
        },
        {
          "output_type": "display_data",
          "data": {
            "text/plain": [
              "<Figure size 432x288 with 1 Axes>"
            ],
            "image/png": "[encoded data removed]"
          },
          "metadata": {
            "needs_background": "light"
          }
        }
      ]
    },
    {
      "cell_type": "markdown",
      "source": [
        "Графики выживаемости (особенно в случае с классами) тоже пострадали и выглядят непредсказуемо."
      ],
      "metadata": {
        "id": "I4FvKIafjiFq"
      }
    },
    {
      "cell_type": "markdown",
      "source": [
        "Самый простой способ вернуть пропущенные значения возраста в таблицу - внести вместо NaN среднее значение для каждого класса. Чтобы убрать выброс на графике возрастов в районе средних значений, будем добавлять рандомное число от -1 до 1 к каждому значению.\n",
        "\n",
        " Для Cabin поставим вместо NaN значения -100 (по сути это просто уникальный номер, у каждого свой собственный). \n",
        " \n",
        " Для Embarked просто поставим S, это наиболее встречающееся значение (в 644 случаях из 891)"
      ],
      "metadata": {
        "id": "HOnQjfNkqgUv"
      }
    },
    {
      "cell_type": "code",
      "source": [
        "table=pd.merge(passengers_record, survival_info, on='PassengerId')\n",
        "#display(table)\n",
        "import random\n",
        "table1=table[table['Pclass']==1]\n",
        "table2=table[table['Pclass']==2]\n",
        "table3=table[table['Pclass']==3]\n",
        "age1=table1['Age'].mean()\n",
        "age2=table2['Age'].mean()\n",
        "age3=table3['Age'].mean()\n",
        "print(age1,age2,age3)\n",
        "tables=table[table['Embarked']=='S']\n",
        "#print(tables)\n",
        "lasttable=table\n",
        "k=[]\n",
        "for x in range(891):\n",
        "  if(   pd.isna(np.array(lasttable['Age'])[x])  ):\n",
        "    \n",
        "    if (lasttable['Pclass'][x]==1):\n",
        "      lasttable['Age'][x]=age1+random.uniform(-1, 1)\n",
        "    if (lasttable['Pclass'][x]==2):\n",
        "      lasttable['Age'][x]=age2+random.uniform(-1, 1)\n",
        "    if (lasttable['Pclass'][x]==3):\n",
        "      lasttable['Age'][x]=age3+random.uniform(-1, 1)\n",
        "  if(pd.isna(np.array(lasttable['Embarked'])[x])):\n",
        "    lasttable['Embarked'][x]='S'\n",
        "  if(pd.isna(np.array(lasttable['Cabin'])[x])):\n",
        "    lasttable['Cabin'][x]='-100'\n",
        "#print()\n",
        "#a=0\n",
        "display(lasttable)"
      ],
      "metadata": {
        "colab": {
          "base_uri": "https://localhost:8080/",
          "height": 1000
        },
        "id": "bL9OZ5xIqgCN",
        "outputId": "ffb04b18-4cbb-4ad5-bfcf-35f1c9e06046"
      },
      "execution_count": 160,
      "outputs": [
        {
          "output_type": "stream",
          "name": "stderr",
          "text": [
            "/usr/local/lib/python3.7/dist-packages/ipykernel_launcher.py:27: SettingWithCopyWarning: \n",
            "A value is trying to be set on a copy of a slice from a DataFrame\n",
            "\n",
            "See the caveats in the documentation: https://pandas.pydata.org/pandas-docs/stable/user_guide/indexing.html#returning-a-view-versus-a-copy\n",
            "/usr/local/lib/python3.7/dist-packages/ipykernel_launcher.py:23: SettingWithCopyWarning: \n",
            "A value is trying to be set on a copy of a slice from a DataFrame\n",
            "\n",
            "See the caveats in the documentation: https://pandas.pydata.org/pandas-docs/stable/user_guide/indexing.html#returning-a-view-versus-a-copy\n",
            "/usr/local/lib/python3.7/dist-packages/ipykernel_launcher.py:21: SettingWithCopyWarning: \n",
            "A value is trying to be set on a copy of a slice from a DataFrame\n",
            "\n",
            "See the caveats in the documentation: https://pandas.pydata.org/pandas-docs/stable/user_guide/indexing.html#returning-a-view-versus-a-copy\n",
            "/usr/local/lib/python3.7/dist-packages/ipykernel_launcher.py:19: SettingWithCopyWarning: \n",
            "A value is trying to be set on a copy of a slice from a DataFrame\n",
            "\n",
            "See the caveats in the documentation: https://pandas.pydata.org/pandas-docs/stable/user_guide/indexing.html#returning-a-view-versus-a-copy\n",
            "/usr/local/lib/python3.7/dist-packages/ipykernel_launcher.py:25: SettingWithCopyWarning: \n",
            "A value is trying to be set on a copy of a slice from a DataFrame\n",
            "\n",
            "See the caveats in the documentation: https://pandas.pydata.org/pandas-docs/stable/user_guide/indexing.html#returning-a-view-versus-a-copy\n"
          ]
        },
        {
          "output_type": "stream",
          "name": "stdout",
          "text": [
            "38.233440860215055 29.87763005780347 25.14061971830986\n"
          ]
        },
        {
          "output_type": "display_data",
          "data": {
            "text/plain": [
              "     PassengerId  Pclass                                               Name  \\\n",
              "0              1       3                            Braund, Mr. Owen Harris   \n",
              "1              2       1  Cumings, Mrs. John Bradley (Florence Briggs Th...   \n",
              "2              3       3                             Heikkinen, Miss. Laina   \n",
              "3              4       1       Futrelle, Mrs. Jacques Heath (Lily May Peel)   \n",
              "4              5       3                           Allen, Mr. William Henry   \n",
              "..           ...     ...                                                ...   \n",
              "886          887       2                              Montvila, Rev. Juozas   \n",
              "887          888       1                       Graham, Miss. Margaret Edith   \n",
              "888          889       3           Johnston, Miss. Catherine Helen \"Carrie\"   \n",
              "889          890       1                              Behr, Mr. Karl Howell   \n",
              "890          891       3                                Dooley, Mr. Patrick   \n",
              "\n",
              "        Sex        Age  SibSp  Parch            Ticket     Fare Cabin  \\\n",
              "0      male  22.000000      1      0         A/5 21171   7.2500  -100   \n",
              "1    female  38.000000      1      0          PC 17599  71.2833   C85   \n",
              "2    female  26.000000      0      0  STON/O2. 3101282   7.9250  -100   \n",
              "3    female  35.000000      1      0            113803  53.1000  C123   \n",
              "4      male  35.000000      0      0            373450   8.0500  -100   \n",
              "..      ...        ...    ...    ...               ...      ...   ...   \n",
              "886    male  27.000000      0      0            211536  13.0000  -100   \n",
              "887  female  19.000000      0      0            112053  30.0000   B42   \n",
              "888  female  24.670385      1      2        W./C. 6607  23.4500  -100   \n",
              "889    male  26.000000      0      0            111369  30.0000  C148   \n",
              "890    male  32.000000      0      0            370376   7.7500  -100   \n",
              "\n",
              "    Embarked  Survived  \n",
              "0          S         0  \n",
              "1          C         1  \n",
              "2          S         1  \n",
              "3          S         1  \n",
              "4          S         0  \n",
              "..       ...       ...  \n",
              "886        S         0  \n",
              "887        S         1  \n",
              "888        S         0  \n",
              "889        C         1  \n",
              "890        Q         0  \n",
              "\n",
              "[891 rows x 12 columns]"
            ],
            "text/html": [
              "\n",
              "  <div id=\"df-06e9f702-e913-4094-a7eb-a204a7138782\">\n",
              "    <div class=\"colab-df-container\">\n",
              "      <div>\n",
              "<style scoped>\n",
              "    .dataframe tbody tr th:only-of-type {\n",
              "        vertical-align: middle;\n",
              "    }\n",
              "\n",
              "    .dataframe tbody tr th {\n",
              "        vertical-align: top;\n",
              "    }\n",
              "\n",
              "    .dataframe thead th {\n",
              "        text-align: right;\n",
              "    }\n",
              "</style>\n",
              "<table border=\"1\" class=\"dataframe\">\n",
              "  <thead>\n",
              "    <tr style=\"text-align: right;\">\n",
              "      <th></th>\n",
              "      <th>PassengerId</th>\n",
              "      <th>Pclass</th>\n",
              "      <th>Name</th>\n",
              "      <th>Sex</th>\n",
              "      <th>Age</th>\n",
              "      <th>SibSp</th>\n",
              "      <th>Parch</th>\n",
              "      <th>Ticket</th>\n",
              "      <th>Fare</th>\n",
              "      <th>Cabin</th>\n",
              "      <th>Embarked</th>\n",
              "      <th>Survived</th>\n",
              "    </tr>\n",
              "  </thead>\n",
              "  <tbody>\n",
              "    <tr>\n",
              "      <th>0</th>\n",
              "      <td>1</td>\n",
              "      <td>3</td>\n",
              "      <td>Braund, Mr. Owen Harris</td>\n",
              "      <td>male</td>\n",
              "      <td>22.000000</td>\n",
              "      <td>1</td>\n",
              "      <td>0</td>\n",
              "      <td>A/5 21171</td>\n",
              "      <td>7.2500</td>\n",
              "      <td>-100</td>\n",
              "      <td>S</td>\n",
              "      <td>0</td>\n",
              "    </tr>\n",
              "    <tr>\n",
              "      <th>1</th>\n",
              "      <td>2</td>\n",
              "      <td>1</td>\n",
              "      <td>Cumings, Mrs. John Bradley (Florence Briggs Th...</td>\n",
              "      <td>female</td>\n",
              "      <td>38.000000</td>\n",
              "      <td>1</td>\n",
              "      <td>0</td>\n",
              "      <td>PC 17599</td>\n",
              "      <td>71.2833</td>\n",
              "      <td>C85</td>\n",
              "      <td>C</td>\n",
              "      <td>1</td>\n",
              "    </tr>\n",
              "    <tr>\n",
              "      <th>2</th>\n",
              "      <td>3</td>\n",
              "      <td>3</td>\n",
              "      <td>Heikkinen, Miss. Laina</td>\n",
              "      <td>female</td>\n",
              "      <td>26.000000</td>\n",
              "      <td>0</td>\n",
              "      <td>0</td>\n",
              "      <td>STON/O2. 3101282</td>\n",
              "      <td>7.9250</td>\n",
              "      <td>-100</td>\n",
              "      <td>S</td>\n",
              "      <td>1</td>\n",
              "    </tr>\n",
              "    <tr>\n",
              "      <th>3</th>\n",
              "      <td>4</td>\n",
              "      <td>1</td>\n",
              "      <td>Futrelle, Mrs. Jacques Heath (Lily May Peel)</td>\n",
              "      <td>female</td>\n",
              "      <td>35.000000</td>\n",
              "      <td>1</td>\n",
              "      <td>0</td>\n",
              "      <td>113803</td>\n",
              "      <td>53.1000</td>\n",
              "      <td>C123</td>\n",
              "      <td>S</td>\n",
              "      <td>1</td>\n",
              "    </tr>\n",
              "    <tr>\n",
              "      <th>4</th>\n",
              "      <td>5</td>\n",
              "      <td>3</td>\n",
              "      <td>Allen, Mr. William Henry</td>\n",
              "      <td>male</td>\n",
              "      <td>35.000000</td>\n",
              "      <td>0</td>\n",
              "      <td>0</td>\n",
              "      <td>373450</td>\n",
              "      <td>8.0500</td>\n",
              "      <td>-100</td>\n",
              "      <td>S</td>\n",
              "      <td>0</td>\n",
              "    </tr>\n",
              "    <tr>\n",
              "      <th>...</th>\n",
              "      <td>...</td>\n",
              "      <td>...</td>\n",
              "      <td>...</td>\n",
              "      <td>...</td>\n",
              "      <td>...</td>\n",
              "      <td>...</td>\n",
              "      <td>...</td>\n",
              "      <td>...</td>\n",
              "      <td>...</td>\n",
              "      <td>...</td>\n",
              "      <td>...</td>\n",
              "      <td>...</td>\n",
              "    </tr>\n",
              "    <tr>\n",
              "      <th>886</th>\n",
              "      <td>887</td>\n",
              "      <td>2</td>\n",
              "      <td>Montvila, Rev. Juozas</td>\n",
              "      <td>male</td>\n",
              "      <td>27.000000</td>\n",
              "      <td>0</td>\n",
              "      <td>0</td>\n",
              "      <td>211536</td>\n",
              "      <td>13.0000</td>\n",
              "      <td>-100</td>\n",
              "      <td>S</td>\n",
              "      <td>0</td>\n",
              "    </tr>\n",
              "    <tr>\n",
              "      <th>887</th>\n",
              "      <td>888</td>\n",
              "      <td>1</td>\n",
              "      <td>Graham, Miss. Margaret Edith</td>\n",
              "      <td>female</td>\n",
              "      <td>19.000000</td>\n",
              "      <td>0</td>\n",
              "      <td>0</td>\n",
              "      <td>112053</td>\n",
              "      <td>30.0000</td>\n",
              "      <td>B42</td>\n",
              "      <td>S</td>\n",
              "      <td>1</td>\n",
              "    </tr>\n",
              "    <tr>\n",
              "      <th>888</th>\n",
              "      <td>889</td>\n",
              "      <td>3</td>\n",
              "      <td>Johnston, Miss. Catherine Helen \"Carrie\"</td>\n",
              "      <td>female</td>\n",
              "      <td>24.670385</td>\n",
              "      <td>1</td>\n",
              "      <td>2</td>\n",
              "      <td>W./C. 6607</td>\n",
              "      <td>23.4500</td>\n",
              "      <td>-100</td>\n",
              "      <td>S</td>\n",
              "      <td>0</td>\n",
              "    </tr>\n",
              "    <tr>\n",
              "      <th>889</th>\n",
              "      <td>890</td>\n",
              "      <td>1</td>\n",
              "      <td>Behr, Mr. Karl Howell</td>\n",
              "      <td>male</td>\n",
              "      <td>26.000000</td>\n",
              "      <td>0</td>\n",
              "      <td>0</td>\n",
              "      <td>111369</td>\n",
              "      <td>30.0000</td>\n",
              "      <td>C148</td>\n",
              "      <td>C</td>\n",
              "      <td>1</td>\n",
              "    </tr>\n",
              "    <tr>\n",
              "      <th>890</th>\n",
              "      <td>891</td>\n",
              "      <td>3</td>\n",
              "      <td>Dooley, Mr. Patrick</td>\n",
              "      <td>male</td>\n",
              "      <td>32.000000</td>\n",
              "      <td>0</td>\n",
              "      <td>0</td>\n",
              "      <td>370376</td>\n",
              "      <td>7.7500</td>\n",
              "      <td>-100</td>\n",
              "      <td>Q</td>\n",
              "      <td>0</td>\n",
              "    </tr>\n",
              "  </tbody>\n",
              "</table>\n",
              "<p>891 rows × 12 columns</p>\n",
              "</div>\n",
              "      <button class=\"colab-df-convert\" onclick=\"convertToInteractive('df-06e9f702-e913-4094-a7eb-a204a7138782')\"\n",
              "              title=\"Convert this dataframe to an interactive table.\"\n",
              "              style=\"display:none;\">\n",
              "        \n",
              "  <svg xmlns=\"http://www.w3.org/2000/svg\" height=\"24px\"viewBox=\"0 0 24 24\"\n",
              "       width=\"24px\">\n",
              "    <path d=\"M0 0h24v24H0V0z\" fill=\"none\"/>\n",
              "    <path d=\"M18.56 5.44l.94 2.06.94-2.06 2.06-.94-2.06-.94-.94-2.06-.94 2.06-2.06.94zm-11 1L8.5 8.5l.94-2.06 2.06-.94-2.06-.94L8.5 2.5l-.94 2.06-2.06.94zm10 10l.94 2.06.94-2.06 2.06-.94-2.06-.94-.94-2.06-.94 2.06-2.06.94z\"/><path d=\"M17.41 7.96l-1.37-1.37c-.4-.4-.92-.59-1.43-.59-.52 0-1.04.2-1.43.59L10.3 9.45l-7.72 7.72c-.78.78-.78 2.05 0 2.83L4 21.41c.39.39.9.59 1.41.59.51 0 1.02-.2 1.41-.59l7.78-7.78 2.81-2.81c.8-.78.8-2.07 0-2.86zM5.41 20L4 18.59l7.72-7.72 1.47 1.35L5.41 20z\"/>\n",
              "  </svg>\n",
              "      </button>\n",
              "      \n",
              "  <style>\n",
              "    .colab-df-container {\n",
              "      display:flex;\n",
              "      flex-wrap:wrap;\n",
              "      gap: 12px;\n",
              "    }\n",
              "\n",
              "    .colab-df-convert {\n",
              "      background-color: #E8F0FE;\n",
              "      border: none;\n",
              "      border-radius: 50%;\n",
              "      cursor: pointer;\n",
              "      display: none;\n",
              "      fill: #1967D2;\n",
              "      height: 32px;\n",
              "      padding: 0 0 0 0;\n",
              "      width: 32px;\n",
              "    }\n",
              "\n",
              "    .colab-df-convert:hover {\n",
              "      background-color: #E2EBFA;\n",
              "      box-shadow: 0px 1px 2px rgba(60, 64, 67, 0.3), 0px 1px 3px 1px rgba(60, 64, 67, 0.15);\n",
              "      fill: #174EA6;\n",
              "    }\n",
              "\n",
              "    [theme=dark] .colab-df-convert {\n",
              "      background-color: #3B4455;\n",
              "      fill: #D2E3FC;\n",
              "    }\n",
              "\n",
              "    [theme=dark] .colab-df-convert:hover {\n",
              "      background-color: #434B5C;\n",
              "      box-shadow: 0px 1px 3px 1px rgba(0, 0, 0, 0.15);\n",
              "      filter: drop-shadow(0px 1px 2px rgba(0, 0, 0, 0.3));\n",
              "      fill: #FFFFFF;\n",
              "    }\n",
              "  </style>\n",
              "\n",
              "      <script>\n",
              "        const buttonEl =\n",
              "          document.querySelector('#df-06e9f702-e913-4094-a7eb-a204a7138782 button.colab-df-convert');\n",
              "        buttonEl.style.display =\n",
              "          google.colab.kernel.accessAllowed ? 'block' : 'none';\n",
              "\n",
              "        async function convertToInteractive(key) {\n",
              "          const element = document.querySelector('#df-06e9f702-e913-4094-a7eb-a204a7138782');\n",
              "          const dataTable =\n",
              "            await google.colab.kernel.invokeFunction('convertToInteractive',\n",
              "                                                     [key], {});\n",
              "          if (!dataTable) return;\n",
              "\n",
              "          const docLinkHtml = 'Like what you see? Visit the ' +\n",
              "            '<a target=\"_blank\" href=https://colab.research.google.com/notebooks/data_table.ipynb>data table notebook</a>'\n",
              "            + ' to learn more about interactive tables.';\n",
              "          element.innerHTML = '';\n",
              "          dataTable['output_type'] = 'display_data';\n",
              "          await google.colab.output.renderOutput(dataTable, element);\n",
              "          const docLink = document.createElement('div');\n",
              "          docLink.innerHTML = docLinkHtml;\n",
              "          element.appendChild(docLink);\n",
              "        }\n",
              "      </script>\n",
              "    </div>\n",
              "  </div>\n",
              "  "
            ]
          },
          "metadata": {}
        }
      ]
    },
    {
      "cell_type": "markdown",
      "source": [
        "Теперь в таблице нет отсуствующих значений. Сравним графики."
      ],
      "metadata": {
        "id": "BEsmRGQGwR1z"
      }
    },
    {
      "cell_type": "code",
      "source": [
        "table=pd.merge(passengers_record, survival_info, on='PassengerId')\n",
        "mytable=table.get([\"Age\",\"Sex\",\"Pclass\"])\n",
        "listofones = [1] * 891\n",
        "ones = pd.DataFrame({\"howmany\": listofones})\n",
        "mytable= mytable.join(ones)\n",
        "stats = mytable.groupby([\"Age\"]).count()\n",
        "\n",
        "\n",
        "\n",
        "plt.subplot(2, 1, 1)\n",
        "a=stats['howmany'].axes[0]\n",
        "b=stats['howmany']\n",
        "sum=stats['howmany'].sum()\n",
        "x=list(a)\n",
        "y=list(b)\n",
        "plt.title(\"Value counts in $y$ for data\")\n",
        "plt.bar(x, y)\n",
        "plt.xlabel(\"Age\")\n",
        "plt.ylabel(\"Count\")\n",
        "plt.show()\n",
        "\n",
        "####\n",
        "anothertable=lasttable\n",
        "mytable=anothertable.get([\"Age\",\"Sex\",\"Pclass\"])\n",
        "listofones = [1] * 891\n",
        "ones = pd.DataFrame({\"howmany\": listofones})\n",
        "mytable= mytable.join(ones)\n",
        "stats = mytable.groupby([\"Age\"]).count()\n",
        "\n",
        "plt.subplot(2, 1, 2)\n",
        "a=stats['howmany'].axes[0]\n",
        "b=stats['howmany']\n",
        "sum=stats['howmany'].sum()\n",
        "x=list(a)\n",
        "y=list(b)\n",
        "plt.title(\"Value counts in $y$ for updated data\")\n",
        "plt.bar(x, y)\n",
        "plt.xlabel(\"Age\")\n",
        "plt.ylabel(\"Count\")\n",
        "plt.show()\n",
        "print('mean=',table.mean()['Age'])\n",
        "print('mean=',anothertable.mean()['Age'])"
      ],
      "metadata": {
        "colab": {
          "base_uri": "https://localhost:8080/",
          "height": 430
        },
        "outputId": "69ac1531-b816-495b-b8ee-7b1d60e41a8a",
        "id": "wkpPrmoYwiuP"
      },
      "execution_count": 161,
      "outputs": [
        {
          "output_type": "display_data",
          "data": {
            "text/plain": [
              "<Figure size 432x288 with 1 Axes>"
            ],
            "image/png": "[encoded data removed]"
          },
          "metadata": {
            "needs_background": "light"
          }
        },
        {
          "output_type": "display_data",
          "data": {
            "text/plain": [
              "<Figure size 432x288 with 1 Axes>"
            ],
            "image/png": "[encoded data removed]"
          },
          "metadata": {
            "needs_background": "light"
          }
        },
        {
          "output_type": "stream",
          "name": "stdout",
          "text": [
            "mean= 29.69911764705882\n",
            "mean= 29.276540360823837\n"
          ]
        },
        {
          "output_type": "stream",
          "name": "stderr",
          "text": [
            "/usr/local/lib/python3.7/dist-packages/ipykernel_launcher.py:41: FutureWarning: Dropping of nuisance columns in DataFrame reductions (with 'numeric_only=None') is deprecated; in a future version this will raise TypeError.  Select only valid columns before calling the reduction.\n",
            "/usr/local/lib/python3.7/dist-packages/ipykernel_launcher.py:42: FutureWarning: Dropping of nuisance columns in DataFrame reductions (with 'numeric_only=None') is deprecated; in a future version this will raise TypeError.  Select only valid columns before calling the reduction.\n"
          ]
        }
      ]
    },
    {
      "cell_type": "markdown",
      "source": [
        "Результат получился хороший, в районе средних значений (38,29,25) появилось много count=1. Статистика не испортилась, среднее значение возраста упало на 0.3 (с 29.6 до 29.3), что не страшно"
      ],
      "metadata": {
        "id": "SDhtv-mAxTNe"
      }
    },
    {
      "cell_type": "code",
      "source": [
        "anothertable=lasttable\n",
        "atable=table.get([\"Age\",\"Sex\",\"Pclass\",\"Survived\"])\n",
        "#print(atable)\n",
        "table1=atable[atable['Pclass']==1]\n",
        "table2=atable[atable['Pclass']==2]\n",
        "table3=atable[atable['Pclass']==3]\n",
        "\n",
        "plt.subplot(1, 2, 1)\n",
        "plt.title(\"Survival rate in $y$ (old data)\")\n",
        "plt.bar([1,2,3], [table1.mean()['Survived'],table2.mean()['Survived'],table3.mean()['Survived']])\n",
        "plt.xticks([1,2,3])\n",
        "plt.xlabel(\"Class\")\n",
        "plt.ylabel(\"Survival rate\")\n",
        "plt.grid(10)\n",
        "plt.show()\n",
        "atable=anothertable.get([\"Age\",\"Sex\",\"Pclass\",\"Survived\"])\n",
        "#print(atable)\n",
        "table1=atable[atable['Pclass']==1]\n",
        "table2=atable[atable['Pclass']==2]\n",
        "table3=atable[atable['Pclass']==3]\n",
        "\n",
        "plt.subplot(1, 2, 2)\n",
        "plt.title(\"Survival rate in $y$ (updated data)\")\n",
        "plt.bar([1,2,3], [table1.mean()['Survived'],table2.mean()['Survived'],table3.mean()['Survived']])\n",
        "plt.xticks([1,2,3])\n",
        "plt.xlabel(\"Class\")\n",
        "plt.ylabel(\"Survival rate\")\n",
        "plt.grid(10)\n",
        "plt.show()\n",
        "\n",
        "\n",
        "atable=table.get([\"Age\",\"Sex\",\"Pclass\",\"Survived\"])\n",
        "table1=atable[atable['Sex']=='female']\n",
        "table2=atable[atable['Sex']=='male']\n",
        "\n",
        "\n",
        "plt.subplot(1, 2, 1)\n",
        "plt.title(\"Survival rate in $y$ (old data)\")\n",
        "plt.bar(['female', 'male'], [table1.mean()['Survived'],table2.mean()['Survived']])\n",
        "plt.xticks(['female','male'])\n",
        "plt.xlabel(\"Sex\")\n",
        "plt.ylabel(\"Survival rate\")\n",
        "plt.grid(10)\n",
        "plt.show()\n",
        "\n",
        "\n",
        "atable=anothertable.get([\"Age\",\"Sex\",\"Pclass\",\"Survived\"])\n",
        "table1=atable[atable['Sex']=='female']\n",
        "table2=atable[atable['Sex']=='male']\n",
        "\n",
        "plt.subplot(1, 2, 1)\n",
        "plt.title(\"Survival rate in $y$ (updated data)\")\n",
        "plt.bar(['female', 'male'], [table1.mean()['Survived'],table2.mean()['Survived']])\n",
        "plt.xticks(['female','male'])\n",
        "plt.xlabel(\"Sex\")\n",
        "plt.ylabel(\"Survival rate\")\n",
        "plt.grid(10)\n",
        "plt.show()\n",
        "\n",
        "atable=table\n",
        "table1=atable[atable['Age']>0]\n",
        "table1=table1[table1['Age']<5]\n",
        "table2=atable[atable['Age']>=5]\n",
        "table2=table2[table2['Age']<18]\n",
        "table3=atable[atable['Age']>=18]\n",
        "table3=table3[table3['Age']<35]\n",
        "table4=atable[atable['Age']>=35]\n",
        "print('age 0-4:',table1.mean()['Survived'])\n",
        "print('age 5-17:',table2.mean()['Survived'])\n",
        "print('age 18-34:',table3.mean()['Survived'])\n",
        "print('age > 35:',table4.mean()['Survived'])\n",
        "plt.title(\"Survival rate in $y$\")\n",
        "plt.bar(['age 0-4', 'age 5-17','age 18-34','age > 35' ], [table1.mean()['Survived'],table2.mean()['Survived'],table3.mean()['Survived'],table4.mean()['Survived']])\n",
        "plt.xticks(['age 0-4', 'age 5-17','age 18-34','age > 35' ])\n",
        "plt.xlabel(\"Age\")\n",
        "plt.ylabel(\"Survival rate\")\n",
        "plt.grid(10)\n",
        "plt.show()\n",
        "\n",
        "\n",
        "atable=lasttable\n",
        "table1=atable[atable['Age']>0]\n",
        "table1=table1[table1['Age']<5]\n",
        "table2=atable[atable['Age']>=5]\n",
        "table2=table2[table2['Age']<18]\n",
        "table3=atable[atable['Age']>=18]\n",
        "table3=table3[table3['Age']<35]\n",
        "table4=atable[atable['Age']>=35]\n",
        "print('age 0-4:',table1.mean()['Survived'])\n",
        "print('age 5-17:',table2.mean()['Survived'])\n",
        "print('age 18-34:',table3.mean()['Survived'])\n",
        "print('age > 35:',table4.mean()['Survived'])\n",
        "plt.title(\"Survival rate in $y$\")\n",
        "plt.bar(['age 0-4', 'age 5-17','age 18-34','age > 35' ], [table1.mean()['Survived'],table2.mean()['Survived'],table3.mean()['Survived'],table4.mean()['Survived']])\n",
        "plt.xticks(['age 0-4', 'age 5-17','age 18-34','age > 35' ])\n",
        "plt.xlabel(\"Age\")\n",
        "plt.ylabel(\"Survival rate\")\n",
        "plt.grid(10)\n",
        "plt.show()"
      ],
      "metadata": {
        "colab": {
          "base_uri": "https://localhost:8080/",
          "height": 1000
        },
        "outputId": "75787ebe-5654-425d-e8f5-ca32c4c33eef",
        "id": "H6CkhuLY2q8C"
      },
      "execution_count": 162,
      "outputs": [
        {
          "output_type": "stream",
          "name": "stderr",
          "text": [
            "/usr/local/lib/python3.7/dist-packages/ipykernel_launcher.py:10: FutureWarning: Dropping of nuisance columns in DataFrame reductions (with 'numeric_only=None') is deprecated; in a future version this will raise TypeError.  Select only valid columns before calling the reduction.\n",
            "  # Remove the CWD from sys.path while we load stuff.\n"
          ]
        },
        {
          "output_type": "display_data",
          "data": {
            "text/plain": [
              "<Figure size 432x288 with 1 Axes>"
            ],
            "image/png": "[encoded data removed]"
          },
          "metadata": {
            "needs_background": "light"
          }
        },
        {
          "output_type": "stream",
          "name": "stderr",
          "text": [
            "/usr/local/lib/python3.7/dist-packages/ipykernel_launcher.py:24: FutureWarning: Dropping of nuisance columns in DataFrame reductions (with 'numeric_only=None') is deprecated; in a future version this will raise TypeError.  Select only valid columns before calling the reduction.\n"
          ]
        },
        {
          "output_type": "display_data",
          "data": {
            "text/plain": [
              "<Figure size 432x288 with 1 Axes>"
            ],
            "image/png": "[encoded data removed]"
          },
          "metadata": {
            "needs_background": "light"
          }
        },
        {
          "output_type": "stream",
          "name": "stderr",
          "text": [
            "/usr/local/lib/python3.7/dist-packages/ipykernel_launcher.py:39: FutureWarning: Dropping of nuisance columns in DataFrame reductions (with 'numeric_only=None') is deprecated; in a future version this will raise TypeError.  Select only valid columns before calling the reduction.\n"
          ]
        },
        {
          "output_type": "display_data",
          "data": {
            "text/plain": [
              "<Figure size 432x288 with 1 Axes>"
            ],
            "image/png": "[encoded data removed]"
          },
          "metadata": {
            "needs_background": "light"
          }
        },
        {
          "output_type": "stream",
          "name": "stderr",
          "text": [
            "/usr/local/lib/python3.7/dist-packages/ipykernel_launcher.py:53: FutureWarning: Dropping of nuisance columns in DataFrame reductions (with 'numeric_only=None') is deprecated; in a future version this will raise TypeError.  Select only valid columns before calling the reduction.\n"
          ]
        },
        {
          "output_type": "display_data",
          "data": {
            "text/plain": [
              "<Figure size 432x288 with 1 Axes>"
            ],
            "image/png": "[encoded data removed]"
          },
          "metadata": {
            "needs_background": "light"
          }
        },
        {
          "output_type": "stream",
          "name": "stderr",
          "text": [
            "/usr/local/lib/python3.7/dist-packages/ipykernel_launcher.py:68: FutureWarning: Dropping of nuisance columns in DataFrame reductions (with 'numeric_only=None') is deprecated; in a future version this will raise TypeError.  Select only valid columns before calling the reduction.\n",
            "/usr/local/lib/python3.7/dist-packages/ipykernel_launcher.py:69: FutureWarning: Dropping of nuisance columns in DataFrame reductions (with 'numeric_only=None') is deprecated; in a future version this will raise TypeError.  Select only valid columns before calling the reduction.\n",
            "/usr/local/lib/python3.7/dist-packages/ipykernel_launcher.py:70: FutureWarning: Dropping of nuisance columns in DataFrame reductions (with 'numeric_only=None') is deprecated; in a future version this will raise TypeError.  Select only valid columns before calling the reduction.\n",
            "/usr/local/lib/python3.7/dist-packages/ipykernel_launcher.py:71: FutureWarning: Dropping of nuisance columns in DataFrame reductions (with 'numeric_only=None') is deprecated; in a future version this will raise TypeError.  Select only valid columns before calling the reduction.\n",
            "/usr/local/lib/python3.7/dist-packages/ipykernel_launcher.py:73: FutureWarning: Dropping of nuisance columns in DataFrame reductions (with 'numeric_only=None') is deprecated; in a future version this will raise TypeError.  Select only valid columns before calling the reduction.\n"
          ]
        },
        {
          "output_type": "stream",
          "name": "stdout",
          "text": [
            "age 0-4: 0.675\n",
            "age 5-17: 0.4657534246575342\n",
            "age 18-34: 0.36885245901639346\n",
            "age > 35: 0.4\n"
          ]
        },
        {
          "output_type": "display_data",
          "data": {
            "text/plain": [
              "<Figure size 432x288 with 1 Axes>"
            ],
            "image/png": "[encoded data removed]"
          },
          "metadata": {
            "needs_background": "light"
          }
        },
        {
          "output_type": "stream",
          "name": "stderr",
          "text": [
            "/usr/local/lib/python3.7/dist-packages/ipykernel_launcher.py:89: FutureWarning: Dropping of nuisance columns in DataFrame reductions (with 'numeric_only=None') is deprecated; in a future version this will raise TypeError.  Select only valid columns before calling the reduction.\n",
            "/usr/local/lib/python3.7/dist-packages/ipykernel_launcher.py:90: FutureWarning: Dropping of nuisance columns in DataFrame reductions (with 'numeric_only=None') is deprecated; in a future version this will raise TypeError.  Select only valid columns before calling the reduction.\n",
            "/usr/local/lib/python3.7/dist-packages/ipykernel_launcher.py:91: FutureWarning: Dropping of nuisance columns in DataFrame reductions (with 'numeric_only=None') is deprecated; in a future version this will raise TypeError.  Select only valid columns before calling the reduction.\n",
            "/usr/local/lib/python3.7/dist-packages/ipykernel_launcher.py:92: FutureWarning: Dropping of nuisance columns in DataFrame reductions (with 'numeric_only=None') is deprecated; in a future version this will raise TypeError.  Select only valid columns before calling the reduction.\n"
          ]
        },
        {
          "output_type": "stream",
          "name": "stdout",
          "text": [
            "age 0-4: 0.675\n",
            "age 5-17: 0.4657534246575342\n",
            "age 18-34: 0.33723196881091616\n",
            "age > 35: 0.4075471698113208\n"
          ]
        },
        {
          "output_type": "stream",
          "name": "stderr",
          "text": [
            "/usr/local/lib/python3.7/dist-packages/ipykernel_launcher.py:94: FutureWarning: Dropping of nuisance columns in DataFrame reductions (with 'numeric_only=None') is deprecated; in a future version this will raise TypeError.  Select only valid columns before calling the reduction.\n"
          ]
        },
        {
          "output_type": "display_data",
          "data": {
            "text/plain": [
              "<Figure size 432x288 with 1 Axes>"
            ],
            "image/png": "[encoded data removed]"
          },
          "metadata": {
            "needs_background": "light"
          }
        }
      ]
    },
    {
      "cell_type": "markdown",
      "source": [
        "Графики выживаемости выглядят идеально! Рейтинги выживаемости по возрастам изменились на очень маленькие значения. \n",
        "\n",
        "Результат добавления новых значений получился приемлимым."
      ],
      "metadata": {
        "id": "EkdxVFwh26nt"
      }
    },
    {
      "cell_type": "markdown",
      "metadata": {
        "id": "0QabDQFjYCLL"
      },
      "source": [
        "### Great! Don't forget to submit before the deadline :)"
      ]
    }
  ],
  "metadata": {
    "kernelspec": {
      "display_name": "Python 3",
      "language": "python",
      "name": "python3"
    },
    "language_info": {
      "codemirror_mode": {
        "name": "ipython",
        "version": 3
      },
      "file_extension": ".py",
      "mimetype": "text/x-python",
      "name": "python",
      "nbconvert_exporter": "python",
      "pygments_lexer": "ipython3",
      "version": "3.9.6"
    },
    "colab": {
      "provenance": [],
      "collapsed_sections": [
        "0QabDQFjYCLL"
      ]
    }
  },
  "nbformat": 4,
  "nbformat_minor": 0
}
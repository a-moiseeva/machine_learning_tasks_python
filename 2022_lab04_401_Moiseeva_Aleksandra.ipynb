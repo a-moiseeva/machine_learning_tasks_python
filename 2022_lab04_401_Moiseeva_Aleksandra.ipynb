{
 "cells": [
  {
   "cell_type": "markdown",
   "metadata": {
    "id": "gbM1Pwx-_V1a"
   },
   "source": [
    "# Lab 04. Text Classification\n",
    "\n",
    "\n",
    "This lab is devoted to text classification tasks.\n",
    "- **Part 1 [8 points]** is about very common NLP problem - sentiment analysis.\n",
    "- **Part 2 [7 points]** include tasks on POS tagging and WordEmbeddings.\n",
    "\n",
    "\n",
    "#### Evaluation\n",
    "\n",
    "Each task has its value, **15 points** in total. If you use some open-source code please make sure to include the url.\n",
    "\n",
    "#### How to submit\n",
    "\n",
    "- Name your file according to this convention: `lab04_GroupNo_Surname_Name.ipynb`. If you don't have group number, put `nan` instead.\n",
    "- Attach it to an **email** with **topic** `lab04_GroupNo_Surname_Name.ipynb`\n",
    "- Send it to `cosmic.research.ml@yandex.ru`\n",
    "- Deadline is ` 2022-11-24 23:00:00 +03:00`"
   ]
  },
  {
   "cell_type": "markdown",
   "metadata": {
    "id": "v34UY96U_V1m"
   },
   "source": [
    "## Part 1. Bag of Words vs. Bag of Popcorn [8 points]"
   ]
  },
  {
   "cell_type": "markdown",
   "metadata": {
    "id": "saB6vZDj_V1o"
   },
   "source": [
    "This task is based on [Bag of Words Meets Bags of Popcorn](https://www.kaggle.com/c/word2vec-nlp-tutorial/data) competition. The goal is to label film reviews as positive or negative. \n",
    "\n",
    "Reviews may look like this:\n",
    "\n",
    "```\n",
    "I dont know why people think this is such a bad movie. Its got a pretty good plot, some good action, and the change of location for Harry does not hurt either. Sure some of its offensive and gratuitous but this is not the only movie like that. Eastwood is in good form as Dirty Harry, and I liked Pat Hingle in this movie as the small town cop. If you liked DIRTY HARRY, then you should see this one, its a lot better than THE DEAD POOL. 4/5\n",
    "```"
   ]
  },
  {
   "cell_type": "code",
   "execution_count": 76,
   "metadata": {},
   "outputs": [
    {
     "name": "stdout",
     "output_type": "stream",
     "text": [
      "Requirement already satisfied: xlrd in c:\\users\\alexa\\anaconda3\\lib\\site-packages (2.0.1)\n"
     ]
    }
   ],
   "source": [
    "!pip install xlrd"
   ]
  },
  {
   "cell_type": "code",
   "execution_count": 77,
   "metadata": {
    "id": "-A_K5vCI_V1q"
   },
   "outputs": [],
   "source": [
    "import pandas as pd\n",
    "import numpy as np\n",
    "import matplotlib.pyplot as plt\n",
    "import nltk"
   ]
  },
  {
   "cell_type": "code",
   "execution_count": 78,
   "metadata": {
    "colab": {
     "base_uri": "https://localhost:8080/",
     "height": 143
    },
    "id": "BKU0Wr_M_V1t",
    "outputId": "92acb90c-f6dc-4cad-d1d6-f02e891af38d"
   },
   "outputs": [
    {
     "data": {
      "text/html": [
       "<div>\n",
       "<style scoped>\n",
       "    .dataframe tbody tr th:only-of-type {\n",
       "        vertical-align: middle;\n",
       "    }\n",
       "\n",
       "    .dataframe tbody tr th {\n",
       "        vertical-align: top;\n",
       "    }\n",
       "\n",
       "    .dataframe thead th {\n",
       "        text-align: right;\n",
       "    }\n",
       "</style>\n",
       "<table border=\"1\" class=\"dataframe\">\n",
       "  <thead>\n",
       "    <tr style=\"text-align: right;\">\n",
       "      <th></th>\n",
       "      <th>id</th>\n",
       "      <th>sentiment</th>\n",
       "      <th>review</th>\n",
       "    </tr>\n",
       "  </thead>\n",
       "  <tbody>\n",
       "    <tr>\n",
       "      <th>0</th>\n",
       "      <td>5814_8</td>\n",
       "      <td>1</td>\n",
       "      <td>With all this stuff going down at the moment w...</td>\n",
       "    </tr>\n",
       "    <tr>\n",
       "      <th>1</th>\n",
       "      <td>2381_9</td>\n",
       "      <td>1</td>\n",
       "      <td>\\The Classic War of the Worlds\\\" by Timothy Hi...</td>\n",
       "    </tr>\n",
       "    <tr>\n",
       "      <th>2</th>\n",
       "      <td>7759_3</td>\n",
       "      <td>0</td>\n",
       "      <td>The film starts with a manager (Nicholas Bell)...</td>\n",
       "    </tr>\n",
       "  </tbody>\n",
       "</table>\n",
       "</div>"
      ],
      "text/plain": [
       "       id  sentiment                                             review\n",
       "0  5814_8          1  With all this stuff going down at the moment w...\n",
       "1  2381_9          1  \\The Classic War of the Worlds\\\" by Timothy Hi...\n",
       "2  7759_3          0  The film starts with a manager (Nicholas Bell)..."
      ]
     },
     "execution_count": 78,
     "metadata": {},
     "output_type": "execute_result"
    }
   ],
   "source": [
    "rev=r\"C:\\Users\\Alexa\\Downloads\\reviews.tsv\"\n",
    "\n",
    "#db = pd.read_csv(rev, sep='\\t', header=None)\n",
    "reviews = pd.read_csv(rev, sep=\"\\t\")\n",
    "reviews.head(3)"
   ]
  },
  {
   "cell_type": "code",
   "execution_count": 81,
   "metadata": {
    "id": "4spiMo6M_V1u"
   },
   "outputs": [],
   "source": [
    "X = reviews[\"review\"]\n",
    "y = reviews[\"sentiment\"]\n",
    "#display(X,y)"
   ]
  },
  {
   "cell_type": "code",
   "execution_count": 82,
   "metadata": {
    "id": "i3DzBkdU_V1v"
   },
   "outputs": [],
   "source": [
    "from sklearn.model_selection import train_test_split"
   ]
  },
  {
   "cell_type": "code",
   "execution_count": 83,
   "metadata": {
    "id": "KcZs8OuZ_V1x"
   },
   "outputs": [],
   "source": [
    "X_train, X_test, y_train, y_test = train_test_split(X, y, test_size=5000, random_state=42, stratify=y)"
   ]
  },
  {
   "cell_type": "code",
   "execution_count": 7,
   "metadata": {
    "id": "2lZ-9c8ygVNN"
   },
   "outputs": [],
   "source": [
    "#display(X_train, X_test)"
   ]
  },
  {
   "cell_type": "markdown",
   "metadata": {
    "id": "fC7KugWM_V1z"
   },
   "source": [
    "### Time to extract features\n",
    "\n",
    "In this part of the assignment we will apply several methods of feature extraction and comapre them."
   ]
  },
  {
   "cell_type": "markdown",
   "metadata": {
    "id": "DSabosBH_V10"
   },
   "source": [
    "**Task 1.1 [0.5 point] - Simple BOW** \n",
    "\n",
    "In this task we will build a simple bow representation - without any preprocessing. \n",
    "\n",
    "For this purpose we will use [*CountVectorizer*](https://scikit-learn.org/stable/modules/generated/sklearn.feature_extraction.text.CountVectorizer.html#sklearn.feature_extraction.text.CountVectorizer) - a method that transforms text dataset into a [sparse matrix](https://docs.scipy.org/doc/scipy/reference/sparse.html)."
   ]
  },
  {
   "cell_type": "markdown",
   "metadata": {
    "id": "wHY5-ipE_V11"
   },
   "source": [
    "Import CountVectorizer:"
   ]
  },
  {
   "cell_type": "code",
   "execution_count": 84,
   "metadata": {
    "id": "1wMW2P7-_V12"
   },
   "outputs": [],
   "source": [
    "from sklearn.feature_extraction.text import CountVectorizer"
   ]
  },
  {
   "cell_type": "markdown",
   "metadata": {
    "id": "qw3ax9iK_V13"
   },
   "source": [
    "Now try each of these approaches:\n",
    "- fit vectorizer on X_train, apply to X_train, X_test\n",
    "- fit vectorizer on X_train, apply to X_train; fit on X_test, apply to X_test\n",
    "- fit vectorizer on X, apply to X_train, X_test\n",
    "\n",
    "Report output matrix sizes in each case. \n",
    "- What is the difference? \n",
    "- Which of these approaches is the most fair and correct?\n",
    "\n",
    "Use the most fair and correct one to get `X_train_0` and `X_test_0` - they will be needed for further tasks."
   ]
  },
  {
   "cell_type": "code",
   "execution_count": 9,
   "metadata": {
    "colab": {
     "base_uri": "https://localhost:8080/"
    },
    "id": "e5ajYYwJ_V14",
    "outputId": "13e41e5d-b953-4709-a95e-3eccbdea16b1"
   },
   "outputs": [
    {
     "name": "stdout",
     "output_type": "stream",
     "text": [
      "(20000, 68482) (5000, 68482)\n"
     ]
    }
   ],
   "source": [
    "count_vectorizer = CountVectorizer()\n",
    "count_vectorizer.fit(X_train)\n",
    "X_train_0=count_vectorizer.transform(X_train)\n",
    "X_test_0=count_vectorizer.transform(X_test)\n",
    "print(X_train_0.shape, X_test_0.shape)\n",
    "#display(X_train_0)"
   ]
  },
  {
   "cell_type": "code",
   "execution_count": 10,
   "metadata": {
    "colab": {
     "base_uri": "https://localhost:8080/"
    },
    "id": "MpDLO1Fe_V14",
    "outputId": "ab63152f-2836-4037-cc87-5484b30d6c98"
   },
   "outputs": [
    {
     "name": "stdout",
     "output_type": "stream",
     "text": [
      "(20000, 68482) (5000, 38591)\n"
     ]
    }
   ],
   "source": [
    "count_vectorizer = CountVectorizer()\n",
    "count_vectorizer.fit(X_train)\n",
    "X_train_0=count_vectorizer.transform(X_train)\n",
    "count_vectorizer.fit(X_test)\n",
    "X_test_0=count_vectorizer.transform(X_test)\n",
    "\n",
    "print(X_train_0.shape, X_test_0.shape)"
   ]
  },
  {
   "cell_type": "code",
   "execution_count": 85,
   "metadata": {
    "colab": {
     "base_uri": "https://localhost:8080/"
    },
    "id": "2AcVzdF1_V15",
    "outputId": "df6893ed-f091-4c67-aadb-e3b07041d239"
   },
   "outputs": [
    {
     "name": "stdout",
     "output_type": "stream",
     "text": [
      "(20000, 74849) (5000, 74849)\n"
     ]
    }
   ],
   "source": [
    "count_vectorizer = CountVectorizer()\n",
    "count_vectorizer.fit(X)\n",
    "X_train_0=count_vectorizer.transform(X_train)\n",
    "X_test_0=count_vectorizer.transform(X_test)\n",
    "\n",
    "print(X_train_0.shape, X_test_0.shape)"
   ]
  },
  {
   "cell_type": "code",
   "execution_count": 12,
   "metadata": {
    "colab": {
     "base_uri": "https://localhost:8080/"
    },
    "id": "jiWZAy_ezvSo",
    "outputId": "b9d41048-bc7e-4233-8110-63333c33e7fc"
   },
   "outputs": [
    {
     "name": "stdout",
     "output_type": "stream",
     "text": [
      "<class 'scipy.sparse._csr.csr_matrix'>\n"
     ]
    }
   ],
   "source": [
    "print(type(X_train_0))"
   ]
  },
  {
   "cell_type": "markdown",
   "metadata": {
    "id": "d-x00-ECs0Qv"
   },
   "source": [
    "Cамый логичный - последний подход. Mы посчитаем сразу все слова в 1 словарь, а не сделаем два разных словаря (с повторяющимися словами) для train и test. В первом подходе мы вообще теряем слова из X_test, которых нет в X_train."
   ]
  },
  {
   "cell_type": "markdown",
   "metadata": {
    "id": "jgT7R3Yx_V15"
   },
   "source": [
    "**Task 1.2 [0.5 point] - S___se matrices**\n",
    "\n",
    "What is the data type of `X_train_0` and `X_test_0`? What are those? \n",
    "\n",
    "What differs them from usual np.arrays? Name several types how those special matrices are stored and what they are good for."
   ]
  },
  {
   "cell_type": "markdown",
   "metadata": {
    "id": "F5t_hR8A_V16"
   },
   "source": [
    "*Answer:* тип - разреженная матрица. На каждый отзыв выделена одна строка, в которой лежит информация о словах, присутствующих в этом отзыве. Но в такой матрице много нулей, поэтому sparce matrix сжимает информацию, чтобы было удобнее хранить. Такие матрицы используются для данных, содержащих подсчёты.\n",
    "\n",
    "Обычному матричному представлению они не соответствуют, к ним не применимы матричные функции в традиционном виде.\n",
    "\n",
    "\n",
    "Разреженные матрицы могут быть представлены в разных видах:\n",
    "\n",
    "-Sparse Row format.\n",
    "\n",
    "-Sparse Column format. \n",
    "\n",
    "-List of Lists format\n",
    "\n",
    "Разреженные матрицы хороши для:\n",
    "\n",
    "-подсчётов (частоты слов в тексте)\n",
    "\n",
    "-соответствий между данными (пользователь и просмотренные им фильмы на сайте, пользователь и купленные им товары в каталоге)"
   ]
  },
  {
   "cell_type": "markdown",
   "metadata": {
    "id": "A_NgqY1g_V17"
   },
   "source": [
    "**Task 1.3 [1 points] - Training**\n",
    "\n",
    "Train LogisticRegression and Random forest on this data representations.\n",
    "- Compare training time \n",
    "- Compare Accuracy, precision, recall \n",
    "- Plot ROC Curve and calculate ROC AUC (don't forget to predict_proba) \n",
    "- Plot Precision-Recall curve and calculate f1-score (for example, with `plt.subplots(nrows=1, ncols=2)`)\n",
    "- Print the trickiest missclassified objects. Why they were hard to classify? \n"
   ]
  },
  {
   "cell_type": "code",
   "execution_count": 86,
   "metadata": {
    "id": "tXlYEH9L_V17"
   },
   "outputs": [],
   "source": [
    "from sklearn.ensemble import RandomForestClassifier\n",
    "from sklearn.linear_model import LogisticRegression\n",
    "import time as tm"
   ]
  },
  {
   "cell_type": "code",
   "execution_count": 87,
   "metadata": {
    "id": "g0ZW9Fsh_V18"
   },
   "outputs": [],
   "source": [
    "from sklearn.metrics import accuracy_score, precision_score, recall_score\n",
    "from sklearn.metrics import f1_score, precision_recall_curve, roc_curve, roc_auc_score"
   ]
  },
  {
   "cell_type": "code",
   "execution_count": 88,
   "metadata": {
    "id": "b1c8l4A9_V18"
   },
   "outputs": [],
   "source": [
    "rf_model = RandomForestClassifier(n_estimators=500)\n",
    "lr_model = LogisticRegression(max_iter=1e5)"
   ]
  },
  {
   "cell_type": "code",
   "execution_count": 89,
   "metadata": {
    "id": "MeapnG4a_V19",
    "scrolled": false
   },
   "outputs": [
    {
     "name": "stdout",
     "output_type": "stream",
     "text": [
      "it took 341.807 seconds\n",
      "it took 16.774 seconds\n"
     ]
    }
   ],
   "source": [
    "from time import time\n",
    "\n",
    "start = time()\n",
    "rf_model.fit(X_train_0, y_train)\n",
    "end = time()\n",
    "print(\"it took {:.3f} seconds\".format(end - start))\n",
    "\n",
    "\n",
    "start = time()\n",
    "lr_model.fit(X_train_0, y_train)\n",
    "end = time()\n",
    "print(\"it took {:.3f} seconds\".format(end - start))"
   ]
  },
  {
   "cell_type": "code",
   "execution_count": 103,
   "metadata": {},
   "outputs": [],
   "source": [
    "clf2 = LogisticRegression()\n",
    "clf4 = RandomForestClassifier()\n",
    "\n",
    "default_classifiers = [clf2,  clf4]\n",
    "\n",
    "clf_predictions = []\n",
    "for clf in default_classifiers:\n",
    "    clf.fit(X_train_0, y_train)  \n",
    "    pred = clf.predict(X_test_0)\n",
    "    clf_predictions.append(pred)\n",
    "accuracies = [accuracy_score(y_test, pred) for pred in clf_predictions]\n",
    "micro_precisions = [precision_score(y_test, pred, average=\"micro\", zero_division=1) for pred in clf_predictions] \n",
    "micro_recalls =[recall_score(y_test, pred, average=\"micro\", zero_division=1) for pred in clf_predictions]\n",
    "macro_precisions =[precision_score(y_test, pred, average=\"macro\", zero_division=1) for pred in clf_predictions] \n",
    "macro_recalls = [recall_score(y_test, pred, average=\"micro\", zero_division=1) for pred in clf_predictions] \n",
    "\n",
    "scores = [accuracies, micro_precisions, micro_recalls, macro_precisions, macro_recalls]\n",
    "names = [\"Accuracies\", \"Micro-Precisions\", \"Micro-Recalls\",  \"Macro-Precisions\", \"Macro-Recalls\"]"
   ]
  },
  {
   "cell_type": "code",
   "execution_count": 104,
   "metadata": {},
   "outputs": [
    {
     "data": {
      "image/png": "[encoded data removed]",
      "text/plain": [
       "<Figure size 2000x500 with 5 Axes>"
      ]
     },
     "metadata": {},
     "output_type": "display_data"
    }
   ],
   "source": [
    "fig, axs = plt.subplots(nrows=1, ncols=5, figsize=(20, 5), sharey=True)\n",
    "plt.setp(axs, ylim=(0, 1))\n",
    "\n",
    "xlabels = [\"linear\",  \"rf\"]\n",
    "colors = [\"yellow\", \"red\"]\n",
    "xticks = 1 + np.arange(len(xlabels))\n",
    "\n",
    "for ax, score, name in zip(axs, scores, names):\n",
    "    ax.bar(xticks, score, color=colors)\n",
    "    for i, v in enumerate(score):\n",
    "        ax.text(xticks[i] - 0.25, v + 0.01, \"{:.2f}\".format(v))\n",
    "    ax.set_xticks(xticks)\n",
    "    ax.set_xticklabels(xlabels)\n",
    "    ax.set_title(name)\n",
    "    ax.grid()\n",
    "\n",
    "plt.show()"
   ]
  },
  {
   "cell_type": "code",
   "execution_count": 108,
   "metadata": {},
   "outputs": [
    {
     "data": {
      "image/png": "[encoded data removed]",
      "text/plain": [
       "<Figure size 640x480 with 1 Axes>"
      ]
     },
     "metadata": {},
     "output_type": "display_data"
    }
   ],
   "source": [
    "#https://stackoverflow.com/questions/25009284/how-to-plot-roc-curve-in-python\n",
    "import sklearn.metrics as metrics\n",
    "probs = rf_model.predict_proba(X_test_0)\n",
    "preds = probs[:,1]\n",
    "fpr, tpr, threshold = metrics.roc_curve(y_test, preds)\n",
    "roc_auc = metrics.auc(fpr, tpr)\n",
    "import matplotlib.pyplot as plt\n",
    "plt.title('Receiver Operating Characteristic for rf model')\n",
    "plt.plot(fpr, tpr, 'b', label = 'roc' )\n",
    "plt.legend(loc = 'lower right')\n",
    "plt.plot([0, 1], [0, 1],'r--')\n",
    "plt.xlim([0, 1])\n",
    "plt.ylim([0, 1])\n",
    "plt.ylabel('True Positive Rate')\n",
    "plt.xlabel('False Positive Rate')\n",
    "plt.show()"
   ]
  },
  {
   "cell_type": "code",
   "execution_count": 109,
   "metadata": {},
   "outputs": [
    {
     "data": {
      "image/png": "[encoded data removed]",
      "text/plain": [
       "<Figure size 640x480 with 1 Axes>"
      ]
     },
     "metadata": {},
     "output_type": "display_data"
    }
   ],
   "source": [
    "import sklearn.metrics as metrics\n",
    "probs = lr_model.predict_proba(X_test_0)\n",
    "preds = probs[:,1]\n",
    "fpr, tpr, threshold = metrics.roc_curve(y_test, preds)\n",
    "roc_auc = metrics.auc(fpr, tpr)\n",
    "import matplotlib.pyplot as plt\n",
    "plt.title('Receiver Operating Characteristic for lr model')\n",
    "plt.plot(fpr, tpr, 'b', label = 'roc' )\n",
    "plt.legend(loc = 'lower right')\n",
    "plt.plot([0, 1], [0, 1],'r--')\n",
    "plt.xlim([0, 1])\n",
    "plt.ylim([0, 1])\n",
    "plt.ylabel('True Positive Rate')\n",
    "plt.xlabel('False Positive Rate')\n",
    "plt.show()\n"
   ]
  },
  {
   "cell_type": "code",
   "execution_count": 100,
   "metadata": {},
   "outputs": [
    {
     "name": "stdout",
     "output_type": "stream",
     "text": [
      "rf score:  0.9350944000000001\n",
      "lr score:  0.94512416\n"
     ]
    }
   ],
   "source": [
    "predsrf = rf_model.predict_proba(X_test_0)[:, 1]\n",
    "print('rf score: ', roc_auc_score(y_test, predsrf))\n",
    "\n",
    "predslr = lr_model.predict_proba(X_test_0)[:, 1]\n",
    "print('lr score: ', roc_auc_score(y_test, predslr))"
   ]
  },
  {
   "cell_type": "code",
   "execution_count": 143,
   "metadata": {},
   "outputs": [
    {
     "name": "stdout",
     "output_type": "stream",
     "text": [
      "f1 for rf:  0.8616352201257862\n",
      "f1 for lr:  0.8827613568736361\n"
     ]
    }
   ],
   "source": [
    "from sklearn.metrics import precision_recall_curve, f1_score, auc\n",
    "rf_precision, rf_recall, _ = precision_recall_curve(y_test, predsrf)\n",
    "#print(y_test)\n",
    "#print(predsrf)\n",
    "#print(lr_model.predict(X_test_0))\n",
    "rf_f1 = metrics.f1_score(y_test, rf_model.predict(X_test_0))\n",
    "\n",
    "print('f1 for rf: ', rf_f1)\n",
    "\n",
    "lr_precision, lr_recall, _ = precision_recall_curve(y_test, predslr)\n",
    "lr_f1 = metrics.f1_score(y_test, lr_model.predict(X_test_0))\n",
    "\n",
    "print('f1 for lr: ' ,lr_f1)\n"
   ]
  },
  {
   "cell_type": "code",
   "execution_count": 145,
   "metadata": {},
   "outputs": [
    {
     "data": {
      "text/plain": [
       "Text(0, 0.5, 'Precision')"
      ]
     },
     "execution_count": 145,
     "metadata": {},
     "output_type": "execute_result"
    },
    {
     "data": {
      "image/png": "[encoded data removed]",
      "text/plain": [
       "<Figure size 640x480 with 2 Axes>"
      ]
     },
     "metadata": {},
     "output_type": "display_data"
    }
   ],
   "source": [
    "plt.subplot(1,2,1)\n",
    "plt.plot(rf_recall, rf_precision, marker='.', label='RF')\n",
    "\n",
    "plt.xlabel('Recall')\n",
    "plt.ylabel('Precision')\n",
    "\n",
    "plt.subplot(1,2,2)\n",
    "plt.plot(lr_recall, lr_precision, marker='.', label='LR')\n",
    "\n",
    "plt.xlabel('Recall')\n",
    "plt.ylabel('Precision')\n"
   ]
  },
  {
   "cell_type": "code",
   "execution_count": 155,
   "metadata": {},
   "outputs": [
    {
     "name": "stdout",
     "output_type": "stream",
     "text": [
      "6154     1\n",
      "12433    1\n",
      "17831    0\n",
      "8131     0\n",
      "5477     1\n",
      "        ..\n",
      "5268     1\n",
      "15928    0\n",
      "20485    0\n",
      "13600    1\n",
      "5615     1\n",
      "Name: sentiment, Length: 5000, dtype: int64\n",
      "[1 1 0 ... 0 1 1]\n",
      "[0.656 0.612 0.416 ... 0.27  0.566 0.686]\n"
     ]
    }
   ],
   "source": [
    "print(y_test)\n",
    "preds1=rf_model.predict(X_test_0)\n",
    "print(preds1)\n",
    "preds = rf_model.predict_proba(X_test_0)[:, 1]\n",
    "print(preds)"
   ]
  },
  {
   "cell_type": "code",
   "execution_count": 166,
   "metadata": {},
   "outputs": [
    {
     "name": "stdout",
     "output_type": "stream",
     "text": [
      "<class 'pandas.core.series.Series'>\n"
     ]
    }
   ],
   "source": [
    "my_y=y_test.to_numpy()\n",
    "my_x=X_test.to_numpy()"
   ]
  },
  {
   "cell_type": "code",
   "execution_count": 175,
   "metadata": {},
   "outputs": [
    {
     "name": "stdout",
     "output_type": "stream",
     "text": [
      "1 Who ever came up with story is one sick person. I rented it for our slumber party sleepover and all six of us got freaked out cause we're all in an acting class together, and we know a couple of the actors from class. Besides everybody screaming the whole freaky night, I had freaky nightmares. I kept thinking oh my God, if I get up to go to the bathroom to pee I'm going to be stabbed in the middle of wiping or something. I couldn't even go to the bathroom because we watched this gruesome horror movie. I also thought why are all the girls topless in this movie but we don't any of the boys units? You should make a horror film where the killer is a girl and chopping off units. I would watch that over and over. Call it hard or soft or something stupid like that. I'm only giving this movie a 9 because you FREAKED ME OUT FREAKS.\n",
      "0 Essentially a story of man versus nature, this film has beautiful cinematography, the lush jungles of Ceylon and the presence of Elizabeth Taylor but the film really never gets going. Newlwed Taylor is ignored and neglected by her husband and later is drawn to the plantation's foreman, played by Dana Andrews. The plantation is under the spell of owner Peter Finch's late father whose ghost casts a pall over Elephant Walk that becomes a major point of contention between Taylor and Finch. The elephants are determined to reclaim their traditional path to water that was blocked when the mansion was built across their right-of-way. The beasts go on a rampage and provides the best moments of action in the picture. Taylor and Andrews have some good moments as she struggles to remain a faithful wife in spite of he marital difficulties with Finch.\n",
      "0 One of Frances Farmer's earliest movies; at 22, she is absolutely beautiful. Bing Crosby is in great voice, but the songs are not his best. Martha Raye and Bob Burns are interesting, but their comedy, probably great in its time, is really corny today. Roy Rogers also appears- in a singing role. In my view only worth watching if you are a Frances Farmer fan, and possibly a Bing Crosby fan.\n",
      "0 The film was made in 1942 and with World War 11 around, the movie industry decided to capitalize on the fact that spies were around.<br /><br />The film is fun to watch due to the fabulous dancing of Eleanor Powell. The late Miss Powell was certainly a great hoofer in every sense of the word. She is again paired with a very young looking Red Skelton here. The two of them also starred in \\I Dood It.\\\"<br /><br />Moroni Olsen, who 3 years later, was superb as the interrogating police officer in \\\"Mildred Pierce\\\" again appears as an officer asking Powell to deliver an item. Trouble is that Olsen and his rogues are really the Japanese spies.<br /><br />Bert Lahr is his usual brilliant self here and he gets ample support from Virginia O'Brien.\"\n"
     ]
    }
   ],
   "source": [
    "for i in range(0, 5000):\n",
    "    if (my_y[i]==0):\n",
    "        if(preds[i]>0.8):\n",
    "            print(0, my_x[i])\n",
    "    if (my_y[i]==1):\n",
    "        if(preds[i]<0.24):\n",
    "            print(1, my_x[i])"
   ]
  },
  {
   "cell_type": "markdown",
   "metadata": {},
   "source": [
    "Выведенные тексты - те, которые алгоритм сильнее всего мисклассифицировал. Первый принял за 0, так как в нём много сленга и отрицательных слов. Второй был принят за 1, так как в нём автор много хвалит визуальную картину, и вскользь упоминает, что сюжет ему не понравился. Третий и четвёртый отзыв хвалят фильмы за актёрский состав, так же вскользь упоминая минусы.\n",
    "\n",
    "Мне кажется, что алгоритм чаще не угадывает отрицательные отзывы. В положительных отзывах люди пишут только плюсы, а в отрицательных - и плюсы и минусы"
   ]
  },
  {
   "cell_type": "markdown",
   "metadata": {
    "id": "jZR6t_N__V19"
   },
   "source": [
    "Which model gives higher scores? Any ideas why? Please suggest 1-2 reasons.\n",
    "\n",
    "*Answer:* линейная модель даёт лучшие результаты. Линейная модель лучше справляется с категориальными фичами. Она изначально построена, как работающая с векторами, а наши данные bow как раз вектора."
   ]
  },
  {
   "cell_type": "markdown",
   "metadata": {
    "id": "0qeMqA_7_V1-"
   },
   "source": [
    "### More sophisticated feature prerocessing\n",
    "\n",
    "As we have seen, simple BOW can give us some result - it's time to improve it.\n",
    "\n",
    "**Task 1.4 [1 point] - Frequencies calculation**\n",
    "\n",
    "- Calculate top-20 words in train set and test set. *Are they meaningful?*\n",
    "- Import `stopwords` and print some of them. What are those?\n",
    "- Recalculate top-20 words in each set, but exclude stop words.\n",
    "- Does now top-20 include more useful words?"
   ]
  },
  {
   "cell_type": "code",
   "execution_count": 17,
   "metadata": {
    "id": "3OcsLCYK_V1-"
   },
   "outputs": [],
   "source": [
    "from collections import Counter\n",
    "from nltk.tokenize import WhitespaceTokenizer, WordPunctTokenizer, TreebankWordTokenizer\n",
    "from nltk.corpus import stopwords"
   ]
  },
  {
   "cell_type": "code",
   "execution_count": 18,
   "metadata": {
    "id": "bifxK3xK_V1-"
   },
   "outputs": [
    {
     "name": "stdout",
     "output_type": "stream",
     "text": [
      "[('the', 269967), ('and', 131776), ('of', 116943), ('to', 108751), ('is', 86164), ('br', 81649), ('it', 77403), ('in', 75100), ('this', 61066), ('that', 58846), ('was', 38660), ('as', 37446), ('for', 35511), ('movie', 35508), ('with', 35478), ('but', 34063), ('film', 32347), ('on', 27555), ('you', 27493), ('not', 24519)] \n",
      "\n",
      "[('the', 66782), ('and', 32364), ('of', 28921), ('to', 26973), ('is', 21168), ('br', 20222), ('it', 19064), ('in', 18876), ('this', 14941), ('that', 14440), ('was', 9549), ('as', 9489), ('for', 8834), ('with', 8652), ('but', 8560), ('movie', 8539), ('film', 7812), ('you', 6774), ('on', 6647), ('not', 6113)]\n"
     ]
    }
   ],
   "source": [
    "sum_words=X_train_0.sum(axis=0)\n",
    "words_freq = [(word, sum_words[0, idx]) for word, idx in count_vectorizer.vocabulary_.items()]\n",
    "words_freq =sorted(words_freq, key = lambda x: x[1], reverse=True)\n",
    "top20=words_freq[0:20]\n",
    "print(top20,\"\\n\")\n",
    "\n",
    "sum_words=X_test_0.sum(axis=0)\n",
    "words_freq = [(word, sum_words[0, idx]) for word, idx in count_vectorizer.vocabulary_.items()]\n",
    "words_freq =sorted(words_freq, key = lambda x: x[1], reverse=True)\n",
    "top20=words_freq[0:20]\n",
    "print(top20)\n",
    "\n",
    "#https://medium.com/@cristhianboujon/how-to-list-the-most-common-words-from-text-corpus-using-scikit-learn-dad4d0cab41d"
   ]
  },
  {
   "cell_type": "markdown",
   "metadata": {},
   "source": [
    "Большинство из этих слов встречаются практически в любом тексте. Как и любые стоп-слова, они не несут особого смысла. Ещё есть film и movie, что логично, так как наши данные - отзывы к фильмам. Ещё есть br, это из <\\br> - символа для оформления текста (перенос на другую строку?)"
   ]
  },
  {
   "cell_type": "code",
   "execution_count": 21,
   "metadata": {},
   "outputs": [
    {
     "name": "stderr",
     "output_type": "stream",
     "text": [
      "[nltk_data] Downloading package stopwords to\n",
      "[nltk_data]     C:\\Users\\alexa\\AppData\\Roaming\\nltk_data...\n",
      "[nltk_data]   Package stopwords is already up-to-date!\n"
     ]
    },
    {
     "data": {
      "text/plain": [
       "{'a',\n",
       " 'about',\n",
       " 'above',\n",
       " 'after',\n",
       " 'again',\n",
       " 'against',\n",
       " 'ain',\n",
       " 'all',\n",
       " 'am',\n",
       " 'an',\n",
       " 'and',\n",
       " 'any',\n",
       " 'are',\n",
       " 'aren',\n",
       " \"aren't\",\n",
       " 'as',\n",
       " 'at',\n",
       " 'be',\n",
       " 'because',\n",
       " 'been',\n",
       " 'before',\n",
       " 'being',\n",
       " 'below',\n",
       " 'between',\n",
       " 'both',\n",
       " 'but',\n",
       " 'by',\n",
       " 'can',\n",
       " 'couldn',\n",
       " \"couldn't\",\n",
       " 'd',\n",
       " 'did',\n",
       " 'didn',\n",
       " \"didn't\",\n",
       " 'do',\n",
       " 'does',\n",
       " 'doesn',\n",
       " \"doesn't\",\n",
       " 'doing',\n",
       " 'don',\n",
       " \"don't\",\n",
       " 'down',\n",
       " 'during',\n",
       " 'each',\n",
       " 'few',\n",
       " 'for',\n",
       " 'from',\n",
       " 'further',\n",
       " 'had',\n",
       " 'hadn',\n",
       " \"hadn't\",\n",
       " 'has',\n",
       " 'hasn',\n",
       " \"hasn't\",\n",
       " 'have',\n",
       " 'haven',\n",
       " \"haven't\",\n",
       " 'having',\n",
       " 'he',\n",
       " 'her',\n",
       " 'here',\n",
       " 'hers',\n",
       " 'herself',\n",
       " 'him',\n",
       " 'himself',\n",
       " 'his',\n",
       " 'how',\n",
       " 'i',\n",
       " 'if',\n",
       " 'in',\n",
       " 'into',\n",
       " 'is',\n",
       " 'isn',\n",
       " \"isn't\",\n",
       " 'it',\n",
       " \"it's\",\n",
       " 'its',\n",
       " 'itself',\n",
       " 'just',\n",
       " 'll',\n",
       " 'm',\n",
       " 'ma',\n",
       " 'me',\n",
       " 'mightn',\n",
       " \"mightn't\",\n",
       " 'more',\n",
       " 'most',\n",
       " 'mustn',\n",
       " \"mustn't\",\n",
       " 'my',\n",
       " 'myself',\n",
       " 'needn',\n",
       " \"needn't\",\n",
       " 'no',\n",
       " 'nor',\n",
       " 'not',\n",
       " 'now',\n",
       " 'o',\n",
       " 'of',\n",
       " 'off',\n",
       " 'on',\n",
       " 'once',\n",
       " 'only',\n",
       " 'or',\n",
       " 'other',\n",
       " 'our',\n",
       " 'ours',\n",
       " 'ourselves',\n",
       " 'out',\n",
       " 'over',\n",
       " 'own',\n",
       " 're',\n",
       " 's',\n",
       " 'same',\n",
       " 'shan',\n",
       " \"shan't\",\n",
       " 'she',\n",
       " \"she's\",\n",
       " 'should',\n",
       " \"should've\",\n",
       " 'shouldn',\n",
       " \"shouldn't\",\n",
       " 'so',\n",
       " 'some',\n",
       " 'such',\n",
       " 't',\n",
       " 'than',\n",
       " 'that',\n",
       " \"that'll\",\n",
       " 'the',\n",
       " 'their',\n",
       " 'theirs',\n",
       " 'them',\n",
       " 'themselves',\n",
       " 'then',\n",
       " 'there',\n",
       " 'these',\n",
       " 'they',\n",
       " 'this',\n",
       " 'those',\n",
       " 'through',\n",
       " 'to',\n",
       " 'too',\n",
       " 'under',\n",
       " 'until',\n",
       " 'up',\n",
       " 've',\n",
       " 'very',\n",
       " 'was',\n",
       " 'wasn',\n",
       " \"wasn't\",\n",
       " 'we',\n",
       " 'were',\n",
       " 'weren',\n",
       " \"weren't\",\n",
       " 'what',\n",
       " 'when',\n",
       " 'where',\n",
       " 'which',\n",
       " 'while',\n",
       " 'who',\n",
       " 'whom',\n",
       " 'why',\n",
       " 'will',\n",
       " 'with',\n",
       " 'won',\n",
       " \"won't\",\n",
       " 'wouldn',\n",
       " \"wouldn't\",\n",
       " 'y',\n",
       " 'you',\n",
       " \"you'd\",\n",
       " \"you'll\",\n",
       " \"you're\",\n",
       " \"you've\",\n",
       " 'your',\n",
       " 'yours',\n",
       " 'yourself',\n",
       " 'yourselves'}"
      ]
     },
     "execution_count": 21,
     "metadata": {},
     "output_type": "execute_result"
    }
   ],
   "source": [
    "nltk.download('stopwords')\n",
    "stops = set(stopwords.words('english'))\n",
    "stops"
   ]
  },
  {
   "cell_type": "markdown",
   "metadata": {
    "id": "67-RXhba_V1_"
   },
   "source": [
    "Стоп слова - часто используемые слова, которые используются практически в каждом тексте. Контекст из них не понятен."
   ]
  },
  {
   "cell_type": "code",
   "execution_count": 29,
   "metadata": {},
   "outputs": [
    {
     "name": "stdout",
     "output_type": "stream",
     "text": [
      "[('br', 81649), ('movie', 35508), ('film', 32347), ('like', 16287), ('just', 14205), ('good', 12015), ('time', 10146), ('story', 9599), ('really', 9437), ('people', 7501), ('bad', 7442), ('great', 7262), ('don', 7036), ('make', 6414), ('way', 6374), ('movies', 6262), ('think', 5855), ('characters', 5719), ('character', 5615), ('films', 5588)] \n",
      "\n",
      "[('br', 20222), ('movie', 8539), ('film', 7812), ('like', 3994), ('just', 3569), ('good', 3132), ('time', 2581), ('story', 2389), ('really', 2301), ('bad', 1866), ('don', 1812), ('great', 1798), ('people', 1786), ('way', 1652), ('make', 1611), ('think', 1442), ('characters', 1440), ('watch', 1421), ('character', 1409), ('movies', 1406)]\n"
     ]
    }
   ],
   "source": [
    "count_vectorizer2 = CountVectorizer(stop_words='english')\n",
    "count_vectorizer2.fit(X)\n",
    "count_vectorizer3 = CountVectorizer(stop_words='english')\n",
    "count_vectorizer3.fit(X)\n",
    "X_train_0_s=count_vectorizer2.transform(X_train)\n",
    "X_test_0_s=count_vectorizer3.transform(X_test)\n",
    "\n",
    "sum_words=X_train_0_s.sum(axis=0)\n",
    "words_freq = [(word, sum_words[0, idx]) for word, idx in count_vectorizer2.vocabulary_.items()]\n",
    "words_freq =sorted(words_freq, key = lambda x: x[1], reverse=True)\n",
    "top20=words_freq[0:20]\n",
    "print(top20,\"\\n\")\n",
    "\n",
    "sum_words=X_test_0_s.sum(axis=0)\n",
    "words_freq = [(word, sum_words[0, idx]) for word, idx in count_vectorizer3.vocabulary_.items()]\n",
    "words_freq =sorted(words_freq, key = lambda x: x[1], reverse=True)\n",
    "top20=words_freq[0:20]\n",
    "print(top20)"
   ]
  },
  {
   "cell_type": "markdown",
   "metadata": {},
   "source": [
    "Стало значительно лучше. Теперь по этим словам можно понять, что в текстах речь идёт о фильмах"
   ]
  },
  {
   "cell_type": "markdown",
   "metadata": {
    "id": "67-RXhba_V1_"
   },
   "source": [
    "**Task 1.5 [1 point] - Word Freqs by class**\n",
    "\n",
    "How do you think, will top100 tokens for positive and negative classes be different? Use data to prove your point."
   ]
  },
  {
   "cell_type": "code",
   "execution_count": 36,
   "metadata": {},
   "outputs": [
    {
     "name": "stdout",
     "output_type": "stream",
     "text": [
      "[('br', 49235), ('film', 20940), ('movie', 19078), ('like', 9040), ('good', 7724), ('just', 7154), ('story', 6779), ('time', 6516), ('great', 6419), ('really', 5475), ('people', 4480), ('best', 4320), ('love', 4302), ('life', 4203), ('way', 4037), ('films', 3813), ('think', 3655), ('movies', 3587), ('characters', 3559), ('character', 3516), ('don', 3485), ('man', 3463), ('watch', 3424), ('seen', 3415), ('little', 3342), ('make', 3303), ('does', 3069), ('know', 2833), ('did', 2790), ('years', 2756), ('end', 2696), ('real', 2568), ('scene', 2567), ('new', 2458), ('acting', 2438), ('plot', 2434), ('world', 2430), ('scenes', 2428), ('say', 2414), ('makes', 2390), ('better', 2382), ('work', 2346), ('young', 2343), ('10', 2324), ('ve', 2318), ('old', 2311), ('series', 2153), ('quite', 2143), ('cast', 2134), ('lot', 2088), ('actors', 2047), ('director', 2041), ('family', 2032), ('role', 1967), ('watching', 1966), ('funny', 1953), ('doesn', 1940), ('performance', 1930), ('bad', 1907), ('look', 1900), ('things', 1849), ('times', 1833), ('big', 1815), ('actually', 1790), ('action', 1788), ('going', 1783), ('bit', 1756), ('comedy', 1742), ('music', 1739), ('saw', 1693), ('long', 1691), ('fun', 1688), ('right', 1688), ('fact', 1684), ('excellent', 1683), ('didn', 1679), ('thing', 1659), ('thought', 1639), ('got', 1636), ('day', 1614), ('feel', 1597), ('come', 1594), ('beautiful', 1582), ('especially', 1572), ('played', 1571), ('want', 1562), ('pretty', 1549), ('different', 1506), ('gets', 1490), ('true', 1487), ('interesting', 1481), ('job', 1470), ('shows', 1448), ('horror', 1441), ('woman', 1439), ('tv', 1399), ('probably', 1398), ('father', 1398), ('original', 1394), ('girl', 1390)] \n",
      "\n"
     ]
    }
   ],
   "source": [
    "rev_g=reviews[reviews['sentiment']==1]\n",
    "X = rev_g[\"review\"]\n",
    "y = rev_g[\"sentiment\"]\n",
    "#print(X,y)\n",
    "\n",
    "X_train, X_test, y_train, y_test = train_test_split(X, y, test_size=2500, random_state=42, stratify=y)\n",
    "count_vectorizer = CountVectorizer(stop_words='english')\n",
    "count_vectorizer.fit(X)\n",
    "X_train_a=count_vectorizer.transform(X)\n",
    "X_test_a=count_vectorizer.transform(X_test)\n",
    "sum_words=X_train_a .sum(axis=0)\n",
    "words_freq = [(word, sum_words[0, idx]) for word, idx in count_vectorizer.vocabulary_.items()]\n",
    "words_freq =sorted(words_freq, key = lambda x: x[1], reverse=True)\n",
    "top20=words_freq[0:100]\n",
    "print(top20,\"\\n\")"
   ]
  },
  {
   "cell_type": "code",
   "execution_count": 37,
   "metadata": {},
   "outputs": [
    {
     "name": "stdout",
     "output_type": "stream",
     "text": [
      "[('br', 52636), ('movie', 24969), ('film', 19219), ('like', 11241), ('just', 10620), ('good', 7423), ('bad', 7401), ('really', 6263), ('time', 6211), ('don', 5363), ('story', 5209), ('people', 4807), ('make', 4722), ('plot', 4155), ('movies', 4081), ('acting', 4056), ('way', 3989), ('think', 3642), ('characters', 3600), ('watch', 3550), ('character', 3508), ('did', 3507), ('better', 3358), ('know', 3334), ('seen', 3266), ('little', 3096), ('films', 3076), ('say', 2982), ('end', 2955), ('does', 2871), ('thing', 2866), ('ve', 2841), ('scene', 2816), ('scenes', 2785), ('didn', 2660), ('great', 2641), ('watching', 2640), ('doesn', 2611), ('man', 2516), ('worst', 2479), ('actually', 2450), ('actors', 2441), ('life', 2429), ('director', 2408), ('funny', 2337), ('going', 2319), ('look', 2247), ('old', 2215), ('real', 2168), ('love', 2151), ('horror', 2150), ('want', 2140), ('minutes', 2123), ('pretty', 2115), ('best', 2096), ('script', 2075), ('work', 2028), ('10', 2027), ('original', 1984), ('guy', 1965), ('got', 1951), ('lot', 1892), ('isn', 1856), ('new', 1853), ('point', 1846), ('fact', 1839), ('things', 1839), ('makes', 1814), ('thought', 1798), ('long', 1761), ('years', 1758), ('gets', 1714), ('cast', 1696), ('making', 1696), ('big', 1662), ('interesting', 1648), ('money', 1640), ('right', 1625), ('far', 1620), ('quite', 1596), ('come', 1595), ('ll', 1574), ('action', 1566), ('awful', 1557), ('kind', 1539), ('reason', 1535), ('looks', 1528), ('comedy', 1504), ('wasn', 1490), ('trying', 1486), ('poor', 1481), ('boring', 1479), ('instead', 1479), ('saw', 1475), ('away', 1470), ('girl', 1464), ('probably', 1444), ('believe', 1434), ('sure', 1433), ('looking', 1430)] \n",
      "\n"
     ]
    }
   ],
   "source": [
    "rev_b=reviews[reviews['sentiment']==0]\n",
    "X = rev_b[\"review\"]\n",
    "y = rev_b[\"sentiment\"]\n",
    "#print(X,y)\n",
    "\n",
    "X_train, X_test, y_train, y_test = train_test_split(X, y, test_size=2500, random_state=42, stratify=y)\n",
    "count_vectorizer = CountVectorizer(stop_words='english')\n",
    "count_vectorizer.fit(X)\n",
    "X_train_b=count_vectorizer.transform(X)\n",
    "X_test_b=count_vectorizer.transform(X_test)\n",
    "sum_words=X_train_b.sum(axis=0)\n",
    "words_freq = [(word, sum_words[0, idx]) for word, idx in count_vectorizer.vocabulary_.items()]\n",
    "words_freq =sorted(words_freq, key = lambda x: x[1], reverse=True)\n",
    "top20=words_freq[0:100]\n",
    "print(top20,\"\\n\")"
   ]
  },
  {
   "cell_type": "markdown",
   "metadata": {
    "id": "CYJ5Bm5p_V1_"
   },
   "source": [
    "*Answer:* Топ-100 токенов для положительных и негативных отзывов очевидно разные. В положительных высокие места в топе занимают слова, несущие положительный характер: best, love, life, better, young. В отрицательных - отрицательный: bad, worst, awful, boring. При это какие-то общие слова (movie,film,like,good) встречаются в обоих топах."
   ]
  },
  {
   "cell_type": "markdown",
   "metadata": {
    "id": "W7pM4f-5_V1_"
   },
   "source": [
    "**Task 1.6 [2 points] - Reducing dimensionality**\n",
    "\n",
    "The goal is to reduce number of features to 15000.\n",
    "\n",
    "Implement the following methods of dimensinality reduction:\n",
    "1. Use CountVectorizer, but leave only 15k most frequent tokens\n",
    "2. Use HashingVectorizer with 15k features\n",
    "3. Use 15k most important features from perspective of previously trained RandomForest\n",
    "\n",
    "*Hints:*\n",
    "- in 1 and 2 you don't have to apply nltk.corpus.stopwords, vectorizers have `stopwords` parameter\n",
    "- in 1 look for `vocabulary` parameter\n",
    "- in 3... remember `lab02`? You may use `X_train_0` and `X_test_0` as input matrices\n",
    "\n",
    "Train LogisticRegression and RandomForest on each dataset and compare ROC AUC scores of the classifiers."
   ]
  },
  {
   "cell_type": "code",
   "execution_count": null,
   "metadata": {
    "id": "tW2sPbdO_V1_"
   },
   "outputs": [],
   "source": [
    "from sklearn.feature_extraction.text import CountVectorizer, HashingVectorizer"
   ]
  },
  {
   "cell_type": "code",
   "execution_count": null,
   "metadata": {
    "id": "UH29I1Cs_V2A"
   },
   "outputs": [],
   "source": [
    "#reviews"
   ]
  },
  {
   "cell_type": "markdown",
   "metadata": {
    "id": "npFGolS7_V2A"
   },
   "source": [
    "**Task 1.7 [2 points] - Token Normalization**\n",
    "\n",
    "Choose the best working method from previous task. Try improve it by applying a token normalization technique.\n",
    "\n",
    "You may use one of normalizers imported below, but feel free to experiment.\n",
    "\n",
    "Do the following:\n",
    "- Apply normalizer to X_train, X_test\n",
    "- Build BOW with CountVectorizer + stopwords. What are the shapes of train and test matrices now?\n",
    "- Reduce dimensionality with the best method from Task 2.6. You may try all of them\n",
    "- Train LR/RF to examine whether ROC AUC or Accuracy was improved."
   ]
  },
  {
   "cell_type": "code",
   "execution_count": null,
   "metadata": {
    "id": "gWnvQrm5_V2B"
   },
   "outputs": [],
   "source": [
    "from nltk.stem import WordNetLemmatizer, PorterStemmer"
   ]
  },
  {
   "cell_type": "markdown",
   "metadata": {
    "id": "tolL3CRI_V2B"
   },
   "source": [
    "## Part 2. Word Embeddings [7 points]"
   ]
  },
  {
   "cell_type": "code",
   "execution_count": 176,
   "metadata": {
    "id": "MtlTO2so_V2B"
   },
   "outputs": [],
   "source": [
    "import gensim.downloader"
   ]
  },
  {
   "cell_type": "markdown",
   "metadata": {
    "id": "BX5O4crr_V2C"
   },
   "source": [
    "Here is the list of pretrained word embedding models. We suggest using `glove-wiki-gigaword-100`."
   ]
  },
  {
   "cell_type": "code",
   "execution_count": 177,
   "metadata": {
    "id": "FCWEHR4e_V2C"
   },
   "outputs": [
    {
     "data": {
      "text/plain": [
       "['fasttext-wiki-news-subwords-300',\n",
       " 'conceptnet-numberbatch-17-06-300',\n",
       " 'word2vec-ruscorpora-300',\n",
       " 'word2vec-google-news-300',\n",
       " 'glove-wiki-gigaword-50',\n",
       " 'glove-wiki-gigaword-100',\n",
       " 'glove-wiki-gigaword-200',\n",
       " 'glove-wiki-gigaword-300',\n",
       " 'glove-twitter-25',\n",
       " 'glove-twitter-50',\n",
       " 'glove-twitter-100',\n",
       " 'glove-twitter-200',\n",
       " '__testing_word2vec-matrix-synopsis']"
      ]
     },
     "execution_count": 177,
     "metadata": {},
     "output_type": "execute_result"
    }
   ],
   "source": [
    "list(gensim.downloader.info()['models'].keys())"
   ]
  },
  {
   "cell_type": "code",
   "execution_count": 178,
   "metadata": {
    "id": "JibujUB1_V2D"
   },
   "outputs": [],
   "source": [
    "word_embeddings = gensim.downloader.load(\"glove-wiki-gigaword-100\")"
   ]
  },
  {
   "cell_type": "code",
   "execution_count": 179,
   "metadata": {},
   "outputs": [],
   "source": [
    "import warnings\n",
    "warnings.filterwarnings('ignore')"
   ]
  },
  {
   "cell_type": "markdown",
   "metadata": {
    "id": "tgYWc9sR_V2D"
   },
   "source": [
    "**Task 2.1 [1 point] - WordEmbeddings Geometry**\n",
    "\n",
    "As you probably know, vector space of word embeddings has non-trivial geometry: some word relations (like country-capital or single-plural) cab be represented by vectors, like: **(king - man) + woman = queen**\n",
    "\n",
    "<img src=\"https://linkme.ufanet.ru/images/5687a2011b49eb2413912f1c7d0fb0bd.png\" width=600px>\n",
    "\n",
    "Check this statement on words from the above picture with `word_embeddings.most_similar` function. Pay attention to `positive` and `negative` params.\n",
    "\n",
    "Provide **several** examples, make sure to present different relations: some for nouns, some for verbs, etc."
   ]
  },
  {
   "cell_type": "code",
   "execution_count": 43,
   "metadata": {
    "id": "QS00ED2C_V2D"
   },
   "outputs": [
    {
     "data": {
      "text/plain": [
       "[('queen', 0.7698540687561035),\n",
       " ('monarch', 0.6843380928039551),\n",
       " ('throne', 0.6755735874176025),\n",
       " ('daughter', 0.6594555974006653),\n",
       " ('princess', 0.6520534157752991),\n",
       " ('prince', 0.6517034769058228),\n",
       " ('elizabeth', 0.6464517712593079),\n",
       " ('mother', 0.631171703338623),\n",
       " ('emperor', 0.6106470823287964),\n",
       " ('wife', 0.6098655462265015)]"
      ]
     },
     "execution_count": 43,
     "metadata": {},
     "output_type": "execute_result"
    }
   ],
   "source": [
    "word_embeddings .most_similar(positive=['woman', 'king'], negative=['man'])"
   ]
  },
  {
   "cell_type": "code",
   "execution_count": 44,
   "metadata": {},
   "outputs": [
    {
     "data": {
      "text/plain": [
       "[('himself', 0.9627846479415894),\n",
       " ('him', 0.8565483093261719),\n",
       " ('his', 0.747352659702301),\n",
       " ('myself', 0.7261638045310974),\n",
       " ('again', 0.7025265097618103),\n",
       " ('having', 0.6965805888175964),\n",
       " ('themselves', 0.6949114799499512),\n",
       " ('someone', 0.6896289587020874),\n",
       " ('put', 0.6893548965454102),\n",
       " ('once', 0.6852878928184509)]"
      ]
     },
     "execution_count": 44,
     "metadata": {},
     "output_type": "execute_result"
    }
   ],
   "source": [
    "word_embeddings .most_similar(positive=['he','herself'], negative=['she'])"
   ]
  },
  {
   "cell_type": "code",
   "execution_count": 45,
   "metadata": {},
   "outputs": [
    {
     "data": {
      "text/plain": [
       "[('slow', 0.7859700918197632),\n",
       " ('pace', 0.7750037908554077),\n",
       " ('brisk', 0.6425812840461731),\n",
       " ('slowing', 0.6136632561683655),\n",
       " ('trend', 0.5981132984161377),\n",
       " ('quick', 0.5874820351600647),\n",
       " ('bowler', 0.5865117311477661),\n",
       " ('start', 0.5829406380653381),\n",
       " ('steady', 0.5786635279655457),\n",
       " ('short', 0.578234851360321)]"
      ]
     },
     "execution_count": 45,
     "metadata": {},
     "output_type": "execute_result"
    }
   ],
   "source": [
    "word_embeddings .most_similar(positive=['slower', 'fast'], negative=['faster'])"
   ]
  },
  {
   "cell_type": "code",
   "execution_count": 46,
   "metadata": {},
   "outputs": [
    {
     "data": {
      "text/plain": [
       "[('cats', 0.8701525926589966),\n",
       " ('animals', 0.7340957522392273),\n",
       " ('rabbits', 0.7251664996147156),\n",
       " ('rats', 0.7115925550460815),\n",
       " ('pets', 0.7050590515136719),\n",
       " ('monkeys', 0.6902256608009338),\n",
       " ('birds', 0.6901184320449829),\n",
       " ('pigs', 0.6574631333351135),\n",
       " ('elephants', 0.643221914768219),\n",
       " ('mice', 0.6377875804901123)]"
      ]
     },
     "execution_count": 46,
     "metadata": {},
     "output_type": "execute_result"
    }
   ],
   "source": [
    "word_embeddings .most_similar(positive=['cat', 'dogs'], negative=['dog'])"
   ]
  },
  {
   "cell_type": "code",
   "execution_count": 47,
   "metadata": {},
   "outputs": [
    {
     "data": {
      "text/plain": [
       "[('daughter', 0.952526330947876),\n",
       " ('wife', 0.8872842788696289),\n",
       " ('sister', 0.8434263467788696),\n",
       " ('niece', 0.8197184205055237),\n",
       " ('husband', 0.8192030787467957),\n",
       " ('grandmother', 0.8175017237663269),\n",
       " ('daughters', 0.800868570804596),\n",
       " ('granddaughter', 0.798507034778595),\n",
       " ('cousin', 0.7935532331466675),\n",
       " ('brother', 0.7884622812271118)]"
      ]
     },
     "execution_count": 47,
     "metadata": {},
     "output_type": "execute_result"
    }
   ],
   "source": [
    "word_embeddings .most_similar(positive=['mother', 'son'], negative=['father'])"
   ]
  },
  {
   "cell_type": "code",
   "execution_count": 49,
   "metadata": {},
   "outputs": [
    {
     "data": {
      "text/plain": [
       "[('went', 0.8594026565551758),\n",
       " ('going', 0.8331358432769775),\n",
       " ('back', 0.8258251547813416),\n",
       " ('then', 0.8079109191894531),\n",
       " ('just', 0.8039612770080566),\n",
       " ('out', 0.8004620671272278),\n",
       " ('got', 0.7936428785324097),\n",
       " ('did', 0.7932440042495728),\n",
       " ('get', 0.7915530204772949),\n",
       " ('again', 0.7851383090019226)]"
      ]
     },
     "execution_count": 49,
     "metadata": {},
     "output_type": "execute_result"
    }
   ],
   "source": [
    "word_embeddings .most_similar(positive=['go', 'had'], negative=['have'])"
   ]
  },
  {
   "cell_type": "markdown",
   "metadata": {
    "id": "uRExnW9v_V2D"
   },
   "source": [
    "**Task 2.2 [2 point] - POS analysis**\n",
    "\n",
    "Use POS tagger to calculate most common POS in the dataset. \n",
    "Here you may read about nltk-taggers: [link](https://www.inf.ed.ac.uk/teaching/courses/icl/nltk/tagging.pdf)\n",
    "\n",
    "- If you were to design POS-related weights, how would you do it? \n",
    "- What POS would get the higher weight? "
   ]
  },
  {
   "cell_type": "code",
   "execution_count": 65,
   "metadata": {},
   "outputs": [],
   "source": [
    "#reviews\n",
    "X=reviews['review']\n",
    "#print(X)\n",
    "y=reviews['sentiment']\n",
    "#print(y)"
   ]
  },
  {
   "cell_type": "code",
   "execution_count": 181,
   "metadata": {
    "id": "yyRpOpxK_V2E",
    "scrolled": true
   },
   "outputs": [
    {
     "name": "stderr",
     "output_type": "stream",
     "text": [
      "[nltk_data] Downloading package averaged_perceptron_tagger to\n",
      "[nltk_data]     C:\\Users\\alexa\\AppData\\Roaming\\nltk_data...\n",
      "[nltk_data]   Package averaged_perceptron_tagger is already up-to-\n",
      "[nltk_data]       date!\n",
      "[nltk_data] Downloading package punkt to\n",
      "[nltk_data]     C:\\Users\\alexa\\AppData\\Roaming\\nltk_data...\n",
      "[nltk_data]   Package punkt is already up-to-date!\n"
     ]
    },
    {
     "data": {
      "text/plain": [
       "True"
      ]
     },
     "execution_count": 181,
     "metadata": {},
     "output_type": "execute_result"
    }
   ],
   "source": [
    "from nltk import pos_tag, word_tokenize\n",
    "nltk.download('averaged_perceptron_tagger')\n",
    "nltk.download('punkt')"
   ]
  },
  {
   "cell_type": "code",
   "execution_count": 69,
   "metadata": {},
   "outputs": [],
   "source": [
    "X = reviews[\"review\"]\n",
    "y = reviews[\"sentiment\"]\n",
    "#print(X,y)\n",
    "\n",
    "#X_train, X_test, y_train, y_test = train_test_split(X, y, test_size=2500, random_state=42, stratify=y)\n",
    "count_vectorizer = CountVectorizer()\n",
    "count_vectorizer.fit(X)\n",
    "X_train_b=count_vectorizer.transform(X)\n",
    "X_test_b=count_vectorizer.transform(X_test)\n",
    "sum_words=X_train_b.sum(axis=0)\n",
    "words_freq = [(word, sum_words[0, idx]) for word, idx in count_vectorizer.vocabulary_.items()]\n",
    "words_freq =sorted(words_freq, key = lambda x: x[1], reverse=True)\n",
    "top20=words_freq[0:20]\n",
    "#print(top20,\"\\n\")"
   ]
  },
  {
   "cell_type": "code",
   "execution_count": 70,
   "metadata": {},
   "outputs": [
    {
     "name": "stdout",
     "output_type": "stream",
     "text": [
      "74849\n",
      "('the', 336749)\n",
      "<class 'str'>\n",
      "[('the', 'DT')]\n"
     ]
    }
   ],
   "source": [
    "print(len(words_freq))\n",
    "print(words_freq[0])\n",
    "print(type(words_freq[0][0]))\n",
    "print(pos_tag([(words_freq[0][0])]))"
   ]
  },
  {
   "cell_type": "code",
   "execution_count": 71,
   "metadata": {},
   "outputs": [],
   "source": [
    "basket = dict()\n",
    "for x in range (0, len(words_freq)):\n",
    "    b=pos_tag([(words_freq[x][0])])\n",
    "    a=b[0][1]\n",
    "    if(a=='PRP$'):\n",
    "        a='PRPS'\n",
    "    if(a=='WP$'):\n",
    "        a='WPS'\n",
    "    if (\"%s\" %(a)) in locals():\n",
    "       # print(8)\n",
    "        exec(\"%s = %s+%d\" % (a,a,words_freq[x][1]))\n",
    "        \n",
    "        basket.update({ a : basket[a]+words_freq[x][1]})\n",
    "    else:\n",
    "        exec(\"%s = %d\" % (a,words_freq[x][1]))\n",
    "        basket.update({a: words_freq[x][1]})\n",
    "#print(basket)"
   ]
  },
  {
   "cell_type": "code",
   "execution_count": 72,
   "metadata": {},
   "outputs": [
    {
     "name": "stdout",
     "output_type": "stream",
     "text": [
      "{'DT': 521244, 'CC': 226101, 'IN': 728599, 'TO': 135724, 'VBZ': 156530, 'NN': 1674687, 'PRP': 247347, 'VBD': 107723, 'RB': 406661, 'VBP': 32215, 'PRPS': 88065, 'VB': 146281, 'CD': 63834, 'WP': 38254, 'JJ': 311487, 'MD': 59120, 'RBR': 22657, 'WRB': 34798, 'WDT': 12783, 'VBN': 137084, 'NNS': 351510, 'JJS': 23852, 'VBG': 146835, 'JJR': 4170, 'WPS': 986, 'LS': 21, 'FW': 5}\n"
     ]
    }
   ],
   "source": [
    "print(basket)"
   ]
  },
  {
   "cell_type": "code",
   "execution_count": 73,
   "metadata": {},
   "outputs": [
    {
     "data": {
      "text/plain": [
       "{'FW': 5,\n",
       " 'LS': 21,\n",
       " 'WPS': 986,\n",
       " 'JJR': 4170,\n",
       " 'WDT': 12783,\n",
       " 'RBR': 22657,\n",
       " 'JJS': 23852,\n",
       " 'VBP': 32215,\n",
       " 'WRB': 34798,\n",
       " 'WP': 38254,\n",
       " 'MD': 59120,\n",
       " 'CD': 63834,\n",
       " 'PRPS': 88065,\n",
       " 'VBD': 107723,\n",
       " 'TO': 135724,\n",
       " 'VBN': 137084,\n",
       " 'VB': 146281,\n",
       " 'VBG': 146835,\n",
       " 'VBZ': 156530,\n",
       " 'CC': 226101,\n",
       " 'PRP': 247347,\n",
       " 'JJ': 311487,\n",
       " 'NNS': 351510,\n",
       " 'RB': 406661,\n",
       " 'DT': 521244,\n",
       " 'IN': 728599,\n",
       " 'NN': 1674687}"
      ]
     },
     "execution_count": 73,
     "metadata": {},
     "output_type": "execute_result"
    }
   ],
   "source": [
    "{k: v for k, v in sorted(basket.items(), key=lambda item: item[1])}"
   ]
  },
  {
   "cell_type": "markdown",
   "metadata": {},
   "source": [
    "Чаще всего встречается существительное, на втором месте предлог, на третьем determiner (артикли и cлова типа that,this,all и т д)"
   ]
  },
  {
   "cell_type": "markdown",
   "metadata": {},
   "source": [
    "Мне кажется, есть смысл давать большие веса существительным, глаголам и небольшие веса прилагательным и причастиям. Остальные части речи не несут большого смысла и служат скорее для удобного построения человеческой речи, поэтому есть смысл не давать им веса вообще."
   ]
  }
 ],
 "metadata": {
  "colab": {
   "provenance": []
  },
  "kernelspec": {
   "display_name": "Python 3",
   "language": "python",
   "name": "python3"
  },
  "language_info": {
   "codemirror_mode": {
    "name": "ipython",
    "version": 3
   },
   "file_extension": ".py",
   "mimetype": "text/x-python",
   "name": "python",
   "nbconvert_exporter": "python",
   "pygments_lexer": "ipython3",
   "version": "3.6.9"
  }
 },
 "nbformat": 4,
 "nbformat_minor": 1
}

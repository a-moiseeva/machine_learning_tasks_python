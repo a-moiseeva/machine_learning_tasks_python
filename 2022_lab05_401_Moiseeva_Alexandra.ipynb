{
 "cells": [
  {
   "cell_type": "markdown",
   "id": "60a24803",
   "metadata": {
    "id": "60a24803"
   },
   "source": [
    "# Lab 05. Regression and Clustering\n",
    "\n",
    "\n",
    "In this lab we will tackle two types of tasks: \n",
    "- Regression Competition\n",
    "- Clustering practice\n",
    "\n",
    "\n",
    "#### Evaluation\n",
    "\n",
    "Each task has its value, **15 points** in total. If you use some open-source code please make sure to include the url.\n",
    "\n",
    "#### How to submit\n",
    "- Name your file according to this convention: `2022_lab05_GroupNumber_Surname_Name.ipynb`, for example \n",
    "    - `2022_lab05_404_Sheipak_Sviat.ipynb`\n",
    "    - `2022_lab05_M106_Sheipak_Sviat.ipynb`\n",
    "- Attach your .ipynb to an email with topic `2022_lab05_GroupNumber_Surname_Name`\n",
    "- Send it to `cosmic.research.ml@yandex.ru`\n",
    "- Deadline is `2022-12-08 23:00:00 +03:00`\n",
    "\n",
    "#### The Data:\n",
    "- All the datasets you need are here: https://disk.yandex.ru/d/gqo8GmBMUBfRuw"
   ]
  },
  {
   "cell_type": "markdown",
   "id": "2bace413",
   "metadata": {
    "id": "2bace413"
   },
   "source": [
    "## Part 1. Regression [7 points]\n",
    "\n",
    "The task is to predict a price of a house sold in California based on some description of a house. Some columns give some information on the house itself (number of bedrooms, short written summary and so on) and some describe the neighborhood (middleschoolscore, middleschooldistance).\n",
    "\n",
    "* Id column - `id`\n",
    "* Target column - `sold_price`\n",
    "* Scoring is `RMSE` - root mean squared error"
   ]
  },
  {
   "cell_type": "code",
   "execution_count": 1,
   "id": "262deada",
   "metadata": {
    "id": "262deada"
   },
   "outputs": [],
   "source": [
    "import numpy as np\n",
    "import pandas as pd"
   ]
  },
  {
   "cell_type": "code",
   "execution_count": null,
   "id": "7791fde2",
   "metadata": {
    "id": "7791fde2"
   },
   "outputs": [],
   "source": [
    "df_train = pd.read_csv(\"housing_train.csv\")\n",
    "df_test = pd.read_csv(\"housing_test.csv\")"
   ]
  },
  {
   "cell_type": "code",
   "execution_count": null,
   "id": "F8SyQCR0wvZD",
   "metadata": {
    "id": "F8SyQCR0wvZD"
   },
   "outputs": [],
   "source": [
    "numeric_cols = ['bathrooms', 'full_bathrooms', 'total_interior_livable_area', 'total_spaces', 'garage_spaces', \n",
    "                'elementary_school_score', 'elementary_school_distance', 'middle_school_score', 'middle_school_distance', \n",
    "                'high_school_score', 'high_school_distance', 'tax_assessed_value', 'listed_price', \n",
    "                'last_sold_price', 'year_built', 'annual_tax_amount']\n",
    "\n",
    "cat_cols = ['type', 'heating', 'cooling', 'parking', 'bedrooms', 'region',\n",
    "            'elementary_school', 'middle_school', 'high_school', 'flooring', \n",
    "            'heating_features', 'cooling_features', 'appliances_included', \n",
    "            'laundry_features', 'parking_features', 'city', 'zip', 'state', 'listed_on', 'last_sold_on']\n",
    "\n",
    "text_cols = ['address', 'summary',]\n",
    "target_cols = ['sold_price']\n",
    "id_cols = ['id']"
   ]
  },
  {
   "cell_type": "code",
   "execution_count": null,
   "id": "185451da",
   "metadata": {
    "id": "185451da"
   },
   "outputs": [],
   "source": [
    "train_num_df = df_train[numeric_cols].fillna(df_train[numeric_cols].mean(axis=0))\n",
    "test_num_df = df_test[numeric_cols].fillna(df_test[numeric_cols].mean(axis=0))"
   ]
  },
  {
   "cell_type": "code",
   "execution_count": null,
   "id": "bb596905",
   "metadata": {
    "id": "bb596905"
   },
   "outputs": [],
   "source": [
    "X_train, Y_train = train_num_df.values, df_train[target_cols].values\n",
    "X_test, Y_test = test_num_df.values, df_test[target_cols].values"
   ]
  },
  {
   "cell_type": "code",
   "execution_count": null,
   "id": "pzRi9TvL7wZQ",
   "metadata": {
    "colab": {
     "base_uri": "https://localhost:8080/"
    },
    "id": "pzRi9TvL7wZQ",
    "outputId": "12ac63b2-b43d-42c4-de88-d4ba6f2171a4"
   },
   "outputs": [
    {
     "data": {
      "text/plain": [
       "2951"
      ]
     },
     "execution_count": 225,
     "metadata": {},
     "output_type": "execute_result"
    }
   ],
   "source": [
    "len(Y_test)"
   ]
  },
  {
   "cell_type": "code",
   "execution_count": null,
   "id": "bea8a326",
   "metadata": {
    "id": "bea8a326"
   },
   "outputs": [],
   "source": [
    "from sklearn.preprocessing import StandardScaler\n",
    "from sklearn.linear_model import Ridge, Lasso\n",
    "\n",
    "from sklearn.model_selection import cross_val_score\n",
    "from sklearn.model_selection import GridSearchCV\n",
    "\n",
    "from sklearn.metrics import mean_squared_error"
   ]
  },
  {
   "cell_type": "code",
   "execution_count": null,
   "id": "1a455b89",
   "metadata": {
    "colab": {
     "base_uri": "https://localhost:8080/"
    },
    "id": "1a455b89",
    "outputId": "0eeb49e9-cdf4-4f5b-82f4-20a8578ec85d"
   },
   "outputs": [
    {
     "data": {
      "text/plain": [
       "(Ridge(alpha=1e-05), -0.25076060919970633)"
      ]
     },
     "execution_count": 41,
     "metadata": {},
     "output_type": "execute_result"
    }
   ],
   "source": [
    "lr_grid = {\n",
    "    \"alpha\": np.logspace(-5, 3, 100)\n",
    "}\n",
    "\n",
    "lr_grid_searcher = GridSearchCV(Ridge(), lr_grid, cv=5, return_train_score=True, scoring=\"neg_root_mean_squared_error\")\n",
    "lr_grid_searcher.fit(X_train, Y_train)\n",
    "lr_grid_searcher.best_estimator_,lr_grid_searcher.best_score_"
   ]
  },
  {
   "cell_type": "code",
   "execution_count": null,
   "id": "97af0001",
   "metadata": {
    "colab": {
     "base_uri": "https://localhost:8080/"
    },
    "id": "97af0001",
    "outputId": "b407fa11-653e-4f88-c7b3-de046272ad60"
   },
   "outputs": [
    {
     "data": {
      "text/plain": [
       "0.2514677222697976"
      ]
     },
     "execution_count": 42,
     "metadata": {},
     "output_type": "execute_result"
    }
   ],
   "source": [
    "best_model = lr_grid_searcher.best_estimator_\n",
    "best_model.fit(X_train, Y_train)\n",
    "\n",
    "test_preds = best_model.predict(X_test)\n",
    "np.sqrt(mean_squared_error(Y_test, test_preds))"
   ]
  },
  {
   "cell_type": "markdown",
   "id": "377c88b3",
   "metadata": {
    "id": "377c88b3"
   },
   "source": [
    "Get a score as low as possible:\n",
    "\n",
    "Table ref:\n",
    "```\n",
    "Score < 0.25 - 1 points\n",
    "Score < 0.24 - 2 points\n",
    "Score < 0.22 - 3 points\n",
    "Score < 0.21 - 5 points\n",
    "Score < 0.20 - 6 points\n",
    "Score < 0.18 - 7 points\n",
    "```\n",
    "\n",
    "Don't forget to use categorical and text features."
   ]
  },
  {
   "cell_type": "markdown",
   "id": "f9c3dac9",
   "metadata": {
    "id": "f9c3dac9"
   },
   "source": [
    "**Task 1.1** [7 points]"
   ]
  },
  {
   "cell_type": "code",
   "execution_count": null,
   "id": "a7C0VHSatVDF",
   "metadata": {
    "id": "a7C0VHSatVDF"
   },
   "outputs": [],
   "source": [
    "db_train=df_train\n",
    "db_test=df_test\n",
    "#display(db_train)"
   ]
  },
  {
   "cell_type": "code",
   "execution_count": null,
   "id": "a8fyFyzKteE8",
   "metadata": {
    "colab": {
     "base_uri": "https://localhost:8080/"
    },
    "id": "a8fyFyzKteE8",
    "outputId": "87c33e7e-ca1f-4272-f526-098ee7f99f24"
   },
   "outputs": [
    {
     "data": {
      "text/plain": [
       "CA    2929\n",
       "AZ      22\n",
       "Name: state, dtype: int64"
      ]
     },
     "execution_count": 241,
     "metadata": {},
     "output_type": "execute_result"
    }
   ],
   "source": [
    "db_train[\"state\"].value_counts()#[0:30]\n",
    "\n",
    "\n",
    "\n",
    "db_test[\"state\"].value_counts()#[0:30]"
   ]
  },
  {
   "cell_type": "code",
   "execution_count": null,
   "id": "sCaAkc8ZtN0s",
   "metadata": {
    "id": "sCaAkc8ZtN0s"
   },
   "outputs": [],
   "source": [
    "state=db_train['state'].copy()\n",
    "state=state.replace({'CA':1.0,'AZ':2.0})\n",
    "db_train['state_new']=pd.Series(state)\n",
    "#db_train['listed_on'] = pd.to_datetime(db_train['listed_on'])\n",
    "\n",
    "db_train=db_train.drop(columns=['state'])\n",
    "\n",
    "\n",
    "\n",
    "\n",
    "state=db_test['state'].copy();\n",
    "state=state.replace({'CA':1,'AZ':2})\n",
    "db_test['state_new']=pd.Series(state)\n",
    "db_test=db_test.drop(columns=['state'])"
   ]
  },
  {
   "cell_type": "code",
   "execution_count": null,
   "id": "nTeS0x5nxZq6",
   "metadata": {
    "id": "nTeS0x5nxZq6"
   },
   "outputs": [],
   "source": [
    "import datetime\n",
    "db_train[\"last_sold_on\"] = pd.to_datetime(db_train[\"last_sold_on\"]).dt.strftime(\"%Y%m%d\")\n",
    "db_train[\"listed_on\"] = pd.to_datetime(db_train[\"listed_on\"]).dt.strftime(\"%Y%m%d\")\n",
    "\n",
    "\n",
    "db_test[\"last_sold_on\"] = pd.to_datetime(db_test[\"last_sold_on\"]).dt.strftime(\"%Y%m%d\")\n",
    "db_test[\"listed_on\"] = pd.to_datetime(db_test[\"listed_on\"]).dt.strftime(\"%Y%m%d\")\n"
   ]
  },
  {
   "cell_type": "code",
   "execution_count": null,
   "id": "dziJqdv_1OSH",
   "metadata": {
    "id": "dziJqdv_1OSH"
   },
   "outputs": [],
   "source": [
    "dx_train = db_train['last_sold_on'].copy().fillna('0')\n",
    "dx2_train = db_train['listed_on'].copy().fillna('0')\n",
    "\n",
    "for x in range(0,35000):\n",
    "  m=dx_train[x]\n",
    "  mm=int(m)\n",
    "  dx_train[x]=m\n",
    "\n",
    "  m=dx2_train[x]\n",
    "  mm=int(m)\n",
    "  dx2_train[x]=m\n",
    "\n",
    "\n",
    "\n",
    "dx_test = db_test['last_sold_on'].copy().fillna('0')\n",
    "dx2_test = db_test['listed_on'].copy().fillna('0')\n",
    "\n",
    "for x in range(0,2951):\n",
    "  m=dx_test[x]\n",
    "  mm=int(m)\n",
    "  dx_test[x]=m\n",
    "\n",
    "  m=dx2_test[x]\n",
    "  mm=int(m)\n",
    "  dx2_test[x]=m\n"
   ]
  },
  {
   "cell_type": "code",
   "execution_count": null,
   "id": "MSBzdUpP5h35",
   "metadata": {
    "id": "MSBzdUpP5h35"
   },
   "outputs": [],
   "source": [
    "db_train['last_sold_on_new']=pd.Series(dx_train)\n",
    "db_train['listed_on_new']=pd.Series(dx2_train)\n",
    "\n",
    "db_test['last_sold_on_new']=pd.Series(dx_test)\n",
    "db_test['listed_on_new']=pd.Series(dx2_test)"
   ]
  },
  {
   "cell_type": "code",
   "execution_count": null,
   "id": "a56a91cf",
   "metadata": {
    "id": "a56a91cf"
   },
   "outputs": [],
   "source": [
    "numeric_cols = ['bathrooms', 'full_bathrooms', 'total_interior_livable_area', 'total_spaces', 'garage_spaces', \n",
    "                'elementary_school_score', 'elementary_school_distance', 'middle_school_score', 'middle_school_distance', \n",
    "                'high_school_score', 'high_school_distance', 'tax_assessed_value', 'listed_price', \n",
    "                'last_sold_price', 'year_built', 'annual_tax_amount', 'state_new', 'listed_on_new', 'last_sold_on_new']\n",
    "\n",
    "cat_cols = ['type', 'heating', 'cooling', 'parking', 'bedrooms', 'region',\n",
    "            'elementary_school', 'middle_school', 'high_school', 'flooring', \n",
    "            'heating_features', 'cooling_features', 'appliances_included', \n",
    "            'laundry_features', 'parking_features', 'city', 'zip','listed_on',\n",
    "            'last_sold_on']\n",
    "\n",
    "text_cols = ['address', 'summary',]\n",
    "target_cols = ['sold_price']\n",
    "id_cols = ['id']"
   ]
  },
  {
   "cell_type": "code",
   "execution_count": null,
   "id": "y9l7TBej6V-m",
   "metadata": {
    "id": "y9l7TBej6V-m"
   },
   "outputs": [],
   "source": [
    "#display(db_train)"
   ]
  },
  {
   "cell_type": "code",
   "execution_count": null,
   "id": "5KBOeCrjxSJd",
   "metadata": {
    "id": "5KBOeCrjxSJd"
   },
   "outputs": [],
   "source": [
    "train_num_df = db_train[numeric_cols].fillna(db_train[numeric_cols].mean(axis=0))\n",
    "test_num_df = db_test[numeric_cols].fillna(db_test[numeric_cols].mean(axis=0))"
   ]
  },
  {
   "cell_type": "code",
   "execution_count": null,
   "id": "WKeRCAlVxVS4",
   "metadata": {
    "id": "WKeRCAlVxVS4"
   },
   "outputs": [],
   "source": [
    "X_train, Y_train = train_num_df.values, db_train[target_cols].values\n",
    "X_test, Y_test = test_num_df.values, db_test[target_cols].values"
   ]
  },
  {
   "cell_type": "code",
   "execution_count": null,
   "id": "m8LwsoUK8Ryt",
   "metadata": {
    "colab": {
     "base_uri": "https://localhost:8080/",
     "height": 156
    },
    "id": "m8LwsoUK8Ryt",
    "outputId": "a07919c7-efe7-49c9-cae6-4f5b142c0496"
   },
   "outputs": [
    {
     "data": {
      "text/plain": [
       "array([[1.0, 1.0, 1560.0, ..., 1.0, '20210407', '20070531'],\n",
       "       [2.0, 2.0, 1571.0, ..., 1.0, '20210210', '20120621'],\n",
       "       [2.0, 2.0, 1348.0, ..., 1.0, '20210731', '0'],\n",
       "       ...,\n",
       "       [1.0, 1.0, 1278.0, ..., 1.0, '20210503', '20000131'],\n",
       "       [3.0, 2.0969078519330204, 2580.0, ..., 1.0, '20210203',\n",
       "        '19960807'],\n",
       "       [2.0, 1.0, 1598.0, ..., 1.0, '20180314', '20171030']], dtype=object)"
      ]
     },
     "metadata": {},
     "output_type": "display_data"
    }
   ],
   "source": [
    "display(X_train)"
   ]
  },
  {
   "cell_type": "code",
   "execution_count": null,
   "id": "4TXIwlPJnK8_",
   "metadata": {
    "colab": {
     "base_uri": "https://localhost:8080/"
    },
    "id": "4TXIwlPJnK8_",
    "outputId": "d24acc46-80f2-46b5-a4e8-75e0678099a3"
   },
   "outputs": [
    {
     "name": "stderr",
     "output_type": "stream",
     "text": [
      "<ipython-input-250-b3cb4d717655>:5: DataConversionWarning: A column-vector y was passed when a 1d array was expected. Please change the shape of y to (n_samples,), for example using ravel().\n",
      "  rf.fit(X_train, Y_train)\n"
     ]
    },
    {
     "name": "stdout",
     "output_type": "stream",
     "text": [
      "0.2848004767643122 for 1 n_est\n"
     ]
    },
    {
     "name": "stderr",
     "output_type": "stream",
     "text": [
      "<ipython-input-250-b3cb4d717655>:5: DataConversionWarning: A column-vector y was passed when a 1d array was expected. Please change the shape of y to (n_samples,), for example using ravel().\n",
      "  rf.fit(X_train, Y_train)\n"
     ]
    },
    {
     "name": "stdout",
     "output_type": "stream",
     "text": [
      "0.2595506570625467 for 2 n_est\n"
     ]
    },
    {
     "name": "stderr",
     "output_type": "stream",
     "text": [
      "<ipython-input-250-b3cb4d717655>:5: DataConversionWarning: A column-vector y was passed when a 1d array was expected. Please change the shape of y to (n_samples,), for example using ravel().\n",
      "  rf.fit(X_train, Y_train)\n"
     ]
    },
    {
     "name": "stdout",
     "output_type": "stream",
     "text": [
      "0.25137233323824404 for 3 n_est\n"
     ]
    },
    {
     "name": "stderr",
     "output_type": "stream",
     "text": [
      "<ipython-input-250-b3cb4d717655>:5: DataConversionWarning: A column-vector y was passed when a 1d array was expected. Please change the shape of y to (n_samples,), for example using ravel().\n",
      "  rf.fit(X_train, Y_train)\n"
     ]
    },
    {
     "name": "stdout",
     "output_type": "stream",
     "text": [
      "0.2283039524311763 for 4 n_est\n"
     ]
    },
    {
     "name": "stderr",
     "output_type": "stream",
     "text": [
      "<ipython-input-250-b3cb4d717655>:5: DataConversionWarning: A column-vector y was passed when a 1d array was expected. Please change the shape of y to (n_samples,), for example using ravel().\n",
      "  rf.fit(X_train, Y_train)\n"
     ]
    },
    {
     "name": "stdout",
     "output_type": "stream",
     "text": [
      "0.2353094339566752 for 5 n_est\n"
     ]
    },
    {
     "name": "stderr",
     "output_type": "stream",
     "text": [
      "<ipython-input-250-b3cb4d717655>:5: DataConversionWarning: A column-vector y was passed when a 1d array was expected. Please change the shape of y to (n_samples,), for example using ravel().\n",
      "  rf.fit(X_train, Y_train)\n"
     ]
    },
    {
     "name": "stdout",
     "output_type": "stream",
     "text": [
      "0.22696742560419975 for 6 n_est\n"
     ]
    },
    {
     "name": "stderr",
     "output_type": "stream",
     "text": [
      "<ipython-input-250-b3cb4d717655>:5: DataConversionWarning: A column-vector y was passed when a 1d array was expected. Please change the shape of y to (n_samples,), for example using ravel().\n",
      "  rf.fit(X_train, Y_train)\n"
     ]
    },
    {
     "name": "stdout",
     "output_type": "stream",
     "text": [
      "0.23006302255282995 for 7 n_est\n"
     ]
    },
    {
     "name": "stderr",
     "output_type": "stream",
     "text": [
      "<ipython-input-250-b3cb4d717655>:5: DataConversionWarning: A column-vector y was passed when a 1d array was expected. Please change the shape of y to (n_samples,), for example using ravel().\n",
      "  rf.fit(X_train, Y_train)\n"
     ]
    },
    {
     "name": "stdout",
     "output_type": "stream",
     "text": [
      "0.22374733667649305 for 8 n_est\n"
     ]
    },
    {
     "name": "stderr",
     "output_type": "stream",
     "text": [
      "<ipython-input-250-b3cb4d717655>:5: DataConversionWarning: A column-vector y was passed when a 1d array was expected. Please change the shape of y to (n_samples,), for example using ravel().\n",
      "  rf.fit(X_train, Y_train)\n"
     ]
    },
    {
     "name": "stdout",
     "output_type": "stream",
     "text": [
      "0.2198940872872942 for 9 n_est\n"
     ]
    },
    {
     "name": "stderr",
     "output_type": "stream",
     "text": [
      "<ipython-input-250-b3cb4d717655>:5: DataConversionWarning: A column-vector y was passed when a 1d array was expected. Please change the shape of y to (n_samples,), for example using ravel().\n",
      "  rf.fit(X_train, Y_train)\n"
     ]
    },
    {
     "name": "stdout",
     "output_type": "stream",
     "text": [
      "0.22348526101420918 for 10 n_est\n"
     ]
    },
    {
     "name": "stderr",
     "output_type": "stream",
     "text": [
      "<ipython-input-250-b3cb4d717655>:5: DataConversionWarning: A column-vector y was passed when a 1d array was expected. Please change the shape of y to (n_samples,), for example using ravel().\n",
      "  rf.fit(X_train, Y_train)\n"
     ]
    },
    {
     "name": "stdout",
     "output_type": "stream",
     "text": [
      "0.21908849645473336 for 11 n_est\n"
     ]
    },
    {
     "name": "stderr",
     "output_type": "stream",
     "text": [
      "<ipython-input-250-b3cb4d717655>:5: DataConversionWarning: A column-vector y was passed when a 1d array was expected. Please change the shape of y to (n_samples,), for example using ravel().\n",
      "  rf.fit(X_train, Y_train)\n"
     ]
    },
    {
     "name": "stdout",
     "output_type": "stream",
     "text": [
      "0.22616618513865558 for 12 n_est\n"
     ]
    },
    {
     "name": "stderr",
     "output_type": "stream",
     "text": [
      "<ipython-input-250-b3cb4d717655>:5: DataConversionWarning: A column-vector y was passed when a 1d array was expected. Please change the shape of y to (n_samples,), for example using ravel().\n",
      "  rf.fit(X_train, Y_train)\n"
     ]
    },
    {
     "name": "stdout",
     "output_type": "stream",
     "text": [
      "0.22087216517165845 for 13 n_est\n"
     ]
    },
    {
     "name": "stderr",
     "output_type": "stream",
     "text": [
      "<ipython-input-250-b3cb4d717655>:5: DataConversionWarning: A column-vector y was passed when a 1d array was expected. Please change the shape of y to (n_samples,), for example using ravel().\n",
      "  rf.fit(X_train, Y_train)\n"
     ]
    },
    {
     "name": "stdout",
     "output_type": "stream",
     "text": [
      "0.2178344313308431 for 14 n_est\n"
     ]
    },
    {
     "name": "stderr",
     "output_type": "stream",
     "text": [
      "<ipython-input-250-b3cb4d717655>:5: DataConversionWarning: A column-vector y was passed when a 1d array was expected. Please change the shape of y to (n_samples,), for example using ravel().\n",
      "  rf.fit(X_train, Y_train)\n"
     ]
    },
    {
     "name": "stdout",
     "output_type": "stream",
     "text": [
      "0.21803525015375305 for 15 n_est\n"
     ]
    },
    {
     "name": "stderr",
     "output_type": "stream",
     "text": [
      "<ipython-input-250-b3cb4d717655>:5: DataConversionWarning: A column-vector y was passed when a 1d array was expected. Please change the shape of y to (n_samples,), for example using ravel().\n",
      "  rf.fit(X_train, Y_train)\n"
     ]
    },
    {
     "name": "stdout",
     "output_type": "stream",
     "text": [
      "0.21507695944971172 for 16 n_est\n"
     ]
    },
    {
     "name": "stderr",
     "output_type": "stream",
     "text": [
      "<ipython-input-250-b3cb4d717655>:5: DataConversionWarning: A column-vector y was passed when a 1d array was expected. Please change the shape of y to (n_samples,), for example using ravel().\n",
      "  rf.fit(X_train, Y_train)\n"
     ]
    },
    {
     "name": "stdout",
     "output_type": "stream",
     "text": [
      "0.2232148899183811 for 17 n_est\n"
     ]
    },
    {
     "name": "stderr",
     "output_type": "stream",
     "text": [
      "<ipython-input-250-b3cb4d717655>:5: DataConversionWarning: A column-vector y was passed when a 1d array was expected. Please change the shape of y to (n_samples,), for example using ravel().\n",
      "  rf.fit(X_train, Y_train)\n"
     ]
    },
    {
     "name": "stdout",
     "output_type": "stream",
     "text": [
      "0.22052662149651056 for 18 n_est\n"
     ]
    },
    {
     "name": "stderr",
     "output_type": "stream",
     "text": [
      "<ipython-input-250-b3cb4d717655>:5: DataConversionWarning: A column-vector y was passed when a 1d array was expected. Please change the shape of y to (n_samples,), for example using ravel().\n",
      "  rf.fit(X_train, Y_train)\n"
     ]
    },
    {
     "name": "stdout",
     "output_type": "stream",
     "text": [
      "0.21691358611473643 for 19 n_est\n"
     ]
    }
   ],
   "source": [
    "from sklearn.ensemble import RandomForestRegressor\n",
    "\n",
    "for x in range(1,20):\n",
    "  rf = RandomForestRegressor(n_estimators=x)\n",
    "  rf.fit(X_train, Y_train)\n",
    "  test_preds = rf.predict(X_test)\n",
    "  a=np.sqrt(mean_squared_error(Y_test, test_preds))\n",
    "  print(a, 'for', x, 'n_est' )\n",
    "\n"
   ]
  },
  {
   "cell_type": "code",
   "execution_count": null,
   "id": "nwFRkrowpIFu",
   "metadata": {
    "colab": {
     "base_uri": "https://localhost:8080/"
    },
    "id": "nwFRkrowpIFu",
    "outputId": "394145b0-729a-4d7e-8972-144c14f09a24"
   },
   "outputs": [
    {
     "name": "stderr",
     "output_type": "stream",
     "text": [
      "<ipython-input-253-2f0c06348f16>:3: DataConversionWarning: A column-vector y was passed when a 1d array was expected. Please change the shape of y to (n_samples,), for example using ravel().\n",
      "  rf.fit(X_train, Y_train)\n"
     ]
    },
    {
     "name": "stdout",
     "output_type": "stream",
     "text": [
      "0.21780773973789974\n"
     ]
    }
   ],
   "source": [
    "n_est=19\n",
    "rf = RandomForestRegressor(n_estimators=n_est)\n",
    "rf.fit(X_train, Y_train)\n",
    "test_preds = rf.predict(X_test)\n",
    "print(np.sqrt(mean_squared_error(Y_test, test_preds)))"
   ]
  },
  {
   "cell_type": "markdown",
   "id": "0a806b8e",
   "metadata": {
    "id": "0a806b8e"
   },
   "source": [
    "## Part 2. Clustering [8 points]\n",
    "\n",
    "In this part we will try to analyze a dump of leaked passwords of internet users. It can be accessed here: https://github.com/ignis-sec/Pwdb-Public/tree/master/wordlists\n",
    "\n",
    "First kind reminder - if you see your password in this base, change it immediately."
   ]
  },
  {
   "cell_type": "code",
   "execution_count": 5,
   "id": "eb85b786",
   "metadata": {
    "id": "eb85b786"
   },
   "outputs": [],
   "source": [
    "words = []\n",
    "with open(\"ignis-1M.txt\", \"r\") as file:\n",
    "    for line in file:\n",
    "        words.append(line.strip())"
   ]
  },
  {
   "cell_type": "markdown",
   "id": "c1f3938b",
   "metadata": {
    "id": "c1f3938b"
   },
   "source": [
    "To make it more simple, we'll use only first 3K of passwords:"
   ]
  },
  {
   "cell_type": "code",
   "execution_count": 6,
   "id": "537a2cbb",
   "metadata": {
    "id": "537a2cbb"
   },
   "outputs": [],
   "source": [
    "words = np.array(words[:3000]).reshape((-1, 1))"
   ]
  },
  {
   "cell_type": "markdown",
   "id": "06421ab3",
   "metadata": {
    "id": "06421ab3"
   },
   "source": [
    "**Task 2.1 [0.5 point]**\n",
    "\n",
    "Let's start with calculating levenshtein distance between words in the dataset. Compute a `3000x3000` distance matrix."
   ]
  },
  {
   "cell_type": "code",
   "execution_count": 7,
   "id": "c2757faf",
   "metadata": {
    "id": "c2757faf"
   },
   "outputs": [],
   "source": [
    "import numpy as np\n",
    "from pylev import levenshtein\n",
    "import matplotlib.pyplot as plt"
   ]
  },
  {
   "cell_type": "code",
   "execution_count": 8,
   "id": "89e08f96",
   "metadata": {
    "id": "89e08f96"
   },
   "outputs": [],
   "source": [
    "X = np.zeros((words.shape[0], words.shape[0]))\n",
    "for i in range(0,words.shape[0]):\n",
    "  #print(i)\n",
    "  for j in range(0,words.shape[0]):\n",
    "    dist=levenshtein(np.array2string(words[i]), np.array2string(words[j]))\n",
    "    #print(dist)\n",
    "    X[i][j]=dist\n",
    "#print(X)\n",
    "# YOUR CODE HERE"
   ]
  },
  {
   "cell_type": "code",
   "execution_count": 9,
   "id": "_L80n0RpEA44",
   "metadata": {
    "colab": {
     "base_uri": "https://localhost:8080/"
    },
    "id": "_L80n0RpEA44",
    "outputId": "66799c23-fd75-4064-dd59-ae9fa23fe4c6"
   },
   "outputs": [
    {
     "name": "stdout",
     "output_type": "stream",
     "text": [
      "[[ 0.  3.  8. ...  3.  9. 12.]\n",
      " [ 3.  0.  9. ...  6.  9. 12.]\n",
      " [ 8.  9.  0. ...  9.  7. 11.]\n",
      " ...\n",
      " [ 3.  6.  9. ...  0.  8. 12.]\n",
      " [ 9.  9.  7. ...  8.  0. 11.]\n",
      " [12. 12. 11. ... 12. 11.  0.]]\n"
     ]
    }
   ],
   "source": [
    "print(X)"
   ]
  },
  {
   "cell_type": "code",
   "execution_count": 10,
   "id": "b161cdf5",
   "metadata": {
    "colab": {
     "base_uri": "https://localhost:8080/",
     "height": 276
    },
    "id": "b161cdf5",
    "outputId": "9b0253c7-e05a-4394-d151-6048152791d4"
   },
   "outputs": [
    {
     "data": {
      "image/png": "[encoded data removed]",
      "text/plain": [
       "<Figure size 432x288 with 1 Axes>"
      ]
     },
     "metadata": {
      "needs_background": "light"
     },
     "output_type": "display_data"
    }
   ],
   "source": [
    "plt.hist(X.reshape(-1), rwidth=0.5)\n",
    "plt.xticks(np.arange(0, X.max() + 1))\n",
    "plt.show()"
   ]
  },
  {
   "cell_type": "code",
   "execution_count": 11,
   "id": "e5c1182b",
   "metadata": {
    "colab": {
     "base_uri": "https://localhost:8080/",
     "height": 269
    },
    "id": "e5c1182b",
    "outputId": "a605677e-8e14-4722-cf96-815593d4e629"
   },
   "outputs": [
    {
     "data": {
      "image/png": "[encoded data removed]",
      "text/plain": [
       "<Figure size 432x288 with 1 Axes>"
      ]
     },
     "metadata": {
      "needs_background": "light"
     },
     "output_type": "display_data"
    }
   ],
   "source": [
    "plt.imshow(X, cmap=\"Purples\")\n",
    "plt.show()"
   ]
  },
  {
   "cell_type": "markdown",
   "id": "e18613bd",
   "metadata": {
    "id": "e18613bd"
   },
   "source": [
    "**Task 2.2 [1.5 point]** First algorithm we'll use is `DBSCAN`.\n",
    "\n",
    "We have to adjust two parameters:\n",
    "- `eps`\n",
    "- `min_samples`\n",
    "\n",
    "Grid-search these two parameters and report number and sizes of output clusters for every pair of parameters. \n",
    "\n",
    "**Note**: to define an appropriate space for each parameter remember what they mean and how they affect DBSCAN"
   ]
  },
  {
   "cell_type": "code",
   "execution_count": 12,
   "id": "a014cacb",
   "metadata": {
    "id": "a014cacb"
   },
   "outputs": [],
   "source": [
    "from sklearn.cluster import DBSCAN"
   ]
  },
  {
   "cell_type": "markdown",
   "id": "8d7893f8",
   "metadata": {
    "id": "8d7893f8"
   },
   "source": [
    "Example:"
   ]
  },
  {
   "cell_type": "code",
   "execution_count": 13,
   "id": "43992ecf",
   "metadata": {
    "colab": {
     "base_uri": "https://localhost:8080/"
    },
    "id": "43992ecf",
    "outputId": "465b156a-4288-4b85-90db-747945a0b339"
   },
   "outputs": [
    {
     "data": {
      "text/plain": [
       "array([ 0,  0,  0, ...,  0, -1, -1])"
      ]
     },
     "execution_count": 13,
     "metadata": {},
     "output_type": "execute_result"
    }
   ],
   "source": [
    "eps = 3.0\n",
    "min_samples = 3\n",
    "db = DBSCAN(metric=\"precomputed\", min_samples=min_samples, eps=eps).fit(X)\n",
    "labels = db.labels_\n",
    "len(set(labels))\n",
    "db.labels_\n",
    "#print(labels)"
   ]
  },
  {
   "cell_type": "code",
   "execution_count": 14,
   "id": "ea529922",
   "metadata": {
    "colab": {
     "base_uri": "https://localhost:8080/"
    },
    "id": "ea529922",
    "outputId": "629405ee-0ef5-469e-e119-ddbd8b7bffb9"
   },
   "outputs": [
    {
     "name": "stdout",
     "output_type": "stream",
     "text": [
      "epsilon minsample clusters\n",
      "1       1          2205\n",
      "1       2          333\n",
      "1       3          120\n",
      "1       4          45\n",
      "1       5          22\n",
      "1       6          12\n",
      "1       7          9\n",
      "1       8          6\n",
      "1       9          5\n",
      "1       10          4\n",
      "1       11          4\n",
      "1       12          5\n",
      "1       13          5\n",
      "1       14          5\n",
      "1       15          4\n",
      "1       16          4\n",
      "1       17          4\n",
      "1       18          3\n",
      "1       19          3\n",
      "2       1          1111\n",
      "2       2          207\n",
      "2       3          76\n",
      "2       4          40\n",
      "2       5          26\n",
      "2       6          18\n",
      "2       7          16\n",
      "2       8          8\n",
      "2       9          11\n",
      "2       10          11\n",
      "2       11          11\n",
      "2       12          8\n",
      "2       13          9\n",
      "2       14          9\n",
      "2       15          8\n",
      "2       16          6\n",
      "2       17          6\n",
      "2       18          5\n",
      "2       19          4\n",
      "3       1          343\n",
      "3       2          36\n",
      "3       3          7\n",
      "3       4          7\n",
      "3       5          3\n",
      "3       6          3\n",
      "3       7          3\n",
      "3       8          3\n",
      "3       9          2\n",
      "3       10          2\n",
      "3       11          2\n",
      "3       12          2\n",
      "3       13          2\n",
      "3       14          2\n",
      "3       15          2\n",
      "3       16          2\n",
      "3       17          2\n",
      "3       18          2\n",
      "3       19          2\n",
      "4       1          141\n",
      "4       2          10\n",
      "4       3          3\n",
      "4       4          2\n",
      "4       5          2\n",
      "4       6          2\n",
      "4       7          2\n",
      "4       8          2\n",
      "4       9          2\n",
      "4       10          2\n",
      "4       11          2\n",
      "4       12          2\n",
      "4       13          2\n",
      "4       14          2\n",
      "4       15          2\n",
      "4       16          2\n",
      "4       17          2\n",
      "4       18          2\n",
      "4       19          2\n",
      "5       1          79\n",
      "5       2          3\n",
      "5       3          2\n",
      "5       4          2\n",
      "5       5          2\n",
      "5       6          2\n",
      "5       7          2\n",
      "5       8          2\n",
      "5       9          2\n",
      "5       10          2\n",
      "5       11          2\n",
      "5       12          2\n",
      "5       13          2\n",
      "5       14          2\n",
      "5       15          2\n",
      "5       16          2\n",
      "5       17          2\n",
      "5       18          2\n",
      "5       19          2\n"
     ]
    }
   ],
   "source": [
    "#clustering = DBSCAN(metric=\"precomputed\",eps=8.0, min_samples=10)\n",
    "print('epsilon', 'minsample', 'clusters')\n",
    "epsilons, minsamples = np.arange(1,6), np.arange(1,20)\n",
    "for epsilon in epsilons:\n",
    "  for minsample in minsamples:\n",
    "        model = DBSCAN(metric=\"precomputed\", min_samples=minsample,eps=epsilon)\n",
    "        model.fit(X)\n",
    "        labels = model.labels_\n",
    "        print(epsilon,'     ', minsample,'        ', len(set(labels)))"
   ]
  },
  {
   "cell_type": "code",
   "execution_count": 15,
   "id": "48nqAhEo_5h0",
   "metadata": {
    "colab": {
     "base_uri": "https://localhost:8080/"
    },
    "id": "48nqAhEo_5h0",
    "outputId": "96bace24-d002-4da3-fff4-aef6acb9db20"
   },
   "outputs": [
    {
     "data": {
      "text/plain": [
       "22"
      ]
     },
     "execution_count": 15,
     "metadata": {},
     "output_type": "execute_result"
    }
   ],
   "source": [
    "eps = 1\n",
    "min_samples = 5\n",
    "db = DBSCAN(metric=\"precomputed\", min_samples=min_samples, eps=eps).fit(X)\n",
    "labels = db.labels_\n",
    "len(set(labels))\n",
    "#db.labels_\n",
    "#print(labels)"
   ]
  },
  {
   "cell_type": "markdown",
   "id": "6bf7a775",
   "metadata": {
    "id": "6bf7a775"
   },
   "source": [
    "**Task 2.3 [1 point]** Choose a set of parameters that leads to 20-25 clusters.\n",
    "\n",
    "- Is there a cluster that is significantly larger than the others? \n",
    "- How would you describe these clusters, what kind of passwords they contain? \n",
    "\n",
    "Use small samples from each cluster and try to describe a relevant password pattern."
   ]
  },
  {
   "cell_type": "code",
   "execution_count": 16,
   "id": "5Sg7KjlBF_SJ",
   "metadata": {
    "colab": {
     "base_uri": "https://localhost:8080/"
    },
    "id": "5Sg7KjlBF_SJ",
    "outputId": "a5ea754f-e82b-4d2a-a7dd-cc8039674499"
   },
   "outputs": [
    {
     "data": {
      "text/plain": [
       "3000"
      ]
     },
     "execution_count": 16,
     "metadata": {},
     "output_type": "execute_result"
    }
   ],
   "source": [
    "eps=1\n",
    "min_sample=5\n",
    "#print(X)\n",
    "model = DBSCAN(metric=\"precomputed\",eps=eps, min_samples=min_sample).fit(X)\n",
    "labels = model.labels_\n",
    "len(labels)\n",
    "\n"
   ]
  },
  {
   "cell_type": "code",
   "execution_count": 17,
   "id": "Mk4lVd_0CVJ0",
   "metadata": {
    "id": "Mk4lVd_0CVJ0"
   },
   "outputs": [],
   "source": [
    "basket={'0':0}\n",
    "\n",
    "for x in range (0, 3000):\n",
    "    b=labels[x]\n",
    "    a=words[x]\n",
    "    b=str(b)\n",
    "    if b in basket:\n",
    "        basket.update({ b: basket[b]+1})\n",
    "    else:\n",
    "        basket.update({b: 1})"
   ]
  },
  {
   "cell_type": "code",
   "execution_count": 18,
   "id": "i6wk3JlkEJ-H",
   "metadata": {
    "colab": {
     "base_uri": "https://localhost:8080/"
    },
    "id": "i6wk3JlkEJ-H",
    "outputId": "be9e9eac-fb51-4394-a8be-eba7167cec89"
   },
   "outputs": [
    {
     "name": "stdout",
     "output_type": "stream",
     "text": [
      "label: number of words in label  {'0': 76, '1': 16, '2': 12, '-1': 2738, '3': 15, '4': 4, '5': 5, '6': 5, '7': 7, '8': 8, '9': 6, '10': 9, '11': 6, '12': 5, '19': 5, '13': 5, '14': 5, '15': 5, '16': 14, '17': 19, '18': 8, '20': 27}\n"
     ]
    }
   ],
   "source": [
    "print('label: number of words in label ',basket)"
   ]
  },
  {
   "cell_type": "code",
   "execution_count": 19,
   "id": "JphKqZLLEurx",
   "metadata": {
    "colab": {
     "base_uri": "https://localhost:8080/"
    },
    "id": "JphKqZLLEurx",
    "outputId": "56c0ed16-01d3-40ed-fa40-91392140992e"
   },
   "outputs": [
    {
     "data": {
      "text/plain": [
       "{'4': 4,\n",
       " '5': 5,\n",
       " '6': 5,\n",
       " '12': 5,\n",
       " '19': 5,\n",
       " '13': 5,\n",
       " '14': 5,\n",
       " '15': 5,\n",
       " '9': 6,\n",
       " '11': 6,\n",
       " '7': 7,\n",
       " '8': 8,\n",
       " '18': 8,\n",
       " '10': 9,\n",
       " '2': 12,\n",
       " '16': 14,\n",
       " '3': 15,\n",
       " '1': 16,\n",
       " '17': 19,\n",
       " '20': 27,\n",
       " '0': 76,\n",
       " '-1': 2738}"
      ]
     },
     "execution_count": 19,
     "metadata": {},
     "output_type": "execute_result"
    }
   ],
   "source": [
    "{k: v for k, v in sorted(basket.items(), key=lambda item: item[1])}"
   ]
  },
  {
   "cell_type": "markdown",
   "id": "GmSjO_l9FtXD",
   "metadata": {
    "id": "GmSjO_l9FtXD"
   },
   "source": [
    "Есть огромный кластер - '0'. Вероятно, в нём объекты, не попавшие ни под одну классификацию. В них не прослеживается никакой логики. Между тем среди них явно есть слова, которые можно было бы связать в один кластер"
   ]
  },
  {
   "cell_type": "code",
   "execution_count": 20,
   "id": "Bc16_U0rB37V",
   "metadata": {
    "colab": {
     "base_uri": "https://localhost:8080/"
    },
    "id": "Bc16_U0rB37V",
    "outputId": "cce807d9-9707-493a-f0ef-65acc29cc381"
   },
   "outputs": [
    {
     "name": "stdout",
     "output_type": "stream",
     "text": [
      "['123123']\n",
      "['111111']\n",
      "['abc123']\n",
      "['1q2w3e4r5t']\n",
      "['q1w2e3r4t5y6']\n",
      "['iloveyou']\n",
      "['000000']\n",
      "['123321']\n",
      "['1q2w3e4r']\n",
      "['qwertyuiop']\n",
      "['yuantuo2012']\n",
      "['654321']\n",
      "['1qaz2wsx3edc']\n",
      "['1qaz2wsx']\n",
      "['666666']\n",
      "['ashley']\n",
      "['princess']\n",
      "['123qwe']\n",
      "['159753']\n",
      "['q1w2e3r4']\n",
      "['zxcvbnm']\n",
      "['123123123']\n",
      "['asdfghjkl']\n",
      "['pokemon']\n",
      "['football']\n",
      "['killer']\n",
      "['112233']\n",
      "['shadow']\n",
      "['121212']\n",
      "['asdasd']\n",
      "['qazwsx']\n",
      "['1234qwer']\n",
      "['superman']\n"
     ]
    }
   ],
   "source": [
    "for x in range(0,50):\n",
    "  if (labels[x]==-1):\n",
    "    print(words[x])"
   ]
  },
  {
   "cell_type": "code",
   "execution_count": 21,
   "id": "kZDuvJXeGKm2",
   "metadata": {
    "colab": {
     "base_uri": "https://localhost:8080/"
    },
    "id": "kZDuvJXeGKm2",
    "outputId": "e9fbc30f-3b84-46ea-e30b-188089add94f"
   },
   "outputs": [
    {
     "name": "stdout",
     "output_type": "stream",
     "text": [
      "['123456']\n",
      "['123456789']\n",
      "['12345678']\n",
      "['12345']\n",
      "['1234']\n",
      "['1234567890']\n",
      "['1234567']\n"
     ]
    }
   ],
   "source": [
    "for x in range(0,40):\n",
    "  if (labels[x]==0):\n",
    "    print(words[x])"
   ]
  },
  {
   "cell_type": "markdown",
   "id": "pk9gauCzKIO-",
   "metadata": {
    "id": "pk9gauCzKIO-"
   },
   "source": [
    "рассмотрим остальные кластеры"
   ]
  },
  {
   "cell_type": "markdown",
   "id": "gVtDxzoPHLLd",
   "metadata": {
    "id": "gVtDxzoPHLLd"
   },
   "source": [
    "Преобразования слова password:"
   ]
  },
  {
   "cell_type": "code",
   "execution_count": 22,
   "id": "cvwoO5M4B6iT",
   "metadata": {
    "colab": {
     "base_uri": "https://localhost:8080/"
    },
    "id": "cvwoO5M4B6iT",
    "outputId": "d61b2743-472f-4024-b1ba-2c03c17151fa"
   },
   "outputs": [
    {
     "name": "stdout",
     "output_type": "stream",
     "text": [
      "['password']\n",
      "['password1']\n",
      "['Password']\n",
      "['passw0rd']\n",
      "['Password1']\n",
      "['password123']\n",
      "['passwort']\n",
      "['password12']\n",
      "['password2']\n",
      "['Passw0rd']\n",
      "['password01']\n"
     ]
    }
   ],
   "source": [
    "for x in range(0,1500):\n",
    "  if (labels[x]==1):\n",
    "    print(words[x])"
   ]
  },
  {
   "cell_type": "markdown",
   "id": "CXFo5CbCHQIq",
   "metadata": {
    "id": "CXFo5CbCHQIq"
   },
   "source": [
    "преобразования qwerty"
   ]
  },
  {
   "cell_type": "code",
   "execution_count": 23,
   "id": "Uascjx-AHQkg",
   "metadata": {
    "colab": {
     "base_uri": "https://localhost:8080/"
    },
    "id": "Uascjx-AHQkg",
    "outputId": "966e4482-9bce-4438-8ac3-9209711cfde6"
   },
   "outputs": [
    {
     "name": "stdout",
     "output_type": "stream",
     "text": [
      "['qwerty']\n",
      "['qwerty1']\n",
      "['qwertyui']\n",
      "['qwerty12']\n",
      "['qwert']\n",
      "['qwertyu']\n",
      "['qwertz']\n",
      "['qwer']\n",
      "['qwerty11']\n",
      "['Qwerty']\n",
      "['qwerty7']\n",
      "['qwert1']\n"
     ]
    }
   ],
   "source": [
    "for x in range(0,3000):\n",
    "  if (labels[x]==2):\n",
    "    print(words[x])"
   ]
  },
  {
   "cell_type": "markdown",
   "id": "GnolBzV0HXld",
   "metadata": {
    "id": "GnolBzV0HXld"
   },
   "source": [
    "преобразования 000"
   ]
  },
  {
   "cell_type": "code",
   "execution_count": 24,
   "id": "_all765_HVnb",
   "metadata": {
    "colab": {
     "base_uri": "https://localhost:8080/"
    },
    "id": "_all765_HVnb",
    "outputId": "f03bb60b-c42b-4488-91e3-2e7ee02460cb"
   },
   "outputs": [
    {
     "name": "stdout",
     "output_type": "stream",
     "text": [
      "['123']\n",
      "['0000']\n",
      "['111']\n",
      "['100']\n",
      "['2000']\n",
      "['1010']\n",
      "['200']\n",
      "['000']\n",
      "['12']\n",
      "['010']\n",
      "['1230']\n",
      "['120']\n",
      "['110']\n",
      "['0123']\n",
      "['220']\n"
     ]
    }
   ],
   "source": [
    "for x in range(0,3000):\n",
    "  if (labels[x]==3):\n",
    "    print(words[x])"
   ]
  },
  {
   "cell_type": "markdown",
   "id": "CD6QTOaFHaLo",
   "metadata": {
    "id": "CD6QTOaFHaLo"
   },
   "source": [
    "\n",
    " qwerty1234"
   ]
  },
  {
   "cell_type": "code",
   "execution_count": 25,
   "id": "3PpQVIQ_HaW0",
   "metadata": {
    "colab": {
     "base_uri": "https://localhost:8080/"
    },
    "id": "3PpQVIQ_HaW0",
    "outputId": "ff30e027-ecdb-465b-98e0-02330551b1d6"
   },
   "outputs": [
    {
     "name": "stdout",
     "output_type": "stream",
     "text": [
      "['qwerty123']\n",
      "['qwert123']\n",
      "['qwerty1234']\n",
      "['Qwerty123']\n"
     ]
    }
   ],
   "source": [
    "for x in range(0,3000):\n",
    "  if (labels[x]==4):\n",
    "    print(words[x])"
   ]
  },
  {
   "cell_type": "markdown",
   "id": "iJ23XEAoHhxj",
   "metadata": {
    "id": "iJ23XEAoHhxj"
   },
   "source": [
    "дракон"
   ]
  },
  {
   "cell_type": "code",
   "execution_count": 26,
   "id": "ftSvOIB_Hh_D",
   "metadata": {
    "colab": {
     "base_uri": "https://localhost:8080/"
    },
    "id": "ftSvOIB_Hh_D",
    "outputId": "56ae748f-ee11-4b23-84af-d1618560545b"
   },
   "outputs": [
    {
     "name": "stdout",
     "output_type": "stream",
     "text": [
      "['dragon']\n",
      "['dragon1']\n",
      "['dragons']\n",
      "['dragoon']\n",
      "['Dragon']\n"
     ]
    }
   ],
   "source": [
    "for x in range(0,3000):\n",
    "  if (labels[x]==5):\n",
    "    print(words[x])"
   ]
  },
  {
   "cell_type": "markdown",
   "id": "HQj6cXjbHoV0",
   "metadata": {
    "id": "HQj6cXjbHoV0"
   },
   "source": [
    "987654321"
   ]
  },
  {
   "cell_type": "code",
   "execution_count": 27,
   "id": "rRt7KoyZHn1B",
   "metadata": {
    "colab": {
     "base_uri": "https://localhost:8080/"
    },
    "id": "rRt7KoyZHn1B",
    "outputId": "fea0afba-5646-4da9-b6ca-18b9438a395c"
   },
   "outputs": [
    {
     "name": "stdout",
     "output_type": "stream",
     "text": [
      "['987654321']\n",
      "['0987654321']\n",
      "['87654321']\n",
      "['9876543210']\n",
      "['98765432']\n"
     ]
    }
   ],
   "source": [
    "for x in range(0,3000):\n",
    "  if (labels[x]==6):\n",
    "    print(words[x])"
   ]
  },
  {
   "cell_type": "markdown",
   "id": "g16k9aEYdunF",
   "metadata": {
    "id": "g16k9aEYdunF"
   },
   "source": [
    "monkey"
   ]
  },
  {
   "cell_type": "code",
   "execution_count": 29,
   "id": "qyr5R3XbH7lD",
   "metadata": {
    "colab": {
     "base_uri": "https://localhost:8080/"
    },
    "id": "qyr5R3XbH7lD",
    "outputId": "d24a7415-f5c5-485b-bb61-452bb774a29b"
   },
   "outputs": [
    {
     "name": "stdout",
     "output_type": "stream",
     "text": [
      "['monkey']\n",
      "['money']\n",
      "['monkey1']\n",
      "['donkey']\n",
      "['money1']\n",
      "['monkeys']\n",
      "['monkey12']\n"
     ]
    }
   ],
   "source": [
    "for x in range(0,3000):\n",
    "  if (labels[x]==7):\n",
    "    print(words[x])"
   ]
  },
  {
   "cell_type": "markdown",
   "id": "_dloBxJ5IFaa",
   "metadata": {
    "id": "_dloBxJ5IFaa"
   },
   "source": [
    "michael"
   ]
  },
  {
   "cell_type": "code",
   "execution_count": 30,
   "id": "wYBcNaHLIAvf",
   "metadata": {
    "colab": {
     "base_uri": "https://localhost:8080/"
    },
    "id": "wYBcNaHLIAvf",
    "outputId": "843f99f3-e61c-4486-94f5-65459332bc47"
   },
   "outputs": [
    {
     "name": "stdout",
     "output_type": "stream",
     "text": [
      "['michael']\n",
      "['michael1']\n",
      "['michele']\n",
      "['michel']\n",
      "['michal']\n",
      "['Michael']\n",
      "['michaela']\n",
      "['micheal']\n"
     ]
    }
   ],
   "source": [
    "for x in range(0,3000):\n",
    "  if (labels[x]==8):\n",
    "    print(words[x])"
   ]
  },
  {
   "cell_type": "markdown",
   "id": "U11i51DgIJHm",
   "metadata": {
    "id": "U11i51DgIJHm"
   },
   "source": [
    "daniel"
   ]
  },
  {
   "cell_type": "code",
   "execution_count": 31,
   "id": "DCbD38oVIJRi",
   "metadata": {
    "colab": {
     "base_uri": "https://localhost:8080/"
    },
    "id": "DCbD38oVIJRi",
    "outputId": "57e22475-9517-451a-d998-d2b6b3190393"
   },
   "outputs": [
    {
     "name": "stdout",
     "output_type": "stream",
     "text": [
      "['daniel']\n",
      "['danielle']\n",
      "['daniela']\n",
      "['daniel1']\n",
      "['Daniel']\n",
      "['daniele']\n"
     ]
    }
   ],
   "source": [
    "for x in range(0,3000):\n",
    "  if (labels[x]==9):\n",
    "    print(words[x])"
   ]
  },
  {
   "cell_type": "markdown",
   "id": "XFEn-XW-IM9e",
   "metadata": {
    "id": "XFEn-XW-IM9e"
   },
   "source": [
    "andrew"
   ]
  },
  {
   "cell_type": "code",
   "execution_count": 32,
   "id": "3uEqvNFoINHm",
   "metadata": {
    "colab": {
     "base_uri": "https://localhost:8080/"
    },
    "id": "3uEqvNFoINHm",
    "outputId": "698c9d37-dd02-40af-d4a6-348062571d12"
   },
   "outputs": [
    {
     "name": "stdout",
     "output_type": "stream",
     "text": [
      "['andrew']\n",
      "['andrea']\n",
      "['audrey']\n",
      "['andreas']\n",
      "['andrei']\n",
      "['andres']\n",
      "['andrew1']\n",
      "['andrey']\n",
      "['andre']\n"
     ]
    }
   ],
   "source": [
    "for x in range(0,3000):\n",
    "  if (labels[x]==10):\n",
    "    print(words[x])"
   ]
  },
  {
   "cell_type": "markdown",
   "id": "oJdkJe-KIRMQ",
   "metadata": {
    "id": "oJdkJe-KIRMQ"
   },
   "source": [
    "tigger"
   ]
  },
  {
   "cell_type": "code",
   "execution_count": 33,
   "id": "RvJNsM5UIRVQ",
   "metadata": {
    "colab": {
     "base_uri": "https://localhost:8080/"
    },
    "id": "RvJNsM5UIRVQ",
    "outputId": "bb210245-81e0-469c-e09a-900a503f0c05"
   },
   "outputs": [
    {
     "name": "stdout",
     "output_type": "stream",
     "text": [
      "['tigger']\n",
      "['tiger']\n",
      "['nigger']\n",
      "['tigger1']\n",
      "['digger']\n",
      "['trigger']\n"
     ]
    }
   ],
   "source": [
    "for x in range(0,3000):\n",
    "  if (labels[x]==11):\n",
    "    print(words[x])"
   ]
  },
  {
   "cell_type": "markdown",
   "id": "9sJaijQWIT5_",
   "metadata": {
    "id": "9sJaijQWIT5_"
   },
   "source": [
    "justin"
   ]
  },
  {
   "cell_type": "code",
   "execution_count": 34,
   "id": "NXtJF59jIUK5",
   "metadata": {
    "colab": {
     "base_uri": "https://localhost:8080/"
    },
    "id": "NXtJF59jIUK5",
    "outputId": "23af9e0c-8f18-474b-84be-6e2358819d32"
   },
   "outputs": [
    {
     "name": "stdout",
     "output_type": "stream",
     "text": [
      "['justin']\n",
      "['austin']\n",
      "['justine']\n",
      "['dustin']\n",
      "['justin1']\n"
     ]
    }
   ],
   "source": [
    "for x in range(0,3000):\n",
    "  if (labels[x]==12):\n",
    "    print(words[x])"
   ]
  },
  {
   "cell_type": "markdown",
   "id": "Ed5TFMIjIYOP",
   "metadata": {
    "id": "Ed5TFMIjIYOP"
   },
   "source": [
    "cookie"
   ]
  },
  {
   "cell_type": "code",
   "execution_count": 35,
   "id": "ygwbt0Y3IYaQ",
   "metadata": {
    "colab": {
     "base_uri": "https://localhost:8080/"
    },
    "id": "ygwbt0Y3IYaQ",
    "outputId": "af880555-84f0-47ee-b3fc-bc2f806bc857"
   },
   "outputs": [
    {
     "name": "stdout",
     "output_type": "stream",
     "text": [
      "['cookie']\n",
      "['cookies']\n",
      "['pookie']\n",
      "['mookie']\n",
      "['cookie1']\n"
     ]
    }
   ],
   "source": [
    "for x in range(0,3000):\n",
    "  if (labels[x]==13):\n",
    "    print(words[x])"
   ]
  },
  {
   "cell_type": "markdown",
   "id": "XRCWQclrIa42",
   "metadata": {
    "id": "XRCWQclrIa42"
   },
   "source": [
    "angel_"
   ]
  },
  {
   "cell_type": "code",
   "execution_count": 36,
   "id": "p0mZv5c_IbFW",
   "metadata": {
    "colab": {
     "base_uri": "https://localhost:8080/"
    },
    "id": "p0mZv5c_IbFW",
    "outputId": "168e2811-e8dc-4680-cc2c-8f739f02dc36"
   },
   "outputs": [
    {
     "name": "stdout",
     "output_type": "stream",
     "text": [
      "['angel']\n",
      "['angels']\n",
      "['angela']\n",
      "['angelo']\n",
      "['angel1']\n"
     ]
    }
   ],
   "source": [
    "for x in range(0,3000):\n",
    "  if (labels[x]==14):\n",
    "    print(words[x])"
   ]
  },
  {
   "cell_type": "markdown",
   "id": "pEk7VUVgIexx",
   "metadata": {
    "id": "pEk7VUVgIexx"
   },
   "source": [
    "harley"
   ]
  },
  {
   "cell_type": "code",
   "execution_count": 37,
   "id": "yy3e-4qwIeOp",
   "metadata": {
    "colab": {
     "base_uri": "https://localhost:8080/"
    },
    "id": "yy3e-4qwIeOp",
    "outputId": "4baad669-9216-480b-e027-752e1715c460"
   },
   "outputs": [
    {
     "name": "stdout",
     "output_type": "stream",
     "text": [
      "['harley']\n",
      "['marley']\n",
      "['harvey']\n",
      "['hailey']\n",
      "['hayley']\n"
     ]
    }
   ],
   "source": [
    "for x in range(0,3000):\n",
    "  if (labels[x]==15):\n",
    "    print(words[x])"
   ]
  },
  {
   "cell_type": "markdown",
   "id": "ksyts9wwdLeJ",
   "metadata": {
    "id": "ksyts9wwdLeJ"
   },
   "source": [
    "пароли, состоящие из 1 буквы"
   ]
  },
  {
   "cell_type": "code",
   "execution_count": 39,
   "id": "WkHVQTJuIrfB",
   "metadata": {
    "colab": {
     "base_uri": "https://localhost:8080/"
    },
    "id": "WkHVQTJuIrfB",
    "outputId": "71e1b469-c65c-45f7-be46-5cf7cae09804"
   },
   "outputs": [
    {
     "name": "stdout",
     "output_type": "stream",
     "text": [
      "['p']\n",
      "['n']\n",
      "['i']\n",
      "['m']\n",
      "['2']\n",
      "['s']\n",
      "['k']\n",
      "['b']\n",
      "['l']\n",
      "['d']\n",
      "['c']\n",
      "['j']\n",
      "['M']\n",
      "['h']\n",
      "['q']\n",
      "['z']\n",
      "['3']\n",
      "['t']\n",
      "['f']\n"
     ]
    }
   ],
   "source": [
    "for x in range(0,3000):\n",
    "  if (labels[x]==17):\n",
    "    print(words[x])"
   ]
  },
  {
   "cell_type": "markdown",
   "id": "8FcHMW-zIvIm",
   "metadata": {
    "id": "8FcHMW-zIvIm"
   },
   "source": [
    "mar"
   ]
  },
  {
   "cell_type": "code",
   "execution_count": 40,
   "id": "CUl5BBW3IvjK",
   "metadata": {
    "colab": {
     "base_uri": "https://localhost:8080/"
    },
    "id": "CUl5BBW3IvjK",
    "outputId": "679b3e53-9d4b-495e-bbdb-be1606998478"
   },
   "outputs": [
    {
     "name": "stdout",
     "output_type": "stream",
     "text": [
      "['mar']\n",
      "['car']\n",
      "['mark']\n",
      "['dan']\n",
      "['max']\n",
      "['man']\n",
      "['mon']\n",
      "['mary']\n"
     ]
    }
   ],
   "source": [
    "for x in range(0,3000):\n",
    "  if (labels[x]==18):\n",
    "    print(words[x])"
   ]
  },
  {
   "cell_type": "markdown",
   "id": "XpiZpB6DdTnQ",
   "metadata": {
    "id": "XpiZpB6DdTnQ"
   },
   "source": [
    "lover"
   ]
  },
  {
   "cell_type": "code",
   "execution_count": 41,
   "id": "4M31LSSqI8-x",
   "metadata": {
    "colab": {
     "base_uri": "https://localhost:8080/"
    },
    "id": "4M31LSSqI8-x",
    "outputId": "e849c280-f86e-42d3-c9f2-243513ceb2cc"
   },
   "outputs": [
    {
     "name": "stdout",
     "output_type": "stream",
     "text": [
      "['love']\n",
      "['lovers']\n",
      "['lover']\n",
      "['clover']\n",
      "['loser']\n"
     ]
    }
   ],
   "source": [
    "for x in range(0,3000):\n",
    "  if (labels[x]==19):\n",
    "    print(words[x])"
   ]
  },
  {
   "cell_type": "markdown",
   "id": "3UJ3F_3tdWa-",
   "metadata": {
    "id": "3UJ3F_3tdWa-"
   },
   "source": [
    "года (возможно, даты рождения)"
   ]
  },
  {
   "cell_type": "code",
   "execution_count": 45,
   "id": "N-pWhnM9I_6B",
   "metadata": {
    "colab": {
     "base_uri": "https://localhost:8080/"
    },
    "id": "N-pWhnM9I_6B",
    "outputId": "dc6f3e6d-da7c-465f-b7c4-a57d93acf384"
   },
   "outputs": [
    {
     "name": "stdout",
     "output_type": "stream",
     "text": [
      "['6969']\n",
      "['1985']\n",
      "['1984']\n",
      "['1987']\n",
      "['1980']\n",
      "['1986']\n",
      "['1982']\n",
      "['1988']\n",
      "['1979']\n",
      "['1977']\n",
      "['1978']\n",
      "['1983']\n",
      "['1981']\n",
      "['1989']\n",
      "['1990']\n",
      "['1991']\n",
      "['1976']\n",
      "['1975']\n",
      "['198']\n",
      "['1992']\n",
      "['199']\n",
      "['1974']\n",
      "['1973']\n",
      "['1993']\n",
      "['1995']\n",
      "['1994']\n",
      "['1969']\n"
     ]
    }
   ],
   "source": [
    "for x in range(0,3000):\n",
    "  if (labels[x]==20):\n",
    "    print(words[x])"
   ]
  },
  {
   "cell_type": "markdown",
   "id": "XvgqwzzZJpQR",
   "metadata": {
    "id": "XvgqwzzZJpQR"
   },
   "source": [
    "Больше всего оказалось кластеров, образовыванных вокруг имён. Встречались образования вокруг каких-то слов, наборов цифр"
   ]
  },
  {
   "cell_type": "markdown",
   "id": "414dff4b",
   "metadata": {
    "id": "414dff4b"
   },
   "source": [
    "**Task 2.4 [1 point]** \n",
    "\n",
    "Let's try to improve clustering by introducing a custome levenshtein distance. You might have noticed that there are some specific password generation patterns, like `qwerty -> qwerty123`.\n",
    "\n",
    "Classic levenshtein distance for these two passwords is 3. Try to define a custom levenshtein distance that would make these passwords closer.\n",
    "\n",
    "Feel free to experiment and create as complex levenshtein distance as you would like.\n",
    "\n",
    "Report new clustering, describe new clusters.\n"
   ]
  },
  {
   "cell_type": "code",
   "execution_count": 47,
   "id": "d733043d",
   "metadata": {
    "colab": {
     "base_uri": "https://localhost:8080/"
    },
    "id": "d733043d",
    "outputId": "0cbf9f12-fc03-4e5d-fc70-0d95ed7568bf"
   },
   "outputs": [
    {
     "name": "stdout",
     "output_type": "stream",
     "text": [
      "Looking in indexes: https://pypi.org/simple, https://us-python.pkg.dev/colab-wheels/public/simple/\n",
      "Collecting strsimpy\n",
      "  Downloading strsimpy-0.2.1-py3-none-any.whl (45 kB)\n",
      "\u001b[?25l\r",
      "\u001b[K     |███████▏                        | 10 kB 30.2 MB/s eta 0:00:01\r",
      "\u001b[K     |██████████████▎                 | 20 kB 33.0 MB/s eta 0:00:01\r",
      "\u001b[K     |█████████████████████▍          | 30 kB 39.3 MB/s eta 0:00:01\r",
      "\u001b[K     |████████████████████████████▋   | 40 kB 23.3 MB/s eta 0:00:01\r",
      "\u001b[K     |████████████████████████████████| 45 kB 4.5 MB/s \n",
      "\u001b[?25hInstalling collected packages: strsimpy\n",
      "Successfully installed strsimpy-0.2.1\n"
     ]
    }
   ],
   "source": [
    "!pip3 install -U strsimpy"
   ]
  },
  {
   "cell_type": "code",
   "execution_count": 59,
   "id": "10cfcf3d",
   "metadata": {
    "id": "10cfcf3d"
   },
   "outputs": [],
   "source": [
    "from strsimpy.weighted_levenshtein import WeightedLevenshtein\n",
    "\n",
    "def insertion_cost(char):\n",
    "  if(char.isnumeric()):\n",
    "    return 0.5\n",
    "  else:\n",
    "    return 1\n",
    "\n",
    "\n",
    "def deletion_cost(char):\n",
    "  if(char.isnumeric()):\n",
    "    return 0.5\n",
    "  else:\n",
    "    return 1\n",
    "\n",
    "def substitution_cost(char_a, char_b):\n",
    "    if (char_a, char_b) == ('a', 'o') or (char_a, char_b) == ('o', 'a'):\n",
    "        return 0.5\n",
    "    if (char_a, char_b) == ('c', 'k') or (char_a, char_b) == ('k', 'c'):\n",
    "        return 0.5\n",
    "    if (char_a, char_b) == ('c', 's') or (char_a, char_b) == ('s', 'c'):\n",
    "        return 0.5\n",
    "    if (char_a, char_b) == ('u', 'a') or (char_a, char_b) == ('a', 'u'):\n",
    "        return 0.5\n",
    "    if (char_a, char_b) == ('e', 'i') or (char_a, char_b) == ('i', 'e'):\n",
    "        return 0.5\n",
    "    if (char_a, char_b) == ('o', '0') or (char_a, char_b) == ('0', 'o'):\n",
    "        return 0.5\n",
    "    if (char_a, char_b) == ('i', '1') or (char_a, char_b) == ('1', 'i'):\n",
    "        return 0.5\n",
    "    if (char_a, char_b) == ('t', 'd') or (char_a, char_b) == ('d', 't'):\n",
    "        return 0.5\n",
    "    if (char_a, char_b) == ('s', '5') or (char_a, char_b) == ('5', 's'):\n",
    "        return 0.5\n",
    "    if (char_a, char_b) == ('l', '1') or (char_a, char_b) == ('1', 'l'):\n",
    "        return 0.5\n",
    "    if (char_a, char_b) == ('v', 'w') or (char_a, char_b) == ('w', 'v'):\n",
    "        return 0.5\n",
    "    if (char_a, char_b) == ('s', 'z') or (char_a, char_b) == ('z', 's'):\n",
    "        return 0.5\n",
    "    if(char_a.isnumeric()):\n",
    "      if(char_b.isnumeric()):\n",
    "        m=abs(int(char_a)-int(char_b))\n",
    "        return m*0.01\n",
    "      else:\n",
    "        return 2\n",
    "    if(char_b.isnumeric()):\n",
    "        return 2\n",
    "    return 1.0\n",
    "\n",
    "weighted_levenshtein = WeightedLevenshtein(\n",
    "    substitution_cost_fn=substitution_cost,\n",
    "    insertion_cost_fn=insertion_cost,\n",
    "    deletion_cost_fn=deletion_cost)"
   ]
  },
  {
   "cell_type": "code",
   "execution_count": 63,
   "id": "06f693ac",
   "metadata": {
    "colab": {
     "base_uri": "https://localhost:8080/"
    },
    "id": "06f693ac",
    "outputId": "d6c2828f-05c4-46c3-ea4d-63ebac9b7269"
   },
   "outputs": [
    {
     "name": "stdout",
     "output_type": "stream",
     "text": [
      "1\n",
      "2.5\n",
      "1.12\n"
     ]
    }
   ],
   "source": [
    "print(levenshtein('Stting1', 'String1'))\n",
    "print(weighted_levenshtein.distance('Str1ng9', 'Sdringm'))\n",
    "print(weighted_levenshtein.distance('qwerty675', 'qwert123'))"
   ]
  },
  {
   "cell_type": "code",
   "execution_count": 64,
   "id": "uhVpmpRGXYzs",
   "metadata": {
    "colab": {
     "base_uri": "https://localhost:8080/"
    },
    "id": "uhVpmpRGXYzs",
    "outputId": "06345b32-7023-4a72-86a9-11abc927e708"
   },
   "outputs": [
    {
     "data": {
      "text/plain": [
       "3000"
      ]
     },
     "execution_count": 64,
     "metadata": {},
     "output_type": "execute_result"
    }
   ],
   "source": [
    "words.shape[0]"
   ]
  },
  {
   "cell_type": "code",
   "execution_count": 65,
   "id": "CcQxZszeQHiN",
   "metadata": {
    "colab": {
     "base_uri": "https://localhost:8080/"
    },
    "id": "CcQxZszeQHiN",
    "outputId": "2a5961cc-c2d1-4a87-ea75-7975a833047d"
   },
   "outputs": [
    {
     "name": "stdout",
     "output_type": "stream",
     "text": [
      "[[ 0.   1.5 10.  ...  3.  11.  14. ]\n",
      " [ 1.5  0.  11.5 ...  4.5 12.5 15.5]\n",
      " [10.  11.5  0.  ...  9.5  6.  11. ]\n",
      " ...\n",
      " [ 3.   4.5  9.5 ...  0.  10.  14. ]\n",
      " [11.  12.5  6.  ... 10.   0.  11. ]\n",
      " [14.  15.5 11.  ... 14.  11.   0. ]]\n"
     ]
    }
   ],
   "source": [
    "def my_metric(x,y):\n",
    "    return weighted_levenshtein.distance(x, y)\n",
    "\n",
    "X_new = np.zeros((words.shape[0], words.shape[0]))\n",
    "for i in range(0,words.shape[0]):\n",
    "  #print(i)\n",
    "  for j in range(0,words.shape[0]):\n",
    "    dist=my_metric(np.array2string(words[i]), np.array2string(words[j]))\n",
    "    #print(dist)\n",
    "    X_new[i][j]=dist\n",
    "print(X_new)"
   ]
  },
  {
   "cell_type": "code",
   "execution_count": 66,
   "id": "LpHsTodwz31g",
   "metadata": {
    "colab": {
     "base_uri": "https://localhost:8080/"
    },
    "id": "LpHsTodwz31g",
    "outputId": "418ce1e4-2622-42d7-ec48-e234c23bbae4"
   },
   "outputs": [
    {
     "name": "stdout",
     "output_type": "stream",
     "text": [
      "epsilon minsample clusters\n",
      "1       1          1947\n",
      "1       2          324\n",
      "1       3          118\n",
      "1       4          51\n",
      "1       5          19\n",
      "1       6          11\n",
      "1       7          6\n",
      "1       8          4\n",
      "1       9          5\n",
      "1       10          3\n",
      "1       11          3\n",
      "1       12          3\n",
      "1       13          3\n",
      "1       14          2\n",
      "1       15          2\n",
      "1       16          2\n",
      "1       17          2\n",
      "1       18          2\n",
      "1       19          2\n",
      "2       1          985\n",
      "2       2          183\n",
      "2       3          66\n",
      "2       4          32\n",
      "2       5          19\n",
      "2       6          17\n",
      "2       7          14\n",
      "2       8          9\n",
      "2       9          9\n",
      "2       10          8\n",
      "2       11          7\n",
      "2       12          6\n",
      "2       13          8\n",
      "2       14          7\n",
      "2       15          9\n",
      "2       16          9\n",
      "2       17          8\n",
      "2       18          5\n",
      "2       19          5\n",
      "3       1          293\n",
      "3       2          31\n",
      "3       3          8\n",
      "3       4          7\n",
      "3       5          5\n",
      "3       6          4\n",
      "3       7          3\n",
      "3       8          3\n",
      "3       9          2\n",
      "3       10          2\n",
      "3       11          2\n",
      "3       12          2\n",
      "3       13          3\n",
      "3       14          2\n",
      "3       15          2\n",
      "3       16          2\n",
      "3       17          2\n",
      "3       18          2\n",
      "3       19          2\n",
      "4       1          114\n",
      "4       2          9\n",
      "4       3          4\n",
      "4       4          2\n",
      "4       5          2\n",
      "4       6          2\n",
      "4       7          2\n",
      "4       8          2\n",
      "4       9          2\n",
      "4       10          2\n",
      "4       11          2\n",
      "4       12          2\n",
      "4       13          2\n",
      "4       14          2\n",
      "4       15          2\n",
      "4       16          2\n",
      "4       17          2\n",
      "4       18          2\n",
      "4       19          2\n",
      "5       1          49\n",
      "5       2          3\n",
      "5       3          2\n",
      "5       4          2\n",
      "5       5          2\n",
      "5       6          2\n",
      "5       7          2\n",
      "5       8          2\n",
      "5       9          2\n",
      "5       10          2\n",
      "5       11          2\n",
      "5       12          2\n",
      "5       13          2\n",
      "5       14          2\n",
      "5       15          2\n",
      "5       16          2\n",
      "5       17          2\n",
      "5       18          2\n",
      "5       19          2\n"
     ]
    }
   ],
   "source": [
    "print('epsilon', 'minsample', 'clusters')\n",
    "epsilons, minsamples = np.arange(1,6), np.arange(1,20)\n",
    "for epsilon in epsilons:\n",
    "  for minsample in minsamples:\n",
    "        model = DBSCAN(metric=\"precomputed\", min_samples=minsample,eps=epsilon)\n",
    "        model.fit(X_new)\n",
    "        labels = model.labels_\n",
    "        print(epsilon,'     ', minsample,'        ', len(set(labels)))"
   ]
  },
  {
   "cell_type": "code",
   "execution_count": 67,
   "id": "_aaWYEVEW2BP",
   "metadata": {
    "colab": {
     "base_uri": "https://localhost:8080/"
    },
    "id": "_aaWYEVEW2BP",
    "outputId": "75deca9f-101e-4e2e-e633-6afda9897c91"
   },
   "outputs": [
    {
     "name": "stdout",
     "output_type": "stream",
     "text": [
      "label: number of words in label  {'0': 401, '1': 21, '2': 20, '17': 4, '-1': 2458, '3': 6, '4': 10, '5': 8, '6': 5, '15': 5, '7': 9, '8': 6, '9': 5, '16': 5, '10': 5, '11': 5, '12': 5, '13': 14, '14': 8}\n"
     ]
    },
    {
     "data": {
      "text/plain": [
       "{'17': 4,\n",
       " '6': 5,\n",
       " '15': 5,\n",
       " '9': 5,\n",
       " '16': 5,\n",
       " '10': 5,\n",
       " '11': 5,\n",
       " '12': 5,\n",
       " '3': 6,\n",
       " '8': 6,\n",
       " '5': 8,\n",
       " '14': 8,\n",
       " '7': 9,\n",
       " '4': 10,\n",
       " '13': 14,\n",
       " '2': 20,\n",
       " '1': 21,\n",
       " '0': 401,\n",
       " '-1': 2458}"
      ]
     },
     "execution_count": 67,
     "metadata": {},
     "output_type": "execute_result"
    }
   ],
   "source": [
    "def my_metric(X):\n",
    "    return weighted_levenshtein.distance(X[0], X[1])\n",
    "\n",
    "X=X_new\n",
    "plt.show()\n",
    "eps=1\n",
    "min_sample=5 \n",
    "#print(X) \n",
    "model = DBSCAN( metric='precomputed',eps=eps, min_samples=min_sample).fit(X_new) \n",
    "labels = model.labels_ \n",
    "len(labels)\n",
    "basket={'0':0} \n",
    " \n",
    "for x in range (0, 3000): \n",
    "    b=labels[x] \n",
    "    a=words[x] \n",
    "    b=str(b) \n",
    "    if b in basket: \n",
    "        basket.update({ b: basket[b]+1}) \n",
    "    else: \n",
    "        basket.update({b: 1})\n",
    "\n",
    "print('label: number of words in label ',basket)\n",
    "{k: v for k, v in sorted(basket.items(), key=lambda item: item[1])}\n"
   ]
  },
  {
   "cell_type": "markdown",
   "id": "hmknTFNVjdpi",
   "metadata": {
    "id": "hmknTFNVjdpi"
   },
   "source": [
    "из этого кластера ушли все численные значения"
   ]
  },
  {
   "cell_type": "code",
   "execution_count": 68,
   "id": "R-V6Umxgdi3i",
   "metadata": {
    "colab": {
     "base_uri": "https://localhost:8080/"
    },
    "id": "R-V6Umxgdi3i",
    "outputId": "bbd7ee15-0cca-434d-afbc-a2c713f70317"
   },
   "outputs": [
    {
     "name": "stdout",
     "output_type": "stream",
     "text": [
      "['1q2w3e4r5t']\n",
      "['q1w2e3r4t5y6']\n",
      "['iloveyou']\n",
      "['1q2w3e4r']\n",
      "['qwertyuiop']\n",
      "['yuantuo2012']\n",
      "['1qaz2wsx3edc']\n",
      "['1qaz2wsx']\n",
      "['ashley']\n",
      "['princess']\n",
      "['123qwe']\n",
      "['q1w2e3r4']\n",
      "['zxcvbnm']\n",
      "['asdfghjkl']\n",
      "['pokemon']\n",
      "['football']\n",
      "['killer']\n",
      "['shadow']\n",
      "['asdasd']\n",
      "['qazwsx']\n",
      "['1234qwer']\n",
      "['superman']\n"
     ]
    }
   ],
   "source": [
    "for x in range(0,50):\n",
    "  if (labels[x]==-1):\n",
    "    print(words[x])"
   ]
  },
  {
   "cell_type": "markdown",
   "id": "i23xflgKjlpe",
   "metadata": {
    "id": "i23xflgKjlpe"
   },
   "source": [
    "численные значения ушли в этот кластер\n"
   ]
  },
  {
   "cell_type": "code",
   "execution_count": 69,
   "id": "mr1P-2cTxqYQ",
   "metadata": {
    "colab": {
     "base_uri": "https://localhost:8080/"
    },
    "id": "mr1P-2cTxqYQ",
    "outputId": "7cdf458c-f4b6-4d8e-b8e7-e5c78966a245"
   },
   "outputs": [
    {
     "name": "stdout",
     "output_type": "stream",
     "text": [
      "['123456']\n",
      "['123456789']\n",
      "['12345678']\n",
      "['12345']\n",
      "['123123']\n",
      "['111111']\n",
      "['1234']\n",
      "['1234567890']\n",
      "['1234567']\n",
      "['123']\n",
      "['000000']\n",
      "['123321']\n",
      "['654321']\n",
      "['666666']\n",
      "['987654321']\n",
      "['159753']\n",
      "['123123123']\n",
      "['112233']\n",
      "['121212']\n"
     ]
    }
   ],
   "source": [
    "for x in range(0,50):\n",
    "  if (labels[x]==0):\n",
    "    print(words[x])"
   ]
  },
  {
   "cell_type": "code",
   "execution_count": 71,
   "id": "Whejwy0dxvSR",
   "metadata": {
    "colab": {
     "base_uri": "https://localhost:8080/"
    },
    "id": "Whejwy0dxvSR",
    "outputId": "890c3d38-8ff2-4048-bbb1-5b2349a621f5"
   },
   "outputs": [
    {
     "name": "stdout",
     "output_type": "stream",
     "text": [
      "['password']\n",
      "['password1']\n",
      "['Password']\n",
      "['passw0rd']\n",
      "['Password1']\n",
      "['password123']\n",
      "['passwort']\n",
      "['password12']\n",
      "['pa55word']\n",
      "['password2']\n",
      "['Passw0rd']\n",
      "['passport']\n",
      "['password01']\n",
      "['pa55w0rd']\n",
      "['1password']\n",
      "['P@ssw0rd']\n",
      "['password11']\n",
      "['pasword']\n",
      "['Password123']\n",
      "['Passwort']\n",
      "['password3']\n"
     ]
    }
   ],
   "source": [
    "for x in range(0,3000):\n",
    "  if (labels[x]==1):\n",
    "    print(words[x])"
   ]
  },
  {
   "cell_type": "markdown",
   "id": "RBsiAN5ejtwU",
   "metadata": {
    "id": "RBsiAN5ejtwU"
   },
   "source": [
    "в этом кластере оказалось намного больше паролей со словом qwerty, чем в прошлый раз"
   ]
  },
  {
   "cell_type": "code",
   "execution_count": 72,
   "id": "Tm0EzP4Fxz7J",
   "metadata": {
    "colab": {
     "base_uri": "https://localhost:8080/"
    },
    "id": "Tm0EzP4Fxz7J",
    "outputId": "27950adb-ebe0-46fb-adf2-488283fa1793"
   },
   "outputs": [
    {
     "name": "stdout",
     "output_type": "stream",
     "text": [
      "['qwerty']\n",
      "['qwerty123']\n",
      "['qwerty1']\n",
      "['qwerty12']\n",
      "['qwerty12345']\n",
      "['qwert']\n",
      "['qwert123']\n",
      "['qwertyu']\n",
      "['qwerty123456']\n",
      "['qwertz']\n",
      "['qwerty1234']\n",
      "['qwert12345']\n",
      "['qwer']\n",
      "['qwerty321']\n",
      "['Qwerty123']\n",
      "['qwerty11']\n",
      "['qwer123']\n",
      "['Qwerty']\n",
      "['qwerty7']\n",
      "['qwert1']\n"
     ]
    }
   ],
   "source": [
    "for x in range(0,3000):\n",
    "  if (labels[x]==2):\n",
    "    print(words[x])"
   ]
  },
  {
   "cell_type": "markdown",
   "id": "65l0pr-Jj-Mg",
   "metadata": {
    "id": "65l0pr-Jj-Mg"
   },
   "source": [
    "здесь тоже больше похожих на monkey слов (теперь и с цифрами на конце)"
   ]
  },
  {
   "cell_type": "code",
   "execution_count": 75,
   "id": "2Ymjm0g4yCUq",
   "metadata": {
    "colab": {
     "base_uri": "https://localhost:8080/"
    },
    "id": "2Ymjm0g4yCUq",
    "outputId": "324d9707-e8ea-44a0-c157-63bd52cb31b9"
   },
   "outputs": [
    {
     "name": "stdout",
     "output_type": "stream",
     "text": [
      "['monkey']\n",
      "['money']\n",
      "['monkey1']\n",
      "['donkey']\n",
      "['money1']\n",
      "['monkey123']\n",
      "['monkeys']\n",
      "['monkey12']\n",
      "['money123']\n",
      "['honey1']\n"
     ]
    }
   ],
   "source": [
    "for x in range(0,3000):\n",
    "  if (labels[x]==4):\n",
    "    print(words[x])"
   ]
  },
  {
   "cell_type": "markdown",
   "id": "ZSnpouixkaJy",
   "metadata": {
    "id": "ZSnpouixkaJy"
   },
   "source": [
    "появился кардинально другой кластер"
   ]
  },
  {
   "cell_type": "code",
   "execution_count": 85,
   "id": "nFW-WShZkIO2",
   "metadata": {
    "colab": {
     "base_uri": "https://localhost:8080/"
    },
    "id": "nFW-WShZkIO2",
    "outputId": "7e4ad435-c945-4673-bcb9-e97f41e81cbb"
   },
   "outputs": [
    {
     "name": "stdout",
     "output_type": "stream",
     "text": [
      "['marina']\n",
      "['marine']\n",
      "['maria']\n",
      "['martina']\n",
      "['karina']\n",
      "['marie']\n",
      "['marion']\n",
      "['mariana']\n",
      "['mario']\n",
      "['marian']\n",
      "['mariah']\n",
      "['marco']\n",
      "['miriam']\n",
      "['mariam']\n"
     ]
    }
   ],
   "source": [
    "for x in range(0,3000):\n",
    "  if (labels[x]==13):\n",
    "    print(words[x])"
   ]
  },
  {
   "cell_type": "markdown",
   "id": "A1bnvu7hkmKe",
   "metadata": {
    "id": "A1bnvu7hkmKe"
   },
   "source": [
    "и ещё такие"
   ]
  },
  {
   "cell_type": "code",
   "execution_count": 87,
   "id": "uIkqOTfnkc8q",
   "metadata": {
    "colab": {
     "base_uri": "https://localhost:8080/"
    },
    "id": "uIkqOTfnkc8q",
    "outputId": "7b3b8beb-1cab-4c56-80c2-eb991f5688ee"
   },
   "outputs": [
    {
     "name": "stdout",
     "output_type": "stream",
     "text": [
      "['asd123']\n",
      "['asdf1234']\n",
      "['asdf123']\n",
      "['asdf12345']\n",
      "['asdfg123']\n"
     ]
    }
   ],
   "source": [
    "for x in range(0,3000):\n",
    "  if (labels[x]==15):\n",
    "    print(words[x])"
   ]
  },
  {
   "cell_type": "code",
   "execution_count": 89,
   "id": "V75Ki2y6koG-",
   "metadata": {
    "colab": {
     "base_uri": "https://localhost:8080/"
    },
    "id": "V75Ki2y6koG-",
    "outputId": "ee404836-5610-41bf-976b-23115707348b"
   },
   "outputs": [
    {
     "name": "stdout",
     "output_type": "stream",
     "text": [
      "['abc123']\n",
      "['abcd1234']\n",
      "['abc12345']\n",
      "['abc1234']\n"
     ]
    }
   ],
   "source": [
    "for x in range(0,3000):\n",
    "  if (labels[x]==17):\n",
    "    print(words[x])"
   ]
  },
  {
   "cell_type": "markdown",
   "id": "uhlTPRUMk-Yb",
   "metadata": {
    "id": "uhlTPRUMk-Yb"
   },
   "source": [
    "остальные кластеры остались почти такими же"
   ]
  }
 ],
 "metadata": {
  "colab": {
   "provenance": []
  },
  "kernelspec": {
   "display_name": "Python 3",
   "language": "python",
   "name": "python3"
  },
  "language_info": {
   "codemirror_mode": {
    "name": "ipython",
    "version": 3
   },
   "file_extension": ".py",
   "mimetype": "text/x-python",
   "name": "python",
   "nbconvert_exporter": "python",
   "pygments_lexer": "ipython3",
   "version": "3.6.9"
  }
 },
 "nbformat": 4,
 "nbformat_minor": 5
}
